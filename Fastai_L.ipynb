{
  "nbformat": 4,
  "nbformat_minor": 0,
  "metadata": {
    "colab": {
      "provenance": [],
      "gpuType": "V100",
      "machine_shape": "hm",
      "authorship_tag": "ABX9TyPwvEdFOx7Ixwt5K7OTUmSB",
      "include_colab_link": true
    },
    "kernelspec": {
      "name": "python3",
      "display_name": "Python 3"
    },
    "language_info": {
      "name": "python"
    },
    "accelerator": "GPU"
  },
  "cells": [
    {
      "cell_type": "markdown",
      "metadata": {
        "id": "view-in-github",
        "colab_type": "text"
      },
      "source": [
        "<a href=\"https://colab.research.google.com/github/MarcosAutuori/My_Fastai_Book_FastAi_Course/blob/master/Fastai_L.ipynb\" target=\"_parent\"><img src=\"https://colab.research.google.com/assets/colab-badge.svg\" alt=\"Open In Colab\"/></a>"
      ]
    },
    {
      "cell_type": "markdown",
      "source": [
        "#FASTAI - L\n",
        "https://fastcore.fast.ai/foundation#L"
      ],
      "metadata": {
        "id": "vWsb0wW0p0-Q"
      }
    },
    {
      "cell_type": "markdown",
      "source": [
        "##IMPORTS"
      ],
      "metadata": {
        "id": "lziK8olup_uv"
      }
    },
    {
      "cell_type": "code",
      "execution_count": null,
      "metadata": {
        "id": "-rT46z0cpHOZ",
        "colab": {
          "base_uri": "https://localhost:8080/"
        },
        "outputId": "67b881f1-6d5b-4e0f-f6b9-bae9a3a0891c"
      },
      "outputs": [
        {
          "output_type": "stream",
          "name": "stdout",
          "text": [
            "\u001b[2K     \u001b[90m━━━━━━━━━━━━━━━━━━━━━━━━━━━━━━━━━━━━━━━\u001b[0m \u001b[32m719.8/719.8 kB\u001b[0m \u001b[31m8.7 MB/s\u001b[0m eta \u001b[36m0:00:00\u001b[0m\n",
            "\u001b[2K     \u001b[90m━━━━━━━━━━━━━━━━━━━━━━━━━━━━━━━━━━━━━━━━\u001b[0m \u001b[32m7.6/7.6 MB\u001b[0m \u001b[31m40.0 MB/s\u001b[0m eta \u001b[36m0:00:00\u001b[0m\n",
            "\u001b[2K     \u001b[90m━━━━━━━━━━━━━━━━━━━━━━━━━━━━━━━━━━━━━━\u001b[0m \u001b[32m519.6/519.6 kB\u001b[0m \u001b[31m39.5 MB/s\u001b[0m eta \u001b[36m0:00:00\u001b[0m\n",
            "\u001b[2K     \u001b[90m━━━━━━━━━━━━━━━━━━━━━━━━━━━━━━━━━━━━━━━━\u001b[0m \u001b[32m1.3/1.3 MB\u001b[0m \u001b[31m56.0 MB/s\u001b[0m eta \u001b[36m0:00:00\u001b[0m\n",
            "\u001b[2K     \u001b[90m━━━━━━━━━━━━━━━━━━━━━━━━━━━━━━━━━━━━━━\u001b[0m \u001b[32m115.3/115.3 kB\u001b[0m \u001b[31m13.3 MB/s\u001b[0m eta \u001b[36m0:00:00\u001b[0m\n",
            "\u001b[2K     \u001b[90m━━━━━━━━━━━━━━━━━━━━━━━━━━━━━━━━━━━━━━\u001b[0m \u001b[32m194.1/194.1 kB\u001b[0m \u001b[31m19.8 MB/s\u001b[0m eta \u001b[36m0:00:00\u001b[0m\n",
            "\u001b[2K     \u001b[90m━━━━━━━━━━━━━━━━━━━━━━━━━━━━━━━━━━━━━━\u001b[0m \u001b[32m134.8/134.8 kB\u001b[0m \u001b[31m16.3 MB/s\u001b[0m eta \u001b[36m0:00:00\u001b[0m\n",
            "\u001b[2K     \u001b[90m━━━━━━━━━━━━━━━━━━━━━━━━━━━━━━━━━━━━━━\u001b[0m \u001b[32m294.8/294.8 kB\u001b[0m \u001b[31m29.9 MB/s\u001b[0m eta \u001b[36m0:00:00\u001b[0m\n",
            "\u001b[2K     \u001b[90m━━━━━━━━━━━━━━━━━━━━━━━━━━━━━━━━━━━━━━━━\u001b[0m \u001b[32m7.8/7.8 MB\u001b[0m \u001b[31m97.3 MB/s\u001b[0m eta \u001b[36m0:00:00\u001b[0m\n",
            "\u001b[2K     \u001b[90m━━━━━━━━━━━━━━━━━━━━━━━━━━━━━━━━━━━━━━━━\u001b[0m \u001b[32m1.3/1.3 MB\u001b[0m \u001b[31m74.7 MB/s\u001b[0m eta \u001b[36m0:00:00\u001b[0m\n",
            "\u001b[2K     \u001b[90m━━━━━━━━━━━━━━━━━━━━━━━━━━━━━━━━━━━━━━━━\u001b[0m \u001b[32m1.6/1.6 MB\u001b[0m \u001b[31m79.5 MB/s\u001b[0m eta \u001b[36m0:00:00\u001b[0m\n",
            "\u001b[?25h"
          ]
        }
      ],
      "source": [
        "! [ -e /content ] && pip install -Uqq fastbook\n",
        "from fastbook import *"
      ]
    },
    {
      "cell_type": "markdown",
      "source": [
        "##EXEMPLO 1"
      ],
      "metadata": {
        "id": "ftnXQW_erxfK"
      }
    },
    {
      "cell_type": "code",
      "source": [
        "d = dict(a=1,b=-5,d=6,e=9).items()\n",
        "try:\n",
        "  test_eq(L(d).itemgot(1).map(abs).filter(gt(4)).sum(), 19)\n",
        "  print('Igual!')\n",
        "except:\n",
        "  print('Diferente!')\n"
      ],
      "metadata": {
        "colab": {
          "base_uri": "https://localhost:8080/"
        },
        "id": "ENJqL7X9sIFP",
        "outputId": "3d9d8b28-1d8b-405e-e276-1055a614bce7"
      },
      "execution_count": null,
      "outputs": [
        {
          "output_type": "stream",
          "name": "stdout",
          "text": [
            "Diferente!\n"
          ]
        }
      ]
    },
    {
      "cell_type": "code",
      "source": [
        "#Com função lambda\n",
        "d = dict(a=1,b=-5,d=6,e=9).items()\n",
        "try:\n",
        "  test_eq(L(d).itemgot(1).map(abs).filter(lambda x:x>4).sum(), 20)\n",
        "  print('Igual!')\n",
        "except:\n",
        "  print('Diferente!')\n"
      ],
      "metadata": {
        "colab": {
          "base_uri": "https://localhost:8080/"
        },
        "id": "qK5Hzmf_1lOH",
        "outputId": "832cabfc-c1c3-49bb-ec36-c191378aab61"
      },
      "execution_count": null,
      "outputs": [
        {
          "output_type": "stream",
          "name": "stdout",
          "text": [
            "Igual!\n"
          ]
        }
      ]
    },
    {
      "cell_type": "code",
      "source": [
        "di = dict(a=1,b=-5,d=6,e=9, f=4)\n",
        "type(d) #Dicionário"
      ],
      "metadata": {
        "colab": {
          "base_uri": "https://localhost:8080/"
        },
        "id": "fDvj9Aoq-gS8",
        "outputId": "92efca63-aae4-4524-c9be-3ce476852e8b"
      },
      "execution_count": null,
      "outputs": [
        {
          "output_type": "execute_result",
          "data": {
            "text/plain": [
              "dict"
            ]
          },
          "metadata": {},
          "execution_count": 33
        }
      ]
    },
    {
      "cell_type": "code",
      "source": [
        "L(di)  #Lista os itens, mas não os valores"
      ],
      "metadata": {
        "colab": {
          "base_uri": "https://localhost:8080/"
        },
        "id": "4QroJOc-_XsA",
        "outputId": "28eee066-d112-452f-bc1c-6fb2e84574c2"
      },
      "execution_count": null,
      "outputs": [
        {
          "output_type": "execute_result",
          "data": {
            "text/plain": [
              "(#5) ['a','b','d','e','f']"
            ]
          },
          "metadata": {},
          "execution_count": 34
        }
      ]
    },
    {
      "cell_type": "code",
      "source": [
        "L(di.items())  #Lista de tuplas"
      ],
      "metadata": {
        "colab": {
          "base_uri": "https://localhost:8080/"
        },
        "id": "HLpUdQCt_m9V",
        "outputId": "d9d7f32c-c85b-43e5-bee4-57b43ad83788"
      },
      "execution_count": null,
      "outputs": [
        {
          "output_type": "execute_result",
          "data": {
            "text/plain": [
              "(#5) [('a', 1),('b', -5),('d', 6),('e', 9),('f', 4)]"
            ]
          },
          "metadata": {},
          "execution_count": 35
        }
      ]
    },
    {
      "cell_type": "code",
      "source": [
        "di = di.items()"
      ],
      "metadata": {
        "id": "ggH5vQD5Bqps"
      },
      "execution_count": null,
      "outputs": []
    },
    {
      "cell_type": "code",
      "source": [
        "L(di).itemgot(1) #Valores"
      ],
      "metadata": {
        "colab": {
          "base_uri": "https://localhost:8080/"
        },
        "id": "sHsz80mH9zxN",
        "outputId": "ee4f17c4-da96-4bbb-c4b9-d68b3be3c2ba"
      },
      "execution_count": null,
      "outputs": [
        {
          "output_type": "execute_result",
          "data": {
            "text/plain": [
              "(#5) [1,-5,6,9,4]"
            ]
          },
          "metadata": {},
          "execution_count": 38
        }
      ]
    },
    {
      "cell_type": "code",
      "source": [
        "L(di).itemgot(1).map(abs)  #Valores absolutos"
      ],
      "metadata": {
        "colab": {
          "base_uri": "https://localhost:8080/"
        },
        "id": "wFFfT3Fp99JN",
        "outputId": "295a1f2d-5107-42b1-bd4b-29d764f9cff5"
      },
      "execution_count": null,
      "outputs": [
        {
          "output_type": "execute_result",
          "data": {
            "text/plain": [
              "(#5) [1,5,6,9,4]"
            ]
          },
          "metadata": {},
          "execution_count": 39
        }
      ]
    },
    {
      "cell_type": "code",
      "source": [
        "L(di).itemgot(1).map(abs).filter(gt(4))  #Valores maiores que 4"
      ],
      "metadata": {
        "colab": {
          "base_uri": "https://localhost:8080/"
        },
        "id": "84NVsSS6-Jc-",
        "outputId": "94a344b9-c903-4922-f987-75d5f44cd8f4"
      },
      "execution_count": null,
      "outputs": [
        {
          "output_type": "execute_result",
          "data": {
            "text/plain": [
              "(#3) [5,6,9]"
            ]
          },
          "metadata": {},
          "execution_count": 40
        }
      ]
    },
    {
      "cell_type": "code",
      "source": [
        "L(di).itemgot(1).map(abs).filter(gt(4)).sum() #Soma dos valores"
      ],
      "metadata": {
        "colab": {
          "base_uri": "https://localhost:8080/"
        },
        "id": "mwy6fgrt-WRi",
        "outputId": "841724ad-dca9-41b9-d2c8-2d9e3f620923"
      },
      "execution_count": null,
      "outputs": [
        {
          "output_type": "execute_result",
          "data": {
            "text/plain": [
              "20"
            ]
          },
          "metadata": {},
          "execution_count": 22
        }
      ]
    },
    {
      "cell_type": "markdown",
      "source": [
        "##EXEMPLO 2"
      ],
      "metadata": {
        "id": "ba7fVYLrr4oi"
      }
    },
    {
      "cell_type": "code",
      "source": [
        "t = L(range(12))\n",
        "t"
      ],
      "metadata": {
        "colab": {
          "base_uri": "https://localhost:8080/"
        },
        "id": "Mbxl4BCDr68h",
        "outputId": "7b5cc562-66ec-430c-e7f9-ef23d44395a9"
      },
      "execution_count": null,
      "outputs": [
        {
          "output_type": "execute_result",
          "data": {
            "text/plain": [
              "(#12) [0,1,2,3,4,5,6,7,8,9...]"
            ]
          },
          "metadata": {},
          "execution_count": 2
        }
      ]
    },
    {
      "cell_type": "code",
      "source": [
        "test_eq(t, list(range(12)))"
      ],
      "metadata": {
        "id": "GzCBlL3NsJ6b"
      },
      "execution_count": null,
      "outputs": []
    },
    {
      "cell_type": "code",
      "source": [
        "t.reverse()\n",
        "t"
      ],
      "metadata": {
        "colab": {
          "base_uri": "https://localhost:8080/"
        },
        "id": "otrnXhyQslS7",
        "outputId": "b76f3b63-5e27-4f63-aac9-f5e612c49837"
      },
      "execution_count": null,
      "outputs": [
        {
          "output_type": "execute_result",
          "data": {
            "text/plain": [
              "(#12) [11,10,9,8,7,6,5,4,3,2...]"
            ]
          },
          "metadata": {},
          "execution_count": 5
        }
      ]
    },
    {
      "cell_type": "code",
      "source": [
        "t[3] = 'h'\n",
        "t"
      ],
      "metadata": {
        "colab": {
          "base_uri": "https://localhost:8080/"
        },
        "id": "EdcINl2Gsxtl",
        "outputId": "7f52f805-ed3d-4412-811e-c61e4ac781ac"
      },
      "execution_count": null,
      "outputs": [
        {
          "output_type": "execute_result",
          "data": {
            "text/plain": [
              "(#12) [11,10,9,'h',7,6,5,4,3,2...]"
            ]
          },
          "metadata": {},
          "execution_count": 7
        }
      ]
    },
    {
      "cell_type": "code",
      "source": [
        "t[3,5] = ('j','k')\n",
        "t"
      ],
      "metadata": {
        "colab": {
          "base_uri": "https://localhost:8080/"
        },
        "id": "TZXFpElhtHQt",
        "outputId": "46fdd18a-b5b3-47e0-b2db-cb6ead911b5f"
      },
      "execution_count": null,
      "outputs": [
        {
          "output_type": "execute_result",
          "data": {
            "text/plain": [
              "(#12) [11,10,9,'j',7,'k',5,4,3,2...]"
            ]
          },
          "metadata": {},
          "execution_count": 8
        }
      ]
    },
    {
      "cell_type": "code",
      "source": [
        "test_eq(L(t), t)"
      ],
      "metadata": {
        "id": "shQVVcINtcP6"
      },
      "execution_count": null,
      "outputs": []
    },
    {
      "cell_type": "code",
      "source": [
        "import random"
      ],
      "metadata": {
        "id": "Qw9EF4cxudSc"
      },
      "execution_count": null,
      "outputs": []
    },
    {
      "cell_type": "code",
      "source": [
        "random.sample(t,12) #Escolhe 12 items de t"
      ],
      "metadata": {
        "colab": {
          "base_uri": "https://localhost:8080/"
        },
        "id": "IcGCMMOaunMD",
        "outputId": "e9dbd34f-0416-4ccc-bd98-4e221ff84e3d"
      },
      "execution_count": null,
      "outputs": [
        {
          "output_type": "execute_result",
          "data": {
            "text/plain": [
              "[7, 3, 2, 9, 0, 11, 'k', 5, 1, 10, 4, 'j']"
            ]
          },
          "metadata": {},
          "execution_count": 20
        }
      ]
    },
    {
      "cell_type": "code",
      "source": [
        "bol = L([True, False, False])\n",
        "~bol  #Negativo booleano"
      ],
      "metadata": {
        "colab": {
          "base_uri": "https://localhost:8080/"
        },
        "id": "a6z_HarfwFbM",
        "outputId": "082ebfb5-8bcd-490e-e48a-89ccfc4e600d"
      },
      "execution_count": null,
      "outputs": [
        {
          "output_type": "execute_result",
          "data": {
            "text/plain": [
              "(#3) [False,True,True]"
            ]
          },
          "metadata": {},
          "execution_count": 23
        }
      ]
    },
    {
      "cell_type": "markdown",
      "source": [
        "##EXEMPLO 3"
      ],
      "metadata": {
        "id": "499idlLn5PfL"
      }
    },
    {
      "cell_type": "code",
      "source": [
        "tp =L('Hydrogen,H,1,Helium,He,2,Lithium,Li,3,Beryllium,Be,4,Boron,B,5,Carbon,C,6,Nitrogen,N,7,Oxygen,O,8,Fluorine,F,9,Neon,Ne,10,Sodium,Na,11,Magnesium,Mg,12,Aluminium,Al,13,Silicon,Si,14,Phosphorus,P,15,Sulfur,S,16,Chlorine,Cl,17,Argon,Ar,18,Potassium,K,19,Calcium,Ca,20,Scandium,Sc,21,Titanium,Ti,22,Vanadium,V,23,Chromium,Cr,24,Manganese,Mn,25,Iron,Fe,26,Cobalt,Co,27,Nickel,Ni,28,Copper,Cu,29,Zinc,Zn,30,Gallium,Ga,31,Germanium,Ge,32,Arsenic,As,33,Selenium,Se,34,Bromine,Br,35,Krypton,Kr,36,Rubidium,Rb,37,Strontium,Sr,38,Yttrium,Y,39,Zirconium,Zr,40,Niobium,Nb,41,Molybdenum,Mo,42,Technetium,Tc,43,Ruthenium,Ru,44,Rhodium,Rh,45,Palladium,Pd,46,Silver,Ag,47,Cadmium,Cd,48,Indium,In,49,Tin,Sn,50,Antimony,Sb,51,Tellurium,Te,52,Iodine,I,53,Xenon,Xe,54,Caesium,Cs,55,Barium,Ba,56,Lanthanum,La,57,Cerium,Ce,58,Praseodymium,Pr,59,Neodymium,Nd,60,Promethium,Pm,61,Samarium,Sm,62,Europium,Eu,63,Gadolinium,Gd,64,Terbium,Tb,65,Dysprosium,Dy,66,Holmium,Ho,67,Erbium,Er,68,Thulium,Tm,69,Ytterbium,Yb,70,Lutetium,Lu,71,Hafnium,Hf,72,Tantalum,Ta,73,Tungsten,W,74,Rhenium,Re,75,Osmium,Os,76,Iridium,Ir,77,Platinum,Pt,78,Gold,Au,79,Mercury,Hg,80,Thallium,Tl,81,Lead,Pb,82,Bismuth,Bi,83,Polonium,Po,84,Astatine,At,85,Radon,Rn,86,Francium,Fr,87,Radium,Ra,88,Actinium,Ac,89,Thorium,Th,90,Protactinium,Pa,91,Uranium,U,92,Neptunium,Np,93,Plutonium,Pu,94,Americium,Am,95,Curium,Cm,96,Berkelium,Bk,97,Californium,Cf,98,Einsteinium,Es,99,Fermium,Fm,100,Mendelevium,Md,101,Nobelium,No,102,Lawrencium,Lr,103,Rutherfordium,Rf,104,Dubnium,Db,105,Seaborgium,Sg,106,Bohrium,Bh,107,Hassium,Hs,108,Meitnerium,Mt,109,Darmstadtium,Ds,110,Roentgenium,Rg,111,Copernicium,Cn,112,Nihonium,Nh,113,Flerovium,Fl,114,Moscovium,Mc,115,Livermorium,Lv,116,Tennessine,Ts,117,Oganesson,Og,118')"
      ],
      "metadata": {
        "id": "LHarBix05Rrw"
      },
      "execution_count": null,
      "outputs": []
    },
    {
      "cell_type": "code",
      "source": [
        "#Executado na GPU: 0,005s\n",
        "tpl = L.split(tp[0],',')\n",
        "tpl"
      ],
      "metadata": {
        "colab": {
          "base_uri": "https://localhost:8080/"
        },
        "id": "2eebUxV75vuG",
        "outputId": "675239bd-69ca-4583-9c43-843549322c0c"
      },
      "execution_count": null,
      "outputs": [
        {
          "output_type": "execute_result",
          "data": {
            "text/plain": [
              "(#354) ['Hydrogen','H','1','Helium','He','2','Lithium','Li','3','Beryllium'...]"
            ]
          },
          "metadata": {},
          "execution_count": 8
        }
      ]
    },
    {
      "cell_type": "code",
      "source": [
        "tpstr = tp[0]"
      ],
      "metadata": {
        "id": "h2p7FuDTLT0C"
      },
      "execution_count": null,
      "outputs": []
    },
    {
      "cell_type": "code",
      "source": [
        "#Executado na CPU: 0,35s\n",
        "tpl = L.split(tpstr,',')\n",
        "tpl"
      ],
      "metadata": {
        "colab": {
          "base_uri": "https://localhost:8080/"
        },
        "id": "pBbPytvgLdSZ",
        "outputId": "9dfedbd7-543b-4402-d90b-cf64b1dc67c1"
      },
      "execution_count": null,
      "outputs": [
        {
          "output_type": "execute_result",
          "data": {
            "text/plain": [
              "(#354) ['Hydrogen','H','1','Helium','He','2','Lithium','Li','3','Beryllium'...]"
            ]
          },
          "metadata": {},
          "execution_count": 40
        }
      ]
    },
    {
      "cell_type": "code",
      "source": [
        "#Método for loop: 0,27s - GPU\n",
        "tp_l = L()\n",
        "for n in range(0,354,3):\n",
        "  tp_l.append([tpl[n], tpl[n+1], tpl[n+2]])\n",
        "tp_l\n"
      ],
      "metadata": {
        "colab": {
          "base_uri": "https://localhost:8080/"
        },
        "id": "FKFR5Yps6Cb2",
        "outputId": "f4076f9f-a00d-4fc3-f93e-5988056c2bcf"
      },
      "execution_count": null,
      "outputs": [
        {
          "output_type": "execute_result",
          "data": {
            "text/plain": [
              "(#118) [['Hydrogen', 'H', '1'],['Helium', 'He', '2'],['Lithium', 'Li', '3'],['Beryllium', 'Be', '4'],['Boron', 'B', '5'],['Carbon', 'C', '6'],['Nitrogen', 'N', '7'],['Oxygen', 'O', '8'],['Fluorine', 'F', '9'],['Neon', 'Ne', '10']...]"
            ]
          },
          "metadata": {},
          "execution_count": 9
        }
      ]
    },
    {
      "cell_type": "code",
      "source": [
        "#List Comprehension: 0,005s - GPU\n",
        "tp_l = L([[tpl[x],tpl[x+1],tpl[x+2]] for x in range(0,354,3)])\n",
        "tp_l"
      ],
      "metadata": {
        "colab": {
          "base_uri": "https://localhost:8080/"
        },
        "id": "kHcBzjiwFXIA",
        "outputId": "4086274c-310f-431b-8d11-62fe6ea9f83b"
      },
      "execution_count": null,
      "outputs": [
        {
          "output_type": "execute_result",
          "data": {
            "text/plain": [
              "(#118) [['Hydrogen', 'H', '1'],['Helium', 'He', '2'],['Lithium', 'Li', '3'],['Beryllium', 'Be', '4'],['Boron', 'B', '5'],['Carbon', 'C', '6'],['Nitrogen', 'N', '7'],['Oxygen', 'O', '8'],['Fluorine', 'F', '9'],['Neon', 'Ne', '10']...]"
            ]
          },
          "metadata": {},
          "execution_count": 4
        }
      ]
    },
    {
      "cell_type": "markdown",
      "source": [
        "##EXEMPLO 4"
      ],
      "metadata": {
        "id": "X7jLhryOOlLA"
      }
    },
    {
      "cell_type": "code",
      "source": [
        "cy = L(itertools.islice(cycle('a'),10))\n",
        "cy"
      ],
      "metadata": {
        "colab": {
          "base_uri": "https://localhost:8080/"
        },
        "id": "ypCzHyIuOooN",
        "outputId": "dcdb7926-6122-484c-87b5-be5a73231e0d"
      },
      "execution_count": null,
      "outputs": [
        {
          "output_type": "execute_result",
          "data": {
            "text/plain": [
              "(#10) ['a','a','a','a','a','a','a','a','a','a']"
            ]
          },
          "metadata": {},
          "execution_count": 10
        }
      ]
    },
    {
      "cell_type": "code",
      "source": [
        "from numpy.core.fromnumeric import repeat\n",
        "rp = L(repeat('a',10).tolist())\n",
        "rp"
      ],
      "metadata": {
        "colab": {
          "base_uri": "https://localhost:8080/"
        },
        "id": "xw29zI-JYmyd",
        "outputId": "4b8947d6-b3ea-4bf3-dce8-61dce061a64a"
      },
      "execution_count": null,
      "outputs": [
        {
          "output_type": "execute_result",
          "data": {
            "text/plain": [
              "(#10) ['a','a','a','a','a','a','a','a','a','a']"
            ]
          },
          "metadata": {},
          "execution_count": 5
        }
      ]
    }
  ]
}