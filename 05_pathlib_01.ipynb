{
  "nbformat": 4,
  "nbformat_minor": 0,
  "metadata": {
    "colab": {
      "provenance": [],
      "authorship_tag": "ABX9TyPotypAdprLIX5a5DND5cni",
      "include_colab_link": true
    },
    "kernelspec": {
      "name": "python3",
      "display_name": "Python 3"
    },
    "language_info": {
      "name": "python"
    }
  },
  "cells": [
    {
      "cell_type": "markdown",
      "metadata": {
        "id": "view-in-github",
        "colab_type": "text"
      },
      "source": [
        "<a href=\"https://colab.research.google.com/github/MarcosAutuori/My_Fastai_Book_FastAi_Course/blob/master/05_pathlib_01.ipynb\" target=\"_parent\"><img src=\"https://colab.research.google.com/assets/colab-badge.svg\" alt=\"Open In Colab\"/></a>"
      ]
    },
    {
      "cell_type": "markdown",
      "source": [
        "#Python Path – How to Use the Pathlib Module with Examples\n",
        "Rochdi Khalid\n",
        "\n",
        "\n",
        "https://www.freecodecamp.org/news/how-to-use-pathlib-module-in-python/"
      ],
      "metadata": {
        "id": "zDb2Nl5mw2Vx"
      }
    },
    {
      "cell_type": "code",
      "source": [
        "#Drive -\n",
        "from google.colab import drive\n",
        "drive.mount('/content/drive')\n",
        "import pathlib"
      ],
      "metadata": {
        "colab": {
          "base_uri": "https://localhost:8080/"
        },
        "id": "x2blQxRdwbWw",
        "outputId": "0819b826-b462-4015-a9ea-5028e15fa1a8"
      },
      "execution_count": null,
      "outputs": [
        {
          "output_type": "stream",
          "name": "stdout",
          "text": [
            "Mounted at /content/drive\n"
          ]
        }
      ]
    },
    {
      "cell_type": "markdown",
      "source": [
        "Each operating system has different rules for constructing file paths. For example, <font color='red'>Linux ☭</font> uses forward slashes for paths, while <font color='blue'>Windows 🤑</font> uses backslashes.\n",
        "\n",
        "This small difference can cause issues if you are working on a project and you want other developers who come from different operating systems to expand your code.\n",
        "\n",
        "Fortunately, if you're coding in Python, the Pathlib module does the heavy lifting by letting you make sure that your file paths work the same in different operating systems. Also, it provides functionalities and operations to help you save time while handling and manipulating paths."
      ],
      "metadata": {
        "id": "EiOGIfdoJ92B"
      }
    },
    {
      "cell_type": "markdown",
      "source": [
        "##Prerequisites\n",
        "Pathlib comes as default with Python >= 3.4. However, if you are using a version of Python lower than 3.4, you won't have access to this module."
      ],
      "metadata": {
        "id": "KN5OMyU7Kpxj"
      }
    },
    {
      "cell_type": "markdown",
      "source": [
        "##How Does Pathlib Work?\n",
        "To understand how you can construct a basic path using Pathlib, let's create a new Python file called `001.png` and put it inside a particular directory.\n",
        "\n",
        "Open the file, and type the following content:"
      ],
      "metadata": {
        "id": "nODRzUV7SxaN"
      }
    },
    {
      "cell_type": "code",
      "source": [
        "p0 = pathlib.Path()\n",
        "p1 = pathlib.PurePath('001.png')\n",
        "p2 = pathlib.Path('/content/drive/MyDrive/AI_images/001.png')\n",
        "p3 = pathlib.PurePosixPath('001.png')\n",
        "p4 = pathlib.PureWindowsPath('001.png')\n",
        "p5 = pathlib.PurePath('folder/001.png')"
      ],
      "metadata": {
        "id": "-ys7YVZIHadB"
      },
      "execution_count": null,
      "outputs": []
    },
    {
      "cell_type": "code",
      "source": [
        "p0, p1, p2, p3, p4, p5"
      ],
      "metadata": {
        "colab": {
          "base_uri": "https://localhost:8080/"
        },
        "id": "OPgKibqMHkEe",
        "outputId": "c41fdc1a-c569-48a1-d24b-1db72f6545e0"
      },
      "execution_count": null,
      "outputs": [
        {
          "output_type": "execute_result",
          "data": {
            "text/plain": [
              "(PosixPath('.'),\n",
              " PurePosixPath('setup.py'),\n",
              " PosixPath('/content/drive/MyDrive/AI_images/001.png'),\n",
              " PurePosixPath('setup.py'),\n",
              " PureWindowsPath('setup.py'),\n",
              " PurePosixPath('folder/setup.py'))"
            ]
          },
          "metadata": {},
          "execution_count": 12
        }
      ]
    },
    {
      "cell_type": "markdown",
      "source": [
        "#Pure paths in Python\n",
        "Pure paths manipulate a file path on your machine even if it belongs to a different operating system.\n",
        "\n",
        "For example, let's say you are on Linux and you want to use a Windows file path. Here, Pure path class objects will help you get the path working on your machine with some basic operations like creating child paths or accessing individual parts of a path.\n",
        "\n",
        "But pure paths won't be able to mimic some other operations like <font color='orange'>creating a directory or a file</font> because you are not actually in that operating system.\n",
        "\n",
        "##How to use pure paths\n",
        "As you can see in the diagram above, pure paths consist of three classes that handle any file system path on your machine:\n",
        "\n",
        "`PurePath()` is the root node that provides handling operations to every path object in Pathlib.\n",
        "\n",
        "When you instantiate `PurePath()`, it creates two classes to handle Windows paths and non-Windows paths. `PurePath()` creates a generic path object \"agnostic path\", regardless of the operating system you are running on.\n",
        "\n"
      ],
      "metadata": {
        "id": "enu8E-yaV7GO"
      }
    },
    {
      "cell_type": "code",
      "source": [
        "p1 = pathlib.PurePath('setup.py')\n",
        "p1"
      ],
      "metadata": {
        "colab": {
          "base_uri": "https://localhost:8080/"
        },
        "id": "SM4ExFQkWZwG",
        "outputId": "9bb8285e-2b97-4d48-950d-bf22a54188ee"
      },
      "execution_count": null,
      "outputs": [
        {
          "output_type": "execute_result",
          "data": {
            "text/plain": [
              "PurePosixPath('setup.py')"
            ]
          },
          "metadata": {},
          "execution_count": 13
        }
      ]
    },
    {
      "cell_type": "markdown",
      "source": [
        "`PurePath()` in the example above creates a `PurePosixPath()` because we assumed we are running on a Linux machine. But if you instantiate it on Windows you will get something like `PureWindowsPath('setup.py')`.\n",
        "\n",
        "`PurePosixPath()` is the child node of `PurePath()` implemented for non-Windows file system paths."
      ],
      "metadata": {
        "id": "UBg0yp2aWogW"
      }
    },
    {
      "cell_type": "code",
      "source": [
        "p3 = pathlib.PurePosixPath('setup.py')\n",
        "p3"
      ],
      "metadata": {
        "colab": {
          "base_uri": "https://localhost:8080/"
        },
        "id": "LyhVDjy_WnQt",
        "outputId": "bff5f3bb-99b1-4983-856f-99bb3fc2a442"
      },
      "execution_count": null,
      "outputs": [
        {
          "output_type": "execute_result",
          "data": {
            "text/plain": [
              "PurePosixPath('setup.py')"
            ]
          },
          "metadata": {},
          "execution_count": 14
        }
      ]
    },
    {
      "cell_type": "markdown",
      "source": [
        "You will not get any error if you instantiate `PurePosixPath()` on Windows because too simply this class doesn't make system calls.\n",
        "\n",
        "`PureWindowsPath()` is the child node of `PurePath()` implemented for Windows file system paths."
      ],
      "metadata": {
        "id": "oVUBi7oIXLK0"
      }
    },
    {
      "cell_type": "code",
      "source": [
        "p4 = pathlib.PureWindowsPath('setup.py')\n",
        "p4"
      ],
      "metadata": {
        "colab": {
          "base_uri": "https://localhost:8080/"
        },
        "id": "UtCv-IDOXR6L",
        "outputId": "0e7a8e87-d935-4300-e17d-8bc62708cf20"
      },
      "execution_count": null,
      "outputs": [
        {
          "output_type": "execute_result",
          "data": {
            "text/plain": [
              "PureWindowsPath('setup.py')"
            ]
          },
          "metadata": {},
          "execution_count": 15
        }
      ]
    },
    {
      "cell_type": "markdown",
      "source": [
        "The same applies to `PureWindowsPath()` since this class doesn't provide system calls, so instantiating it will not raise any error for other operating systems."
      ],
      "metadata": {
        "id": "Ma4rZ3dnXlhJ"
      }
    },
    {
      "cell_type": "markdown",
      "source": [
        "Pathlib creates a path to this file by putting this particular script in a Path object. Pathlib contains many objects such as `PosixPath()` and `PurePath()`, which we will learn more about in the following sections.\n",
        "\n",
        "Before we jump into this, Pathlib divides the filesystem paths into two different classes that represent two types of path objects: <font color='purple'>Pure Path</font> and <font color='orange'>Concrete Path."
      ],
      "metadata": {
        "id": "GF0lRGZcVCbJ"
      }
    },
    {
      "cell_type": "markdown",
      "source": [
        "![image.png](data:image/png;base64,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)"
      ],
      "metadata": {
        "id": "ApARwTy9VEzB"
      }
    },
    {
      "cell_type": "markdown",
      "source": [
        "The pure path provides utilities to handle and manipulate your file path without making writing operations.\n",
        "\n",
        "The concrete path allows you to manipulate and do writing operations on your file path.\n",
        "\n",
        "In other words, a concrete path is a subclass of a Pure path.\n",
        "\n",
        "It inherits manipulation from the parent class and adds input/output operations that do system calls."
      ],
      "metadata": {
        "id": "SNNcNcsQVkQC"
      }
    },
    {
      "cell_type": "markdown",
      "source": [
        "##Pure path properties\n",
        "Each subclass in `PurePath()` provides the following properties:\n",
        "\n",
        "`PurePath().parent` outputs the parent of the path:"
      ],
      "metadata": {
        "id": "jdOrxecDVpVH"
      }
    },
    {
      "cell_type": "code",
      "source": [
        "p1 = pathlib.PurePath('o_homem/eh/bom.txt')"
      ],
      "metadata": {
        "id": "6e_whYjuIlr2"
      },
      "execution_count": null,
      "outputs": []
    },
    {
      "cell_type": "code",
      "source": [
        "p1.parent"
      ],
      "metadata": {
        "colab": {
          "base_uri": "https://localhost:8080/"
        },
        "id": "VJpnZn4KI1Yf",
        "outputId": "505362a8-693a-4355-ce08-c26e79923fff"
      },
      "execution_count": null,
      "outputs": [
        {
          "output_type": "execute_result",
          "data": {
            "text/plain": [
              "PurePosixPath('o_homem/eh')"
            ]
          },
          "metadata": {},
          "execution_count": 32
        }
      ]
    },
    {
      "cell_type": "markdown",
      "source": [
        "In the example above, we are using the `.parent` property to get the path of the logical parent of `bom.txt`.\n",
        "\n",
        "`PurePath().parents[n]` outputs the ancestors of the path:"
      ],
      "metadata": {
        "id": "pTxVeDBjX511"
      }
    },
    {
      "cell_type": "code",
      "source": [
        "p1, p1.parents[0], p1.parents[1], p1.parents[2], p1.parents[-1], p1.parents[-2], p1.parents[-3],p1"
      ],
      "metadata": {
        "colab": {
          "base_uri": "https://localhost:8080/"
        },
        "id": "NSjA3dV9JSS8",
        "outputId": "6f962990-c249-42d8-a6a0-8038ff746593"
      },
      "execution_count": null,
      "outputs": [
        {
          "output_type": "execute_result",
          "data": {
            "text/plain": [
              "(PurePosixPath('o_homem/eh/bom.txt'),\n",
              " PurePosixPath('o_homem/eh'),\n",
              " PurePosixPath('o_homem'),\n",
              " PurePosixPath('.'),\n",
              " PurePosixPath('.'),\n",
              " PurePosixPath('o_homem'),\n",
              " PurePosixPath('o_homem/eh'),\n",
              " PurePosixPath('o_homem/eh/bom.txt'))"
            ]
          },
          "metadata": {},
          "execution_count": 33
        }
      ]
    },
    {
      "cell_type": "code",
      "source": [
        "p1 = pathlib.PurePath('o_homem/eh/bom/demais.txt')"
      ],
      "metadata": {
        "id": "JFYt8-WgKxUf"
      },
      "execution_count": null,
      "outputs": []
    },
    {
      "cell_type": "code",
      "source": [
        "p3 = p1.parents[0]\n",
        "p3"
      ],
      "metadata": {
        "colab": {
          "base_uri": "https://localhost:8080/"
        },
        "id": "XXkePdn1McWV",
        "outputId": "30a82fb4-4b37-48ee-bfd8-41001b91bdd5"
      },
      "execution_count": null,
      "outputs": [
        {
          "output_type": "execute_result",
          "data": {
            "text/plain": [
              "PurePosixPath('o_homem/eh/bom')"
            ]
          },
          "metadata": {},
          "execution_count": 4
        }
      ]
    },
    {
      "cell_type": "markdown",
      "source": [
        "You should always specify the ancestor index in the square brackets as seen above. In Python 3.10 and above, you can use slices and negative index values."
      ],
      "metadata": {
        "id": "PK0CdPdSYJCh"
      }
    },
    {
      "cell_type": "code",
      "source": [
        "p2 = p1.parents[1:2]\n",
        "p2"
      ],
      "metadata": {
        "colab": {
          "base_uri": "https://localhost:8080/"
        },
        "id": "xx3nkMOAKOqO",
        "outputId": "23811731-4774-43d7-ff6e-c0f2158df766"
      },
      "execution_count": null,
      "outputs": [
        {
          "output_type": "execute_result",
          "data": {
            "text/plain": [
              "(PurePosixPath('o_homem/eh'),)"
            ]
          },
          "metadata": {},
          "execution_count": 5
        }
      ]
    },
    {
      "cell_type": "code",
      "source": [
        "p4 = p1.parents[1:2]"
      ],
      "metadata": {
        "id": "Iv54JBUwM4oH"
      },
      "execution_count": null,
      "outputs": []
    },
    {
      "cell_type": "code",
      "source": [
        "p2 = pathlib.PurePath(p1.parents[1:2][0])\n",
        "p5 = pathlib.PurePath(p2)"
      ],
      "metadata": {
        "id": "aEhOHwI5LgYy"
      },
      "execution_count": null,
      "outputs": []
    },
    {
      "cell_type": "markdown",
      "source": [
        "`PurePath().name` provides the name of the last component of your path:"
      ],
      "metadata": {
        "id": "BDMZUxcrYNGN"
      }
    },
    {
      "cell_type": "code",
      "source": [
        "p1.name, p2.name"
      ],
      "metadata": {
        "colab": {
          "base_uri": "https://localhost:8080/"
        },
        "id": "de1qdWiaK58Z",
        "outputId": "e6aeb159-7824-4ff4-e9c1-a3cd4f1b36c0"
      },
      "execution_count": null,
      "outputs": [
        {
          "output_type": "execute_result",
          "data": {
            "text/plain": [
              "('demais.txt', 'eh')"
            ]
          },
          "metadata": {},
          "execution_count": 8
        }
      ]
    },
    {
      "cell_type": "markdown",
      "source": [
        "In this example, the final path component is `demais.txt`. So, the .name property outputs the name of the file  `demais.txt`which is main with its suffix `.txt`.\n",
        "\n",
        "On the other hand, `PurePath().suffix` provides the file extension of the last component of your path:"
      ],
      "metadata": {
        "id": "DW9Yai36Ye4Z"
      }
    },
    {
      "cell_type": "code",
      "source": [
        "p1.suffix, p2.suffix"
      ],
      "metadata": {
        "colab": {
          "base_uri": "https://localhost:8080/"
        },
        "id": "08mL32Rebn5p",
        "outputId": "6469e7b4-ab8a-4530-b7af-721f2fc818ba"
      },
      "execution_count": null,
      "outputs": [
        {
          "output_type": "execute_result",
          "data": {
            "text/plain": [
              "('.txt', '')"
            ]
          },
          "metadata": {},
          "execution_count": 9
        }
      ]
    },
    {
      "cell_type": "markdown",
      "source": [
        "Compared to the `.name` property, the `.suffix` property outputs the file extension and excludes the file name."
      ],
      "metadata": {
        "id": "i8wf3y5eZRFI"
      }
    },
    {
      "cell_type": "markdown",
      "source": [
        "`PurePath().stem` outputs only the name of the final component of your path without the suffix:"
      ],
      "metadata": {
        "id": "dZWrO0bmZeh4"
      }
    },
    {
      "cell_type": "code",
      "source": [
        "p1.stem, p2.stem"
      ],
      "metadata": {
        "colab": {
          "base_uri": "https://localhost:8080/"
        },
        "id": "XQDWENmVckgv",
        "outputId": "a8d124c7-73e1-43bf-a4b7-8b11884ec8e6"
      },
      "execution_count": null,
      "outputs": [
        {
          "output_type": "execute_result",
          "data": {
            "text/plain": [
              "('demais', 'eh')"
            ]
          },
          "metadata": {},
          "execution_count": 10
        }
      ]
    },
    {
      "cell_type": "markdown",
      "source": [
        "As seen above, the `.stem` property excludes the suffix of the final component `demais.txt` and provides only the name of the file."
      ],
      "metadata": {
        "id": "KSSZ2j_-ZnsP"
      }
    },
    {
      "cell_type": "markdown",
      "source": [
        "##Pure path methods\n",
        "Each subclass of `PurePath()` provides the following methods:\n",
        "\n",
        "`PurePath().is_absolute()` checks whether your path is absolute or not:"
      ],
      "metadata": {
        "id": "IFqEdX4iaN4O"
      }
    },
    {
      "cell_type": "code",
      "source": [
        "p1 = pathlib.PurePath('setup.py')\n",
        "p2 = pathlib.Path('/content/drive/MyDrive/AI_images/002.png')\n",
        "p3 = pathlib.Path('/home/marcos/Imagens/Destaque-Martinho-da-Vila.jpg')\n",
        "p4 = pathlib.Path('/content/drive/MyDrive/AI_images')"
      ],
      "metadata": {
        "id": "HXYL0d1AfoLW"
      },
      "execution_count": null,
      "outputs": []
    },
    {
      "cell_type": "code",
      "source": [
        "p1.is_absolute(), p2.is_absolute(), p3.is_absolute()"
      ],
      "metadata": {
        "colab": {
          "base_uri": "https://localhost:8080/"
        },
        "id": "9U_0GYfpf4EZ",
        "outputId": "bc121e11-35c3-4634-c01e-26d8f38b9a63"
      },
      "execution_count": null,
      "outputs": [
        {
          "output_type": "execute_result",
          "data": {
            "text/plain": [
              "(False, True, True)"
            ]
          },
          "metadata": {},
          "execution_count": 9
        }
      ]
    },
    {
      "cell_type": "markdown",
      "source": [
        "Note that the absolute path consists of a root and drive name. In this case, `PurePath()` doesn't allow us to know the drive's name.\n",
        "\n",
        "If you use `PureWindowsPath()`, you can represent an absolute path that contains a drive name like `PureWindowsPath('c:/Program Files')`."
      ],
      "metadata": {
        "id": "MWkpfWfSalje"
      }
    },
    {
      "cell_type": "markdown",
      "source": [
        "`PurePath().is_relative()` checks whether the path belongs to the other given path or not:"
      ],
      "metadata": {
        "id": "5E_hW9dea0TN"
      }
    },
    {
      "cell_type": "code",
      "source": [
        "p2.is_relative_to('/drive'), p2.is_relative_to('/content')"
      ],
      "metadata": {
        "colab": {
          "base_uri": "https://localhost:8080/"
        },
        "id": "ChsxWD67ndsr",
        "outputId": "860ec7f3-672d-4888-d697-17abbc82576f"
      },
      "execution_count": null,
      "outputs": [
        {
          "output_type": "execute_result",
          "data": {
            "text/plain": [
              "(False, True)"
            ]
          },
          "metadata": {},
          "execution_count": 10
        }
      ]
    },
    {
      "cell_type": "markdown",
      "source": [
        "In the first example, the given path `/drive` is not a part of or belongs to the path $p2$, while the other given path `/content` raises `True` because it has relative relationship with the path $p2$."
      ],
      "metadata": {
        "id": "dSWlyegvbFUG"
      }
    },
    {
      "cell_type": "markdown",
      "source": [
        "`PurePath().joinpath()` concatenates the path with the given arguments (child paths):"
      ],
      "metadata": {
        "id": "zaEHf_SNcKhX"
      }
    },
    {
      "cell_type": "code",
      "source": [
        "p4 = pathlib.Path('/content/drive/MyDrive/Videos')\n",
        "p7 = p4.joinpath('testes','teste.mp4')\n",
        "p7"
      ],
      "metadata": {
        "colab": {
          "base_uri": "https://localhost:8080/"
        },
        "id": "hcwEGcpgoUcM",
        "outputId": "073f80c7-2312-41b5-8b5c-57c24c91d435"
      },
      "execution_count": null,
      "outputs": [
        {
          "output_type": "execute_result",
          "data": {
            "text/plain": [
              "PosixPath('/content/drive/MyDrive/Videos/testes/teste.mp4')"
            ]
          },
          "metadata": {},
          "execution_count": 17
        }
      ]
    },
    {
      "cell_type": "markdown",
      "source": [
        "Note that there is no need to add slashes in your given arguments, as the `.joinpath()` method handles this for you."
      ],
      "metadata": {
        "id": "lkuUhg4Bc5QC"
      }
    },
    {
      "cell_type": "markdown",
      "source": [
        "`PurePath().match()` checks whether the path matches a given pattern:"
      ],
      "metadata": {
        "id": "giP3mcaddDtZ"
      }
    },
    {
      "cell_type": "code",
      "source": [
        "pathlib.PurePath('/src/goo/scripts/main.py').match('*.py')"
      ],
      "metadata": {
        "colab": {
          "base_uri": "https://localhost:8080/"
        },
        "id": "EQg89mvxdJOH",
        "outputId": "82c9ba9d-581e-4661-d8be-e2cc6925825a"
      },
      "execution_count": null,
      "outputs": [
        {
          "output_type": "execute_result",
          "data": {
            "text/plain": [
              "True"
            ]
          },
          "metadata": {},
          "execution_count": 18
        }
      ]
    },
    {
      "cell_type": "markdown",
      "source": [
        "Verifica se path termina com qualquer arquivo com sufixo `.py`."
      ],
      "metadata": {
        "id": "InaUJPYLdie4"
      }
    },
    {
      "cell_type": "code",
      "source": [
        "pathlib.PurePath('/src/goo/scripts/main.py').match('goo/*.py')"
      ],
      "metadata": {
        "colab": {
          "base_uri": "https://localhost:8080/"
        },
        "id": "hGwiH9lwd1Pt",
        "outputId": "25629c50-9834-407c-fd0d-64b48216d827"
      },
      "execution_count": null,
      "outputs": [
        {
          "output_type": "execute_result",
          "data": {
            "text/plain": [
              "False"
            ]
          },
          "metadata": {},
          "execution_count": 19
        }
      ]
    },
    {
      "cell_type": "markdown",
      "source": [
        "Verifica se path termina com qualquer arquivo com sufixo .py na pasta `goo`."
      ],
      "metadata": {
        "id": "LwOD9JTdd_tn"
      }
    },
    {
      "cell_type": "code",
      "source": [
        "pathlib.PurePath('/src/goo/goo/main.py').match('goo/*.py')"
      ],
      "metadata": {
        "colab": {
          "base_uri": "https://localhost:8080/"
        },
        "outputId": "e71f0d19-ee11-45d9-9f1f-db74fb005792",
        "id": "rXz5oOZSefzK"
      },
      "execution_count": null,
      "outputs": [
        {
          "output_type": "execute_result",
          "data": {
            "text/plain": [
              "True"
            ]
          },
          "metadata": {},
          "execution_count": 20
        }
      ]
    },
    {
      "cell_type": "markdown",
      "source": [
        "Verifica se path termina com qualquer arquivo com sufixo .py e não está em uma pasta"
      ],
      "metadata": {
        "id": "vhZgCHoIefze"
      }
    },
    {
      "cell_type": "code",
      "source": [
        "pathlib.PurePath('src/goo/scripts/main.py').match('/*.py')"
      ],
      "metadata": {
        "colab": {
          "base_uri": "https://localhost:8080/"
        },
        "id": "t6bUfKevewY3",
        "outputId": "fe69ed9b-dfed-4394-9f14-7763723436f7"
      },
      "execution_count": null,
      "outputs": [
        {
          "output_type": "execute_result",
          "data": {
            "text/plain": [
              "False"
            ]
          },
          "metadata": {},
          "execution_count": 29
        }
      ]
    },
    {
      "cell_type": "code",
      "source": [
        "pathlib.PurePath('/main.py').match('/*.py')"
      ],
      "metadata": {
        "colab": {
          "base_uri": "https://localhost:8080/"
        },
        "id": "M8uY94zye0fG",
        "outputId": "0b184f31-75a3-445f-b551-02b09269356f"
      },
      "execution_count": null,
      "outputs": [
        {
          "output_type": "execute_result",
          "data": {
            "text/plain": [
              "True"
            ]
          },
          "metadata": {},
          "execution_count": 30
        }
      ]
    },
    {
      "cell_type": "code",
      "source": [
        "pathlib.PurePath('main.py').match('/*.py')"
      ],
      "metadata": {
        "colab": {
          "base_uri": "https://localhost:8080/"
        },
        "id": "09LxjT_Pfqvj",
        "outputId": "7ed78dc0-9999-42a0-eba7-a0fd830f3dc5"
      },
      "execution_count": null,
      "outputs": [
        {
          "output_type": "execute_result",
          "data": {
            "text/plain": [
              "False"
            ]
          },
          "metadata": {},
          "execution_count": 31
        }
      ]
    },
    {
      "cell_type": "code",
      "source": [
        "pathlib.PurePath('src/goo/scripts/main.py').match('*/*.py')"
      ],
      "metadata": {
        "colab": {
          "base_uri": "https://localhost:8080/"
        },
        "id": "3vgny04xfJHt",
        "outputId": "67e058fe-6d51-4c3c-b9e5-f902fd4cf12e"
      },
      "execution_count": null,
      "outputs": [
        {
          "output_type": "execute_result",
          "data": {
            "text/plain": [
              "True"
            ]
          },
          "metadata": {},
          "execution_count": 26
        }
      ]
    },
    {
      "cell_type": "code",
      "source": [
        "pathlib.PurePath('foo/main.py').match('*/*.py')"
      ],
      "metadata": {
        "colab": {
          "base_uri": "https://localhost:8080/"
        },
        "id": "I3me36lqfN56",
        "outputId": "1c4e3e26-c6a0-44b4-b0ee-3c6a5cbb1769"
      },
      "execution_count": null,
      "outputs": [
        {
          "output_type": "execute_result",
          "data": {
            "text/plain": [
              "True"
            ]
          },
          "metadata": {},
          "execution_count": 27
        }
      ]
    },
    {
      "cell_type": "code",
      "source": [
        "pathlib.PurePath('/main.py').match('*/*.py')"
      ],
      "metadata": {
        "colab": {
          "base_uri": "https://localhost:8080/"
        },
        "id": "P46tdTdCfWyi",
        "outputId": "1f4bd104-1896-4c1b-ca7a-eba61fd3703f"
      },
      "execution_count": null,
      "outputs": [
        {
          "output_type": "execute_result",
          "data": {
            "text/plain": [
              "True"
            ]
          },
          "metadata": {},
          "execution_count": 28
        }
      ]
    },
    {
      "cell_type": "code",
      "source": [
        "pathlib.PurePath('main.py').match('*/*.py')"
      ],
      "metadata": {
        "colab": {
          "base_uri": "https://localhost:8080/"
        },
        "id": "A5SPgcp-f5W5",
        "outputId": "f2b3e816-caad-4fbd-8d7d-2e33a5889f9e"
      },
      "execution_count": null,
      "outputs": [
        {
          "output_type": "execute_result",
          "data": {
            "text/plain": [
              "False"
            ]
          },
          "metadata": {},
          "execution_count": 32
        }
      ]
    },
    {
      "cell_type": "markdown",
      "source": [
        "Based on the examples above, the pattern should match the path. If the given pattern is absolute, the path must be absolute too.\n",
        "\n",
        "Absolute --> `/*`"
      ],
      "metadata": {
        "id": "dalD3QYmdcb9"
      }
    },
    {
      "cell_type": "markdown",
      "source": [
        "`PurePath().with_name()` changes the name of the final component with its suffix:"
      ],
      "metadata": {
        "id": "vzLQc9x4gEOX"
      }
    },
    {
      "cell_type": "code",
      "source": [
        "p = pathlib.PurePath('/src/goo/scripts/main.py')\n",
        "p.with_name('app.js')"
      ],
      "metadata": {
        "colab": {
          "base_uri": "https://localhost:8080/"
        },
        "id": "7tK-trphgSyG",
        "outputId": "1986eb7e-9005-4844-cfa4-07f3129d59eb"
      },
      "execution_count": null,
      "outputs": [
        {
          "output_type": "execute_result",
          "data": {
            "text/plain": [
              "PurePosixPath('/src/goo/scripts/app.js')"
            ]
          },
          "metadata": {},
          "execution_count": 33
        }
      ]
    },
    {
      "cell_type": "code",
      "source": [
        "p"
      ],
      "metadata": {
        "colab": {
          "base_uri": "https://localhost:8080/"
        },
        "id": "wRLo25wggg7K",
        "outputId": "d5da401f-8a59-48da-fed8-509567afc26a"
      },
      "execution_count": null,
      "outputs": [
        {
          "output_type": "execute_result",
          "data": {
            "text/plain": [
              "PurePosixPath('/src/goo/scripts/main.py')"
            ]
          },
          "metadata": {},
          "execution_count": 34
        }
      ]
    },
    {
      "cell_type": "markdown",
      "source": [
        "The `.with_name()` method doesn't change the name of the last component permanently. Also, if the given path doesn't contain a name, an error occurs as mentioned in the official documentation."
      ],
      "metadata": {
        "id": "7UbZxBMtgxE-"
      }
    },
    {
      "cell_type": "markdown",
      "source": [
        "`PurePath().with_stem()` changes only the name of the final component of the path:"
      ],
      "metadata": {
        "id": "WTagWkAzg_0k"
      }
    },
    {
      "cell_type": "code",
      "source": [
        "p = pathlib.PurePath('/src/goo/scripts/main.py')\n",
        "p.with_stem('app')"
      ],
      "metadata": {
        "colab": {
          "base_uri": "https://localhost:8080/"
        },
        "id": "WIDZBjG1hPNr",
        "outputId": "b02bb6bc-2afa-4606-dfb0-c0a7c307cdcf"
      },
      "execution_count": null,
      "outputs": [
        {
          "output_type": "execute_result",
          "data": {
            "text/plain": [
              "PurePosixPath('/src/goo/scripts/app.py')"
            ]
          },
          "metadata": {},
          "execution_count": 36
        }
      ]
    },
    {
      "cell_type": "code",
      "source": [
        "p"
      ],
      "metadata": {
        "colab": {
          "base_uri": "https://localhost:8080/"
        },
        "id": "rTVbTCw3h7TU",
        "outputId": "fb3ac4fc-6287-4833-84b7-cd1c5dfa7827"
      },
      "execution_count": null,
      "outputs": [
        {
          "output_type": "execute_result",
          "data": {
            "text/plain": [
              "PurePosixPath('/src/goo/scripts/main.py')"
            ]
          },
          "metadata": {},
          "execution_count": 37
        }
      ]
    },
    {
      "cell_type": "markdown",
      "source": [
        "This is similar to the `.with_name()` method. The `.with_stem()` changes the name of the last component temporarily. Also, if the given path doesn't contain a name, an error will occur."
      ],
      "metadata": {
        "id": "ucBl8265iGrj"
      }
    },
    {
      "cell_type": "markdown",
      "source": [
        "`PurePath().with_suffix()` temporarily changes the suffix or the extension of the final component of your path:  "
      ],
      "metadata": {
        "id": "S_MraQy5iVqY"
      }
    },
    {
      "cell_type": "code",
      "source": [
        "p = pathlib.PurePath('/src/goo/scripts/main.py')\n",
        "p.with_suffix('.js')"
      ],
      "metadata": {
        "colab": {
          "base_uri": "https://localhost:8080/"
        },
        "id": "gQxf4Cz9ifeE",
        "outputId": "7e3228d3-851d-4c75-cc5b-d0b538d62172"
      },
      "execution_count": null,
      "outputs": [
        {
          "output_type": "execute_result",
          "data": {
            "text/plain": [
              "PurePosixPath('/src/goo/scripts/main.js')"
            ]
          },
          "metadata": {},
          "execution_count": 38
        }
      ]
    },
    {
      "cell_type": "code",
      "source": [
        "p"
      ],
      "metadata": {
        "colab": {
          "base_uri": "https://localhost:8080/"
        },
        "id": "BsjxuxzdilPf",
        "outputId": "00a41b6f-0600-4853-e44c-487fcb5951fe"
      },
      "execution_count": null,
      "outputs": [
        {
          "output_type": "execute_result",
          "data": {
            "text/plain": [
              "PurePosixPath('/src/goo/scripts/main.py')"
            ]
          },
          "metadata": {},
          "execution_count": 39
        }
      ]
    },
    {
      "cell_type": "markdown",
      "source": [
        "If the name of the given path contains no suffix, the `.with_suffix()` method adds the suffix for you:\n",
        "\n"
      ],
      "metadata": {
        "id": "4_T6ceiliqP0"
      }
    },
    {
      "cell_type": "code",
      "source": [
        "p = pathlib.PurePath('/src/goo/scripts/main')\n",
        "p.with_suffix('.py')"
      ],
      "metadata": {
        "colab": {
          "base_uri": "https://localhost:8080/"
        },
        "id": "QZW58Ccci4F1",
        "outputId": "aec05740-e218-402e-ab30-1d91a3ef80b4"
      },
      "execution_count": null,
      "outputs": [
        {
          "output_type": "execute_result",
          "data": {
            "text/plain": [
              "PurePosixPath('/src/goo/scripts/main.py')"
            ]
          },
          "metadata": {},
          "execution_count": 40
        }
      ]
    },
    {
      "cell_type": "markdown",
      "source": [
        "But, if we don't include the suffix and we keep the argument empty '', the current suffix will be removed."
      ],
      "metadata": {
        "id": "oJRMBQ2LjFmd"
      }
    },
    {
      "cell_type": "code",
      "source": [
        "p = pathlib.PurePath('/src/goo/scripts/main')\n",
        "p.with_suffix('')"
      ],
      "metadata": {
        "colab": {
          "base_uri": "https://localhost:8080/"
        },
        "id": "NOOkvHKUjQTB",
        "outputId": "2de7103d-5d86-4564-e891-10900034e7b9"
      },
      "execution_count": null,
      "outputs": [
        {
          "output_type": "execute_result",
          "data": {
            "text/plain": [
              "PurePosixPath('/src/goo/scripts/main')"
            ]
          },
          "metadata": {},
          "execution_count": 41
        }
      ]
    },
    {
      "cell_type": "markdown",
      "source": [
        "Some methods like `.with_stem()`, and `.is_relative_to()` have been added recently to Python 3.9 and above. So, if you call these methods using Python 3.8 or lower, an attribute error is raised."
      ],
      "metadata": {
        "id": "UYEG3wgLjnP1"
      }
    },
    {
      "cell_type": "markdown",
      "source": [
        "#Concrete Paths in Python\n",
        "Concrete Paths allows you to handle, manipulate, and do writing operations on different filesystem paths.\n",
        "\n",
        "In the other words, this type of path object helps you to create for example a new file, a new directory, and do other input/output operations while not being in that operating system."
      ],
      "metadata": {
        "id": "QnClEBvPjvMd"
      }
    },
    {
      "cell_type": "markdown",
      "source": [
        "##How to use concrete paths\n",
        "Concrete paths handle any file system path and make system calls on your machine. Those path objects are the child paths of the pure paths and consist of three subclasses like the pure ones:\n",
        "\n",
        "`Path()` is the child node of `PurePath()`, it provides handling operations with the ability to do writing operations on your path.\n",
        "\n",
        "When you instantiate `Path()`, it creates two classes to handle Windows paths and non-Windows paths. Like `PurePath()`, `Path()` also creates a generic path object \"agnostic path\", regardless of the operating system you are running on.\n",
        "\n"
      ],
      "metadata": {
        "id": "hCmMzGVlPrYV"
      }
    },
    {
      "cell_type": "code",
      "source": [
        "pathlib.Path('setup.py')"
      ],
      "metadata": {
        "colab": {
          "base_uri": "https://localhost:8080/"
        },
        "id": "dCvjApjgFwod",
        "outputId": "6bc66568-d0a6-4607-e309-e629f31f3ff3"
      },
      "execution_count": null,
      "outputs": [
        {
          "output_type": "execute_result",
          "data": {
            "text/plain": [
              "PosixPath('setup.py')"
            ]
          },
          "metadata": {},
          "execution_count": 2
        }
      ]
    },
    {
      "cell_type": "markdown",
      "source": [
        "`Path()` in the example above creates a `PosixPath()` because we assume we are running on a Linux machine. But if you instantiate it on Windows you will get something like `WindowsPath('setup.py')`\n",
        "\n",
        "`PosixPath()` is the child node of `Path()` and `PurePosixPath()`, implemented to handle and manipulate non-Windows file system paths."
      ],
      "metadata": {
        "id": "3nbV8MmWHSl_"
      }
    },
    {
      "cell_type": "code",
      "source": [
        "pathlib.PosixPath('setup.py')"
      ],
      "metadata": {
        "colab": {
          "base_uri": "https://localhost:8080/"
        },
        "id": "4z5rZRY-HrCk",
        "outputId": "338a35ff-1ef4-49a5-80fb-4b6665c282c0"
      },
      "execution_count": null,
      "outputs": [
        {
          "output_type": "execute_result",
          "data": {
            "text/plain": [
              "PosixPath('setup.py')"
            ]
          },
          "metadata": {},
          "execution_count": 3
        }
      ]
    },
    {
      "cell_type": "markdown",
      "source": [
        "You will get an error if you instantiate `PosixPath()` on a Windows machine because you cannot make system calls while running on a different operating system.\n",
        "\n",
        "`WindowsPath()` is the child node of `Path()` and `PureWindowsPath()` implemented for Windows file system paths.\n",
        "\n"
      ],
      "metadata": {
        "id": "iV96MW61H6X1"
      }
    },
    {
      "cell_type": "code",
      "source": [
        "pathlib.WindowsPath('setup.py')\n",
        "#NotImplementedError: cannot instantiate 'WindowsPath' on your system"
      ],
      "metadata": {
        "id": "MA5ke_weIGgz"
      },
      "execution_count": null,
      "outputs": []
    },
    {
      "cell_type": "markdown",
      "source": [
        "The same applies to `WindowsPath()` since you are running on a different operating system – so instantiating it will raise an error."
      ],
      "metadata": {
        "id": "1biViW8nIboQ"
      }
    },
    {
      "cell_type": "markdown",
      "source": [
        "##Properties of concrete paths\n",
        "Since the concrete path is the subclass of the pure path, you can do everything with concrete paths using the `PurePath()` properties. This means that we can use, for example, the `.with_suffix` property to add a suffix to a concrete path:"
      ],
      "metadata": {
        "id": "yJvKKHt1GCrB"
      }
    },
    {
      "cell_type": "code",
      "source": [
        "p = pathlib.Path('/src/goo/scripts/main')\n",
        "p.with_suffix('.py')"
      ],
      "metadata": {
        "id": "ZW7TdCY0GaJ3"
      },
      "execution_count": null,
      "outputs": []
    },
    {
      "cell_type": "markdown",
      "source": [
        "Or, you can check if a given path is relative to the original path:"
      ],
      "metadata": {
        "id": "RB9C72ZOHZWY"
      }
    },
    {
      "cell_type": "code",
      "source": [
        "p = pathlib.Path('/src/goo/scripts/main.py')\n",
        "p.is_relative_to('/src')"
      ],
      "metadata": {
        "id": "VK9rSyGwHa01"
      },
      "execution_count": null,
      "outputs": []
    },
    {
      "cell_type": "markdown",
      "source": [
        "Always remember that concrete paths <font color='orange'>inherit</font> handling operations from the pure paths and add writing operations that do system calls and input/output configurations."
      ],
      "metadata": {
        "id": "gF9ObdlDHnJt"
      }
    },
    {
      "cell_type": "markdown",
      "source": [
        "##Methods of concrete path\n",
        "Each subclass of Path() provides the following methods to handle paths and do system calls:\n",
        "\n",
        "Path().iterdir() returns the content of a directory. Let's say we have the following folder that contains the following files:"
      ],
      "metadata": {
        "id": "WWU4xWGdiDu1"
      }
    },
    {
      "cell_type": "markdown",
      "source": [
        "###Path().mkdir() creates a new directory at a given path:"
      ],
      "metadata": {
        "id": "WZ2dEtNHEyaH"
      }
    },
    {
      "cell_type": "code",
      "source": [
        "p = pathlib.Path('data')"
      ],
      "metadata": {
        "id": "e8UeIZZWE7kK"
      },
      "execution_count": null,
      "outputs": []
    },
    {
      "cell_type": "code",
      "source": [
        "directory = pathlib.Path('data/secrets')"
      ],
      "metadata": {
        "id": "0e5UXdyHFB3M"
      },
      "execution_count": null,
      "outputs": []
    },
    {
      "cell_type": "code",
      "source": [
        "directory.exists()"
      ],
      "metadata": {
        "colab": {
          "base_uri": "https://localhost:8080/"
        },
        "id": "0pK2VPNLFQpX",
        "outputId": "7a05a2d6-cab6-40f2-bfe7-1746c577054a"
      },
      "execution_count": null,
      "outputs": [
        {
          "output_type": "execute_result",
          "data": {
            "text/plain": [
              "False"
            ]
          },
          "metadata": {},
          "execution_count": 6
        }
      ]
    },
    {
      "cell_type": "code",
      "source": [
        "directory"
      ],
      "metadata": {
        "colab": {
          "base_uri": "https://localhost:8080/"
        },
        "id": "bzygrHhYFjS1",
        "outputId": "32dba352-443a-474f-c2a0-784d18156b0b"
      },
      "execution_count": null,
      "outputs": [
        {
          "output_type": "execute_result",
          "data": {
            "text/plain": [
              "PosixPath('data/secrets')"
            ]
          },
          "metadata": {},
          "execution_count": 7
        }
      ]
    },
    {
      "cell_type": "code",
      "source": [
        "for child in p.iterdir():\n",
        "  print(child)"
      ],
      "metadata": {
        "colab": {
          "base_uri": "https://localhost:8080/",
          "height": 315
        },
        "id": "lrnAxP3hFpq0",
        "outputId": "0c12ac22-10c9-45f7-8fae-617adcc51fc4"
      },
      "execution_count": null,
      "outputs": [
        {
          "output_type": "error",
          "ename": "FileNotFoundError",
          "evalue": "ignored",
          "traceback": [
            "\u001b[0;31m---------------------------------------------------------------------------\u001b[0m",
            "\u001b[0;31mFileNotFoundError\u001b[0m                         Traceback (most recent call last)",
            "\u001b[0;32m<ipython-input-19-03b9ba78dd0b>\u001b[0m in \u001b[0;36m<cell line: 1>\u001b[0;34m()\u001b[0m\n\u001b[0;32m----> 1\u001b[0;31m \u001b[0;32mfor\u001b[0m \u001b[0mchild\u001b[0m \u001b[0;32min\u001b[0m \u001b[0mp\u001b[0m\u001b[0;34m.\u001b[0m\u001b[0miterdir\u001b[0m\u001b[0;34m(\u001b[0m\u001b[0;34m)\u001b[0m\u001b[0;34m:\u001b[0m\u001b[0;34m\u001b[0m\u001b[0;34m\u001b[0m\u001b[0m\n\u001b[0m\u001b[1;32m      2\u001b[0m   \u001b[0mprint\u001b[0m\u001b[0;34m(\u001b[0m\u001b[0mchild\u001b[0m\u001b[0;34m)\u001b[0m\u001b[0;34m\u001b[0m\u001b[0;34m\u001b[0m\u001b[0m\n",
            "\u001b[0;32m/usr/lib/python3.10/pathlib.py\u001b[0m in \u001b[0;36miterdir\u001b[0;34m(self)\u001b[0m\n\u001b[1;32m   1015\u001b[0m         \u001b[0mresult\u001b[0m \u001b[0;32mfor\u001b[0m \u001b[0mthe\u001b[0m \u001b[0mspecial\u001b[0m \u001b[0mpaths\u001b[0m \u001b[0;34m'.'\u001b[0m \u001b[0;32mand\u001b[0m \u001b[0;34m'..'\u001b[0m\u001b[0;34m.\u001b[0m\u001b[0;34m\u001b[0m\u001b[0;34m\u001b[0m\u001b[0m\n\u001b[1;32m   1016\u001b[0m         \"\"\"\n\u001b[0;32m-> 1017\u001b[0;31m         \u001b[0;32mfor\u001b[0m \u001b[0mname\u001b[0m \u001b[0;32min\u001b[0m \u001b[0mself\u001b[0m\u001b[0;34m.\u001b[0m\u001b[0m_accessor\u001b[0m\u001b[0;34m.\u001b[0m\u001b[0mlistdir\u001b[0m\u001b[0;34m(\u001b[0m\u001b[0mself\u001b[0m\u001b[0;34m)\u001b[0m\u001b[0;34m:\u001b[0m\u001b[0;34m\u001b[0m\u001b[0;34m\u001b[0m\u001b[0m\n\u001b[0m\u001b[1;32m   1018\u001b[0m             \u001b[0;32mif\u001b[0m \u001b[0mname\u001b[0m \u001b[0;32min\u001b[0m \u001b[0;34m{\u001b[0m\u001b[0;34m'.'\u001b[0m\u001b[0;34m,\u001b[0m \u001b[0;34m'..'\u001b[0m\u001b[0;34m}\u001b[0m\u001b[0;34m:\u001b[0m\u001b[0;34m\u001b[0m\u001b[0;34m\u001b[0m\u001b[0m\n\u001b[1;32m   1019\u001b[0m                 \u001b[0;31m# Yielding a path object for these makes little sense\u001b[0m\u001b[0;34m\u001b[0m\u001b[0;34m\u001b[0m\u001b[0m\n",
            "\u001b[0;31mFileNotFoundError\u001b[0m: [Errno 2] No such file or directory: 'data'"
          ]
        }
      ]
    },
    {
      "cell_type": "code",
      "source": [
        "directory.mkdir(parents = False, exist_ok = False)"
      ],
      "metadata": {
        "colab": {
          "base_uri": "https://localhost:8080/",
          "height": 298
        },
        "id": "9JXC2NYsFSR9",
        "outputId": "1cf2e565-ba95-4b72-d4c7-4b581b939439"
      },
      "execution_count": null,
      "outputs": [
        {
          "output_type": "error",
          "ename": "FileNotFoundError",
          "evalue": "ignored",
          "traceback": [
            "\u001b[0;31m---------------------------------------------------------------------------\u001b[0m",
            "\u001b[0;31mFileNotFoundError\u001b[0m                         Traceback (most recent call last)",
            "\u001b[0;32m<ipython-input-5-d8a76680986b>\u001b[0m in \u001b[0;36m<cell line: 1>\u001b[0;34m()\u001b[0m\n\u001b[0;32m----> 1\u001b[0;31m \u001b[0mdirectory\u001b[0m\u001b[0;34m.\u001b[0m\u001b[0mmkdir\u001b[0m\u001b[0;34m(\u001b[0m\u001b[0mparents\u001b[0m \u001b[0;34m=\u001b[0m \u001b[0;32mFalse\u001b[0m\u001b[0;34m,\u001b[0m \u001b[0mexist_ok\u001b[0m \u001b[0;34m=\u001b[0m \u001b[0;32mFalse\u001b[0m\u001b[0;34m)\u001b[0m\u001b[0;34m\u001b[0m\u001b[0;34m\u001b[0m\u001b[0m\n\u001b[0m",
            "\u001b[0;32m/usr/lib/python3.10/pathlib.py\u001b[0m in \u001b[0;36mmkdir\u001b[0;34m(self, mode, parents, exist_ok)\u001b[0m\n\u001b[1;32m   1173\u001b[0m         \"\"\"\n\u001b[1;32m   1174\u001b[0m         \u001b[0;32mtry\u001b[0m\u001b[0;34m:\u001b[0m\u001b[0;34m\u001b[0m\u001b[0;34m\u001b[0m\u001b[0m\n\u001b[0;32m-> 1175\u001b[0;31m             \u001b[0mself\u001b[0m\u001b[0;34m.\u001b[0m\u001b[0m_accessor\u001b[0m\u001b[0;34m.\u001b[0m\u001b[0mmkdir\u001b[0m\u001b[0;34m(\u001b[0m\u001b[0mself\u001b[0m\u001b[0;34m,\u001b[0m \u001b[0mmode\u001b[0m\u001b[0;34m)\u001b[0m\u001b[0;34m\u001b[0m\u001b[0;34m\u001b[0m\u001b[0m\n\u001b[0m\u001b[1;32m   1176\u001b[0m         \u001b[0;32mexcept\u001b[0m \u001b[0mFileNotFoundError\u001b[0m\u001b[0;34m:\u001b[0m\u001b[0;34m\u001b[0m\u001b[0;34m\u001b[0m\u001b[0m\n\u001b[1;32m   1177\u001b[0m             \u001b[0;32mif\u001b[0m \u001b[0;32mnot\u001b[0m \u001b[0mparents\u001b[0m \u001b[0;32mor\u001b[0m \u001b[0mself\u001b[0m\u001b[0;34m.\u001b[0m\u001b[0mparent\u001b[0m \u001b[0;34m==\u001b[0m \u001b[0mself\u001b[0m\u001b[0;34m:\u001b[0m\u001b[0;34m\u001b[0m\u001b[0;34m\u001b[0m\u001b[0m\n",
            "\u001b[0;31mFileNotFoundError\u001b[0m: [Errno 2] No such file or directory: 'data/secrets'"
          ]
        }
      ]
    }
  ]
}