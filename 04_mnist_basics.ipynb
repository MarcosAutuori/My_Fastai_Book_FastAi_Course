{
  "cells": [
    {
      "cell_type": "markdown",
      "metadata": {
        "id": "view-in-github",
        "colab_type": "text"
      },
      "source": [
        "<a href=\"https://colab.research.google.com/github/MarcosAutuori/My_Fastai_Book_FastAi_Course/blob/master/04_mnist_basics.ipynb\" target=\"_parent\"><img src=\"https://colab.research.google.com/assets/colab-badge.svg\" alt=\"Open In Colab\"/></a>"
      ]
    },
    {
      "cell_type": "markdown",
      "source": [
        "\n",
        "\n",
        "##IMPORTS\n",
        "\n"
      ],
      "metadata": {
        "id": "t92ZR5H6wfik"
      }
    },
    {
      "cell_type": "code",
      "source": [
        "! pip install --upgrade torchvision==0.12"
      ],
      "metadata": {
        "colab": {
          "base_uri": "https://localhost:8080/",
          "height": 35
        },
        "id": "czv3o0YAhHR1",
        "outputId": "91ffc4c3-5436-42ee-e5f2-905d726791bd"
      },
      "execution_count": null,
      "outputs": [
        {
          "output_type": "execute_result",
          "data": {
            "text/plain": [
              "'https://s3.amazonaws.com/fast-ai-imageclas/mnist_png.tgz'"
            ],
            "application/vnd.google.colaboratory.intrinsic+json": {
              "type": "string"
            }
          },
          "metadata": {},
          "execution_count": 2
        }
      ]
    },
    {
      "cell_type": "code",
      "source": [
        "from google.colab import drive\n",
        "drive.mount('/content/drive')\n",
        "! [ -e /content ] && pip install -Uqq fastbook\n",
        "import fastbook\n",
        "fastbook.setup_book()\n",
        "from fastai.vision.all import *\n",
        "from fastbook import *\n",
        "matplotlib.rc('image', cmap='Greys')"
      ],
      "metadata": {
        "id": "I1oVYQD3x2nE"
      },
      "execution_count": null,
      "outputs": []
    },
    {
      "cell_type": "markdown",
      "metadata": {
        "id": "MhJP3rthJa5Y"
      },
      "source": [
        "# Under the Hood: Training a Digit Classifier"
      ]
    },
    {
      "cell_type": "markdown",
      "metadata": {
        "id": "HtbJIF8H1WO5"
      },
      "source": [
        "##INTRO"
      ]
    },
    {
      "cell_type": "markdown",
      "metadata": {
        "id": "L-_l17nmJa5h"
      },
      "source": [
        "Having seen what it looks like to actually train a variety of models in Chapter 2, let’s now look under the hood and see exactly what is going on. We’ll start by using computer vision to introduce fundamental tools and concepts for deep learning.\n",
        "\n",
        "To be exact,\n",
        "\n",
        "we'll discuss the roles of arrays and tensors and of broadcasting, a powerful technique for using them expressively.\n",
        "\n",
        "We'll explain stochastic gradient descent (SGD), the mechanism for learning by updating weights automatically.\n",
        "\n",
        "We'll discuss the choice of a loss function for our basic classification task, and the role of mini-batches.\n",
        "\n",
        "We'll also describe the math that a basic neural network is actually doing.\n",
        "\n",
        "Finally, we'll put all these pieces together.\n",
        "\n",
        "In future chapters we’ll do deep dives into other applications as well, and see how these concepts and tools generalize. But this chapter is about laying foundation stones. To be frank, that also makes this one of the hardest chapters, because of how these concepts all depend on each other. Like an arch, all the stones need to be in place for the structure to stay up. Also like an arch, once that happens, it's a powerful structure that can support other things. But it requires some patience to assemble.\n",
        "\n",
        "Let's begin. The first step is to consider how images are represented in a computer."
      ]
    },
    {
      "cell_type": "code",
      "source": [
        "from google.colab import drive\n",
        "drive.mount('/content/drive')"
      ],
      "metadata": {
        "id": "o8bux2TOjMTe"
      },
      "execution_count": null,
      "outputs": []
    },
    {
      "cell_type": "markdown",
      "metadata": {
        "id": "m2zUTiNMJa5n"
      },
      "source": [
        "## Pixels: The Foundations of Computer Vision"
      ]
    },
    {
      "cell_type": "markdown",
      "metadata": {
        "id": "d9rMcyXkJa5q"
      },
      "source": [
        "In order to understand what happens in a computer vision model, we first have to understand how computers handle images. We'll use one of the most famous datasets in computer vision, [MNIST](https://en.wikipedia.org/wiki/MNIST_database), for our experiments. MNIST contains images of handwritten digits, collected by the National Institute of Standards and Technology and collated into a machine learning dataset by Yann Lecun and his colleagues. Lecun used MNIST in <font size='+1' color='red' >1998</font> in [Lenet-5](http://yann.lecun.com/exdb/lenet/), the first computer system to demonstrate practically useful recognition of handwritten digit sequences. This was one of the most important breakthroughs in the history of AI."
      ]
    },
    {
      "cell_type": "markdown",
      "metadata": {
        "id": "G9-yRlkbJa5v"
      },
      "source": [
        "## Sidebar: Tenacity and Deep Learning"
      ]
    },
    {
      "cell_type": "markdown",
      "metadata": {
        "id": "Fw_E8CvKJa5z"
      },
      "source": [
        "The story of deep learning is one of tenacity and grit by a handful of dedicated researchers. After early hopes (and hype!) neural networks went out of favor in the 1990's and 2000's, and just a handful of researchers kept trying to make them work well. Three of them, Yann Lecun, Yoshua Bengio, and Geoffrey Hinton, were awarded the highest honor in computer science, the Turing Award (generally considered the \"Nobel Prize of computer science\"), in 2018 after triumphing despite the deep skepticism and disinterest of the wider machine learning and statistics community.\n",
        "\n",
        "Geoff Hinton has told of how even academic papers showing dramatically better results than anything previously published would be rejected by top journals and conferences, just because they used a <font color='red'>neural network.</font> Yann Lecun's work on convolutional neural networks, which we will study in the next section, showed that these models could read handwritten text—something that had never been achieved before. However, his breakthrough was ignored by most researchers, even as it was used commercially to read 10% of the checks in the US!\n",
        "\n",
        "In addition to these three Turing Award winners, there are many other researchers who have battled to get us to where we are today. For instance, Jurgen Schmidhuber (who many believe should have shared in the Turing Award) pioneered many important ideas, including working with his student Sepp Hochreiter on the long short-term memory (LSTM) architecture (widely used for speech recognition and other text modeling tasks, and used in the IMDb example in <font color='green'>chapter_intro</font>. Perhaps most important of all, Paul Werbos in 1974 invented back-propagation for neural networks, the technique shown in this chapter and used universally for training neural networks ([Werbos 1994](https://books.google.com/books/about/The_Roots_of_Backpropagation.html?id=WdR3OOM2gBwC)). His development was almost entirely ignored for decades, but today it is considered the most important foundation of modern AI.\n",
        "\n",
        "There is a lesson here for all of us! On your deep learning journey you will face many obstacles, both technical, and (even more difficult) posed by people around you who don't believe you'll be successful. There's one *guaranteed* way to fail, and that's to stop trying. We've seen that the only consistent trait amongst every fast.ai student that's gone on to be a world-class practitioner is that they are all very tenacious."
      ]
    },
    {
      "cell_type": "markdown",
      "metadata": {
        "id": "Njrz4C2GJa53"
      },
      "source": [
        "## End sidebar"
      ]
    },
    {
      "cell_type": "markdown",
      "metadata": {
        "id": "75IuhOLVJa56"
      },
      "source": [
        "For this initial tutorial we are just going to try to create a model that can classify any image as a 3 or a 7. So let's download a sample of MNIST that contains images of just these digits:"
      ]
    },
    {
      "cell_type": "code",
      "execution_count": null,
      "metadata": {
        "id": "rBuU2S_RJa59"
      },
      "outputs": [],
      "source": [
        "path = untar_data(URLs.MNIST_SAMPLE)"
      ]
    },
    {
      "cell_type": "code",
      "execution_count": null,
      "metadata": {
        "id": "_3WUDGYaJa5_"
      },
      "outputs": [],
      "source": [
        "#hide\n",
        "Path.BASE_PATH = path"
      ]
    },
    {
      "cell_type": "markdown",
      "metadata": {
        "id": "LQqU8D-BJa6B"
      },
      "source": [
        "We can see what's in this directory by using `ls`, a method added by fastai. This method returns an object of a special fastai class called `L`, which has all the same functionality of Python's built-in `list`, plus a lot more. One of its handy features is that, when printed, it displays the count of items, before listing the items themselves (if there are more than 10 items, it just shows the first few):"
      ]
    },
    {
      "cell_type": "code",
      "execution_count": null,
      "metadata": {
        "id": "LSoBrZH3Ja6D",
        "outputId": "3c600287-d074-4db7-eda2-c122bd52168c",
        "colab": {
          "base_uri": "https://localhost:8080/"
        }
      },
      "outputs": [
        {
          "output_type": "execute_result",
          "data": {
            "text/plain": [
              "(#3) [Path('train'),Path('valid'),Path('labels.csv')]"
            ]
          },
          "metadata": {},
          "execution_count": 19
        }
      ],
      "source": [
        "path.ls()"
      ]
    },
    {
      "cell_type": "markdown",
      "metadata": {
        "id": "-cOirtAFJa6I"
      },
      "source": [
        "The MNIST dataset follows a common layout for machine learning datasets: separate folders for the training set and the validation set (and/or test set). Let's see what's inside the training set:"
      ]
    },
    {
      "cell_type": "code",
      "execution_count": null,
      "metadata": {
        "id": "C_rghtBuJa6J",
        "outputId": "602fd56e-8fc1-4452-c8e0-783868069a79",
        "colab": {
          "base_uri": "https://localhost:8080/"
        }
      },
      "outputs": [
        {
          "output_type": "execute_result",
          "data": {
            "text/plain": [
              "(#2) [Path('train/3'),Path('train/7')]"
            ]
          },
          "metadata": {},
          "execution_count": 7
        }
      ],
      "source": [
        "(path/'train').ls()"
      ]
    },
    {
      "cell_type": "code",
      "execution_count": null,
      "metadata": {
        "colab": {
          "base_uri": "https://localhost:8080/"
        },
        "id": "hRdQjC1UGGQl",
        "outputId": "f04eadc4-169a-4367-f6b8-c8c7d35f1b64"
      },
      "outputs": [
        {
          "output_type": "execute_result",
          "data": {
            "text/plain": [
              "(#2) [Path('valid/3'),Path('valid/7')]"
            ]
          },
          "metadata": {},
          "execution_count": 8
        }
      ],
      "source": [
        "(path/'valid').ls()"
      ]
    },
    {
      "cell_type": "markdown",
      "metadata": {
        "id": "RgCFNiQQJa6M"
      },
      "source": [
        "There's a folder of 3s, and a folder of 7s. In machine learning parlance, we say that \"3\" and \"7\" are the *labels* (or targets) in this dataset. Let's take a look in one of these folders (using `sorted` to ensure we all get the same order of files):"
      ]
    },
    {
      "cell_type": "code",
      "execution_count": null,
      "metadata": {
        "colab": {
          "base_uri": "https://localhost:8080/"
        },
        "id": "xf9uA7YwJa6O",
        "outputId": "0cb32a77-9ba6-43bb-8240-42f3e30811c7"
      },
      "outputs": [
        {
          "output_type": "execute_result",
          "data": {
            "text/plain": [
              "(#6131) [Path('/root/.fastai/data/mnist_sample/train/3/10.png'),Path('/root/.fastai/data/mnist_sample/train/3/10000.png'),Path('/root/.fastai/data/mnist_sample/train/3/10011.png'),Path('/root/.fastai/data/mnist_sample/train/3/10031.png'),Path('/root/.fastai/data/mnist_sample/train/3/10034.png'),Path('/root/.fastai/data/mnist_sample/train/3/10042.png'),Path('/root/.fastai/data/mnist_sample/train/3/10052.png'),Path('/root/.fastai/data/mnist_sample/train/3/1007.png'),Path('/root/.fastai/data/mnist_sample/train/3/10074.png'),Path('/root/.fastai/data/mnist_sample/train/3/10091.png')...]"
            ]
          },
          "metadata": {},
          "execution_count": 3
        }
      ],
      "source": [
        "threes = (path/'train'/'3').ls().sorted()\n",
        "sevens = (path/'train'/'7').ls().sorted()\n",
        "threes"
      ]
    },
    {
      "cell_type": "markdown",
      "metadata": {
        "id": "Ypr5AfWQJa6Q"
      },
      "source": [
        "As we might expect, it's full of image files. Let’s take a look at one now. Here’s an image of a handwritten number 3, taken from the famous MNIST dataset of handwritten numbers:"
      ]
    },
    {
      "cell_type": "code",
      "execution_count": null,
      "metadata": {
        "colab": {
          "base_uri": "https://localhost:8080/",
          "height": 45
        },
        "id": "RfWEDQT1Ja6S",
        "outputId": "c040099f-cc91-448f-972b-d49dd6e0a727"
      },
      "outputs": [
        {
          "output_type": "execute_result",
          "data": {
            "text/plain": [
              "<PIL.PngImagePlugin.PngImageFile image mode=L size=28x28>"
            ],
            "image/png": "[encoded data removed]"
          },
          "metadata": {},
          "execution_count": 4
        }
      ],
      "source": [
        "im3_path = threes[1]\n",
        "im3 = Image.open(im3_path)\n",
        "im3"
      ]
    },
    {
      "cell_type": "code",
      "source": [
        "im3.shape"
      ],
      "metadata": {
        "colab": {
          "base_uri": "https://localhost:8080/"
        },
        "id": "5kdCxV1fGO_j",
        "outputId": "92b87fe6-bb17-4e18-b684-90a7891eb2ce"
      },
      "execution_count": null,
      "outputs": [
        {
          "output_type": "execute_result",
          "data": {
            "text/plain": [
              "(28, 28)"
            ]
          },
          "metadata": {},
          "execution_count": 11
        }
      ]
    },
    {
      "cell_type": "markdown",
      "metadata": {
        "id": "ohFQIAnVJa6U"
      },
      "source": [
        "Here we are using the `Image` class from the *Python Imaging Library* (PIL), which is the most widely used Python package for opening, manipulating, and viewing images. Jupyter knows about PIL images, so it displays the image for us automatically.\n",
        "\n",
        "In a computer, everything is represented as a number. To view the numbers that make up this image, we have to convert it to a *NumPy array* or a *PyTorch tensor*. For instance, here's what a section of the image looks like, converted to a NumPy array:"
      ]
    },
    {
      "cell_type": "code",
      "execution_count": null,
      "metadata": {
        "id": "KRcMb0tNJa6X",
        "outputId": "0cec9d50-5d2a-4479-feb0-173f1a106667"
      },
      "outputs": [
        {
          "data": {
            "text/plain": [
              "array([[  0,   0,   0,   0,   0,   0],\n",
              "       [  0,   0,   0,   0,   0,  29],\n",
              "       [  0,   0,   0,  48, 166, 224],\n",
              "       [  0,  93, 244, 249, 253, 187],\n",
              "       [  0, 107, 253, 253, 230,  48],\n",
              "       [  0,   3,  20,  20,  15,   0]], dtype=uint8)"
            ]
          },
          "execution_count": null,
          "metadata": {},
          "output_type": "execute_result"
        }
      ],
      "source": [
        "array(im3)[4:10,4:10]"
      ]
    },
    {
      "cell_type": "markdown",
      "metadata": {
        "id": "6aKI5R7cJa6Z"
      },
      "source": [
        "The `4:10` indicates we requested the rows from index 4 (included) to 10 (not included) and the same for the columns. NumPy indexes from top to bottom and left to right, so this section is located in the top-left corner of the image. Here's the same thing as a PyTorch tensor:"
      ]
    },
    {
      "cell_type": "code",
      "execution_count": null,
      "metadata": {
        "id": "YyolZ2m0Ja6b",
        "outputId": "cc2c79e8-40d0-4544-83ba-db25501cfd20"
      },
      "outputs": [
        {
          "data": {
            "text/plain": [
              "tensor([[  0,   0,   0,   0,   0,   0],\n",
              "        [  0,   0,   0,   0,   0,  29],\n",
              "        [  0,   0,   0,  48, 166, 224],\n",
              "        [  0,  93, 244, 249, 253, 187],\n",
              "        [  0, 107, 253, 253, 230,  48],\n",
              "        [  0,   3,  20,  20,  15,   0]], dtype=torch.uint8)"
            ]
          },
          "execution_count": null,
          "metadata": {},
          "output_type": "execute_result"
        }
      ],
      "source": [
        "tensor(im3)[4:10,4:10]"
      ]
    },
    {
      "cell_type": "markdown",
      "metadata": {
        "id": "YhxaAxIxJa6d"
      },
      "source": [
        "We can slice the array to pick just the part with the top of the digit in it, and then use a Pandas DataFrame to color-code the values using a gradient, which shows us clearly how the image is created from the pixel values:"
      ]
    },
    {
      "cell_type": "code",
      "execution_count": null,
      "metadata": {
        "colab": {
          "base_uri": "https://localhost:8080/",
          "height": 394
        },
        "id": "iod-RGoeJa6f",
        "outputId": "d4a25aa5-fedf-4273-a513-25737d33551f"
      },
      "outputs": [
        {
          "output_type": "execute_result",
          "data": {
            "text/plain": [
              "<pandas.io.formats.style.Styler at 0x7e41bfe7f880>"
            ],
            "text/html": [
              "<style type=\"text/css\">\n",
              "#T_4c01a_row0_col0, #T_4c01a_row0_col1, #T_4c01a_row0_col2, #T_4c01a_row0_col3, #T_4c01a_row0_col4, #T_4c01a_row0_col5, #T_4c01a_row0_col6, #T_4c01a_row0_col7, #T_4c01a_row0_col8, #T_4c01a_row0_col9, #T_4c01a_row0_col10, #T_4c01a_row0_col11, #T_4c01a_row0_col12, #T_4c01a_row0_col13, #T_4c01a_row0_col14, #T_4c01a_row0_col15, #T_4c01a_row0_col16, #T_4c01a_row0_col17, #T_4c01a_row1_col0, #T_4c01a_row1_col1, #T_4c01a_row1_col2, #T_4c01a_row1_col3, #T_4c01a_row1_col4, #T_4c01a_row1_col15, #T_4c01a_row1_col16, #T_4c01a_row1_col17, #T_4c01a_row2_col0, #T_4c01a_row2_col1, #T_4c01a_row2_col2, #T_4c01a_row2_col15, #T_4c01a_row2_col16, #T_4c01a_row2_col17, #T_4c01a_row3_col0, #T_4c01a_row3_col15, #T_4c01a_row3_col16, #T_4c01a_row3_col17, #T_4c01a_row4_col0, #T_4c01a_row4_col6, #T_4c01a_row4_col7, #T_4c01a_row4_col8, #T_4c01a_row4_col9, #T_4c01a_row4_col10, #T_4c01a_row4_col15, #T_4c01a_row4_col16, #T_4c01a_row4_col17, #T_4c01a_row5_col0, #T_4c01a_row5_col5, #T_4c01a_row5_col6, #T_4c01a_row5_col7, #T_4c01a_row5_col8, #T_4c01a_row5_col9, #T_4c01a_row5_col15, #T_4c01a_row5_col16, #T_4c01a_row5_col17, #T_4c01a_row6_col0, #T_4c01a_row6_col1, #T_4c01a_row6_col2, #T_4c01a_row6_col3, #T_4c01a_row6_col4, #T_4c01a_row6_col5, #T_4c01a_row6_col6, #T_4c01a_row6_col7, #T_4c01a_row6_col8, #T_4c01a_row6_col9, #T_4c01a_row6_col14, #T_4c01a_row6_col15, #T_4c01a_row6_col16, #T_4c01a_row6_col17, #T_4c01a_row7_col0, #T_4c01a_row7_col1, #T_4c01a_row7_col2, #T_4c01a_row7_col3, #T_4c01a_row7_col4, #T_4c01a_row7_col5, #T_4c01a_row7_col6, #T_4c01a_row7_col13, #T_4c01a_row7_col14, #T_4c01a_row7_col15, #T_4c01a_row7_col16, #T_4c01a_row7_col17, #T_4c01a_row8_col0, #T_4c01a_row8_col1, #T_4c01a_row8_col2, #T_4c01a_row8_col3, #T_4c01a_row8_col4, #T_4c01a_row8_col13, #T_4c01a_row8_col14, #T_4c01a_row8_col15, #T_4c01a_row8_col16, #T_4c01a_row8_col17, #T_4c01a_row9_col0, #T_4c01a_row9_col1, #T_4c01a_row9_col2, #T_4c01a_row9_col3, #T_4c01a_row9_col4, #T_4c01a_row9_col16, #T_4c01a_row9_col17, #T_4c01a_row10_col0, #T_4c01a_row10_col1, #T_4c01a_row10_col2, #T_4c01a_row10_col3, #T_4c01a_row10_col4, #T_4c01a_row10_col5, #T_4c01a_row10_col6, #T_4c01a_row10_col17 {\n",
              "  font-size: 8;\n",
              "  background-color: #ffffff;\n",
              "  color: #000000;\n",
              "}\n",
              "#T_4c01a_row1_col5 {\n",
              "  font-size: 8;\n",
              "  background-color: #efefef;\n",
              "  color: #000000;\n",
              "}\n",
              "#T_4c01a_row1_col6, #T_4c01a_row1_col13 {\n",
              "  font-size: 8;\n",
              "  background-color: #7c7c7c;\n",
              "  color: #f1f1f1;\n",
              "}\n",
              "#T_4c01a_row1_col7 {\n",
              "  font-size: 8;\n",
              "  background-color: #4a4a4a;\n",
              "  color: #f1f1f1;\n",
              "}\n",
              "#T_4c01a_row1_col8, #T_4c01a_row1_col9, #T_4c01a_row1_col10, #T_4c01a_row2_col5, #T_4c01a_row2_col6, #T_4c01a_row2_col7, #T_4c01a_row2_col11, #T_4c01a_row2_col12, #T_4c01a_row2_col13, #T_4c01a_row3_col4, #T_4c01a_row3_col12, #T_4c01a_row3_col13, #T_4c01a_row4_col1, #T_4c01a_row4_col2, #T_4c01a_row4_col3, #T_4c01a_row4_col12, #T_4c01a_row4_col13, #T_4c01a_row5_col12, #T_4c01a_row6_col11, #T_4c01a_row9_col11, #T_4c01a_row10_col11, #T_4c01a_row10_col12, #T_4c01a_row10_col13, #T_4c01a_row10_col14, #T_4c01a_row10_col15, #T_4c01a_row10_col16 {\n",
              "  font-size: 8;\n",
              "  background-color: #000000;\n",
              "  color: #f1f1f1;\n",
              "}\n",
              "#T_4c01a_row1_col11 {\n",
              "  font-size: 8;\n",
              "  background-color: #606060;\n",
              "  color: #f1f1f1;\n",
              "}\n",
              "#T_4c01a_row1_col12 {\n",
              "  font-size: 8;\n",
              "  background-color: #4d4d4d;\n",
              "  color: #f1f1f1;\n",
              "}\n",
              "#T_4c01a_row1_col14 {\n",
              "  font-size: 8;\n",
              "  background-color: #bbbbbb;\n",
              "  color: #000000;\n",
              "}\n",
              "#T_4c01a_row2_col3 {\n",
              "  font-size: 8;\n",
              "  background-color: #e4e4e4;\n",
              "  color: #000000;\n",
              "}\n",
              "#T_4c01a_row2_col4, #T_4c01a_row8_col6 {\n",
              "  font-size: 8;\n",
              "  background-color: #6b6b6b;\n",
              "  color: #f1f1f1;\n",
              "}\n",
              "#T_4c01a_row2_col8, #T_4c01a_row2_col14, #T_4c01a_row3_col14 {\n",
              "  font-size: 8;\n",
              "  background-color: #171717;\n",
              "  color: #f1f1f1;\n",
              "}\n",
              "#T_4c01a_row2_col9, #T_4c01a_row3_col11 {\n",
              "  font-size: 8;\n",
              "  background-color: #4b4b4b;\n",
              "  color: #f1f1f1;\n",
              "}\n",
              "#T_4c01a_row2_col10, #T_4c01a_row7_col10, #T_4c01a_row8_col8, #T_4c01a_row8_col10, #T_4c01a_row9_col8, #T_4c01a_row9_col10 {\n",
              "  font-size: 8;\n",
              "  background-color: #010101;\n",
              "  color: #f1f1f1;\n",
              "}\n",
              "#T_4c01a_row3_col1 {\n",
              "  font-size: 8;\n",
              "  background-color: #272727;\n",
              "  color: #f1f1f1;\n",
              "}\n",
              "#T_4c01a_row3_col2 {\n",
              "  font-size: 8;\n",
              "  background-color: #0a0a0a;\n",
              "  color: #f1f1f1;\n",
              "}\n",
              "#T_4c01a_row3_col3 {\n",
              "  font-size: 8;\n",
              "  background-color: #050505;\n",
              "  color: #f1f1f1;\n",
              "}\n",
              "#T_4c01a_row3_col5 {\n",
              "  font-size: 8;\n",
              "  background-color: #333333;\n",
              "  color: #f1f1f1;\n",
              "}\n",
              "#T_4c01a_row3_col6 {\n",
              "  font-size: 8;\n",
              "  background-color: #e6e6e6;\n",
              "  color: #000000;\n",
              "}\n",
              "#T_4c01a_row3_col7, #T_4c01a_row3_col10 {\n",
              "  font-size: 8;\n",
              "  background-color: #fafafa;\n",
              "  color: #000000;\n",
              "}\n",
              "#T_4c01a_row3_col8 {\n",
              "  font-size: 8;\n",
              "  background-color: #fbfbfb;\n",
              "  color: #000000;\n",
              "}\n",
              "#T_4c01a_row3_col9 {\n",
              "  font-size: 8;\n",
              "  background-color: #fdfdfd;\n",
              "  color: #000000;\n",
              "}\n",
              "#T_4c01a_row4_col4 {\n",
              "  font-size: 8;\n",
              "  background-color: #1b1b1b;\n",
              "  color: #f1f1f1;\n",
              "}\n",
              "#T_4c01a_row4_col5 {\n",
              "  font-size: 8;\n",
              "  background-color: #e0e0e0;\n",
              "  color: #000000;\n",
              "}\n",
              "#T_4c01a_row4_col11 {\n",
              "  font-size: 8;\n",
              "  background-color: #4e4e4e;\n",
              "  color: #f1f1f1;\n",
              "}\n",
              "#T_4c01a_row4_col14 {\n",
              "  font-size: 8;\n",
              "  background-color: #767676;\n",
              "  color: #f1f1f1;\n",
              "}\n",
              "#T_4c01a_row5_col1 {\n",
              "  font-size: 8;\n",
              "  background-color: #fcfcfc;\n",
              "  color: #000000;\n",
              "}\n",
              "#T_4c01a_row5_col2, #T_4c01a_row5_col3 {\n",
              "  font-size: 8;\n",
              "  background-color: #f6f6f6;\n",
              "  color: #000000;\n",
              "}\n",
              "#T_4c01a_row5_col4, #T_4c01a_row7_col7 {\n",
              "  font-size: 8;\n",
              "  background-color: #f8f8f8;\n",
              "  color: #000000;\n",
              "}\n",
              "#T_4c01a_row5_col10, #T_4c01a_row10_col7 {\n",
              "  font-size: 8;\n",
              "  background-color: #e8e8e8;\n",
              "  color: #000000;\n",
              "}\n",
              "#T_4c01a_row5_col11 {\n",
              "  font-size: 8;\n",
              "  background-color: #222222;\n",
              "  color: #f1f1f1;\n",
              "}\n",
              "#T_4c01a_row5_col13, #T_4c01a_row6_col12 {\n",
              "  font-size: 8;\n",
              "  background-color: #090909;\n",
              "  color: #f1f1f1;\n",
              "}\n",
              "#T_4c01a_row5_col14 {\n",
              "  font-size: 8;\n",
              "  background-color: #d0d0d0;\n",
              "  color: #000000;\n",
              "}\n",
              "#T_4c01a_row6_col10, #T_4c01a_row7_col11, #T_4c01a_row9_col6 {\n",
              "  font-size: 8;\n",
              "  background-color: #060606;\n",
              "  color: #f1f1f1;\n",
              "}\n",
              "#T_4c01a_row6_col13 {\n",
              "  font-size: 8;\n",
              "  background-color: #979797;\n",
              "  color: #f1f1f1;\n",
              "}\n",
              "#T_4c01a_row7_col8 {\n",
              "  font-size: 8;\n",
              "  background-color: #b6b6b6;\n",
              "  color: #000000;\n",
              "}\n",
              "#T_4c01a_row7_col9 {\n",
              "  font-size: 8;\n",
              "  background-color: #252525;\n",
              "  color: #f1f1f1;\n",
              "}\n",
              "#T_4c01a_row7_col12 {\n",
              "  font-size: 8;\n",
              "  background-color: #999999;\n",
              "  color: #f1f1f1;\n",
              "}\n",
              "#T_4c01a_row8_col5 {\n",
              "  font-size: 8;\n",
              "  background-color: #f9f9f9;\n",
              "  color: #000000;\n",
              "}\n",
              "#T_4c01a_row8_col7 {\n",
              "  font-size: 8;\n",
              "  background-color: #101010;\n",
              "  color: #f1f1f1;\n",
              "}\n",
              "#T_4c01a_row8_col9, #T_4c01a_row9_col9 {\n",
              "  font-size: 8;\n",
              "  background-color: #020202;\n",
              "  color: #f1f1f1;\n",
              "}\n",
              "#T_4c01a_row8_col11 {\n",
              "  font-size: 8;\n",
              "  background-color: #545454;\n",
              "  color: #f1f1f1;\n",
              "}\n",
              "#T_4c01a_row8_col12 {\n",
              "  font-size: 8;\n",
              "  background-color: #f1f1f1;\n",
              "  color: #000000;\n",
              "}\n",
              "#T_4c01a_row9_col5 {\n",
              "  font-size: 8;\n",
              "  background-color: #f7f7f7;\n",
              "  color: #000000;\n",
              "}\n",
              "#T_4c01a_row9_col7 {\n",
              "  font-size: 8;\n",
              "  background-color: #030303;\n",
              "  color: #f1f1f1;\n",
              "}\n",
              "#T_4c01a_row9_col12 {\n",
              "  font-size: 8;\n",
              "  background-color: #181818;\n",
              "  color: #f1f1f1;\n",
              "}\n",
              "#T_4c01a_row9_col13 {\n",
              "  font-size: 8;\n",
              "  background-color: #303030;\n",
              "  color: #f1f1f1;\n",
              "}\n",
              "#T_4c01a_row9_col14 {\n",
              "  font-size: 8;\n",
              "  background-color: #a9a9a9;\n",
              "  color: #f1f1f1;\n",
              "}\n",
              "#T_4c01a_row9_col15 {\n",
              "  font-size: 8;\n",
              "  background-color: #fefefe;\n",
              "  color: #000000;\n",
              "}\n",
              "#T_4c01a_row10_col8, #T_4c01a_row10_col9 {\n",
              "  font-size: 8;\n",
              "  background-color: #bababa;\n",
              "  color: #000000;\n",
              "}\n",
              "#T_4c01a_row10_col10 {\n",
              "  font-size: 8;\n",
              "  background-color: #393939;\n",
              "  color: #f1f1f1;\n",
              "}\n",
              "</style>\n",
              "<table id=\"T_4c01a\" class=\"dataframe\">\n",
              "  <thead>\n",
              "    <tr>\n",
              "      <th class=\"blank level0\" >&nbsp;</th>\n",
              "      <th id=\"T_4c01a_level0_col0\" class=\"col_heading level0 col0\" >0</th>\n",
              "      <th id=\"T_4c01a_level0_col1\" class=\"col_heading level0 col1\" >1</th>\n",
              "      <th id=\"T_4c01a_level0_col2\" class=\"col_heading level0 col2\" >2</th>\n",
              "      <th id=\"T_4c01a_level0_col3\" class=\"col_heading level0 col3\" >3</th>\n",
              "      <th id=\"T_4c01a_level0_col4\" class=\"col_heading level0 col4\" >4</th>\n",
              "      <th id=\"T_4c01a_level0_col5\" class=\"col_heading level0 col5\" >5</th>\n",
              "      <th id=\"T_4c01a_level0_col6\" class=\"col_heading level0 col6\" >6</th>\n",
              "      <th id=\"T_4c01a_level0_col7\" class=\"col_heading level0 col7\" >7</th>\n",
              "      <th id=\"T_4c01a_level0_col8\" class=\"col_heading level0 col8\" >8</th>\n",
              "      <th id=\"T_4c01a_level0_col9\" class=\"col_heading level0 col9\" >9</th>\n",
              "      <th id=\"T_4c01a_level0_col10\" class=\"col_heading level0 col10\" >10</th>\n",
              "      <th id=\"T_4c01a_level0_col11\" class=\"col_heading level0 col11\" >11</th>\n",
              "      <th id=\"T_4c01a_level0_col12\" class=\"col_heading level0 col12\" >12</th>\n",
              "      <th id=\"T_4c01a_level0_col13\" class=\"col_heading level0 col13\" >13</th>\n",
              "      <th id=\"T_4c01a_level0_col14\" class=\"col_heading level0 col14\" >14</th>\n",
              "      <th id=\"T_4c01a_level0_col15\" class=\"col_heading level0 col15\" >15</th>\n",
              "      <th id=\"T_4c01a_level0_col16\" class=\"col_heading level0 col16\" >16</th>\n",
              "      <th id=\"T_4c01a_level0_col17\" class=\"col_heading level0 col17\" >17</th>\n",
              "    </tr>\n",
              "  </thead>\n",
              "  <tbody>\n",
              "    <tr>\n",
              "      <th id=\"T_4c01a_level0_row0\" class=\"row_heading level0 row0\" >0</th>\n",
              "      <td id=\"T_4c01a_row0_col0\" class=\"data row0 col0\" >0</td>\n",
              "      <td id=\"T_4c01a_row0_col1\" class=\"data row0 col1\" >0</td>\n",
              "      <td id=\"T_4c01a_row0_col2\" class=\"data row0 col2\" >0</td>\n",
              "      <td id=\"T_4c01a_row0_col3\" class=\"data row0 col3\" >0</td>\n",
              "      <td id=\"T_4c01a_row0_col4\" class=\"data row0 col4\" >0</td>\n",
              "      <td id=\"T_4c01a_row0_col5\" class=\"data row0 col5\" >0</td>\n",
              "      <td id=\"T_4c01a_row0_col6\" class=\"data row0 col6\" >0</td>\n",
              "      <td id=\"T_4c01a_row0_col7\" class=\"data row0 col7\" >0</td>\n",
              "      <td id=\"T_4c01a_row0_col8\" class=\"data row0 col8\" >0</td>\n",
              "      <td id=\"T_4c01a_row0_col9\" class=\"data row0 col9\" >0</td>\n",
              "      <td id=\"T_4c01a_row0_col10\" class=\"data row0 col10\" >0</td>\n",
              "      <td id=\"T_4c01a_row0_col11\" class=\"data row0 col11\" >0</td>\n",
              "      <td id=\"T_4c01a_row0_col12\" class=\"data row0 col12\" >0</td>\n",
              "      <td id=\"T_4c01a_row0_col13\" class=\"data row0 col13\" >0</td>\n",
              "      <td id=\"T_4c01a_row0_col14\" class=\"data row0 col14\" >0</td>\n",
              "      <td id=\"T_4c01a_row0_col15\" class=\"data row0 col15\" >0</td>\n",
              "      <td id=\"T_4c01a_row0_col16\" class=\"data row0 col16\" >0</td>\n",
              "      <td id=\"T_4c01a_row0_col17\" class=\"data row0 col17\" >0</td>\n",
              "    </tr>\n",
              "    <tr>\n",
              "      <th id=\"T_4c01a_level0_row1\" class=\"row_heading level0 row1\" >1</th>\n",
              "      <td id=\"T_4c01a_row1_col0\" class=\"data row1 col0\" >0</td>\n",
              "      <td id=\"T_4c01a_row1_col1\" class=\"data row1 col1\" >0</td>\n",
              "      <td id=\"T_4c01a_row1_col2\" class=\"data row1 col2\" >0</td>\n",
              "      <td id=\"T_4c01a_row1_col3\" class=\"data row1 col3\" >0</td>\n",
              "      <td id=\"T_4c01a_row1_col4\" class=\"data row1 col4\" >0</td>\n",
              "      <td id=\"T_4c01a_row1_col5\" class=\"data row1 col5\" >29</td>\n",
              "      <td id=\"T_4c01a_row1_col6\" class=\"data row1 col6\" >150</td>\n",
              "      <td id=\"T_4c01a_row1_col7\" class=\"data row1 col7\" >195</td>\n",
              "      <td id=\"T_4c01a_row1_col8\" class=\"data row1 col8\" >254</td>\n",
              "      <td id=\"T_4c01a_row1_col9\" class=\"data row1 col9\" >255</td>\n",
              "      <td id=\"T_4c01a_row1_col10\" class=\"data row1 col10\" >254</td>\n",
              "      <td id=\"T_4c01a_row1_col11\" class=\"data row1 col11\" >176</td>\n",
              "      <td id=\"T_4c01a_row1_col12\" class=\"data row1 col12\" >193</td>\n",
              "      <td id=\"T_4c01a_row1_col13\" class=\"data row1 col13\" >150</td>\n",
              "      <td id=\"T_4c01a_row1_col14\" class=\"data row1 col14\" >96</td>\n",
              "      <td id=\"T_4c01a_row1_col15\" class=\"data row1 col15\" >0</td>\n",
              "      <td id=\"T_4c01a_row1_col16\" class=\"data row1 col16\" >0</td>\n",
              "      <td id=\"T_4c01a_row1_col17\" class=\"data row1 col17\" >0</td>\n",
              "    </tr>\n",
              "    <tr>\n",
              "      <th id=\"T_4c01a_level0_row2\" class=\"row_heading level0 row2\" >2</th>\n",
              "      <td id=\"T_4c01a_row2_col0\" class=\"data row2 col0\" >0</td>\n",
              "      <td id=\"T_4c01a_row2_col1\" class=\"data row2 col1\" >0</td>\n",
              "      <td id=\"T_4c01a_row2_col2\" class=\"data row2 col2\" >0</td>\n",
              "      <td id=\"T_4c01a_row2_col3\" class=\"data row2 col3\" >48</td>\n",
              "      <td id=\"T_4c01a_row2_col4\" class=\"data row2 col4\" >166</td>\n",
              "      <td id=\"T_4c01a_row2_col5\" class=\"data row2 col5\" >224</td>\n",
              "      <td id=\"T_4c01a_row2_col6\" class=\"data row2 col6\" >253</td>\n",
              "      <td id=\"T_4c01a_row2_col7\" class=\"data row2 col7\" >253</td>\n",
              "      <td id=\"T_4c01a_row2_col8\" class=\"data row2 col8\" >234</td>\n",
              "      <td id=\"T_4c01a_row2_col9\" class=\"data row2 col9\" >196</td>\n",
              "      <td id=\"T_4c01a_row2_col10\" class=\"data row2 col10\" >253</td>\n",
              "      <td id=\"T_4c01a_row2_col11\" class=\"data row2 col11\" >253</td>\n",
              "      <td id=\"T_4c01a_row2_col12\" class=\"data row2 col12\" >253</td>\n",
              "      <td id=\"T_4c01a_row2_col13\" class=\"data row2 col13\" >253</td>\n",
              "      <td id=\"T_4c01a_row2_col14\" class=\"data row2 col14\" >233</td>\n",
              "      <td id=\"T_4c01a_row2_col15\" class=\"data row2 col15\" >0</td>\n",
              "      <td id=\"T_4c01a_row2_col16\" class=\"data row2 col16\" >0</td>\n",
              "      <td id=\"T_4c01a_row2_col17\" class=\"data row2 col17\" >0</td>\n",
              "    </tr>\n",
              "    <tr>\n",
              "      <th id=\"T_4c01a_level0_row3\" class=\"row_heading level0 row3\" >3</th>\n",
              "      <td id=\"T_4c01a_row3_col0\" class=\"data row3 col0\" >0</td>\n",
              "      <td id=\"T_4c01a_row3_col1\" class=\"data row3 col1\" >93</td>\n",
              "      <td id=\"T_4c01a_row3_col2\" class=\"data row3 col2\" >244</td>\n",
              "      <td id=\"T_4c01a_row3_col3\" class=\"data row3 col3\" >249</td>\n",
              "      <td id=\"T_4c01a_row3_col4\" class=\"data row3 col4\" >253</td>\n",
              "      <td id=\"T_4c01a_row3_col5\" class=\"data row3 col5\" >187</td>\n",
              "      <td id=\"T_4c01a_row3_col6\" class=\"data row3 col6\" >46</td>\n",
              "      <td id=\"T_4c01a_row3_col7\" class=\"data row3 col7\" >10</td>\n",
              "      <td id=\"T_4c01a_row3_col8\" class=\"data row3 col8\" >8</td>\n",
              "      <td id=\"T_4c01a_row3_col9\" class=\"data row3 col9\" >4</td>\n",
              "      <td id=\"T_4c01a_row3_col10\" class=\"data row3 col10\" >10</td>\n",
              "      <td id=\"T_4c01a_row3_col11\" class=\"data row3 col11\" >194</td>\n",
              "      <td id=\"T_4c01a_row3_col12\" class=\"data row3 col12\" >253</td>\n",
              "      <td id=\"T_4c01a_row3_col13\" class=\"data row3 col13\" >253</td>\n",
              "      <td id=\"T_4c01a_row3_col14\" class=\"data row3 col14\" >233</td>\n",
              "      <td id=\"T_4c01a_row3_col15\" class=\"data row3 col15\" >0</td>\n",
              "      <td id=\"T_4c01a_row3_col16\" class=\"data row3 col16\" >0</td>\n",
              "      <td id=\"T_4c01a_row3_col17\" class=\"data row3 col17\" >0</td>\n",
              "    </tr>\n",
              "    <tr>\n",
              "      <th id=\"T_4c01a_level0_row4\" class=\"row_heading level0 row4\" >4</th>\n",
              "      <td id=\"T_4c01a_row4_col0\" class=\"data row4 col0\" >0</td>\n",
              "      <td id=\"T_4c01a_row4_col1\" class=\"data row4 col1\" >107</td>\n",
              "      <td id=\"T_4c01a_row4_col2\" class=\"data row4 col2\" >253</td>\n",
              "      <td id=\"T_4c01a_row4_col3\" class=\"data row4 col3\" >253</td>\n",
              "      <td id=\"T_4c01a_row4_col4\" class=\"data row4 col4\" >230</td>\n",
              "      <td id=\"T_4c01a_row4_col5\" class=\"data row4 col5\" >48</td>\n",
              "      <td id=\"T_4c01a_row4_col6\" class=\"data row4 col6\" >0</td>\n",
              "      <td id=\"T_4c01a_row4_col7\" class=\"data row4 col7\" >0</td>\n",
              "      <td id=\"T_4c01a_row4_col8\" class=\"data row4 col8\" >0</td>\n",
              "      <td id=\"T_4c01a_row4_col9\" class=\"data row4 col9\" >0</td>\n",
              "      <td id=\"T_4c01a_row4_col10\" class=\"data row4 col10\" >0</td>\n",
              "      <td id=\"T_4c01a_row4_col11\" class=\"data row4 col11\" >192</td>\n",
              "      <td id=\"T_4c01a_row4_col12\" class=\"data row4 col12\" >253</td>\n",
              "      <td id=\"T_4c01a_row4_col13\" class=\"data row4 col13\" >253</td>\n",
              "      <td id=\"T_4c01a_row4_col14\" class=\"data row4 col14\" >156</td>\n",
              "      <td id=\"T_4c01a_row4_col15\" class=\"data row4 col15\" >0</td>\n",
              "      <td id=\"T_4c01a_row4_col16\" class=\"data row4 col16\" >0</td>\n",
              "      <td id=\"T_4c01a_row4_col17\" class=\"data row4 col17\" >0</td>\n",
              "    </tr>\n",
              "    <tr>\n",
              "      <th id=\"T_4c01a_level0_row5\" class=\"row_heading level0 row5\" >5</th>\n",
              "      <td id=\"T_4c01a_row5_col0\" class=\"data row5 col0\" >0</td>\n",
              "      <td id=\"T_4c01a_row5_col1\" class=\"data row5 col1\" >3</td>\n",
              "      <td id=\"T_4c01a_row5_col2\" class=\"data row5 col2\" >20</td>\n",
              "      <td id=\"T_4c01a_row5_col3\" class=\"data row5 col3\" >20</td>\n",
              "      <td id=\"T_4c01a_row5_col4\" class=\"data row5 col4\" >15</td>\n",
              "      <td id=\"T_4c01a_row5_col5\" class=\"data row5 col5\" >0</td>\n",
              "      <td id=\"T_4c01a_row5_col6\" class=\"data row5 col6\" >0</td>\n",
              "      <td id=\"T_4c01a_row5_col7\" class=\"data row5 col7\" >0</td>\n",
              "      <td id=\"T_4c01a_row5_col8\" class=\"data row5 col8\" >0</td>\n",
              "      <td id=\"T_4c01a_row5_col9\" class=\"data row5 col9\" >0</td>\n",
              "      <td id=\"T_4c01a_row5_col10\" class=\"data row5 col10\" >43</td>\n",
              "      <td id=\"T_4c01a_row5_col11\" class=\"data row5 col11\" >224</td>\n",
              "      <td id=\"T_4c01a_row5_col12\" class=\"data row5 col12\" >253</td>\n",
              "      <td id=\"T_4c01a_row5_col13\" class=\"data row5 col13\" >245</td>\n",
              "      <td id=\"T_4c01a_row5_col14\" class=\"data row5 col14\" >74</td>\n",
              "      <td id=\"T_4c01a_row5_col15\" class=\"data row5 col15\" >0</td>\n",
              "      <td id=\"T_4c01a_row5_col16\" class=\"data row5 col16\" >0</td>\n",
              "      <td id=\"T_4c01a_row5_col17\" class=\"data row5 col17\" >0</td>\n",
              "    </tr>\n",
              "    <tr>\n",
              "      <th id=\"T_4c01a_level0_row6\" class=\"row_heading level0 row6\" >6</th>\n",
              "      <td id=\"T_4c01a_row6_col0\" class=\"data row6 col0\" >0</td>\n",
              "      <td id=\"T_4c01a_row6_col1\" class=\"data row6 col1\" >0</td>\n",
              "      <td id=\"T_4c01a_row6_col2\" class=\"data row6 col2\" >0</td>\n",
              "      <td id=\"T_4c01a_row6_col3\" class=\"data row6 col3\" >0</td>\n",
              "      <td id=\"T_4c01a_row6_col4\" class=\"data row6 col4\" >0</td>\n",
              "      <td id=\"T_4c01a_row6_col5\" class=\"data row6 col5\" >0</td>\n",
              "      <td id=\"T_4c01a_row6_col6\" class=\"data row6 col6\" >0</td>\n",
              "      <td id=\"T_4c01a_row6_col7\" class=\"data row6 col7\" >0</td>\n",
              "      <td id=\"T_4c01a_row6_col8\" class=\"data row6 col8\" >0</td>\n",
              "      <td id=\"T_4c01a_row6_col9\" class=\"data row6 col9\" >0</td>\n",
              "      <td id=\"T_4c01a_row6_col10\" class=\"data row6 col10\" >249</td>\n",
              "      <td id=\"T_4c01a_row6_col11\" class=\"data row6 col11\" >253</td>\n",
              "      <td id=\"T_4c01a_row6_col12\" class=\"data row6 col12\" >245</td>\n",
              "      <td id=\"T_4c01a_row6_col13\" class=\"data row6 col13\" >126</td>\n",
              "      <td id=\"T_4c01a_row6_col14\" class=\"data row6 col14\" >0</td>\n",
              "      <td id=\"T_4c01a_row6_col15\" class=\"data row6 col15\" >0</td>\n",
              "      <td id=\"T_4c01a_row6_col16\" class=\"data row6 col16\" >0</td>\n",
              "      <td id=\"T_4c01a_row6_col17\" class=\"data row6 col17\" >0</td>\n",
              "    </tr>\n",
              "    <tr>\n",
              "      <th id=\"T_4c01a_level0_row7\" class=\"row_heading level0 row7\" >7</th>\n",
              "      <td id=\"T_4c01a_row7_col0\" class=\"data row7 col0\" >0</td>\n",
              "      <td id=\"T_4c01a_row7_col1\" class=\"data row7 col1\" >0</td>\n",
              "      <td id=\"T_4c01a_row7_col2\" class=\"data row7 col2\" >0</td>\n",
              "      <td id=\"T_4c01a_row7_col3\" class=\"data row7 col3\" >0</td>\n",
              "      <td id=\"T_4c01a_row7_col4\" class=\"data row7 col4\" >0</td>\n",
              "      <td id=\"T_4c01a_row7_col5\" class=\"data row7 col5\" >0</td>\n",
              "      <td id=\"T_4c01a_row7_col6\" class=\"data row7 col6\" >0</td>\n",
              "      <td id=\"T_4c01a_row7_col7\" class=\"data row7 col7\" >14</td>\n",
              "      <td id=\"T_4c01a_row7_col8\" class=\"data row7 col8\" >101</td>\n",
              "      <td id=\"T_4c01a_row7_col9\" class=\"data row7 col9\" >223</td>\n",
              "      <td id=\"T_4c01a_row7_col10\" class=\"data row7 col10\" >253</td>\n",
              "      <td id=\"T_4c01a_row7_col11\" class=\"data row7 col11\" >248</td>\n",
              "      <td id=\"T_4c01a_row7_col12\" class=\"data row7 col12\" >124</td>\n",
              "      <td id=\"T_4c01a_row7_col13\" class=\"data row7 col13\" >0</td>\n",
              "      <td id=\"T_4c01a_row7_col14\" class=\"data row7 col14\" >0</td>\n",
              "      <td id=\"T_4c01a_row7_col15\" class=\"data row7 col15\" >0</td>\n",
              "      <td id=\"T_4c01a_row7_col16\" class=\"data row7 col16\" >0</td>\n",
              "      <td id=\"T_4c01a_row7_col17\" class=\"data row7 col17\" >0</td>\n",
              "    </tr>\n",
              "    <tr>\n",
              "      <th id=\"T_4c01a_level0_row8\" class=\"row_heading level0 row8\" >8</th>\n",
              "      <td id=\"T_4c01a_row8_col0\" class=\"data row8 col0\" >0</td>\n",
              "      <td id=\"T_4c01a_row8_col1\" class=\"data row8 col1\" >0</td>\n",
              "      <td id=\"T_4c01a_row8_col2\" class=\"data row8 col2\" >0</td>\n",
              "      <td id=\"T_4c01a_row8_col3\" class=\"data row8 col3\" >0</td>\n",
              "      <td id=\"T_4c01a_row8_col4\" class=\"data row8 col4\" >0</td>\n",
              "      <td id=\"T_4c01a_row8_col5\" class=\"data row8 col5\" >11</td>\n",
              "      <td id=\"T_4c01a_row8_col6\" class=\"data row8 col6\" >166</td>\n",
              "      <td id=\"T_4c01a_row8_col7\" class=\"data row8 col7\" >239</td>\n",
              "      <td id=\"T_4c01a_row8_col8\" class=\"data row8 col8\" >253</td>\n",
              "      <td id=\"T_4c01a_row8_col9\" class=\"data row8 col9\" >253</td>\n",
              "      <td id=\"T_4c01a_row8_col10\" class=\"data row8 col10\" >253</td>\n",
              "      <td id=\"T_4c01a_row8_col11\" class=\"data row8 col11\" >187</td>\n",
              "      <td id=\"T_4c01a_row8_col12\" class=\"data row8 col12\" >30</td>\n",
              "      <td id=\"T_4c01a_row8_col13\" class=\"data row8 col13\" >0</td>\n",
              "      <td id=\"T_4c01a_row8_col14\" class=\"data row8 col14\" >0</td>\n",
              "      <td id=\"T_4c01a_row8_col15\" class=\"data row8 col15\" >0</td>\n",
              "      <td id=\"T_4c01a_row8_col16\" class=\"data row8 col16\" >0</td>\n",
              "      <td id=\"T_4c01a_row8_col17\" class=\"data row8 col17\" >0</td>\n",
              "    </tr>\n",
              "    <tr>\n",
              "      <th id=\"T_4c01a_level0_row9\" class=\"row_heading level0 row9\" >9</th>\n",
              "      <td id=\"T_4c01a_row9_col0\" class=\"data row9 col0\" >0</td>\n",
              "      <td id=\"T_4c01a_row9_col1\" class=\"data row9 col1\" >0</td>\n",
              "      <td id=\"T_4c01a_row9_col2\" class=\"data row9 col2\" >0</td>\n",
              "      <td id=\"T_4c01a_row9_col3\" class=\"data row9 col3\" >0</td>\n",
              "      <td id=\"T_4c01a_row9_col4\" class=\"data row9 col4\" >0</td>\n",
              "      <td id=\"T_4c01a_row9_col5\" class=\"data row9 col5\" >16</td>\n",
              "      <td id=\"T_4c01a_row9_col6\" class=\"data row9 col6\" >248</td>\n",
              "      <td id=\"T_4c01a_row9_col7\" class=\"data row9 col7\" >250</td>\n",
              "      <td id=\"T_4c01a_row9_col8\" class=\"data row9 col8\" >253</td>\n",
              "      <td id=\"T_4c01a_row9_col9\" class=\"data row9 col9\" >253</td>\n",
              "      <td id=\"T_4c01a_row9_col10\" class=\"data row9 col10\" >253</td>\n",
              "      <td id=\"T_4c01a_row9_col11\" class=\"data row9 col11\" >253</td>\n",
              "      <td id=\"T_4c01a_row9_col12\" class=\"data row9 col12\" >232</td>\n",
              "      <td id=\"T_4c01a_row9_col13\" class=\"data row9 col13\" >213</td>\n",
              "      <td id=\"T_4c01a_row9_col14\" class=\"data row9 col14\" >111</td>\n",
              "      <td id=\"T_4c01a_row9_col15\" class=\"data row9 col15\" >2</td>\n",
              "      <td id=\"T_4c01a_row9_col16\" class=\"data row9 col16\" >0</td>\n",
              "      <td id=\"T_4c01a_row9_col17\" class=\"data row9 col17\" >0</td>\n",
              "    </tr>\n",
              "    <tr>\n",
              "      <th id=\"T_4c01a_level0_row10\" class=\"row_heading level0 row10\" >10</th>\n",
              "      <td id=\"T_4c01a_row10_col0\" class=\"data row10 col0\" >0</td>\n",
              "      <td id=\"T_4c01a_row10_col1\" class=\"data row10 col1\" >0</td>\n",
              "      <td id=\"T_4c01a_row10_col2\" class=\"data row10 col2\" >0</td>\n",
              "      <td id=\"T_4c01a_row10_col3\" class=\"data row10 col3\" >0</td>\n",
              "      <td id=\"T_4c01a_row10_col4\" class=\"data row10 col4\" >0</td>\n",
              "      <td id=\"T_4c01a_row10_col5\" class=\"data row10 col5\" >0</td>\n",
              "      <td id=\"T_4c01a_row10_col6\" class=\"data row10 col6\" >0</td>\n",
              "      <td id=\"T_4c01a_row10_col7\" class=\"data row10 col7\" >43</td>\n",
              "      <td id=\"T_4c01a_row10_col8\" class=\"data row10 col8\" >98</td>\n",
              "      <td id=\"T_4c01a_row10_col9\" class=\"data row10 col9\" >98</td>\n",
              "      <td id=\"T_4c01a_row10_col10\" class=\"data row10 col10\" >208</td>\n",
              "      <td id=\"T_4c01a_row10_col11\" class=\"data row10 col11\" >253</td>\n",
              "      <td id=\"T_4c01a_row10_col12\" class=\"data row10 col12\" >253</td>\n",
              "      <td id=\"T_4c01a_row10_col13\" class=\"data row10 col13\" >253</td>\n",
              "      <td id=\"T_4c01a_row10_col14\" class=\"data row10 col14\" >253</td>\n",
              "      <td id=\"T_4c01a_row10_col15\" class=\"data row10 col15\" >187</td>\n",
              "      <td id=\"T_4c01a_row10_col16\" class=\"data row10 col16\" >22</td>\n",
              "      <td id=\"T_4c01a_row10_col17\" class=\"data row10 col17\" >0</td>\n",
              "    </tr>\n",
              "  </tbody>\n",
              "</table>\n"
            ]
          },
          "metadata": {},
          "execution_count": 43
        }
      ],
      "source": [
        "#hide_output\n",
        "im3_t = tensor(im3)\n",
        "df = pd.DataFrame(im3_t[4:15,4:22])\n",
        "df.style.set_properties(**{'font-size':'8'}).background_gradient('Greys')"
      ]
    },
    {
      "cell_type": "markdown",
      "metadata": {
        "id": "mzozjdHJJa6h"
      },
      "source": [
        "<img width=\"453\" id=\"output_pd_pixels\" src=\"https://github.com/fastai/fastbook/blob/master/images/att_00058.png?raw=1\">"
      ]
    },
    {
      "cell_type": "markdown",
      "metadata": {
        "id": "v7YYYvHcJa6j"
      },
      "source": [
        "You can see that the background white pixels are stored as the number 0, black is the number 255, and shades of gray are between the two. The entire image contains 28 pixels across and 28 pixels down, for a total of 784 pixels. (This is much smaller than an image that you would get from a phone camera, which has millions of pixels, but is a convenient size for our initial learning and experiments. We will build up to bigger, full-color images soon.)\n",
        "\n",
        "So, now you've seen what an image looks like to a computer, let's recall our goal: create a model that can recognize 3s and 7s. How might you go about getting a computer to do that?\n",
        "\n",
        "> Warning: Stop and Think!: Before you read on, take a moment to think about how a computer might be able to recognize these two different digits. What kinds of features might it be able to look at? How might it be able to identify these features? How could it combine them together? Learning works best when you try to solve problems yourself, rather than just reading somebody else's answers; so step away from this book for a few minutes, grab a piece of paper and pen, and jot some ideas down…"
      ]
    },
    {
      "cell_type": "markdown",
      "metadata": {
        "id": "tFv1psxYJa6k"
      },
      "source": [
        "## First Try: Pixel Similarity"
      ]
    },
    {
      "cell_type": "markdown",
      "metadata": {
        "id": "UlmNmjdbJa6m"
      },
      "source": [
        "So, here is a first idea: how about we find the average pixel value for every pixel of the 3s, then do the same for the 7s. This will give us two group averages, defining what we might call the \"ideal\" 3 and 7. Then, to classify an image as one digit or the other, we see which of these two ideal digits the image is most similar to. This certainly seems like it should be better than nothing, so it will make a good baseline."
      ]
    },
    {
      "cell_type": "markdown",
      "metadata": {
        "id": "qZKO70xjJa6n"
      },
      "source": [
        "> jargon: Baseline: A simple model which you are confident should perform reasonably well. It should be very simple to implement, and very easy to test, so that you can then test each of your improved ideas, and make sure they are always better than your baseline. Without starting with a sensible baseline, it is very difficult to know whether your super-fancy models are actually any good. One good approach to creating a baseline is doing what we have done here: think of a simple, easy-to-implement model. Another good approach is to search around to find other people that have solved similar problems to yours, and download and run their code on your dataset. Ideally, try both of these!"
      ]
    },
    {
      "cell_type": "markdown",
      "metadata": {
        "id": "Jx9mGSEMJa6o"
      },
      "source": [
        "Step one for our simple model is to get the average of pixel values for each of our two groups. In the process of doing this, we will learn a lot of neat Python numeric programming tricks!\n",
        "\n",
        "Let's create a tensor containing all of our 3s stacked together. We already know how to create a tensor containing a single image. To create a tensor containing all the images in a directory, we will first use a Python list comprehension to create a plain list of the single image tensors.\n",
        "\n",
        "We will use Jupyter to do some little checks of our work along the way—in this case, making sure that the number of returned items seems reasonable:"
      ]
    },
    {
      "cell_type": "code",
      "execution_count": null,
      "metadata": {
        "colab": {
          "base_uri": "https://localhost:8080/",
          "height": 439
        },
        "id": "b7CwW8rdJa6q",
        "outputId": "0db4d6e0-31f7-4b73-f726-a7a3a3e103be"
      },
      "outputs": [
        {
          "output_type": "error",
          "ename": "NameError",
          "evalue": "ignored",
          "traceback": [
            "\u001b[0;31m---------------------------------------------------------------------------\u001b[0m",
            "\u001b[0;31mNameError\u001b[0m                                 Traceback (most recent call last)",
            "\u001b[0;32m<ipython-input-1-c6693e1839fc>\u001b[0m in \u001b[0;36m<cell line: 2>\u001b[0;34m()\u001b[0m\n\u001b[1;32m      1\u001b[0m \u001b[0;31m#Train\u001b[0m\u001b[0;34m\u001b[0m\u001b[0;34m\u001b[0m\u001b[0m\n\u001b[0;32m----> 2\u001b[0;31m \u001b[0mseven_tensors\u001b[0m \u001b[0;34m=\u001b[0m \u001b[0;34m[\u001b[0m\u001b[0mtensor\u001b[0m\u001b[0;34m(\u001b[0m\u001b[0mImage\u001b[0m\u001b[0;34m.\u001b[0m\u001b[0mopen\u001b[0m\u001b[0;34m(\u001b[0m\u001b[0mo\u001b[0m\u001b[0;34m)\u001b[0m\u001b[0;34m)\u001b[0m \u001b[0;32mfor\u001b[0m \u001b[0mo\u001b[0m \u001b[0;32min\u001b[0m \u001b[0msevens\u001b[0m\u001b[0;34m]\u001b[0m\u001b[0;34m\u001b[0m\u001b[0;34m\u001b[0m\u001b[0m\n\u001b[0m\u001b[1;32m      3\u001b[0m \u001b[0mthree_tensors\u001b[0m \u001b[0;34m=\u001b[0m \u001b[0;34m[\u001b[0m\u001b[0mtensor\u001b[0m\u001b[0;34m(\u001b[0m\u001b[0mImage\u001b[0m\u001b[0;34m.\u001b[0m\u001b[0mopen\u001b[0m\u001b[0;34m(\u001b[0m\u001b[0mo\u001b[0m\u001b[0;34m)\u001b[0m\u001b[0;34m)\u001b[0m \u001b[0;32mfor\u001b[0m \u001b[0mo\u001b[0m \u001b[0;32min\u001b[0m \u001b[0mthrees\u001b[0m\u001b[0;34m]\u001b[0m\u001b[0;34m\u001b[0m\u001b[0;34m\u001b[0m\u001b[0m\n\u001b[1;32m      4\u001b[0m \u001b[0mlen\u001b[0m\u001b[0;34m(\u001b[0m\u001b[0mthree_tensors\u001b[0m\u001b[0;34m)\u001b[0m\u001b[0;34m,\u001b[0m\u001b[0mlen\u001b[0m\u001b[0;34m(\u001b[0m\u001b[0mseven_tensors\u001b[0m\u001b[0;34m)\u001b[0m\u001b[0;34m\u001b[0m\u001b[0;34m\u001b[0m\u001b[0m\n",
            "\u001b[0;31mNameError\u001b[0m: name 'sevens' is not defined"
          ]
        }
      ],
      "source": [
        "#Train\n",
        "seven_tensors = [tensor(Image.open(o)) for o in sevens]\n",
        "three_tensors = [tensor(Image.open(o)) for o in threes]\n",
        "len(three_tensors),len(seven_tensors)"
      ]
    },
    {
      "cell_type": "markdown",
      "metadata": {
        "id": "f-txT1yMJa6s"
      },
      "source": [
        "> note: List Comprehensions: List and dictionary comprehensions are a wonderful feature of Python. Many Python programmers use them every day, including the authors of this book—they are part of \"idiomatic Python.\" But programmers coming from other languages may have never seen them before. There are a lot of great tutorials just a web search away, so we won't spend a long time discussing them now. Here is a quick explanation and example to get you started. A list comprehension looks like this: `new_list = [f(o) for o in a_list if o>0]`. This will return every element of `a_list` that is greater than 0, after passing it to the function `f`. There are three parts here: the collection you are iterating over (`a_list`), an optional filter (`if o>0`), and something to do to each element (`f(o)`). It's not only shorter to write but way faster than the alternative ways of creating the same list with a loop."
      ]
    },
    {
      "cell_type": "markdown",
      "metadata": {
        "id": "zyG69Y9YJa6u"
      },
      "source": [
        "We'll also check that one of the images looks okay. Since we now have tensors (which Jupyter by default will print as values), rather than PIL images (which Jupyter by default will display as images), we need to use fastai's `show_image` function to display it:"
      ]
    },
    {
      "cell_type": "code",
      "execution_count": null,
      "metadata": {
        "id": "2dDAhBAtJa6v"
      },
      "outputs": [],
      "source": [
        "show_image(three_tensors[666])"
      ]
    },
    {
      "cell_type": "code",
      "source": [],
      "metadata": {
        "id": "hpaqWdphdwR5"
      },
      "execution_count": null,
      "outputs": []
    },
    {
      "cell_type": "code",
      "execution_count": null,
      "metadata": {
        "id": "ShhcuC-pdwn2"
      },
      "outputs": [],
      "source": [
        "show_image(seven_tensors[666])"
      ]
    },
    {
      "cell_type": "markdown",
      "metadata": {
        "id": "baTUgpxGJa6y"
      },
      "source": [
        "For every pixel position, we want to compute the average over all the images of the intensity of that pixel. To do this we first combine all the images in this list into a single three-dimensional tensor. The most common way to describe such a tensor is to call it a *rank-3 tensor*. We often need to stack up individual tensors in a collection into a single tensor. Unsurprisingly, PyTorch comes with a function called `stack` that we can use for this purpose.\n",
        "\n",
        "Some operations in PyTorch, such as taking a mean, require us to *cast* our integer types to float types. Since we'll be needing this later, we'll also cast our stacked tensor to `float` now. Casting in PyTorch is as simple as typing the name of the type you wish to cast to, and treating it as a method.\n",
        "\n",
        "Generally when images are floats, the pixel values are expected to be between 0 and 1, so we will also divide by 255 here:"
      ]
    },
    {
      "cell_type": "code",
      "execution_count": null,
      "metadata": {
        "id": "mIiLT4KlJa6z"
      },
      "outputs": [],
      "source": [
        "# Train\n",
        "stacked_sevens = torch.stack(seven_tensors).float()/255\n",
        "stacked_threes = torch.stack(three_tensors).float()/255\n",
        "print(f'Threes: {stacked_threes.shape} | Sevens: {stacked_sevens.shape}')"
      ]
    },
    {
      "cell_type": "markdown",
      "metadata": {
        "id": "Ny5ebMOAJa7P"
      },
      "source": [
        "Perhaps the most important attribute of a tensor is its *shape*. This tells you the length of each axis. In this case, we can see that we have 6,131 images, each of size 28×28 pixels. There is nothing specifically about this tensor that says that the first axis is the number of images, the second is the height, and the third is the width—the semantics of a tensor are entirely up to us, and how we construct it. As far as PyTorch is concerned, it is just a bunch of numbers in memory.\n",
        "\n",
        "The *length* of a tensor's shape is its rank:"
      ]
    },
    {
      "cell_type": "code",
      "execution_count": null,
      "metadata": {
        "id": "-89ufKA2Ja7R"
      },
      "outputs": [],
      "source": [
        "len(stacked_threes.shape)"
      ]
    },
    {
      "cell_type": "markdown",
      "metadata": {
        "id": "f7XMrP0aJa7U"
      },
      "source": [
        "It is really important for you to commit to memory and practice these bits of tensor jargon:\n",
        "\n",
        " _rank_ is the number of axes or dimensions in a tensor;\n",
        "\n",
        " _shape_ is the size of each axis of a tensor.\n",
        "\n",
        "> A: Watch out because the term \"dimension\" is sometimes used in two ways. Consider that we live in \"three-dimensonal space\" where a physical position can be described by a 3-vector `v`. But according to PyTorch, the attribute `v.ndim` (which sure looks like the \"number of dimensions\" of `v`) equals one, not three! Why? Because `v` is a vector, which is a tensor of rank one, meaning that it has only one _axis_ (even if that axis has a length of three). In other words, sometimes dimension is used for the size of an axis (\"space is three-dimensional\"); other times, it is used for the rank, or the number of axes (\"a matrix has two dimensions\"). When confused, I find it helpful to translate all statements into terms of rank, axis, and length, which are unambiguous terms."
      ]
    },
    {
      "cell_type": "markdown",
      "metadata": {
        "id": "VjpmqL5MJa7W"
      },
      "source": [
        "We can also get a tensor's rank directly with `ndim`:"
      ]
    },
    {
      "cell_type": "code",
      "execution_count": null,
      "metadata": {
        "id": "kAr08NOtJa7Z"
      },
      "outputs": [],
      "source": [
        "stacked_threes.ndim"
      ]
    },
    {
      "cell_type": "code",
      "source": [
        "v = tensor(100,400,700) #Consider that we live in \"three-dimensonal space\" where a physical position can be described by a 3-vector (x,y,z)"
      ],
      "metadata": {
        "id": "EcI3s8CRfiIE"
      },
      "execution_count": null,
      "outputs": []
    },
    {
      "cell_type": "code",
      "source": [
        "v #tensor(x,y,z)"
      ],
      "metadata": {
        "id": "udy7VUDFfrqC"
      },
      "execution_count": null,
      "outputs": []
    },
    {
      "cell_type": "code",
      "source": [
        "v.ndim #Quantidade de dimensões: 1 Podemos ver que tem um par de []"
      ],
      "metadata": {
        "id": "zjx6o_Nff8j_"
      },
      "execution_count": null,
      "outputs": []
    },
    {
      "cell_type": "code",
      "source": [
        "v.shape #axis has a length of three"
      ],
      "metadata": {
        "id": "HbFaRuFFgET_"
      },
      "execution_count": null,
      "outputs": []
    },
    {
      "cell_type": "markdown",
      "metadata": {
        "id": "D-lLJ5mdJa7b"
      },
      "source": [
        "Finally, we can compute what the ideal 3 looks like. We calculate the mean of all the image tensors by taking the mean along dimension 0 of our stacked, rank-3 tensor. This is the dimension that indexes over all the images.\n",
        "\n",
        "In other words, for every pixel position, this will compute the average of that pixel over all images. The result will be one value for every pixel position, or a single image. Here it is:"
      ]
    },
    {
      "cell_type": "code",
      "execution_count": null,
      "metadata": {
        "id": "bGPBcz-hJa7d"
      },
      "outputs": [],
      "source": [
        "mean3 = stacked_threes.mean(0)\n",
        "show_image(mean3);"
      ]
    },
    {
      "cell_type": "markdown",
      "metadata": {
        "id": "8SXupVy5Ja7g"
      },
      "source": [
        "According to this dataset, this is the ideal number 3! (You may not like it, but this is what peak number 3 performance looks like.) You can see how it's very dark where all the images agree it should be dark, but it becomes wispy and blurry where the images disagree.\n",
        "\n",
        "Let's do the same thing for the 7s, but put all the steps together at once to save some time:"
      ]
    },
    {
      "cell_type": "code",
      "execution_count": null,
      "metadata": {
        "id": "y-v8-ayHJa7i"
      },
      "outputs": [],
      "source": [
        "mean7 = stacked_sevens.mean(0)\n",
        "show_image(mean7);"
      ]
    },
    {
      "cell_type": "markdown",
      "metadata": {
        "id": "TP58otj5Ja7k"
      },
      "source": [
        "Let's now pick an arbitrary 3 and measure its *distance* from our \"ideal digits.\"\n",
        "\n",
        "> stop: Stop and Think!: How would you calculate how similar a particular image is to each of our ideal digits? Remember to step away from this book and jot down some ideas before you move on! Research shows that recall and understanding improves dramatically when you are engaged with the learning process by solving problems, experimenting, and trying new ideas yourself\n",
        "\n",
        "Here's a sample 3:"
      ]
    },
    {
      "cell_type": "code",
      "execution_count": null,
      "metadata": {
        "id": "Inbi9vJxJa7m"
      },
      "outputs": [],
      "source": [
        "a_3 = stacked_threes[1]\n",
        "show_image(a_3);"
      ]
    },
    {
      "cell_type": "markdown",
      "metadata": {
        "id": "Xa6b8IMcJa7o"
      },
      "source": [
        "How can we determine its distance from our ideal 3? We can't just add up the differences between the pixels of this image and the ideal digit. Some differences will be positive while others will be negative, and these differences will cancel out, resulting in a situation where an image that is too dark in some places and too light in others might be shown as having zero total differences from the ideal. That would be misleading!\n",
        "\n",
        "To avoid this, there are two main ways data scientists measure distance in this context:\n",
        "\n",
        "- Take the mean of the *absolute value* of differences (absolute value is the function that replaces negative values with positive values). This is called the *mean absolute difference* or *L1 norm*\n",
        "- Take the mean of the *square* of differences (which makes everything positive) and then take the *square root* (which undoes the squaring). This is called the *root mean squared error* (RMSE) or *L2 norm*.\n",
        "\n",
        "> important: It's Okay to Have Forgotten Your Math: In this book we generally assume that you have completed high school math, and remember at least some of it... But everybody forgets some things! It all depends on what you happen to have had reason to practice in the meantime. Perhaps you have forgotten what a _square root_ is, or exactly how they work. No problem! Any time you come across a maths concept that is not explained fully in this book, don't just keep moving on; instead, stop and look it up. Make sure you understand the basic idea, how it works, and why we might be using it. One of the best places to refresh your understanding is Khan Academy. For instance, Khan Academy has a great [introduction to square roots](https://www.khanacademy.org/math/algebra/x2f8bb11595b61c86:rational-exponents-radicals/x2f8bb11595b61c86:radicals/v/understanding-square-roots)."
      ]
    },
    {
      "cell_type": "code",
      "source": [
        "a_3.shape, stacked_threes.shape, mean3.shape"
      ],
      "metadata": {
        "id": "sFD2j8qKNu_P"
      },
      "execution_count": null,
      "outputs": []
    },
    {
      "cell_type": "code",
      "source": [
        "dif = a_3 - stacked_threes #Contêm valores positivos e negativos\n",
        "dif.shape"
      ],
      "metadata": {
        "id": "Ce6lOacVOH0K"
      },
      "execution_count": null,
      "outputs": []
    },
    {
      "cell_type": "code",
      "source": [
        "dif.mean() # Na média a somatória é zero"
      ],
      "metadata": {
        "id": "CeJ5z5DgL0f5"
      },
      "execution_count": null,
      "outputs": []
    },
    {
      "cell_type": "code",
      "source": [
        "dif_abs = abs(a_3 - stacked_threes).mean() # Com a função abs o valor não se aproxima de zero\n",
        "dif_abs"
      ],
      "metadata": {
        "id": "yaBhCLyIfCbf"
      },
      "execution_count": null,
      "outputs": []
    },
    {
      "cell_type": "markdown",
      "metadata": {
        "id": "lvTPihDNJa7q"
      },
      "source": [
        "Let's try both of these now:"
      ]
    },
    {
      "cell_type": "code",
      "execution_count": null,
      "metadata": {
        "id": "nJzrEZItJa7r"
      },
      "outputs": [],
      "source": [
        "dist_3_abs = (a_3 - mean3).abs().mean()\n",
        "dist_3_sqr = ((a_3 - mean3)**2).mean().sqrt()\n",
        "dist_3_abs,dist_3_sqr"
      ]
    },
    {
      "cell_type": "code",
      "execution_count": null,
      "metadata": {
        "id": "NZp8XKiXJa7t"
      },
      "outputs": [],
      "source": [
        "dist_7_abs = (a_3 - mean7).abs().mean()\n",
        "dist_7_sqr = ((a_3 - mean7)**2).mean().sqrt()\n",
        "dist_7_abs,dist_7_sqr"
      ]
    },
    {
      "cell_type": "markdown",
      "metadata": {
        "id": "GDNZb2u3Ja7w"
      },
      "source": [
        "In both cases, the distance between our 3 and the \"ideal\" 3 is less than the distance to the ideal 7. So our simple model will give the right prediction in this case."
      ]
    },
    {
      "cell_type": "markdown",
      "metadata": {
        "id": "GOzgVyd7Ja7y"
      },
      "source": [
        "PyTorch already provides both of these as *loss functions*. You'll find these inside `torch.nn.functional`, which the PyTorch team recommends importing as `F` (and is available by default under that name in fastai):"
      ]
    },
    {
      "cell_type": "code",
      "execution_count": null,
      "metadata": {
        "id": "R04nbaeXJa7z"
      },
      "outputs": [],
      "source": [
        "F.l1_loss(a_3.float(),mean7), F.mse_loss(a_3,mean7).sqrt()"
      ]
    },
    {
      "cell_type": "code",
      "source": [
        "F.l1_loss(a_3,mean7), F.mse_loss(a_3,mean7).sqrt()"
      ],
      "metadata": {
        "id": "J2Gs5bn5ZhTE"
      },
      "execution_count": null,
      "outputs": []
    },
    {
      "cell_type": "code",
      "source": [
        "F.l1_loss(a_3,mean7), F.mse_loss(a_3,mean7)"
      ],
      "metadata": {
        "id": "KlCToTihbMue"
      },
      "execution_count": null,
      "outputs": []
    },
    {
      "cell_type": "code",
      "source": [
        "import numpy as np\n",
        "from sklearn.metrics import mean_squared_error\n",
        "\n",
        "#y = np.random.rand(100)  # array([10, 11, 12, 13, 14, 15, 16, 17, 18, 19])\n",
        "# = np.random.rand(100)  # array([0, 1, 2, 3, 4, 5, 6, 7, 8, 9])\n",
        "np.linalg.norm(a_3 - mean7, ord=1), np.linalg.norm(a_3 - mean7, ord=2),  mean_squared_error(a_3, mean7)"
      ],
      "metadata": {
        "id": "XUXaUX63Zv-y"
      },
      "execution_count": null,
      "outputs": []
    },
    {
      "cell_type": "code",
      "source": [
        "import numpy as np\n",
        "from sklearn.metrics import mean_squared_error\n",
        "\n",
        "#y = np.random.rand(100)  # array([10, 11, 12, 13, 14, 15, 16, 17, 18, 19])\n",
        "# = np.random.rand(100)  # array([0, 1, 2, 3, 4, 5, 6, 7, 8, 9])\n",
        "np.sqrt(np.linalg.norm(a_3 - mean7, ord=1)), np.sqrt(np.linalg.norm(a_3 - mean7, ord=2)),  mean_squared_error(a_3, mean7)"
      ],
      "metadata": {
        "id": "KzjE4LCNaoMX"
      },
      "execution_count": null,
      "outputs": []
    },
    {
      "cell_type": "markdown",
      "source": [
        "![Captura de Tela (2).png](data:image/png;base64,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)"
      ],
      "metadata": {
        "id": "sWhBMnwdieOO"
      }
    },
    {
      "cell_type": "markdown",
      "source": [
        "![Captura de Tela (2).png](data:image/png;base64,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)"
      ],
      "metadata": {
        "id": "UESLxTF-kTkl"
      }
    },
    {
      "cell_type": "markdown",
      "metadata": {
        "id": "PakfMZDvJa72"
      },
      "source": [
        "Here `mse` stands for *mean squared error*, and `l1` refers to the standard mathematical jargon for *mean absolute value* (in math it's called the *L1 norm*).\n",
        "\n",
        "L1 Norm:\n",
        "Also known as Manhattan Distance or Taxicab norm."
      ]
    },
    {
      "cell_type": "markdown",
      "metadata": {
        "id": "pR97kTXNJa74"
      },
      "source": [
        "> S: Intuitively, the difference between L1 norm and mean squared error (MSE) is that the latter will penalize bigger mistakes more heavily than the former (and be more lenient with small mistakes)."
      ]
    },
    {
      "cell_type": "markdown",
      "metadata": {
        "id": "QzNqIfG0Ja76"
      },
      "source": [
        "> J: When I first came across this \"L1\" thingie, I looked it up to see what on earth it meant. I found on Google that it is a _vector norm_ using _absolute value_, so looked up _vector norm_ and started reading: _Given a vector space V over a field F of the real or complex numbers, a norm on V is a nonnegative-valued any function p: V → \\[0,+∞) with the following properties: For all a ∈ F and all u, v ∈ V, p(u + v) ≤ p(u) + p(v)..._ Then I stopped reading. \"Ugh, I'll never understand math!\" I thought, for the thousandth time. Since then I've learned that every time these complex mathy bits of jargon come up in practice, it turns out I can replace them with a tiny bit of code! Like, the _L1 loss_ is just equal to `(a-b).abs().mean()` or `(a-b).abs().sum()`?, where `a` and `b` are tensors. I guess mathy folks just think differently than me... I'll make sure in this book that every time some mathy jargon comes up, I'll give you the little bit of code it's equal to as well, and explain in common-sense terms what's going on."
      ]
    },
    {
      "cell_type": "markdown",
      "metadata": {
        "id": "cZYRsNUhJa78"
      },
      "source": [
        "We just completed various mathematical operations on PyTorch tensors. If you've done some numeric programming in NumPy before, you may recognize these as being similar to NumPy arrays. Let's have a look at those two very important data structures."
      ]
    },
    {
      "cell_type": "code",
      "source": [
        "from numpy import mean\n",
        "a = array((0,0))\n",
        "b = array((3,4))\n",
        "L1 = sum(abs(b-a))\n",
        "L1"
      ],
      "metadata": {
        "id": "nHKWtDE-idbG"
      },
      "execution_count": null,
      "outputs": []
    },
    {
      "cell_type": "code",
      "source": [
        "from numpy.linalg import norm\n",
        "a = tensor(0,0)\n",
        "b = tensor(3,4)\n",
        "L1 = norm((a-b),1)\n",
        "L2 = norm((a-b),2)\n",
        "L1,L2"
      ],
      "metadata": {
        "id": "-UGL_aY8g2fb"
      },
      "execution_count": null,
      "outputs": []
    },
    {
      "cell_type": "markdown",
      "metadata": {
        "id": "_GULFHZnJa7-"
      },
      "source": [
        "### NumPy Arrays and PyTorch Tensors"
      ]
    },
    {
      "cell_type": "markdown",
      "metadata": {
        "id": "6UagmWTsJa7_"
      },
      "source": [
        "[NumPy](https://numpy.org/) is the most widely used library for scientific and numeric programming in Python. It provides very similar functionality and a very similar API to that provided by PyTorch; however, <font color='red'>it does not support using the GPU or calculating gradients</font>, which are both critical for deep learning. Therefore, in this book we will generally use PyTorch tensors instead of NumPy arrays, where possible.\n",
        "\n",
        "(Note that fastai adds some features to NumPy and PyTorch to make them a bit more similar to each other. If any code in this book doesn't work on your computer, it's possible that you forgot to include a line like this at the start of your notebook: `from fastai.vision.all import *`.)\n",
        "\n",
        "But what are arrays and tensors, and why should you care?"
      ]
    },
    {
      "cell_type": "markdown",
      "metadata": {
        "id": "FcMqg_T8Ja8B"
      },
      "source": [
        "Python is slow compared to many languages. Anything fast in Python, NumPy, or PyTorch is likely to be a wrapper for a compiled object written (and optimized) in another language—specifically C. In fact, **NumPy arrays and PyTorch tensors can finish computations many thousands of times faster than using pure Python.**\n",
        "\n",
        "A NumPy array is a multidimensional table of data, with all items of the same type. Since that can be any type at all, they can even be arrays of arrays, with the innermost arrays potentially being different sizes—this is called a \"jagged array.\" By \"multidimensional table\" we mean, for instance, a list (dimension of one), a table or matrix (dimension of two), a \"table of tables\" or \"cube\" (dimension of three), and so forth. If the items are all of some simple type such as integer or float, then NumPy will store them as a compact C data structure in memory. This is where NumPy shines. NumPy has a wide variety of operators and methods that can run computations on these compact structures at the same speed as optimized C, because they are written in optimized C.\n",
        "\n",
        "A PyTorch tensor is nearly the same thing as a NumPy array, but with an additional restriction that unlocks some additional capabilities. It's the same in that it, too, is a multidimensional table of data, with all items of the same type. However, the restriction is that a tensor cannot use just any old type—it has to use a single basic numeric type for all components. For example, a PyTorch tensor cannot be jagged. It is always a regularly shaped multidimensional rectangular structure.\n",
        "\n",
        "The vast majority of methods and operators supported by NumPy on these structures are also supported by PyTorch, but PyTorch tensors have additional capabilities. One major capability is that these structures can live on the GPU, in which case their computation will be optimized for the GPU and can run much faster (given lots of values to work on). In addition, PyTorch can automatically calculate derivatives of these operations, including combinations of operations. As you'll see, it would be impossible to do deep learning in practice without this capability.\n",
        "\n",
        "> S: If you don't know what C is, don't worry as you won't need it at all. In a nutshell, it's a low-level  (low-level means more similar to the language that computers use internally) language that is very fast compared to Python. To take advantage of its speed while programming in Python, try to avoid as much as possible writing loops, and replace them by commands that work directly on arrays or tensors.\n",
        "\n",
        "Perhaps the most important new coding skill for a Python programmer to learn is how to effectively use the array/tensor APIs. We will be showing lots more tricks later in this book, but here's a summary of the key things you need to know for now."
      ]
    },
    {
      "cell_type": "markdown",
      "metadata": {
        "id": "61gwATR5Ja8E"
      },
      "source": [
        "To create an array or tensor, pass a list (or list of lists, or list of lists of lists, etc.) to `array()` or `tensor()`:"
      ]
    },
    {
      "cell_type": "code",
      "execution_count": null,
      "metadata": {
        "id": "ugAkN1i6Ja8G"
      },
      "outputs": [],
      "source": [
        "data = [[1,2,3],[4,5,6]]\n",
        "arr = array (data)\n",
        "tns = tensor(data)"
      ]
    },
    {
      "cell_type": "code",
      "execution_count": null,
      "metadata": {
        "id": "dDSdPIWLJa8H"
      },
      "outputs": [],
      "source": [
        "arr  # numpy"
      ]
    },
    {
      "cell_type": "code",
      "execution_count": null,
      "metadata": {
        "id": "4EEyvPF-Ja8J"
      },
      "outputs": [],
      "source": [
        "tns  # pytorch"
      ]
    },
    {
      "cell_type": "markdown",
      "metadata": {
        "id": "RmoQuJSyJa8M"
      },
      "source": [
        "All the operations that follow are shown on tensors, but the syntax and results for NumPy arrays is identical.\n",
        "\n",
        "You can select a row (note that, like lists in Python, tensors are 0-indexed so 1 refers to the second row/column):"
      ]
    },
    {
      "cell_type": "code",
      "execution_count": null,
      "metadata": {
        "id": "OLvoTfctJa8O"
      },
      "outputs": [],
      "source": [
        "tns[1]"
      ]
    },
    {
      "cell_type": "markdown",
      "metadata": {
        "id": "uKJ6o2DBJa8Q"
      },
      "source": [
        "or a column, by using `:` to indicate *all of the first axis* (we sometimes refer to the dimensions of tensors/arrays as *axes*):"
      ]
    },
    {
      "cell_type": "code",
      "execution_count": null,
      "metadata": {
        "id": "0uBl9o2eJa8S"
      },
      "outputs": [],
      "source": [
        "tns[:,1]"
      ]
    },
    {
      "cell_type": "code",
      "source": [
        "tns[:1,:1]"
      ],
      "metadata": {
        "id": "IgXbTXZ_ykpp"
      },
      "execution_count": null,
      "outputs": []
    },
    {
      "cell_type": "markdown",
      "metadata": {
        "id": "AZdWUYB2Ja8V"
      },
      "source": [
        "You can combine these with Python slice syntax (`[start:end]` with `end` being excluded) to select part of a row or column:"
      ]
    },
    {
      "cell_type": "code",
      "execution_count": null,
      "metadata": {
        "id": "rXpXqzOdJa8X"
      },
      "outputs": [],
      "source": [
        "tns[1,1:3]"
      ]
    },
    {
      "cell_type": "code",
      "source": [
        "tns[1][1:3]"
      ],
      "metadata": {
        "id": "iDVo7j3cyODz"
      },
      "execution_count": null,
      "outputs": []
    },
    {
      "cell_type": "code",
      "source": [
        "tns[1][2]"
      ],
      "metadata": {
        "id": "DjPP2U-Mxyz3"
      },
      "execution_count": null,
      "outputs": []
    },
    {
      "cell_type": "code",
      "source": [
        "tns[1,2]"
      ],
      "metadata": {
        "id": "nC3ASNPAx9xE"
      },
      "execution_count": null,
      "outputs": []
    },
    {
      "cell_type": "markdown",
      "metadata": {
        "id": "fSVUBjh_Ja8Z"
      },
      "source": [
        "And you can use the standard operators such as `+`, `-`, `*`, `/`:"
      ]
    },
    {
      "cell_type": "code",
      "execution_count": null,
      "metadata": {
        "id": "_OUHErTbJa8b"
      },
      "outputs": [],
      "source": [
        "tns+1"
      ]
    },
    {
      "cell_type": "markdown",
      "metadata": {
        "id": "xrvRFlM9Ja8e"
      },
      "source": [
        "Tensors have a type:"
      ]
    },
    {
      "cell_type": "code",
      "execution_count": null,
      "metadata": {
        "id": "F690rynUJa8f"
      },
      "outputs": [],
      "source": [
        "tns.type()"
      ]
    },
    {
      "cell_type": "markdown",
      "metadata": {
        "id": "9JPJHYliJa8h"
      },
      "source": [
        "And will automatically change type as needed, for example from `int` to `float`:"
      ]
    },
    {
      "cell_type": "code",
      "execution_count": null,
      "metadata": {
        "id": "m6RuNp4pJa8k"
      },
      "outputs": [],
      "source": [
        "tns*1.5"
      ]
    },
    {
      "cell_type": "markdown",
      "metadata": {
        "id": "eULeoFVHJa8m"
      },
      "source": [
        "So, is our baseline model any good? To quantify this, we must define a metric."
      ]
    },
    {
      "cell_type": "code",
      "execution_count": null,
      "metadata": {
        "id": "JGhvgI4cNiv4"
      },
      "outputs": [],
      "source": [
        "arr"
      ]
    },
    {
      "cell_type": "code",
      "execution_count": null,
      "metadata": {
        "id": "GmeN_qbdKjR6"
      },
      "outputs": [],
      "source": [
        "arr.mean((-2,-1))"
      ]
    },
    {
      "cell_type": "code",
      "execution_count": null,
      "metadata": {
        "id": "8ojLs8RmOl-4"
      },
      "outputs": [],
      "source": [
        "dados = [ [ [2,3,4],[1,3,5],[1,1,1]],\n",
        "          [ [2,3,4],[1,3,5],[1,1,1]],\n",
        "          [ [2,3,4],[1,3,5],[1,1,1]]]"
      ]
    },
    {
      "cell_type": "code",
      "execution_count": null,
      "metadata": {
        "id": "vx2iHpDKPhHQ"
      },
      "outputs": [],
      "source": [
        "ar1 = array(dados)"
      ]
    },
    {
      "cell_type": "code",
      "execution_count": null,
      "metadata": {
        "id": "6FtVlXBaPvlp"
      },
      "outputs": [],
      "source": [
        "ar1.mean((-1,-2))"
      ]
    },
    {
      "cell_type": "markdown",
      "metadata": {
        "id": "IcD7ZD09Ja8n"
      },
      "source": [
        "## Computing Metrics Using Broadcasting"
      ]
    },
    {
      "cell_type": "markdown",
      "metadata": {
        "id": "YLzwj-loJa8p"
      },
      "source": [
        "Recall that a metric is a number that is calculated based on the predictions of our model, and the correct labels in our dataset, in order to tell us how good our model is. For instance, we could use either of the functions we saw in the previous section, mean squared error (MSE), or mean absolute error (MAE), and take the average of them over the whole dataset. However, neither of these are numbers that are very understandable to most people; in practice, we normally use *accuracy* as the metric for classification models.\n",
        "\n",
        "As we've discussed, we want to calculate our metric over a *validation set*. This is so that we don't inadvertently overfit—that is, train a model to work well only on our training data. This is not really a risk with the pixel similarity model we're using here as a first try, since it has no trained components, but we'll use a validation set anyway to follow normal practices and to be ready for our second try later.\n",
        "\n",
        "To get a validation set we need to remove some of the data from training entirely, so it is not seen by the model at all. As it turns out, the creators of the MNIST dataset have already done this for us. Do you remember how there was a whole separate directory called *valid*? That's what this directory is for!\n",
        "\n",
        "So to start with, let's create tensors for our 3s and 7s from that directory. These are the tensors we will use to calculate a metric measuring the quality of our first-try model, which measures distance from an ideal image:"
      ]
    },
    {
      "cell_type": "code",
      "execution_count": null,
      "metadata": {
        "colab": {
          "base_uri": "https://localhost:8080/",
          "height": 106
        },
        "id": "4T2odanVxpEa",
        "outputId": "47c2c3ab-1973-47e1-aa05-286712e86609"
      },
      "outputs": [
        {
          "output_type": "display_data",
          "data": {
            "text/plain": [
              "<IPython.core.display.HTML object>"
            ],
            "text/html": [
              "\n",
              "<style>\n",
              "    /* Turns off some styling */\n",
              "    progress {\n",
              "        /* gets rid of default border in Firefox and Opera. */\n",
              "        border: none;\n",
              "        /* Needs to be in here for Safari polyfill so background images work as expected. */\n",
              "        background-size: auto;\n",
              "    }\n",
              "    progress:not([value]), progress:not([value])::-webkit-progress-bar {\n",
              "        background: repeating-linear-gradient(45deg, #7e7e7e, #7e7e7e 10px, #5c5c5c 10px, #5c5c5c 20px);\n",
              "    }\n",
              "    .progress-bar-interrupted, .progress-bar-interrupted::-webkit-progress-bar {\n",
              "        background: #F44336;\n",
              "    }\n",
              "</style>\n"
            ]
          },
          "metadata": {}
        },
        {
          "output_type": "display_data",
          "data": {
            "text/plain": [
              "<IPython.core.display.HTML object>"
            ],
            "text/html": [
              "\n",
              "    <div>\n",
              "      <progress value='3219456' class='' max='3214948' style='width:300px; height:20px; vertical-align: middle;'></progress>\n",
              "      100.14% [3219456/3214948 00:00&lt;00:00]\n",
              "    </div>\n",
              "    "
            ]
          },
          "metadata": {}
        },
        {
          "output_type": "execute_result",
          "data": {
            "text/plain": [
              "(torch.Size([1010, 28, 28]),\n",
              " torch.Size([1028, 28, 28]),\n",
              " torch.Size([6131, 28, 28]),\n",
              " torch.Size([6265, 28, 28]))"
            ]
          },
          "metadata": {},
          "execution_count": 2
        }
      ],
      "source": [
        "#Load Data\n",
        "path = untar_data(URLs.MNIST_SAMPLE) #path = Path('.')\n",
        "Path.BASE_PATH = path\n",
        "threes = (path/'train'/'3').ls().sorted() #Train '3' paths\n",
        "sevens = (path/'train'/'7').ls().sorted() #Train '7' paths\n",
        "seven_tensors = [tensor(Image.open(o)) for o in sevens] #Train '7' tensors\n",
        "three_tensors = [tensor(Image.open(o)) for o in threes] #Train '3' tensors\n",
        "stacked_sevens = torch.stack(seven_tensors).float()/255 #Stacked Train '7'\n",
        "stacked_threes = torch.stack(three_tensors).float()/255 #Stacked Train '3'\n",
        "valid_3_tens = torch.stack([tensor(Image.open(o))\n",
        "                            for o in (path/'valid'/'3').ls()])\n",
        "valid_3_tens = valid_3_tens.float()/255                         #Stacked Valid '3'\n",
        "valid_7_tens = torch.stack([tensor(Image.open(o))\n",
        "                            for o in (path/'valid'/'7').ls()])\n",
        "valid_7_tens = valid_7_tens.float()/255                         #Stacked Valid '7'\n",
        "valid_3_tens.shape,valid_7_tens.shape,stacked_threes.shape,stacked_sevens.shape"
      ]
    },
    {
      "cell_type": "code",
      "source": [
        "valid_3_tens.shape,valid_7_tens.shape,stacked_threes.shape,stacked_sevens.shape"
      ],
      "metadata": {
        "colab": {
          "base_uri": "https://localhost:8080/"
        },
        "id": "uQCs3yndy30L",
        "outputId": "a69ff975-47b2-44e0-e795-833d4d998153"
      },
      "execution_count": null,
      "outputs": [
        {
          "output_type": "execute_result",
          "data": {
            "text/plain": [
              "(torch.Size([1010, 28, 28]),\n",
              " torch.Size([1028, 28, 28]),\n",
              " torch.Size([6131, 28, 28]),\n",
              " torch.Size([6265, 28, 28]))"
            ]
          },
          "metadata": {},
          "execution_count": 5
        }
      ]
    },
    {
      "cell_type": "markdown",
      "metadata": {
        "id": "g1XOtFzsJa8t"
      },
      "source": [
        "It's good to get in the habit of checking shapes as you go. Here we see two tensors, one representing the 3s validation set of 1,010 images of size 28×28, and one representing the 7s validation set of 1,028 images of size 28×28.\n",
        "\n",
        "We ultimately want to write a function, `is_3`, that will decide if an arbitrary image is a 3 or a 7. It will do this by deciding which of our two \"ideal digits\" this arbitrary image is closer to. For that we need to define a notion of distance—that is, a function that calculates the distance between two images.\n",
        "\n",
        "We can write a simple function that calculates the mean absolute error using an expression very similar to the one we wrote in the last section:"
      ]
    },
    {
      "cell_type": "code",
      "execution_count": null,
      "metadata": {
        "colab": {
          "base_uri": "https://localhost:8080/"
        },
        "id": "0mQYQqGzJa8v",
        "outputId": "cd598417-8492-47dd-b7d6-f4795a88168b"
      },
      "outputs": [
        {
          "output_type": "execute_result",
          "data": {
            "text/plain": [
              "(torch.Size([28, 28]), torch.Size([6131, 28, 28]))"
            ]
          },
          "metadata": {},
          "execution_count": 3
        }
      ],
      "source": [
        "def mnist_distance(a,b): return (a-b).abs().mean((-1,-2)) #mean(-1,-2) calcula a média considerando a última e penúltima dimensão\n",
        "a_3 = stacked_threes[1]\n",
        "mean3 = stacked_threes.mean(0)\n",
        "mean7 = stacked_sevens.mean(0)\n",
        "a_3.shape,stacked_threes.shape"
      ]
    },
    {
      "cell_type": "code",
      "source": [
        "mnist_distance(a_3, mean3)"
      ],
      "metadata": {
        "colab": {
          "base_uri": "https://localhost:8080/"
        },
        "id": "fDmUhDz19OSN",
        "outputId": "ed3cfa8c-1043-4778-cd8b-a3c3288690c1"
      },
      "execution_count": null,
      "outputs": [
        {
          "output_type": "execute_result",
          "data": {
            "text/plain": [
              "tensor(0.1114)"
            ]
          },
          "metadata": {},
          "execution_count": 4
        }
      ]
    },
    {
      "cell_type": "markdown",
      "metadata": {
        "id": "_1pwdkmkJa8x"
      },
      "source": [
        "This is the same value we previously calculated for the distance between these two images, the ideal 3 `mean3` and the arbitrary sample 3 `a_3`, which are both single-image tensors with a shape of `[28,28]`.\n",
        "\n",
        "But in order to calculate a metric for overall accuracy, we will need to calculate the distance to the ideal 3 for _every_ image in the validation set. How do we do that calculation? We could write a loop over all of the single-image tensors that are stacked within our validation set tensor, `valid_3_tens`, which has a shape of `[1010,28,28]` representing 1,010 images. But there is a better way.\n",
        "\n",
        "Something very interesting happens when we take this exact same distance function, designed for comparing two single images, but pass in as an argument `valid_3_tens`, the tensor that represents the 3s validation set:"
      ]
    },
    {
      "cell_type": "code",
      "execution_count": null,
      "metadata": {
        "colab": {
          "base_uri": "https://localhost:8080/"
        },
        "id": "m0xvH7YmJa8z",
        "outputId": "2fba9d56-3aa1-4317-f9ae-c6e72dd644ee"
      },
      "outputs": [
        {
          "output_type": "execute_result",
          "data": {
            "text/plain": [
              "(tensor([0.1233, 0.1678, 0.1163,  ..., 0.1200, 0.1090, 0.1370]),\n",
              " torch.Size([1010]))"
            ]
          },
          "metadata": {},
          "execution_count": 8
        }
      ],
      "source": [
        "valid_3_dist = mnist_distance(valid_3_tens, mean3)\n",
        "valid_3_dist, valid_3_dist.shape"
      ]
    },
    {
      "cell_type": "markdown",
      "metadata": {
        "id": "NoGIZOMkJa81"
      },
      "source": [
        "Instead of complaining about shapes not matching, it returned the distance for every single image as a vector (i.e., a rank-1 tensor) of length 1,010 (the number of 3s in our validation set). How did that happen?\n",
        "\n",
        "Take another look at our function `mnist_distance`, and you'll see we have there the subtraction `(a-b)`. The magic trick is that PyTorch, when it tries to perform a simple subtraction operation between two tensors of different ranks, will use *broadcasting*. That is, it will automatically expand the tensor with the smaller rank (`mean3`) to have the same size as the one with the larger rank (`valis_3_dist`). Broadcasting is an important capability that makes tensor code much easier to write.\n",
        "\n",
        "After broadcasting so the two argument tensors have the same rank, PyTorch applies its usual logic for two tensors of the same rank: it performs the operation on each corresponding element of the two tensors, and returns the tensor result. For instance:"
      ]
    },
    {
      "cell_type": "code",
      "execution_count": null,
      "metadata": {
        "id": "1l_XKj6BJa83",
        "outputId": "ba1be4fc-0ddb-453b-f1fb-8e09e6685922"
      },
      "outputs": [
        {
          "data": {
            "text/plain": [
              "tensor([2, 3, 4])"
            ]
          },
          "execution_count": null,
          "metadata": {},
          "output_type": "execute_result"
        }
      ],
      "source": [
        "tensor([1,2,3]) + tensor(1)"
      ]
    },
    {
      "cell_type": "markdown",
      "metadata": {
        "id": "eKOOwYDjJa85"
      },
      "source": [
        "So in this case, PyTorch treats `mean3`, a rank-2 tensor representing a single image, as if it were 1,010 copies of the same image, and then subtracts each of those copies from each 3 in our validation set. What shape would you expect this tensor to have? Try to figure it out yourself before you look at the answer below:"
      ]
    },
    {
      "cell_type": "code",
      "source": [
        "mean3.shape # torch.Size([28, 28])"
      ],
      "metadata": {
        "colab": {
          "base_uri": "https://localhost:8080/"
        },
        "id": "sfd-2IM84_Ln",
        "outputId": "d4bbba71-87cf-48df-9e39-16421a420141"
      },
      "execution_count": null,
      "outputs": [
        {
          "output_type": "execute_result",
          "data": {
            "text/plain": [
              "torch.Size([28, 28])"
            ]
          },
          "metadata": {},
          "execution_count": 11
        }
      ]
    },
    {
      "cell_type": "code",
      "source": [
        "valid_3_tens.shape  # torch.Size([1010, 28, 28])"
      ],
      "metadata": {
        "colab": {
          "base_uri": "https://localhost:8080/"
        },
        "id": "LcYncrxw52VR",
        "outputId": "d7cff149-2ab8-4af0-eff8-cca2fe5215df"
      },
      "execution_count": null,
      "outputs": [
        {
          "output_type": "execute_result",
          "data": {
            "text/plain": [
              "torch.Size([1010, 28, 28])"
            ]
          },
          "metadata": {},
          "execution_count": 12
        }
      ]
    },
    {
      "cell_type": "code",
      "execution_count": null,
      "metadata": {
        "id": "O-fgM-RaJa87",
        "outputId": "2ab030cc-24ca-4c31-80f7-5d71c42ee0f2"
      },
      "outputs": [
        {
          "data": {
            "text/plain": [
              "torch.Size([1010, 28, 28])"
            ]
          },
          "execution_count": null,
          "metadata": {},
          "output_type": "execute_result"
        }
      ],
      "source": [
        "(valid_3_tens-mean3).shape # torch.Size([1010, 28, 28])"
      ]
    },
    {
      "cell_type": "code",
      "source": [
        "valid_3_tens.mean((-1,-2)).shape\n"
      ],
      "metadata": {
        "colab": {
          "base_uri": "https://localhost:8080/"
        },
        "id": "XU8OYiew7_Iy",
        "outputId": "26c6ae6b-b7ef-4345-f613-93ac828044eb"
      },
      "execution_count": null,
      "outputs": [
        {
          "output_type": "execute_result",
          "data": {
            "text/plain": [
              "torch.Size([1010])"
            ]
          },
          "metadata": {},
          "execution_count": 30
        }
      ]
    },
    {
      "cell_type": "markdown",
      "metadata": {
        "id": "hnYg_wrCJa8-"
      },
      "source": [
        "We are calculating the difference between our \"ideal 3\" and each of the 1,010 3s in the validation set, for each of 28×28 images, resulting in the shape `[1010,28,28]`.\n",
        "\n",
        "There are a couple of important points about how broadcasting is implemented, which make it valuable not just for expressivity but also for performance:\n",
        "\n",
        "- PyTorch doesn't *actually* copy `mean3` 1,010 times. It *pretends* it were a tensor of that shape, but doesn't actually allocate any additional memory\n",
        "- It does the whole calculation in C (or, if you're using a GPU, in CUDA, the equivalent of C on the GPU), tens of thousands of times faster than pure Python (up to millions of times faster on a GPU!).\n",
        "\n",
        "This is true of all broadcasting and elementwise operations and functions done in PyTorch. *It's the most important technique for you to know to create efficient PyTorch code.*\n",
        "\n",
        "Next in `mnist_distance` we see `abs`. You might be able to guess now what this does when applied to a tensor. It applies the method to each individual element in the tensor, and returns a tensor of the results (that is, it applies the method \"elementwise\"). So in this case, we'll get back 1,010 matrices of absolute values.\n",
        "\n"
      ]
    },
    {
      "cell_type": "code",
      "source": [
        "def mnist_distance(a,b): return (a-b).abs().mean((-1,-2)) #mean(-1,-2) calcula a média considerando a última e penúltima\n",
        "                                                          # Se a.shape = [28,28] retorna um número"
      ],
      "metadata": {
        "id": "3YSCiY7t62zO"
      },
      "execution_count": null,
      "outputs": []
    },
    {
      "cell_type": "markdown",
      "source": [
        "Finally, our function calls `mean((-1,-2))`. The tuple `(-1,-2)` represents a range of axes. In Python, `-1` refers to the last element, and `-2` refers to the second-to-last. So in this case, this tells PyTorch that we want to take the mean ranging over the values indexed by the last two axes of the tensor. The last two axes are the horizontal and vertical dimensions of an image. After taking the mean over the last two axes, we are left with just the first tensor axis, which indexes over our images, which is why our final size was `(1010)`. In other words, for every image, we averaged the intensity of all the pixels in that image.\n",
        "\n",
        "We'll be learning lots more about broadcasting throughout this book, especially in <<chapter_foundations>>, and will be practicing it regularly too.\n",
        "\n",
        "We can use `mnist_distance` to figure out whether an image is a 3 or not by using the following logic: if the distance between the digit in question and the ideal 3 is less than the distance to the ideal 7, then it's a 3. This function will automatically do broadcasting and be applied elementwise, just like all PyTorch functions and operators:"
      ],
      "metadata": {
        "id": "XuCJBsBr63Mz"
      }
    },
    {
      "cell_type": "code",
      "execution_count": null,
      "metadata": {
        "id": "_bwmXI2JJa9A"
      },
      "outputs": [],
      "source": [
        "def is_3(x): return mnist_distance(x,mean3) < mnist_distance(x,mean7)"
      ]
    },
    {
      "cell_type": "markdown",
      "metadata": {
        "id": "YNzJ-KU6Ja9C"
      },
      "source": [
        "Let's test it on our example case:"
      ]
    },
    {
      "cell_type": "code",
      "execution_count": null,
      "metadata": {
        "id": "TFM5Z--vJa9D",
        "outputId": "9e8be823-c654-42b3-84b1-3255a7d8f2da",
        "colab": {
          "base_uri": "https://localhost:8080/"
        }
      },
      "outputs": [
        {
          "output_type": "execute_result",
          "data": {
            "text/plain": [
              "(tensor(True), tensor(1.))"
            ]
          },
          "metadata": {},
          "execution_count": 10
        }
      ],
      "source": [
        "is_3(a_3), is_3(a_3).float() # torch.Size([28, 28])"
      ]
    },
    {
      "cell_type": "code",
      "source": [
        "valid_3_tens.shape"
      ],
      "metadata": {
        "colab": {
          "base_uri": "https://localhost:8080/"
        },
        "id": "Zi3p0KOa0noN",
        "outputId": "3f9fc088-d6e5-415a-a96c-e0eabdf5331a"
      },
      "execution_count": null,
      "outputs": [
        {
          "output_type": "execute_result",
          "data": {
            "text/plain": [
              "torch.Size([1010, 28, 28])"
            ]
          },
          "metadata": {},
          "execution_count": 13
        }
      ]
    },
    {
      "cell_type": "markdown",
      "metadata": {
        "id": "72Q1emChJa9G"
      },
      "source": [
        "Note that when we convert the Boolean response to a float, we get `1.0` for `True` and `0.0` for `False`. Thanks to broadcasting, we can also test it on the full validation set of 3s:"
      ]
    },
    {
      "cell_type": "code",
      "execution_count": null,
      "metadata": {
        "id": "BI4Ew7H3Ja9I",
        "outputId": "f7eccdcc-8e1c-408c-f7f9-d490a074fe88",
        "colab": {
          "base_uri": "https://localhost:8080/"
        }
      },
      "outputs": [
        {
          "output_type": "execute_result",
          "data": {
            "text/plain": [
              "(tensor([ True,  True,  True,  ...,  True,  True, False]),\n",
              " tensor([1., 1., 1.,  ..., 1., 1., 0.]))"
            ]
          },
          "metadata": {},
          "execution_count": 11
        }
      ],
      "source": [
        "is_3(valid_3_tens), is_3(valid_3_tens).float()  # valid_3_tens = torch.Size([1010, 28, 28])"
      ]
    },
    {
      "cell_type": "markdown",
      "metadata": {
        "id": "ik-b8MNSJa9K"
      },
      "source": [
        "Now we can calculate the accuracy for each of the 3s and 7s by taking the average of that function for all 3s and its inverse for all 7s:"
      ]
    },
    {
      "cell_type": "code",
      "execution_count": null,
      "metadata": {
        "id": "BB829K8-Ja9M",
        "outputId": "f0a22f4e-9380-4bb3-e738-d98f14c3b776",
        "colab": {
          "base_uri": "https://localhost:8080/"
        }
      },
      "outputs": [
        {
          "output_type": "execute_result",
          "data": {
            "text/plain": [
              "(tensor(0.9168), tensor(0.9854), tensor(0.9511))"
            ]
          },
          "metadata": {},
          "execution_count": 14
        }
      ],
      "source": [
        "accuracy_3s =      is_3(valid_3_tens).float() .mean()\n",
        "accuracy_7s = (1 - is_3(valid_7_tens).float()).mean()\n",
        "\n",
        "accuracy_3s,accuracy_7s,(accuracy_3s+accuracy_7s)/2"
      ]
    },
    {
      "cell_type": "markdown",
      "metadata": {
        "id": "carfKkE_Ja9O"
      },
      "source": [
        "This looks like a pretty good start! We're getting over 90% accuracy on both 3s and 7s, and we've seen how to define a metric conveniently using broadcasting.\n",
        "\n",
        "But let's be honest: 3s and 7s are very different-looking digits. And we're only classifying 2 out of the 10 possible digits so far. So we're going to need to do better!\n",
        "\n",
        "To do better, perhaps it is time to try a system that does some real learning—that is, that can automatically modify itself to improve its performance. In other words, it's time to talk about the training process, and SGD."
      ]
    },
    {
      "cell_type": "markdown",
      "metadata": {
        "id": "ytMjIHoNJa9Q"
      },
      "source": [
        "## Stochastic Gradient Descent (SGD)"
      ]
    },
    {
      "cell_type": "markdown",
      "metadata": {
        "id": "4-w2_hdvJa9S"
      },
      "source": [
        "Do you remember the way that Arthur Samuel described machine learning, which we quoted in _chapter_intro_?\n",
        "\n",
        "> : Suppose we arrange for some automatic means of testing the effectiveness of any current weight assignment in terms of actual performance and provide a mechanism for altering the weight assignment so as to maximize the performance. We need not go into the details of such a procedure to see that it could be made <font color='orange'>entirely automatic</font> and to see that a machine so programmed would <font color='orange'>\"learn\"</font> from its experience.\n",
        "\n",
        "As we discussed, this is the key to allowing us to have a model that can get better and better—that can learn. But our pixel similarity approach does not really do this. We do not have any kind of weight assignment, or any way of improving based on testing the effectiveness of a weight assignment. In other words, we can't really improve our pixel similarity approach by modifying a set of parameters. In order to take advantage of the power of deep learning, we will first have to represent our task in the way that Arthur Samuel described it.\n",
        "\n",
        "Instead of trying to find the similarity between an image and an \"ideal image,\" we could instead look at each individual pixel and come up with a set of weights for each one, such that the highest weights are associated with those pixels most likely to be black for a particular category. For instance, pixels toward the bottom right are not very likely to be activated for a 7, so they should have a low weight for a 7, but they are likely to be activated for an 8, so they should have a high weight for an 8. This can be represented as a function and set of weight values for each possible category—for instance the probability of being the number 8:\n",
        "\n",
        "```\n",
        "def pr_eight(x,w): return (x*w).sum()\n",
        "```"
      ]
    },
    {
      "cell_type": "markdown",
      "metadata": {
        "id": "_tkxHgnxJa9V"
      },
      "source": [
        "Here we are assuming that `x` is the image, represented as a vector—in other words, with all of the rows stacked up end to end into a single long line. And we are assuming that the weights are a vector `w`. If we have this function, then we just need some way to update the weights to make them a little bit better. With such an approach, we can repeat that step a number of times, making the weights better and better, until they are as good as we can make them.\n",
        "\n",
        "We want to find the specific values for the vector `w` that causes the result of our function to be high for those images that are actually 8s, and low for those images that are not. Searching for the best vector `w` is a way to search for the best function for recognising 8s. (Because we are not yet using a deep neural network, we are limited by what our function can actually do—we are going to fix that constraint later in this chapter.)\n",
        "\n",
        "To be more specific, here are the steps that we are going to require, to turn this function into a machine learning classifier:\n",
        "\n",
        "1. *Initialize* the weights.\n",
        "1. For each image, use these weights to *predict* whether it appears to be a 3 or a 7.\n",
        "1. Based on these predictions, calculate how good the model is (its *loss*).\n",
        "1. Calculate the *gradient*, which measures for each weight, how changing that weight would change the loss\n",
        "1. *Step* (that is, change) all the weights based on that calculation.\n",
        "1. Go back to the step 2, and *repeat* the process.\n",
        "1. Iterate until you decide to *stop* the training process (for instance, because the model is good enough or you don't want to wait any longer)."
      ]
    },
    {
      "cell_type": "markdown",
      "metadata": {
        "id": "N7h7t1R6Ja9Y"
      },
      "source": [
        "These seven steps, illustrated in _gradient_descent_, are the key to the training of all deep learning models. That deep learning turns out to rely entirely on these steps is extremely surprising and counterintuitive. It's amazing that this process can solve such complex problems. But, as you'll see, it really does!"
      ]
    },
    {
      "cell_type": "code",
      "execution_count": null,
      "metadata": {
        "colab": {
          "base_uri": "https://localhost:8080/",
          "height": 145
        },
        "id": "kHag3DmrJa9a",
        "outputId": "577f6662-058a-403e-b822-d6d7311eb4d3"
      },
      "outputs": [
        {
          "data": {
            "image/svg+xml": "<?xml version=\"1.0\" encoding=\"UTF-8\" standalone=\"no\"?>\n<!DOCTYPE svg PUBLIC \"-//W3C//DTD SVG 1.1//EN\"\n \"http://www.w3.org/Graphics/SVG/1.1/DTD/svg11.dtd\">\n<!-- Generated by graphviz version 2.43.0 (0)\n -->\n<!-- Title: G Pages: 1 -->\n<svg width=\"591pt\" height=\"78pt\"\n viewBox=\"0.00 0.00 591.49 78.00\" xmlns=\"http://www.w3.org/2000/svg\" xmlns:xlink=\"http://www.w3.org/1999/xlink\">\n<g id=\"graph0\" class=\"graph\" transform=\"scale(1 1) rotate(0) translate(4 74)\">\n<title>G</title>\n<polygon fill=\"white\" stroke=\"transparent\" points=\"-4,4 -4,-74 587.49,-74 587.49,4 -4,4\"/>\n<!-- init -->\n<g id=\"node1\" class=\"node\">\n<title>init</title>\n<ellipse fill=\"none\" stroke=\"black\" cx=\"27\" cy=\"-18\" rx=\"27\" ry=\"18\"/>\n<text text-anchor=\"middle\" x=\"27\" y=\"-14.3\" font-family=\"Times,serif\" font-size=\"14.00\">init</text>\n</g>\n<!-- predict -->\n<g id=\"node2\" class=\"node\">\n<title>predict</title>\n<ellipse fill=\"none\" stroke=\"black\" cx=\"126.1\" cy=\"-18\" rx=\"35.19\" ry=\"18\"/>\n<text text-anchor=\"middle\" x=\"126.1\" y=\"-14.3\" font-family=\"Times,serif\" font-size=\"14.00\">predict</text>\n</g>\n<!-- init&#45;&gt;predict -->\n<g id=\"edge1\" class=\"edge\">\n<title>init&#45;&gt;predict</title>\n<path fill=\"none\" stroke=\"black\" d=\"M54.02,-18C62.26,-18 71.62,-18 80.78,-18\"/>\n<polygon fill=\"black\" stroke=\"black\" points=\"80.96,-21.5 90.96,-18 80.96,-14.5 80.96,-21.5\"/>\n</g>\n<!-- loss -->\n<g id=\"node3\" class=\"node\">\n<title>loss</title>\n<ellipse fill=\"none\" stroke=\"black\" cx=\"225.19\" cy=\"-52\" rx=\"27\" ry=\"18\"/>\n<text text-anchor=\"middle\" x=\"225.19\" y=\"-48.3\" font-family=\"Times,serif\" font-size=\"14.00\">loss</text>\n</g>\n<!-- predict&#45;&gt;loss -->\n<g id=\"edge2\" class=\"edge\">\n<title>predict&#45;&gt;loss</title>\n<path fill=\"none\" stroke=\"black\" d=\"M155.44,-27.93C166.61,-31.84 179.52,-36.36 191.11,-40.42\"/>\n<polygon fill=\"black\" stroke=\"black\" points=\"190.29,-43.84 200.88,-43.84 192.6,-37.23 190.29,-43.84\"/>\n</g>\n<!-- gradient -->\n<g id=\"node4\" class=\"node\">\n<title>gradient</title>\n<ellipse fill=\"none\" stroke=\"black\" cx=\"361.84\" cy=\"-52\" rx=\"39.79\" ry=\"18\"/>\n<text text-anchor=\"middle\" x=\"361.84\" y=\"-48.3\" font-family=\"Times,serif\" font-size=\"14.00\">gradient</text>\n</g>\n<!-- loss&#45;&gt;gradient -->\n<g id=\"edge3\" class=\"edge\">\n<title>loss&#45;&gt;gradient</title>\n<path fill=\"none\" stroke=\"black\" d=\"M252.47,-52C269.35,-52 291.8,-52 311.88,-52\"/>\n<polygon fill=\"black\" stroke=\"black\" points=\"312.13,-55.5 322.13,-52 312.13,-48.5 312.13,-55.5\"/>\n</g>\n<!-- step -->\n<g id=\"node5\" class=\"node\">\n<title>step</title>\n<ellipse fill=\"none\" stroke=\"black\" cx=\"465.49\" cy=\"-18\" rx=\"27\" ry=\"18\"/>\n<text text-anchor=\"middle\" x=\"465.49\" y=\"-14.3\" font-family=\"Times,serif\" font-size=\"14.00\">step</text>\n</g>\n<!-- gradient&#45;&gt;step -->\n<g id=\"edge4\" class=\"edge\">\n<title>gradient&#45;&gt;step</title>\n<path fill=\"none\" stroke=\"black\" d=\"M394.17,-41.52C405.92,-37.59 419.32,-33.11 431.25,-29.12\"/>\n<polygon fill=\"black\" stroke=\"black\" points=\"432.48,-32.4 440.85,-25.91 430.26,-25.76 432.48,-32.4\"/>\n</g>\n<!-- step&#45;&gt;predict -->\n<g id=\"edge6\" class=\"edge\">\n<title>step&#45;&gt;predict</title>\n<path fill=\"none\" stroke=\"black\" d=\"M438.29,-18C380.72,-18 242.6,-18 171.32,-18\"/>\n<polygon fill=\"black\" stroke=\"black\" points=\"171.3,-14.5 161.3,-18 171.3,-21.5 171.3,-14.5\"/>\n<text text-anchor=\"middle\" x=\"287.19\" y=\"-21.8\" font-family=\"Times,serif\" font-size=\"14.00\">repeat</text>\n</g>\n<!-- stop -->\n<g id=\"node6\" class=\"node\">\n<title>stop</title>\n<ellipse fill=\"none\" stroke=\"black\" cx=\"556.49\" cy=\"-18\" rx=\"27\" ry=\"18\"/>\n<text text-anchor=\"middle\" x=\"556.49\" y=\"-14.3\" font-family=\"Times,serif\" font-size=\"14.00\">stop</text>\n</g>\n<!-- step&#45;&gt;stop -->\n<g id=\"edge5\" class=\"edge\">\n<title>step&#45;&gt;stop</title>\n<path fill=\"none\" stroke=\"black\" d=\"M492.71,-18C501.04,-18 510.4,-18 519.3,-18\"/>\n<polygon fill=\"black\" stroke=\"black\" points=\"519.45,-21.5 529.45,-18 519.45,-14.5 519.45,-21.5\"/>\n</g>\n</g>\n</svg>\n",
            "text/plain": [
              "<graphviz.sources.Source at 0x79a20d473dc0>"
            ]
          },
          "execution_count": 19,
          "metadata": {},
          "output_type": "execute_result"
        }
      ],
      "source": [
        "#id gradient_descent\n",
        "#caption The gradient descent process\n",
        "#alt Graph showing the steps for Gradient Descent\n",
        "gv('''\n",
        "init->predict->loss->gradient->step->stop\n",
        "step->predict[label=repeat]\n",
        "''')"
      ]
    },
    {
      "cell_type": "markdown",
      "metadata": {
        "id": "UPNlCc1zJa9c"
      },
      "source": [
        "There are many different ways to do each of these seven steps, and we will be learning about them throughout the rest of this book. These are the details that make a big difference for deep learning practitioners, but it turns out that the general approach to each one generally follows some basic principles. Here are a few guidelines:\n",
        "\n",
        "- Initialize:: We initialize the parameters to random values. This may sound surprising. There are certainly other choices we could make, such as initializing them to the percentage of times that pixel is activated for that category—but since we already know that we have a routine to improve these weights, it turns out that just starting with random weights works perfectly well.\n",
        "- Loss:: This is what Samuel referred to when he spoke of *testing the effectiveness of any current weight assignment in terms of actual performance*. We need some function that will return a number that is small if the performance of the model is good (the standard approach is to treat a small loss as good, and a large loss as bad, although this is just a convention).\n",
        "- Step:: A simple way to figure out whether a weight should be increased a bit, or decreased a bit, would be just to try it: increase the weight by a small amount, and see if the loss goes up or down. Once you find the correct direction, you could then change that amount by a bit more, and a bit less, until you find an amount that works well. However, this is slow! As we will see, the magic of calculus allows us to directly figure out in which direction, and by roughly how much, to change each weight, without having to try all these small changes. The way to do this is by calculating *gradients*. This is just a performance optimization, we would get exactly the same results by using the slower manual process as well.\n",
        "- Stop:: Once we've decided how many epochs to train the model for (a few suggestions for this were given in the earlier list), we apply that decision. This is where that decision is applied. For our digit classifier, we would keep training until the accuracy of the model started getting worse, or we ran out of time."
      ]
    },
    {
      "cell_type": "markdown",
      "metadata": {
        "id": "u8V7rW20Ja9f"
      },
      "source": [
        "Before applying these steps to our image classification problem, let's illustrate what they look like in a simpler case. First we will define a very simple function, the quadratic—let's pretend that this is our loss function, and `x` is a weight parameter of the function:"
      ]
    },
    {
      "cell_type": "code",
      "execution_count": null,
      "metadata": {
        "id": "mx15MMxiJa9h"
      },
      "outputs": [],
      "source": [
        "def f(x): return x**2 #Loss function"
      ]
    },
    {
      "cell_type": "markdown",
      "metadata": {
        "id": "6TtVUuSSJa9i"
      },
      "source": [
        "Here is a graph of that function:"
      ]
    },
    {
      "cell_type": "code",
      "execution_count": null,
      "metadata": {
        "colab": {
          "base_uri": "https://localhost:8080/",
          "height": 396
        },
        "id": "BODDRdrPJa9k",
        "outputId": "c4a73265-f1a4-4dbe-c5bd-1941c715e3c8"
      },
      "outputs": [
        {
          "output_type": "display_data",
          "data": {
            "text/plain": [
              "<Figure size 600x400 with 1 Axes>"
            ],
            "image/png": "[encoded data removed]"
          },
          "metadata": {}
        }
      ],
      "source": [
        "plot_function(f, 'x - weight', 'x**2 - Loss')"
      ]
    },
    {
      "cell_type": "markdown",
      "metadata": {
        "id": "-af7PkzdJa9n"
      },
      "source": [
        "The sequence of steps we described earlier starts by picking some random value for a parameter, and calculating the value of the loss:"
      ]
    },
    {
      "cell_type": "code",
      "execution_count": null,
      "metadata": {
        "id": "Qes0vhQPJa9p",
        "outputId": "bc9bb3d6-6a27-488f-ad7f-1fb0527ff20e",
        "colab": {
          "base_uri": "https://localhost:8080/",
          "height": 396
        }
      },
      "outputs": [
        {
          "output_type": "display_data",
          "data": {
            "text/plain": [
              "<Figure size 600x400 with 1 Axes>"
            ],
            "image/png": "[encoded data removed]"
          },
          "metadata": {}
        }
      ],
      "source": [
        "plot_function(f,  'x - weight', 'x**2 - Loss')\n",
        "plt.scatter(-1.5, f(-1.5), color='red');"
      ]
    },
    {
      "cell_type": "markdown",
      "metadata": {
        "id": "CFGqk4sUJa9r"
      },
      "source": [
        "Now we look to see what would happen if we increased or decreased our parameter by a little bit—the *adjustment*. This is simply the slope at a particular point:"
      ]
    },
    {
      "cell_type": "markdown",
      "metadata": {
        "id": "Ib1rv1sgJa9s"
      },
      "source": [
        "<img alt=\"A graph showing the squared function with the slope at one point\" width=\"400\" src=\"https://github.com/fastai/fastbook/blob/master/images/grad_illustration.svg?raw=1\"/>"
      ]
    },
    {
      "cell_type": "markdown",
      "metadata": {
        "id": "dWk8kJ6xJa9u"
      },
      "source": [
        "We can change our weight by a little in the direction of the slope, calculate our loss and adjustment again, and repeat this a few times. Eventually, we will get to the lowest point on our curve:"
      ]
    },
    {
      "cell_type": "markdown",
      "metadata": {
        "id": "RhcdGWO0Ja9w"
      },
      "source": [
        "<img alt=\"An illustration of gradient descent\" width=\"400\" src=\"https://github.com/fastai/fastbook/blob/master/images/chapter2_perfect.svg?raw=1\"/>"
      ]
    },
    {
      "cell_type": "markdown",
      "metadata": {
        "id": "MnbxjWsOJa9x"
      },
      "source": [
        "This basic idea goes all the way back to Isaac Newton, who pointed out that we can optimize arbitrary functions in this way. Regardless of how complicated our functions become, this basic approach of gradient descent will not significantly change. The only minor changes we will see later in this book are some handy ways we can make it faster, by finding better steps."
      ]
    },
    {
      "cell_type": "markdown",
      "metadata": {
        "id": "ZIWUhrRRJa9y"
      },
      "source": [
        "### Calculating Gradients"
      ]
    },
    {
      "cell_type": "markdown",
      "metadata": {
        "id": "oiQ7Tld0Ja90"
      },
      "source": [
        "The one magic step is the bit where we calculate the gradients. As we mentioned, we use calculus as a performance optimization; it allows us to more quickly calculate whether our loss will go up or down when we adjust our parameters up or down. In other words, the gradients will tell us how much we have to change each weight to make our model better.\n",
        "\n",
        "You may remember from your high school calculus class that the *derivative* of a function tells you how much a change in its parameters will change its result. If not, don't worry, lots of us forget calculus once high school is behind us! But you will have to have some intuitive understanding of what a derivative is before you continue, so if this is all very fuzzy in your head, head over to Khan Academy and complete the [lessons on basic derivatives](https://www.khanacademy.org/math/differential-calculus/dc-diff-intro). You won't have to know how to calculate them yourselves, you just have to know what a derivative is.\n",
        "\n",
        "The key point about a derivative is this: for any function, such as the quadratic function we saw in the previous section, we can calculate its derivative. The derivative is another function. It calculates the change, rather than the value. For instance, the derivative of the quadratic function at the value 3 tells us how rapidly the function changes at the value 3. More specifically, you may recall that gradient is defined as *rise/run*, that is, the change in the value of the function, divided by the change in the value of the parameter. When we know how our function will change, then we know what we need to do to make it smaller. This is the key to machine learning: having a way to change the parameters of a function to make it smaller. Calculus provides us with a computational shortcut, the derivative, which lets us directly calculate the gradients of our functions."
      ]
    },
    {
      "cell_type": "markdown",
      "metadata": {
        "id": "JKDh5XBVJa92"
      },
      "source": [
        "One important thing to be aware of is that our function has lots of weights that we need to adjust, so when we calculate the derivative we won't get back one number, but lots of them—a gradient for every weight. But there is nothing mathematically tricky here; you can calculate the derivative with respect to one weight, and treat all the other ones as constant, then repeat that for each other weight. This is how all of the gradients are calculated, for every weight.\n",
        "\n",
        "We mentioned just now that you won't have to calculate any gradients yourself. How can that be? Amazingly enough, PyTorch is able to automatically compute the derivative of nearly any function! What's more, it does it very fast. Most of the time, it will be at least as fast as any derivative function that you can create by hand. Let's see an example.\n",
        "\n",
        "First, let's pick a tensor value which we want gradients at:"
      ]
    },
    {
      "cell_type": "code",
      "execution_count": null,
      "metadata": {
        "id": "mxcQ2yNTJa94"
      },
      "outputs": [],
      "source": [
        "xt = tensor(3.).requires_grad_()"
      ]
    },
    {
      "cell_type": "markdown",
      "metadata": {
        "id": "eSaQFl2YJa96"
      },
      "source": [
        "Notice the special method `requires_grad_`? That's the magical incantation we use to tell PyTorch that we want to calculate gradients with respect to that variable at that value. It is essentially tagging the variable, so PyTorch will remember to keep track of how to compute gradients of the other, direct calculations on it that you will ask for.\n",
        "\n",
        "> a: This API might throw you off if you're coming from math or physics. In those contexts the \"gradient\" of a function is just another function (i.e., its derivative), so you might expect gradient-related APIs to give you a new function. But in deep learning, \"gradients\" usually means the _value_ of a function's derivative at a particular argument value. The PyTorch API also puts the focus on the argument, not the function you're actually computing the gradients of. It may feel backwards at first, but it's just a different perspective.\n",
        "\n",
        "Now we calculate our function with that value. Notice how PyTorch prints not just the value calculated, but also a note that it has a gradient function it'll be using to calculate our gradients when needed:"
      ]
    },
    {
      "cell_type": "code",
      "execution_count": null,
      "metadata": {
        "id": "8DHaBOThJa98",
        "outputId": "71d055b0-cdcb-4c78-c391-8daf37f91d41",
        "colab": {
          "base_uri": "https://localhost:8080/"
        }
      },
      "outputs": [
        {
          "output_type": "execute_result",
          "data": {
            "text/plain": [
              "tensor(9., grad_fn=<SumBackward0>)"
            ]
          },
          "metadata": {},
          "execution_count": 33
        }
      ],
      "source": [
        "yt = f(xt)\n",
        "yt"
      ]
    },
    {
      "cell_type": "markdown",
      "metadata": {
        "id": "MiiuHB6bJa9-"
      },
      "source": [
        "Finally, we tell PyTorch to calculate the gradients for us:"
      ]
    },
    {
      "cell_type": "code",
      "execution_count": null,
      "metadata": {
        "id": "R8Zc13F6Ja-A"
      },
      "outputs": [],
      "source": [
        "yt.backward()"
      ]
    },
    {
      "cell_type": "markdown",
      "metadata": {
        "id": "PkQ3LJ1IJa-C"
      },
      "source": [
        "The \"backward\" here refers to *backpropagation*, which is the name given to the process of calculating the derivative of each layer. We'll see how this is done exactly in chapter <<chapter_foundations>>, when we calculate the gradients of a deep neural net from scratch. This is called the \"backward pass\" of the network, as opposed to the \"forward pass,\" which is where the activations are calculated. Life would probably be easier if `backward` was just called `calculate_grad`, but deep learning folks really do like to add jargon everywhere they can!"
      ]
    },
    {
      "cell_type": "markdown",
      "metadata": {
        "id": "LC_Xl3y3Ja-E"
      },
      "source": [
        "We can now view the gradients by checking the `grad` attribute of our tensor:"
      ]
    },
    {
      "cell_type": "code",
      "execution_count": null,
      "metadata": {
        "id": "1KaZ7vrHJa-F",
        "outputId": "43aebd90-7d93-4545-f751-cf959bc55ba2",
        "colab": {
          "base_uri": "https://localhost:8080/"
        }
      },
      "outputs": [
        {
          "output_type": "execute_result",
          "data": {
            "text/plain": [
              "tensor(6.)"
            ]
          },
          "metadata": {},
          "execution_count": 35
        }
      ],
      "source": [
        "xt.grad"
      ]
    },
    {
      "cell_type": "markdown",
      "metadata": {
        "id": "96zfPiw0Ja-I"
      },
      "source": [
        "If you remember your high school calculus rules, the derivative of `x**2` is `2*x`, and we have `x=3`, so the gradients should be `2*3=6`, which is what PyTorch calculated for us!\n",
        "\n",
        "Now we'll repeat the preceding steps, but with a vector argument for our function:"
      ]
    },
    {
      "cell_type": "code",
      "execution_count": null,
      "metadata": {
        "id": "l3fK07iDJa-K",
        "outputId": "42937d37-5d4f-41b7-c053-ad4b038d2b51",
        "colab": {
          "base_uri": "https://localhost:8080/"
        }
      },
      "outputs": [
        {
          "output_type": "execute_result",
          "data": {
            "text/plain": [
              "tensor([ 3.,  4., 10.], requires_grad=True)"
            ]
          },
          "metadata": {},
          "execution_count": 36
        }
      ],
      "source": [
        "xt = tensor([3.,4.,10.]).requires_grad_()\n",
        "xt"
      ]
    },
    {
      "cell_type": "markdown",
      "metadata": {
        "id": "XxU3-kXfJa-M"
      },
      "source": [
        "And we'll add `sum` to our function so it can take a vector (i.e., a rank-1 tensor), and return a scalar (i.e., a rank-0 tensor):"
      ]
    },
    {
      "cell_type": "code",
      "execution_count": null,
      "metadata": {
        "id": "wxrk_VGPJa-N",
        "outputId": "3a092140-5326-46ab-802c-1a826b53d099",
        "colab": {
          "base_uri": "https://localhost:8080/"
        }
      },
      "outputs": [
        {
          "output_type": "execute_result",
          "data": {
            "text/plain": [
              "tensor(125., grad_fn=<SumBackward0>)"
            ]
          },
          "metadata": {},
          "execution_count": 37
        }
      ],
      "source": [
        "def f(x): return (x**2).sum()\n",
        "yt = f(xt)\n",
        "yt"
      ]
    },
    {
      "cell_type": "code",
      "source": [
        "yt = f(xt)"
      ],
      "metadata": {
        "id": "vzyB3r9qLFbs"
      },
      "execution_count": null,
      "outputs": []
    },
    {
      "cell_type": "markdown",
      "metadata": {
        "id": "K9toXSTpJa-P"
      },
      "source": [
        "Our gradients are `2*xt`, as we'd expect!"
      ]
    },
    {
      "cell_type": "code",
      "execution_count": null,
      "metadata": {
        "id": "wpDutIXzJa-R"
      },
      "outputs": [],
      "source": [
        "yt.backward()"
      ]
    },
    {
      "cell_type": "code",
      "source": [
        "xt.data"
      ],
      "metadata": {
        "colab": {
          "base_uri": "https://localhost:8080/"
        },
        "id": "h5b7BKBFGnor",
        "outputId": "d3138378-7b09-4ac5-9bfc-4fcb60b77024"
      },
      "execution_count": null,
      "outputs": [
        {
          "output_type": "execute_result",
          "data": {
            "text/plain": [
              "tensor([ 3.,  4., 10.])"
            ]
          },
          "metadata": {},
          "execution_count": 40
        }
      ]
    },
    {
      "cell_type": "code",
      "source": [
        "xt.grad"
      ],
      "metadata": {
        "colab": {
          "base_uri": "https://localhost:8080/"
        },
        "id": "EPJH0V-sIpwn",
        "outputId": "b1e2e2fb-1d6d-426a-8925-f8330c5123c2"
      },
      "execution_count": null,
      "outputs": [
        {
          "output_type": "execute_result",
          "data": {
            "text/plain": [
              "tensor([ 6.,  8., 20.])"
            ]
          },
          "metadata": {},
          "execution_count": 42
        }
      ]
    },
    {
      "cell_type": "code",
      "source": [
        "lr = 1e-3"
      ],
      "metadata": {
        "id": "CWyIlh-0Iz6N"
      },
      "execution_count": null,
      "outputs": []
    },
    {
      "cell_type": "code",
      "source": [
        "xt.data -= lr*xt.grad"
      ],
      "metadata": {
        "id": "6rxOaB5rItYw"
      },
      "execution_count": null,
      "outputs": []
    },
    {
      "cell_type": "code",
      "source": [
        "xt.grad = None"
      ],
      "metadata": {
        "id": "iSsFCx2wJQ_m"
      },
      "execution_count": null,
      "outputs": []
    },
    {
      "cell_type": "markdown",
      "metadata": {
        "id": "3NHyO09qJa-T"
      },
      "source": [
        "The gradients only tell us the slope of our function, they don't actually tell us exactly how far to adjust the parameters. But it gives us some idea of how far; if the slope is very large, then that may suggest that we have more adjustments to do, whereas if the slope is very small, that may suggest that we are close to the optimal value."
      ]
    },
    {
      "cell_type": "markdown",
      "metadata": {
        "id": "W9sKNXEJJa-V"
      },
      "source": [
        "## Stepping With a Learning Rate"
      ]
    },
    {
      "cell_type": "markdown",
      "metadata": {
        "id": "fpex11w-Ja-X"
      },
      "source": [
        "Deciding how to change our parameters based on the values of the gradients is an important part of the deep learning process. Nearly all approaches start with the basic idea of multiplying the gradient by some small number, called the *learning rate* (LR). The learning rate is often a number between 0.001 and 0.1, although it could be anything. Often, people select a `learning rate` just by trying a few, and finding which results in the best model after training (we'll show you a better approach later in this book, called the *learning rate finder*). Once you've picked a learning rate, you can adjust your parameters using this simple function:\n",
        "\n",
        "```\n",
        "w -= gradient(w) * lr\n",
        "```\n",
        "\n",
        "This is known as *stepping* your parameters, using an *optimizer step*. Notice how we _subtract_ the `gradient * lr` from the parameter to update it.  This allows us to adjust the parameter in the direction of the slope by increasing the parameter when the slope is negative and decreasing the parameter when the slope is positive.  We want to adjust our parameters in the direction of the slope because our goal in deep learning is to _minimize_ the loss.\n",
        "\n",
        "If you pick a learning rate that's too low, it can mean having to do a lot of steps. _descent_small_ illustrates that."
      ]
    },
    {
      "cell_type": "markdown",
      "metadata": {
        "id": "Dif4g4OpJa-Z"
      },
      "source": [
        "<img alt=\"An illustration of gradient descent with a LR too low\" width=\"400\" caption=\"Gradient descent with low LR\" src=\"https://github.com/fastai/fastbook/blob/master/images/chapter2_small.svg?raw=1\" id=\"descent_small\"/>"
      ]
    },
    {
      "cell_type": "markdown",
      "metadata": {
        "id": "9wpbSd0EJa-b"
      },
      "source": [
        "But picking a learning rate that's too high is even worse—it can actually result in the loss getting *worse*, as we see in _descent_div_!"
      ]
    },
    {
      "cell_type": "markdown",
      "metadata": {
        "id": "mHWXDJ1ZJa-d"
      },
      "source": [
        "<img alt=\"An illustration of gradient descent with a LR too high\" width=\"400\" caption=\"Gradient descent with high LR\" src=\"https://github.com/fastai/fastbook/blob/master/images/chapter2_div.svg?raw=1\" id=\"descent_div\"/>"
      ]
    },
    {
      "cell_type": "markdown",
      "metadata": {
        "id": "lZeG5Cv1Ja-f"
      },
      "source": [
        "If the learning rate is too high, it may also \"bounce\" around, rather than actually diverging; _descent_bouncy_ shows how this has the result of taking many steps to train successfully."
      ]
    },
    {
      "cell_type": "markdown",
      "metadata": {
        "id": "l49316NNJa-g"
      },
      "source": [
        "<img alt=\"An illustation of gradient descent with a bouncy LR\" width=\"400\" caption=\"Gradient descent with bouncy LR\" src=\"https://github.com/fastai/fastbook/blob/master/images/chapter2_bouncy.svg?raw=1\" id=\"descent_bouncy\"/>"
      ]
    },
    {
      "cell_type": "markdown",
      "metadata": {
        "id": "dVAzpMSAJa-0"
      },
      "source": [
        "Now let's apply all of this in an end-to-end example."
      ]
    },
    {
      "cell_type": "markdown",
      "metadata": {
        "id": "Zp2J8H-GJa-3"
      },
      "source": [
        "## An End-to-End SGD Example"
      ]
    },
    {
      "cell_type": "markdown",
      "metadata": {
        "id": "OIIo46mvJa-5"
      },
      "source": [
        "We've seen how to use gradients to find a minimum. Now it's time to look at an SGD example and see how finding a minimum can be used to train a model to fit data better.\n",
        "\n",
        "Let's start with a simple, synthetic, example model. Imagine you were measuring the speed of a roller coaster as it went over the top of a hump. It would start fast, and then get slower as it went up the hill; it would be slowest at the top, and it would then speed up again as it went downhill. You want to build a model of how the speed changes over time. If you were measuring the speed manually every second for 20 seconds, it might look something like this:"
      ]
    },
    {
      "cell_type": "code",
      "execution_count": null,
      "metadata": {
        "colab": {
          "base_uri": "https://localhost:8080/"
        },
        "id": "fq6Sxf1sJa-7",
        "outputId": "9f733aba-a215-495e-e689-f1175f03a39e"
      },
      "outputs": [
        {
          "output_type": "execute_result",
          "data": {
            "text/plain": [
              "tensor([-10.,  -9.,  -8.,  -7.,  -6.,  -5.,  -4.,  -3.,  -2.,  -1.,   0.,   1.,   2.,   3.,   4.,   5.,   6.,   7.,   8.,   9.,  10.])"
            ]
          },
          "metadata": {},
          "execution_count": 355
        }
      ],
      "source": [
        "time = torch.arange(-10,11).float()\n",
        "time"
      ]
    },
    {
      "cell_type": "code",
      "execution_count": null,
      "metadata": {
        "colab": {
          "base_uri": "https://localhost:8080/",
          "height": 458
        },
        "id": "SfZjmnpbJa--",
        "outputId": "ec5e18de-ef21-4292-ee0c-2856d057e47c"
      },
      "outputs": [
        {
          "output_type": "execute_result",
          "data": {
            "text/plain": [
              "(-10.0, 100.0)"
            ]
          },
          "metadata": {},
          "execution_count": 358
        },
        {
          "output_type": "display_data",
          "data": {
            "text/plain": [
              "<Figure size 640x480 with 1 Axes>"
            ],
            "image/png": "[encoded data removed]"
          },
          "metadata": {}
        }
      ],
      "source": [
        "torch.manual_seed(42)\n",
        "pos = torch.randn(21)*2 + 0.75*(time)**2 +1 #Define a posição em função do tempo\n",
        "ax=plt.subplots()[1]\n",
        "ax.scatter(time,pos)\n",
        "ax.set_ylim(-10,100)"
      ]
    },
    {
      "cell_type": "markdown",
      "metadata": {
        "id": "AHg1WDhMJa_B"
      },
      "source": [
        "We've added a bit of random noise, since measuring things manually isn't precise. This means it's not that easy to answer the question: what was the roller coaster's speed? Using SGD we can try to find a function that matches our observations. We can't consider every possible function, so let's use a guess that it will be quadratic; i.e., a function of the form `a*(time**2)+(b*time)+c`.\n",
        "\n",
        "We want to distinguish clearly between the function's input (the time when we are measuring the coaster's speed) and its parameters (the values that define *which* quadratic we're trying). So, let's collect the parameters in one argument and thus separate the input, `t`, and the parameters, `params`, in the function's signature:"
      ]
    },
    {
      "cell_type": "code",
      "execution_count": null,
      "metadata": {
        "id": "mNYfrlD8Ja_D"
      },
      "outputs": [],
      "source": [
        "def loc(t, params): #Define a localização(posição)\n",
        "    a,b,c = params\n",
        "    return a*(t**2) + (b*t) + c"
      ]
    },
    {
      "cell_type": "markdown",
      "metadata": {
        "id": "0tghL-zzJa_F"
      },
      "source": [
        "In other words, we've restricted the problem of finding the best imaginable function that fits the data, to finding the best *quadratic* function. This greatly simplifies the problem, since every quadratic function is fully defined by the three parameters `a`, `b`, and `c`. Thus, to find the best quadratic function, we only need to find the best values for `a`, `b`, and `c`.\n",
        "\n",
        "If we can solve this problem for the three parameters of a quadratic function, we'll be able to apply the same approach for other, more complex functions with more parameters—such as a neural net. Let's find the parameters for `f` first, and then we'll come back and do the same thing for the MNIST dataset with a neural net.\n",
        "\n",
        "We need to define first what we mean by \"best.\" We define this precisely by choosing a *loss function*, which will return a value based on a prediction and a target, where lower values of the function correspond to \"better\" predictions. It is important for loss functions to return _lower_ values when predictions are more accurate, as the SGD procedure we defined earlier will try to _minimize_ this loss. For continuous data, it's common to use *mean squared error*:"
      ]
    },
    {
      "cell_type": "code",
      "execution_count": null,
      "metadata": {
        "id": "IKZMLr6yJa_H"
      },
      "outputs": [],
      "source": [
        "def mse(prev, targets): return ((prev-targets)**2).mean()\n"
      ]
    },
    {
      "cell_type": "markdown",
      "metadata": {
        "id": "MkanHiYBJa_J"
      },
      "source": [
        "Now, let's work through our 7 step process."
      ]
    },
    {
      "cell_type": "markdown",
      "metadata": {
        "id": "n5xU-14xJa_M"
      },
      "source": [
        "#### Step 1: Initialize the parameters"
      ]
    },
    {
      "cell_type": "markdown",
      "metadata": {
        "id": "yqYuAqxTJa_O"
      },
      "source": [
        "First, we initialize the parameters to random values, and tell PyTorch that we want to track their gradients, using `requires_grad_`:"
      ]
    },
    {
      "cell_type": "code",
      "execution_count": null,
      "metadata": {
        "colab": {
          "base_uri": "https://localhost:8080/"
        },
        "id": "KrfPEHGjJa_Q",
        "outputId": "b5a90b78-4701-4ce9-a2b5-2641234c1d26"
      },
      "outputs": [
        {
          "output_type": "execute_result",
          "data": {
            "text/plain": [
              "tensor([0.3367, 0.1288, 0.2345], requires_grad=True)"
            ]
          },
          "metadata": {},
          "execution_count": 402
        }
      ],
      "source": [
        "torch.manual_seed(42)\n",
        "params = torch.randn(3).requires_grad_()\n",
        "params"
      ]
    },
    {
      "cell_type": "code",
      "execution_count": null,
      "metadata": {
        "id": "zJ8ROLvjJa_S"
      },
      "outputs": [],
      "source": [
        "#Salva os parâmetros originais 'seed(42)'\n",
        "orig_params = params.clone()"
      ]
    },
    {
      "cell_type": "markdown",
      "metadata": {
        "id": "nvzCfm6yJa_U"
      },
      "source": [
        "#### Step 2: Calculate the predictions"
      ]
    },
    {
      "cell_type": "markdown",
      "metadata": {
        "id": "I8V6V66WJa_W"
      },
      "source": [
        "Next, we calculate the predictions:"
      ]
    },
    {
      "cell_type": "code",
      "execution_count": null,
      "metadata": {
        "colab": {
          "base_uri": "https://localhost:8080/"
        },
        "id": "WWunj9K0Ja_X",
        "outputId": "a81e99de-678d-4f11-b349-a3c6dcbf4c17"
      },
      "outputs": [
        {
          "output_type": "execute_result",
          "data": {
            "text/plain": [
              "tensor([32.6154, 26.3471, 20.7522, 15.8306, 11.5825,  8.0077,  5.1063,  2.8782,  1.3236,  0.4423,  0.2345,  0.7000,  1.8388,  3.6511,  6.1367,  9.2958, 13.1282, 17.6340, 22.8131, 28.6657, 35.1916],\n",
              "       grad_fn=<AddBackward0>)"
            ]
          },
          "metadata": {},
          "execution_count": 365
        }
      ],
      "source": [
        "preds = loc(time, params)\n",
        "preds"
      ]
    },
    {
      "cell_type": "markdown",
      "metadata": {
        "id": "_ah3T9-mJa_Z"
      },
      "source": [
        "Let's create a little function to see how close our predictions are to our targets, and take a look:"
      ]
    },
    {
      "cell_type": "code",
      "execution_count": null,
      "metadata": {
        "id": "BRz8UbYMJa_b"
      },
      "outputs": [],
      "source": [
        "def show_preds(preds, ax=None):\n",
        "    if ax is None: ax=plt.subplots()[1]\n",
        "    ax.scatter(time, pos)\n",
        "    ax.scatter(time, to_np(preds), color='red') # Preds em vermelho\n",
        "    ax.set_ylim(-10,100)\n",
        "    print(f'Loss: {mse(preds, pos).item():.2f}')"
      ]
    },
    {
      "cell_type": "markdown",
      "metadata": {
        "id": "yx_-z_ynJa_f"
      },
      "source": [
        "This doesn't look very close—our random parameters suggest that the roller coaster will end up going backwards, since we have negative speeds!"
      ]
    },
    {
      "cell_type": "markdown",
      "metadata": {
        "id": "_asMGuuzJa_h"
      },
      "source": [
        "#### Step 3: Calculate the loss"
      ]
    },
    {
      "cell_type": "markdown",
      "metadata": {
        "id": "B4afIPFkJa_j"
      },
      "source": [
        "We calculate the loss as follows:"
      ]
    },
    {
      "cell_type": "code",
      "execution_count": null,
      "metadata": {
        "colab": {
          "base_uri": "https://localhost:8080/"
        },
        "id": "RS9JOePCJa_l",
        "outputId": "ec0dbf34-61ae-4b53-816a-9fbcc9982713"
      },
      "outputs": [
        {
          "output_type": "execute_result",
          "data": {
            "text/plain": [
              "tensor(463.8544, grad_fn=<MeanBackward0>)"
            ]
          },
          "metadata": {},
          "execution_count": 454
        }
      ],
      "source": [
        "loss = mse(preds, pos)\n",
        "loss"
      ]
    },
    {
      "cell_type": "markdown",
      "metadata": {
        "id": "VGK2UpW0Ja_n"
      },
      "source": [
        "Our goal is now to improve this. To do that, we'll need to know the gradients."
      ]
    },
    {
      "cell_type": "markdown",
      "metadata": {
        "id": "raltmR6WJa_p"
      },
      "source": [
        "#### Step 4: Calculate the gradients"
      ]
    },
    {
      "cell_type": "markdown",
      "metadata": {
        "id": "So8nea78Ja_q"
      },
      "source": [
        "The next step is to calculate the gradients. In other words, calculate an approximation of how the parameters need to change:"
      ]
    },
    {
      "cell_type": "code",
      "execution_count": null,
      "metadata": {
        "colab": {
          "base_uri": "https://localhost:8080/"
        },
        "id": "QbyA0xTmJa_t",
        "outputId": "4c27958d-2c9f-4f16-ba84-e641a2b130f1"
      },
      "outputs": [
        {
          "output_type": "execute_result",
          "data": {
            "text/plain": [
              "tensor([-22738.4082,  -1458.2965,   -100.4681])"
            ]
          },
          "metadata": {},
          "execution_count": 263
        }
      ],
      "source": [
        "loss.backward()\n",
        "params.grad"
      ]
    },
    {
      "cell_type": "code",
      "execution_count": null,
      "metadata": {
        "id": "BSpGXBHcJa_v"
      },
      "outputs": [],
      "source": [
        "lr = 3e-4 #Learning Rate => Valor adequado para o problema"
      ]
    },
    {
      "cell_type": "markdown",
      "metadata": {
        "id": "koJfB83pJa_x"
      },
      "source": [
        "We can use these gradients to improve our parameters. We'll need to pick a learning rate (we'll discuss how to do that in practice in the next chapter; for now we'll just use 1e-5, or 0.00001):"
      ]
    },
    {
      "cell_type": "code",
      "execution_count": null,
      "metadata": {
        "colab": {
          "base_uri": "https://localhost:8080/"
        },
        "id": "X6FKTWtt1RRH",
        "outputId": "f7dd2cae-a32c-4193-c765-b8d749317b84"
      },
      "outputs": [
        {
          "output_type": "execute_result",
          "data": {
            "text/plain": [
              "tensor([0.3367, 0.1288, 0.2345], requires_grad=True)"
            ]
          },
          "metadata": {},
          "execution_count": 148
        }
      ],
      "source": [
        "params"
      ]
    },
    {
      "cell_type": "markdown",
      "metadata": {
        "id": "pK7lal8eJa_1"
      },
      "source": [
        "#### Step 5: Step the weights."
      ]
    },
    {
      "cell_type": "markdown",
      "metadata": {
        "id": "EimNGPEEJa_3"
      },
      "source": [
        "Now we need to update the parameters based on the gradients we just calculated:"
      ]
    },
    {
      "cell_type": "code",
      "execution_count": null,
      "metadata": {
        "id": "-iYy-G8XJa_5"
      },
      "outputs": [],
      "source": [
        "params.data -= lr * params.grad.data\n",
        "params.grad = None"
      ]
    },
    {
      "cell_type": "markdown",
      "metadata": {
        "id": "XqxxMyLKJa_7"
      },
      "source": [
        "> a: Understanding this bit depends on remembering recent history. To calculate the gradients we call `backward` on the `loss`. But this `loss` was itself calculated by `mse`, which in turn took `preds` as an input, which was calculated using `f` taking as an input `params`, which was the object on which we originally called `requires_grad_`—which is the original call that now allows us to call `backward` on `loss`. This chain of function calls represents the mathematical composition of functions, which enables PyTorch to use calculus's chain rule under the hood to calculate these gradients."
      ]
    },
    {
      "cell_type": "markdown",
      "metadata": {
        "id": "KaqBjeRWJa_9"
      },
      "source": [
        "Let's see if the loss has improved:"
      ]
    },
    {
      "cell_type": "code",
      "execution_count": null,
      "metadata": {
        "colab": {
          "base_uri": "https://localhost:8080/"
        },
        "id": "gxJ1NQjDJa_-",
        "outputId": "9ba01ff4-d2aa-4c2b-96c2-86414da91ee4"
      },
      "outputs": [
        {
          "output_type": "execute_result",
          "data": {
            "text/plain": [
              "tensor(21.0788, grad_fn=<MeanBackward0>)"
            ]
          },
          "metadata": {},
          "execution_count": 471
        }
      ],
      "source": [
        "preds = f(time,params)\n",
        "mse(preds, pos)"
      ]
    },
    {
      "cell_type": "markdown",
      "metadata": {
        "id": "6OyNim8sJbAA"
      },
      "source": [
        "And take a look at the plot:"
      ]
    },
    {
      "cell_type": "code",
      "execution_count": null,
      "metadata": {
        "colab": {
          "base_uri": "https://localhost:8080/",
          "height": 458
        },
        "id": "BjbFZ9UXJbAC",
        "outputId": "1a8dbaad-6605-4d52-8b46-86f4c7ae1f7b"
      },
      "outputs": [
        {
          "output_type": "stream",
          "name": "stdout",
          "text": [
            "Loss: 9568.82\n"
          ]
        },
        {
          "output_type": "display_data",
          "data": {
            "text/plain": [
              "<Figure size 640x480 with 1 Axes>"
            ],
            "image/png": "[encoded data removed]"
          },
          "metadata": {}
        }
      ],
      "source": [
        "show_preds(f(time,params))"
      ]
    },
    {
      "cell_type": "markdown",
      "metadata": {
        "id": "Zfs4f4EiJbAF"
      },
      "source": [
        "We need to repeat this a few times, so we'll create a function to apply one step:"
      ]
    },
    {
      "cell_type": "code",
      "execution_count": null,
      "metadata": {
        "id": "mhqMIiFkJbAG"
      },
      "outputs": [],
      "source": [
        "def apply_step(params, prn=True):\n",
        "    preds = f(time, params)\n",
        "    loss = mse(preds, pos)\n",
        "    loss.backward()\n",
        "    params.data -= lr * params.grad.data\n",
        "    params.grad = None\n",
        "    if prn: print(loss.item())\n",
        "    return preds"
      ]
    },
    {
      "cell_type": "code",
      "source": [
        "apply_step(params)\n",
        "params"
      ],
      "metadata": {
        "colab": {
          "base_uri": "https://localhost:8080/"
        },
        "id": "caA_1JKMRZgB",
        "outputId": "eac7cd3b-136e-4b5b-c0d5-06bb3aa762b3"
      },
      "execution_count": null,
      "outputs": [
        {
          "output_type": "stream",
          "name": "stdout",
          "text": [
            "14.652593612670898\n"
          ]
        },
        {
          "output_type": "execute_result",
          "data": {
            "text/plain": [
              "tensor([ 0.7813,  0.4011, -0.3513], requires_grad=True)"
            ]
          },
          "metadata": {},
          "execution_count": 526
        }
      ]
    },
    {
      "cell_type": "markdown",
      "metadata": {
        "id": "X-C664SjJbAI"
      },
      "source": [
        "#### Step 6: Repeat the process"
      ]
    },
    {
      "cell_type": "markdown",
      "metadata": {
        "id": "u2XEhQJ-JbAK"
      },
      "source": [
        "Now we iterate. By looping and performing many improvements, we hope to reach a good result:"
      ]
    },
    {
      "cell_type": "code",
      "execution_count": null,
      "metadata": {
        "colab": {
          "base_uri": "https://localhost:8080/",
          "height": 476
        },
        "id": "lpFVjwpTJbAM",
        "outputId": "3a55fb96-14bf-48e8-b58b-fa3e7ebc3e12"
      },
      "outputs": [
        {
          "output_type": "stream",
          "name": "stdout",
          "text": [
            "9.500247955322266\n",
            "Loss: 9.34\n"
          ]
        },
        {
          "output_type": "display_data",
          "data": {
            "text/plain": [
              "<Figure size 640x480 with 1 Axes>"
            ],
            "image/png": "[encoded data removed]"
          },
          "metadata": {}
        }
      ],
      "source": [
        "for i in range(10): apply_step(params, prn=False)\n",
        "apply_step(params, prn=True)\n",
        "show_preds(f(time,params))"
      ]
    },
    {
      "cell_type": "code",
      "execution_count": null,
      "metadata": {
        "id": "-Vs8cZF-JbAO"
      },
      "outputs": [],
      "source": [
        "#hide\n",
        "params = orig_params.detach().requires_grad_()"
      ]
    },
    {
      "cell_type": "code",
      "execution_count": null,
      "metadata": {
        "colab": {
          "base_uri": "https://localhost:8080/"
        },
        "outputId": "cbdc8f8c-a9da-47f7-f830-66c07915515e",
        "id": "9pQlL_vRhw3d"
      },
      "outputs": [
        {
          "output_type": "execute_result",
          "data": {
            "text/plain": [
              "tensor([-1.2075,  0.5493, -0.3856], requires_grad=True)"
            ]
          },
          "metadata": {},
          "execution_count": 545
        }
      ],
      "source": [
        "torch.manual_seed(2023)\n",
        "params = torch.randn(3).requires_grad_()\n",
        "params"
      ]
    },
    {
      "cell_type": "markdown",
      "metadata": {
        "id": "IJ_2dpSxJbAQ"
      },
      "source": [
        "The loss is going down, just as we hoped! But looking only at these loss numbers disguises the fact that each iteration represents an entirely different quadratic function being tried, on the way to finding the best possible quadratic function. We can see this process visually if, instead of printing out the loss function, we plot the function at every step. Then we can see how the shape is approaching the best possible quadratic function for our data:"
      ]
    },
    {
      "cell_type": "code",
      "execution_count": null,
      "metadata": {
        "colab": {
          "base_uri": "https://localhost:8080/",
          "height": 376
        },
        "id": "wjXb5fWlJbAS",
        "outputId": "6266dde4-12d5-45f6-983a-1cddf5ee0f0b"
      },
      "outputs": [
        {
          "output_type": "stream",
          "name": "stdout",
          "text": [
            "Loss: 9568.82\n",
            "Loss: 1935.95\n",
            "Loss: 403.88\n",
            "Loss: 95.95\n",
            "Loss: 33.65\n",
            "Loss: 20.65\n",
            "Loss: 17.58\n",
            "Loss: 16.51\n",
            "Loss: 15.87\n",
            "Loss: 15.33\n"
          ]
        },
        {
          "output_type": "display_data",
          "data": {
            "text/plain": [
              "<Figure size 3000x300 with 10 Axes>"
            ],
            "image/png": "[encoded data removed]"
          },
          "metadata": {}
        }
      ],
      "source": [
        "_,axs = plt.subplots(1,10,figsize=(30,3))\n",
        "for ax in axs: show_preds(apply_step(params, False), ax)\n",
        "plt.tight_layout()"
      ]
    },
    {
      "cell_type": "markdown",
      "metadata": {
        "id": "Jp4hmXHdJbAU"
      },
      "source": [
        "#### Step 7: stop"
      ]
    },
    {
      "cell_type": "markdown",
      "metadata": {
        "id": "8hYnXDzPJbAW"
      },
      "source": [
        "We just decided to stop after 10 epochs arbitrarily. In practice, we would watch the training and validation losses and our metrics to decide when to stop, as we've discussed."
      ]
    },
    {
      "cell_type": "markdown",
      "metadata": {
        "id": "hEegN6gzJbAX"
      },
      "source": [
        "### Summarizing Gradient Descent"
      ]
    },
    {
      "cell_type": "code",
      "execution_count": null,
      "metadata": {
        "colab": {
          "base_uri": "https://localhost:8080/",
          "height": 125
        },
        "id": "uM3JIL3TJbAZ",
        "outputId": "d6fa7f37-1fc0-441e-c970-85230349a56e"
      },
      "outputs": [
        {
          "output_type": "execute_result",
          "data": {
            "image/svg+xml": "<?xml version=\"1.0\" encoding=\"UTF-8\" standalone=\"no\"?>\n<!DOCTYPE svg PUBLIC \"-//W3C//DTD SVG 1.1//EN\"\n \"http://www.w3.org/Graphics/SVG/1.1/DTD/svg11.dtd\">\n<!-- Generated by graphviz version 2.43.0 (0)\n -->\n<!-- Title: G Pages: 1 -->\n<svg width=\"591pt\" height=\"78pt\"\n viewBox=\"0.00 0.00 591.49 78.00\" xmlns=\"http://www.w3.org/2000/svg\" xmlns:xlink=\"http://www.w3.org/1999/xlink\">\n<g id=\"graph0\" class=\"graph\" transform=\"scale(1 1) rotate(0) translate(4 74)\">\n<title>G</title>\n<polygon fill=\"white\" stroke=\"transparent\" points=\"-4,4 -4,-74 587.49,-74 587.49,4 -4,4\"/>\n<!-- init -->\n<g id=\"node1\" class=\"node\">\n<title>init</title>\n<ellipse fill=\"none\" stroke=\"black\" cx=\"27\" cy=\"-18\" rx=\"27\" ry=\"18\"/>\n<text text-anchor=\"middle\" x=\"27\" y=\"-14.3\" font-family=\"Times,serif\" font-size=\"14.00\">init</text>\n</g>\n<!-- predict -->\n<g id=\"node2\" class=\"node\">\n<title>predict</title>\n<ellipse fill=\"none\" stroke=\"black\" cx=\"126.1\" cy=\"-18\" rx=\"35.19\" ry=\"18\"/>\n<text text-anchor=\"middle\" x=\"126.1\" y=\"-14.3\" font-family=\"Times,serif\" font-size=\"14.00\">predict</text>\n</g>\n<!-- init&#45;&gt;predict -->\n<g id=\"edge1\" class=\"edge\">\n<title>init&#45;&gt;predict</title>\n<path fill=\"none\" stroke=\"black\" d=\"M54.02,-18C62.26,-18 71.62,-18 80.78,-18\"/>\n<polygon fill=\"black\" stroke=\"black\" points=\"80.96,-21.5 90.96,-18 80.96,-14.5 80.96,-21.5\"/>\n</g>\n<!-- loss -->\n<g id=\"node3\" class=\"node\">\n<title>loss</title>\n<ellipse fill=\"none\" stroke=\"black\" cx=\"225.19\" cy=\"-52\" rx=\"27\" ry=\"18\"/>\n<text text-anchor=\"middle\" x=\"225.19\" y=\"-48.3\" font-family=\"Times,serif\" font-size=\"14.00\">loss</text>\n</g>\n<!-- predict&#45;&gt;loss -->\n<g id=\"edge2\" class=\"edge\">\n<title>predict&#45;&gt;loss</title>\n<path fill=\"none\" stroke=\"black\" d=\"M155.44,-27.93C166.61,-31.84 179.52,-36.36 191.11,-40.42\"/>\n<polygon fill=\"black\" stroke=\"black\" points=\"190.29,-43.84 200.88,-43.84 192.6,-37.23 190.29,-43.84\"/>\n</g>\n<!-- gradient -->\n<g id=\"node4\" class=\"node\">\n<title>gradient</title>\n<ellipse fill=\"none\" stroke=\"black\" cx=\"361.84\" cy=\"-52\" rx=\"39.79\" ry=\"18\"/>\n<text text-anchor=\"middle\" x=\"361.84\" y=\"-48.3\" font-family=\"Times,serif\" font-size=\"14.00\">gradient</text>\n</g>\n<!-- loss&#45;&gt;gradient -->\n<g id=\"edge3\" class=\"edge\">\n<title>loss&#45;&gt;gradient</title>\n<path fill=\"none\" stroke=\"black\" d=\"M252.47,-52C269.35,-52 291.8,-52 311.88,-52\"/>\n<polygon fill=\"black\" stroke=\"black\" points=\"312.13,-55.5 322.13,-52 312.13,-48.5 312.13,-55.5\"/>\n</g>\n<!-- step -->\n<g id=\"node5\" class=\"node\">\n<title>step</title>\n<ellipse fill=\"none\" stroke=\"black\" cx=\"465.49\" cy=\"-18\" rx=\"27\" ry=\"18\"/>\n<text text-anchor=\"middle\" x=\"465.49\" y=\"-14.3\" font-family=\"Times,serif\" font-size=\"14.00\">step</text>\n</g>\n<!-- gradient&#45;&gt;step -->\n<g id=\"edge4\" class=\"edge\">\n<title>gradient&#45;&gt;step</title>\n<path fill=\"none\" stroke=\"black\" d=\"M394.17,-41.52C405.92,-37.59 419.32,-33.11 431.25,-29.12\"/>\n<polygon fill=\"black\" stroke=\"black\" points=\"432.48,-32.4 440.85,-25.91 430.26,-25.76 432.48,-32.4\"/>\n</g>\n<!-- step&#45;&gt;predict -->\n<g id=\"edge6\" class=\"edge\">\n<title>step&#45;&gt;predict</title>\n<path fill=\"none\" stroke=\"black\" d=\"M438.29,-18C380.72,-18 242.6,-18 171.32,-18\"/>\n<polygon fill=\"black\" stroke=\"black\" points=\"171.3,-14.5 161.3,-18 171.3,-21.5 171.3,-14.5\"/>\n<text text-anchor=\"middle\" x=\"287.19\" y=\"-21.8\" font-family=\"Times,serif\" font-size=\"14.00\">repeat</text>\n</g>\n<!-- stop -->\n<g id=\"node6\" class=\"node\">\n<title>stop</title>\n<ellipse fill=\"none\" stroke=\"black\" cx=\"556.49\" cy=\"-18\" rx=\"27\" ry=\"18\"/>\n<text text-anchor=\"middle\" x=\"556.49\" y=\"-14.3\" font-family=\"Times,serif\" font-size=\"14.00\">stop</text>\n</g>\n<!-- step&#45;&gt;stop -->\n<g id=\"edge5\" class=\"edge\">\n<title>step&#45;&gt;stop</title>\n<path fill=\"none\" stroke=\"black\" d=\"M492.71,-18C501.04,-18 510.4,-18 519.3,-18\"/>\n<polygon fill=\"black\" stroke=\"black\" points=\"519.45,-21.5 529.45,-18 519.45,-14.5 519.45,-21.5\"/>\n</g>\n</g>\n</svg>\n",
            "text/plain": [
              "<graphviz.sources.Source at 0x7c15f3a2fdc0>"
            ]
          },
          "metadata": {},
          "execution_count": 2
        }
      ],
      "source": [
        "#hide_input\n",
        "#id gradient_descent\n",
        "#caption The gradient descent process\n",
        "#alt Graph showing the steps for Gradient Descent\n",
        "gv('''\n",
        "init->predict->loss->gradient->step->stop\n",
        "step->predict[label=repeat]\n",
        "''')"
      ]
    },
    {
      "cell_type": "markdown",
      "metadata": {
        "id": "fybRE3gNJbAc"
      },
      "source": [
        "To summarize, at the beginning, the weights of our model can be random (training *from scratch*) or come from a pretrained model (*transfer learning*). In the first case, the output we will get from our inputs won't have anything to do with what we want, and even in the second case, it's very likely the pretrained model won't be very good at the specific task we are targeting. So the model will need to *learn* better weights.\n",
        "\n",
        "We begin by comparing the outputs the model gives us with our targets (we have labeled data, so we know what result the model should give) using a *loss function*, which returns a number that we want to make as low as possible by improving our weights. To do this, we take a few data items (such as images) from the training set and feed them to our model. We compare the corresponding targets using our loss function, and the score we get tells us how wrong our predictions were. We then change the weights a little bit to make it slightly better.\n",
        "\n",
        "To find how to change the weights to make the loss a bit better, we use calculus to calculate the *gradients*. (Actually, we let PyTorch do it for us!) Let's consider an analogy. Imagine you are lost in the mountains with your car parked at the lowest point. To find your way back to it, you might wander in a random direction, but that probably wouldn't help much. Since you know your vehicle is at the lowest point, you would be better off going downhill. By always taking a step in the direction of the steepest downward slope, you should eventually arrive at your destination. We use the magnitude of the gradient (i.e., the steepness of the slope) to tell us how big a step to take; specifically, we multiply the gradient by a number we choose called the *learning rate* to decide on the step size. We then *iterate* until we have reached the lowest point, which will be our parking lot, then we can *stop*.\n",
        "\n",
        "All of that we just saw can be transposed directly to the MNIST dataset, except for the loss function. Let's now see how we can define a good training objective."
      ]
    },
    {
      "cell_type": "markdown",
      "metadata": {
        "id": "0IJR5jYdJbAe"
      },
      "source": [
        "## The MNIST Loss Function"
      ]
    },
    {
      "cell_type": "code",
      "execution_count": null,
      "metadata": {
        "id": "I7vDEx0j6l4A"
      },
      "outputs": [],
      "source": [
        "#hide\n",
        "path = untar_data(URLs.MNIST_SAMPLE) #path = Path('.')\n",
        "Path.BASE_PATH = path\n",
        "threes = (path/'train'/'3').ls().sorted()\n",
        "sevens = (path/'train'/'7').ls().sorted()\n",
        "seven_tensors = [tensor(Image.open(o)) for o in sevens]\n",
        "three_tensors = [tensor(Image.open(o)) for o in threes]\n",
        "stacked_sevens = torch.stack(seven_tensors).float()/255\n",
        "stacked_threes = torch.stack(three_tensors).float()/255\n",
        "valid_3_tens = torch.stack([tensor(Image.open(o))\n",
        "                            for o in (path/'valid'/'3').ls()])\n",
        "valid_3_tens = valid_3_tens.float()/255\n",
        "valid_7_tens = torch.stack([tensor(Image.open(o))\n",
        "                            for o in (path/'valid'/'7').ls()])\n",
        "valid_7_tens = valid_7_tens.float()/255"
      ]
    },
    {
      "cell_type": "code",
      "source": [
        "len(three_tensors),len(valid_3_tens)"
      ],
      "metadata": {
        "colab": {
          "base_uri": "https://localhost:8080/"
        },
        "id": "lqg_N6QUG9TU",
        "outputId": "0d4b2999-fb8e-481c-c4af-2209e74bb7c0"
      },
      "execution_count": null,
      "outputs": [
        {
          "output_type": "execute_result",
          "data": {
            "text/plain": [
              "(6131, 1010)"
            ]
          },
          "metadata": {},
          "execution_count": 16
        }
      ]
    },
    {
      "cell_type": "code",
      "execution_count": null,
      "metadata": {
        "id": "wcZpmJRj1cg6",
        "colab": {
          "base_uri": "https://localhost:8080/",
          "height": 37
        },
        "outputId": "7c322007-703c-4ec3-faf5-869304be9c32"
      },
      "outputs": [
        {
          "output_type": "display_data",
          "data": {
            "text/plain": [
              "<IPython.core.display.HTML object>"
            ],
            "text/html": [
              "\n",
              "<style>\n",
              "    /* Turns off some styling */\n",
              "    progress {\n",
              "        /* gets rid of default border in Firefox and Opera. */\n",
              "        border: none;\n",
              "        /* Needs to be in here for Safari polyfill so background images work as expected. */\n",
              "        background-size: auto;\n",
              "    }\n",
              "    progress:not([value]), progress:not([value])::-webkit-progress-bar {\n",
              "        background: repeating-linear-gradient(45deg, #7e7e7e, #7e7e7e 10px, #5c5c5c 10px, #5c5c5c 20px);\n",
              "    }\n",
              "    .progress-bar-interrupted, .progress-bar-interrupted::-webkit-progress-bar {\n",
              "        background: #F44336;\n",
              "    }\n",
              "</style>\n"
            ]
          },
          "metadata": {}
        },
        {
          "output_type": "display_data",
          "data": {
            "text/plain": [
              "<IPython.core.display.HTML object>"
            ],
            "text/html": [
              "\n",
              "    <div>\n",
              "      <progress value='3219456' class='' max='3214948' style='width:300px; height:20px; vertical-align: middle;'></progress>\n",
              "      100.14% [3219456/3214948 00:00&lt;00:00]\n",
              "    </div>\n",
              "    "
            ]
          },
          "metadata": {}
        }
      ],
      "source": [
        "#hide\n",
        "#Meu código\n",
        "path = untar_data(URLs.MNIST_SAMPLE) #path = Path('.')\n",
        "Path.BASE_PATH = path\n",
        "\n",
        "train_threes_tensors = torch.stack([tensor(Image.open(o)) for o in (path/'train'/'3').ls()]).float()/255\n",
        "train_seven_tensors = torch.stack([tensor(Image.open(o))  for o in (path/'train'/'7').ls()]).float()/255\n",
        "valid_threes_tensors = torch.stack([tensor(Image.open(o)) for o in (path/'valid'/'3').ls()]).float()/255\n",
        "valid_seven_tensors = torch.stack([tensor(Image.open(o))  for o in (path/'valid'/'7').ls()]).float()/255\n"
      ]
    },
    {
      "cell_type": "code",
      "execution_count": null,
      "metadata": {
        "colab": {
          "base_uri": "https://localhost:8080/",
          "height": 131
        },
        "id": "7cvqeL_A4ZRf",
        "outputId": "85027e73-df5a-4c4e-8963-884c10a5ac69"
      },
      "outputs": [
        {
          "data": {
            "text/plain": [
              "<Axes: >"
            ]
          },
          "execution_count": 13,
          "metadata": {},
          "output_type": "execute_result"
        },
        {
          "data": {
            "image/png": "[encoded data removed]",
            "text/plain": [
              "<Figure size 100x100 with 1 Axes>"
            ]
          },
          "metadata": {},
          "output_type": "display_data"
        }
      ],
      "source": [
        "show_image(valid_seven_tensors[500])"
      ]
    },
    {
      "cell_type": "markdown",
      "metadata": {
        "id": "SPYJRTO4JbAf"
      },
      "source": [
        "We already have our independent variables `x`—these are the images themselves. We'll concatenate them all into a single tensor, and also change them from a list of matrices (a rank-3 tensor) to a list of vectors (a rank-2 tensor). We can do this using `view`, which is a PyTorch method that changes the shape of a tensor without changing its contents. `-1` is a special parameter to `view` that means \"make this axis as big as necessary to fit all the data\":"
      ]
    },
    {
      "cell_type": "code",
      "execution_count": null,
      "metadata": {
        "id": "9vN-HfnjJbAh"
      },
      "outputs": [],
      "source": [
        "train_x = torch.cat([stacked_threes, stacked_sevens]).view(-1, 28*28)"
      ]
    },
    {
      "cell_type": "markdown",
      "metadata": {
        "id": "fXFDYZw9JbAl"
      },
      "source": [
        "We need a label for each image. We'll use `1` for 3s and `0` for 7s:"
      ]
    },
    {
      "cell_type": "code",
      "execution_count": null,
      "metadata": {
        "colab": {
          "base_uri": "https://localhost:8080/"
        },
        "id": "eY8IScw4JbAn",
        "outputId": "d63cce7b-a3a7-4262-c5e3-5cf7c729ef60"
      },
      "outputs": [
        {
          "output_type": "execute_result",
          "data": {
            "text/plain": [
              "(torch.Size([12396, 784]), torch.Size([12396, 1]))"
            ]
          },
          "metadata": {},
          "execution_count": 4
        }
      ],
      "source": [
        "train_y = tensor([1]*len(threes) + [0]*len(sevens)).unsqueeze(1)  #Unsqueeze adiciona uma dimensão de tamanho 1 ao final\n",
        "train_x.shape,train_y.shape"
      ]
    },
    {
      "cell_type": "code",
      "execution_count": null,
      "metadata": {
        "id": "kqTxugxndu-U"
      },
      "outputs": [],
      "source": [
        "train_y = tensor([1]*len(threes) + [0]*len(sevens)) # torch.Size([12396])"
      ]
    },
    {
      "cell_type": "code",
      "execution_count": null,
      "metadata": {
        "colab": {
          "base_uri": "https://localhost:8080/"
        },
        "id": "klX7Jdk9emTb",
        "outputId": "d9e184d6-5dc4-4d8d-c58f-3f50256f8cd5"
      },
      "outputs": [
        {
          "output_type": "execute_result",
          "data": {
            "text/plain": [
              "torch.Size([12396])"
            ]
          },
          "metadata": {},
          "execution_count": 4
        }
      ],
      "source": [
        "train_y.shape # torch.Size([12396])"
      ]
    },
    {
      "cell_type": "code",
      "execution_count": null,
      "metadata": {
        "colab": {
          "base_uri": "https://localhost:8080/"
        },
        "id": "zW2invt_d1lt",
        "outputId": "804efa41-8d8f-468c-d616-48c287bf0e72"
      },
      "outputs": [
        {
          "output_type": "execute_result",
          "data": {
            "text/plain": [
              "torch.Size([12396, 1])"
            ]
          },
          "metadata": {},
          "execution_count": 5
        }
      ],
      "source": [
        "train_y.unsqueeze(1).shape  # torch.Size([12396, 1])"
      ]
    },
    {
      "cell_type": "code",
      "source": [
        "train_y[:10], train_y[12390:] #No começo temos os três (1 = 'é três') e no final os setes (0 = 'não é três')"
      ],
      "metadata": {
        "colab": {
          "base_uri": "https://localhost:8080/"
        },
        "id": "HqP0PoLh__QS",
        "outputId": "3921e3bf-f0d9-4861-fbee-111f32c7137a"
      },
      "execution_count": null,
      "outputs": [
        {
          "output_type": "execute_result",
          "data": {
            "text/plain": [
              "(tensor([1, 1, 1, 1, 1, 1, 1, 1, 1, 1]), tensor([0, 0, 0, 0, 0, 0]))"
            ]
          },
          "metadata": {},
          "execution_count": 7
        }
      ]
    },
    {
      "cell_type": "markdown",
      "metadata": {
        "id": "jg0RKBN3JbAp"
      },
      "source": [
        "A `Dataset` in PyTorch is required to return a tuple of `(x,y)` when indexed. Python provides a `zip` function which, when combined with `list`, provides a simple way to get this functionality:"
      ]
    },
    {
      "cell_type": "code",
      "execution_count": null,
      "metadata": {
        "colab": {
          "base_uri": "https://localhost:8080/"
        },
        "id": "h3BBW7XeJbAq",
        "outputId": "7e250cc5-2f7a-4e31-d8d3-ddce6a010f70"
      },
      "outputs": [
        {
          "output_type": "stream",
          "name": "stdout",
          "text": [
            "Quantidade de dados: 12396 || Dados com \"três\" : torch.Size([784])  | tensor([1]) || \"sete\" : torch.Size([784]) | tensor([0])\n"
          ]
        }
      ],
      "source": [
        "dset = list(zip(train_x,train_y)) #Train data set\n",
        "x,y = dset[0]\n",
        "w, z = dset[12000]\n",
        "print(f'Quantidade de dados: {len(dset)} || Dados com \"três\" : {x.shape}  | {y} || \"sete\" : {w.shape} | {z}')"
      ]
    },
    {
      "cell_type": "code",
      "execution_count": null,
      "metadata": {
        "id": "3sgQYqHqJbAt",
        "colab": {
          "base_uri": "https://localhost:8080/"
        },
        "outputId": "9d9bd450-66f2-477e-c55b-3a7f3c098fb9"
      },
      "outputs": [
        {
          "output_type": "stream",
          "name": "stdout",
          "text": [
            "Quantidade de dados: 2038 || Dados com \"três\" : torch.Size([784])  | tensor([1]) || \"sete\" : torch.Size([784]) | tensor([0])\n"
          ]
        }
      ],
      "source": [
        "valid_x = torch.cat([valid_3_tens, valid_7_tens]).view(-1, 28*28)\n",
        "valid_y = tensor([1]*len(valid_3_tens) + [0]*len(valid_7_tens)).unsqueeze(1)\n",
        "valid_dset = list(zip(valid_x,valid_y)) #Valid data set\n",
        "x,y = valid_dset[0]\n",
        "w,z = valid_dset[2000]\n",
        "print(f'Quantidade de dados: {len(valid_dset)} || Dados com \"três\" : {x.shape}  | {y} || \"sete\" : {w.shape} | {z}')"
      ]
    },
    {
      "cell_type": "markdown",
      "metadata": {
        "id": "AI0z0kg0JbAw"
      },
      "source": [
        "Now we need an (initially random) weight for every pixel (this is the *initialize* step in our seven-step process):"
      ]
    },
    {
      "cell_type": "code",
      "execution_count": null,
      "metadata": {
        "id": "uButsHaEJbAy"
      },
      "outputs": [],
      "source": [
        "def init_params(size, std=1.0): return (torch.randn(size)*std).requires_grad_()"
      ]
    },
    {
      "cell_type": "code",
      "execution_count": null,
      "metadata": {
        "colab": {
          "base_uri": "https://localhost:8080/"
        },
        "id": "c6oEVerDJbA0",
        "outputId": "253586cc-6655-4e22-fecf-6eba950a8b1a"
      },
      "outputs": [
        {
          "output_type": "execute_result",
          "data": {
            "text/plain": [
              "tensor([[ 1.9269],\n",
              "        [ 1.4873],\n",
              "        [ 0.9007],\n",
              "        [-2.1055],\n",
              "        [ 0.6784],\n",
              "        [-1.2345],\n",
              "        [-0.0431],\n",
              "        [-1.6047],\n",
              "        [-0.7521],\n",
              "        [ 1.6487]], grad_fn=<SliceBackward0>)"
            ]
          },
          "metadata": {},
          "execution_count": 8
        }
      ],
      "source": [
        "torch.manual_seed(42)\n",
        "weights = init_params((28*28,1))\n",
        "weights[:10]"
      ]
    },
    {
      "cell_type": "markdown",
      "metadata": {
        "id": "w269lNb-JbA1"
      },
      "source": [
        "The function `weights*pixels` won't be flexible enough—it is always equal to 0 when the pixels are equal to 0 (i.e., its *intercept* is 0). You might remember from high school math that the formula for a line is `y=w*x+b`; we still need the `b`. We'll initialize it to a random number too:"
      ]
    },
    {
      "cell_type": "code",
      "execution_count": null,
      "metadata": {
        "colab": {
          "base_uri": "https://localhost:8080/"
        },
        "id": "5A095-E-JbA3",
        "outputId": "279faae5-365b-420d-cebc-ce2d902767a1"
      },
      "outputs": [
        {
          "output_type": "execute_result",
          "data": {
            "text/plain": [
              "tensor([0.3472], requires_grad=True)"
            ]
          },
          "metadata": {},
          "execution_count": 9
        }
      ],
      "source": [
        "bias = init_params(1) #Apenas 1 valor comum de bias para todos os weights pois só temos 1 camada\n",
        "bias"
      ]
    },
    {
      "cell_type": "markdown",
      "metadata": {
        "id": "hGKfJ6UTJbA5"
      },
      "source": [
        "In neural networks, the `w` in the equation `y=w*x+b` is called the *weights*, and the `b` is called the *bias*. Together, the weights and bias make up the *parameters*."
      ]
    },
    {
      "cell_type": "markdown",
      "metadata": {
        "id": "EfRWd1WvJbA7"
      },
      "source": [
        "> jargon: Parameters: The _weights_ and _biases_ of a model. The weights are the `w` in the equation `w*x+b`, and the biases are the `b` in that equation."
      ]
    },
    {
      "cell_type": "markdown",
      "metadata": {
        "id": "YasGJCLnJbA9"
      },
      "source": [
        "We can now calculate a prediction for one image:"
      ]
    },
    {
      "cell_type": "code",
      "execution_count": null,
      "metadata": {
        "colab": {
          "base_uri": "https://localhost:8080/"
        },
        "id": "b16QC1uCJbA_",
        "outputId": "868b131a-ad79-49b2-fba7-12e86956475d"
      },
      "outputs": [
        {
          "output_type": "execute_result",
          "data": {
            "text/plain": [
              "tensor([-6.2330], grad_fn=<AddBackward0>)"
            ]
          },
          "metadata": {},
          "execution_count": 18
        }
      ],
      "source": [
        "#Você pode fazer:\n",
        "(train_x[0]*weights.T).sum() + bias"
      ]
    },
    {
      "cell_type": "code",
      "source": [
        "print(train_x[0].shape, weights.shape)"
      ],
      "metadata": {
        "colab": {
          "base_uri": "https://localhost:8080/"
        },
        "id": "lcvFKJLBHjCT",
        "outputId": "c7e19d3b-49f9-46a6-bcd6-5d83a7edd13e"
      },
      "execution_count": null,
      "outputs": [
        {
          "output_type": "stream",
          "name": "stdout",
          "text": [
            "torch.Size([784]) torch.Size([784, 1])\n"
          ]
        }
      ]
    },
    {
      "cell_type": "code",
      "source": [
        "#Voce pode fazer:\n",
        "(train_x[0]@weights).sum() + bias"
      ],
      "metadata": {
        "colab": {
          "base_uri": "https://localhost:8080/"
        },
        "id": "CZ69a6bDFDmR",
        "outputId": "5ae74ba3-4569-4d00-f1d2-fd185179440d"
      },
      "execution_count": null,
      "outputs": [
        {
          "output_type": "execute_result",
          "data": {
            "text/plain": [
              "tensor([-6.2330], grad_fn=<AddBackward0>)"
            ]
          },
          "metadata": {},
          "execution_count": 19
        }
      ]
    },
    {
      "cell_type": "code",
      "source": [
        "#Você pode fazer:\n",
        "(train_x[0]*weights).sum() + bias"
      ],
      "metadata": {
        "colab": {
          "base_uri": "https://localhost:8080/"
        },
        "id": "cAc2hnX3GLmI",
        "outputId": "686aa747-a9b2-41ad-acad-af0f133039c2"
      },
      "execution_count": null,
      "outputs": [
        {
          "output_type": "execute_result",
          "data": {
            "text/plain": [
              "tensor([2060.0984], grad_fn=<AddBackward0>)"
            ]
          },
          "metadata": {},
          "execution_count": 20
        }
      ]
    },
    {
      "cell_type": "code",
      "source": [
        "#Voce NÃO pode fazer:\n",
        "(train_x[0]@weights.T).sum() + bias"
      ],
      "metadata": {
        "colab": {
          "base_uri": "https://localhost:8080/",
          "height": 194
        },
        "outputId": "bcfecc3d-4b59-423d-a01a-e50a63ea86f6",
        "id": "FUyCwrBuGMES"
      },
      "execution_count": null,
      "outputs": [
        {
          "output_type": "error",
          "ename": "RuntimeError",
          "evalue": "ignored",
          "traceback": [
            "\u001b[0;31m---------------------------------------------------------------------------\u001b[0m",
            "\u001b[0;31mRuntimeError\u001b[0m                              Traceback (most recent call last)",
            "\u001b[0;32m<ipython-input-21-f18bcca785b9>\u001b[0m in \u001b[0;36m<cell line: 2>\u001b[0;34m()\u001b[0m\n\u001b[1;32m      1\u001b[0m \u001b[0;31m#Voce NÃO pode fazer:\u001b[0m\u001b[0;34m\u001b[0m\u001b[0;34m\u001b[0m\u001b[0m\n\u001b[0;32m----> 2\u001b[0;31m \u001b[0;34m(\u001b[0m\u001b[0mtrain_x\u001b[0m\u001b[0;34m[\u001b[0m\u001b[0;36m0\u001b[0m\u001b[0;34m]\u001b[0m\u001b[0;34m@\u001b[0m\u001b[0mweights\u001b[0m\u001b[0;34m.\u001b[0m\u001b[0mT\u001b[0m\u001b[0;34m)\u001b[0m\u001b[0;34m.\u001b[0m\u001b[0msum\u001b[0m\u001b[0;34m(\u001b[0m\u001b[0;34m)\u001b[0m \u001b[0;34m+\u001b[0m \u001b[0mbias\u001b[0m\u001b[0;34m\u001b[0m\u001b[0;34m\u001b[0m\u001b[0m\n\u001b[0m",
            "\u001b[0;31mRuntimeError\u001b[0m: mat1 and mat2 shapes cannot be multiplied (1x784 and 1x784)"
          ]
        }
      ]
    },
    {
      "cell_type": "markdown",
      "source": [
        "###TESTES COM TENSORES"
      ],
      "metadata": {
        "id": "rShdrJ-fKBeK"
      }
    },
    {
      "cell_type": "code",
      "source": [
        "A = tensor([1,2,3])"
      ],
      "metadata": {
        "id": "bGcM3j7CI1PI"
      },
      "execution_count": null,
      "outputs": []
    },
    {
      "cell_type": "code",
      "source": [
        "B = tensor([[2,4,5]])"
      ],
      "metadata": {
        "id": "FmwlHu7fJJoC"
      },
      "execution_count": null,
      "outputs": []
    },
    {
      "cell_type": "code",
      "source": [
        "C = tensor([[3],[5],[7]])"
      ],
      "metadata": {
        "id": "3T1rxd9WKcPc"
      },
      "execution_count": null,
      "outputs": []
    },
    {
      "cell_type": "code",
      "source": [
        "D = tensor([[[3,2,2],[5,4,4],[7,1,1]],[[5,7,9],[9,2,5],[11,1,1]],[[13,3,3],[15,5,5],[17,2,3]],[[3,2,2],[5,4,4],[7,1,1]],[[5,7,9],[9,2,5],[11,1,1]],[[13,3,3],[15,5,5],[17,2,3]]])"
      ],
      "metadata": {
        "id": "YvG_B3M9ffxl"
      },
      "execution_count": null,
      "outputs": []
    },
    {
      "cell_type": "code",
      "source": [
        "dlD = DataLoader(D, batch_size=4, shuffle=True)"
      ],
      "metadata": {
        "id": "Hc6gp2LVgjCW"
      },
      "execution_count": null,
      "outputs": []
    },
    {
      "cell_type": "code",
      "source": [
        "print(first(A),first(B), first(C), first(dlD))"
      ],
      "metadata": {
        "colab": {
          "base_uri": "https://localhost:8080/"
        },
        "id": "w5_1NvpnfN0-",
        "outputId": "4709006e-4ce9-4fc2-ac45-0846b9cf38f1"
      },
      "execution_count": null,
      "outputs": [
        {
          "output_type": "stream",
          "name": "stdout",
          "text": [
            "tensor(1) tensor([2, 4, 5]) tensor([3]) tensor([[[ 5,  7,  9],\n",
            "         [ 9,  2,  5],\n",
            "         [11,  1,  1]],\n",
            "\n",
            "        [[ 3,  2,  2],\n",
            "         [ 5,  4,  4],\n",
            "         [ 7,  1,  1]],\n",
            "\n",
            "        [[ 3,  2,  2],\n",
            "         [ 5,  4,  4],\n",
            "         [ 7,  1,  1]],\n",
            "\n",
            "        [[ 5,  7,  9],\n",
            "         [ 9,  2,  5],\n",
            "         [11,  1,  1]]])\n"
          ]
        }
      ]
    },
    {
      "cell_type": "code",
      "source": [
        "for c,e in enumerate(dlD):\n",
        "  print(f'Count{c} - Tensor {e} - Shape {e.shape}')"
      ],
      "metadata": {
        "colab": {
          "base_uri": "https://localhost:8080/"
        },
        "id": "Dvc1_RWUh-M0",
        "outputId": "c71ccb43-7cf4-47ef-b93f-5da9eb9b733f"
      },
      "execution_count": null,
      "outputs": [
        {
          "output_type": "stream",
          "name": "stdout",
          "text": [
            "Count0 - Tensor tensor([[[13,  3,  3],\n",
            "         [15,  5,  5],\n",
            "         [17,  2,  3]],\n",
            "\n",
            "        [[ 3,  2,  2],\n",
            "         [ 5,  4,  4],\n",
            "         [ 7,  1,  1]],\n",
            "\n",
            "        [[ 3,  2,  2],\n",
            "         [ 5,  4,  4],\n",
            "         [ 7,  1,  1]],\n",
            "\n",
            "        [[ 5,  7,  9],\n",
            "         [ 9,  2,  5],\n",
            "         [11,  1,  1]]]) - Shape torch.Size([4, 3, 3])\n",
            "Count1 - Tensor tensor([[[13,  3,  3],\n",
            "         [15,  5,  5],\n",
            "         [17,  2,  3]],\n",
            "\n",
            "        [[ 5,  7,  9],\n",
            "         [ 9,  2,  5],\n",
            "         [11,  1,  1]]]) - Shape torch.Size([2, 3, 3])\n"
          ]
        }
      ]
    },
    {
      "cell_type": "code",
      "source": [
        "C\n",
        "# tensor([[3],\n",
        "#         [5],   #Muda de linha\n",
        "#         [7]])  #Muda de linha"
      ],
      "metadata": {
        "colab": {
          "base_uri": "https://localhost:8080/"
        },
        "id": "nDdoLmG1TlwB",
        "outputId": "1220a4c6-ada1-4eef-ce71-5a6588ef0f20"
      },
      "execution_count": null,
      "outputs": [
        {
          "output_type": "execute_result",
          "data": {
            "text/plain": [
              "tensor([[3],\n",
              "        [5],\n",
              "        [7]])"
            ]
          },
          "metadata": {},
          "execution_count": 53
        }
      ]
    },
    {
      "cell_type": "code",
      "source": [
        "#NOTE AS DIFERENÇAS!\n",
        "print(A.shape, B.shape, C.shape)"
      ],
      "metadata": {
        "colab": {
          "base_uri": "https://localhost:8080/"
        },
        "id": "HanzogukKnYQ",
        "outputId": "1966a0ef-2c88-47f3-b3c4-4e11c4a53e17"
      },
      "execution_count": null,
      "outputs": [
        {
          "output_type": "stream",
          "name": "stdout",
          "text": [
            "torch.Size([3]) torch.Size([1, 3]) torch.Size([3, 1])\n"
          ]
        }
      ]
    },
    {
      "cell_type": "code",
      "source": [
        "AT = A.T\n",
        "BT = B.T\n",
        "CT = C.T"
      ],
      "metadata": {
        "colab": {
          "base_uri": "https://localhost:8080/"
        },
        "id": "LoRBiMpZNHv_",
        "outputId": "37295fed-71c8-4627-9755-60debf7866fa"
      },
      "execution_count": null,
      "outputs": [
        {
          "output_type": "stream",
          "name": "stderr",
          "text": [
            "<ipython-input-44-b3bf64746c41>:1: UserWarning: The use of `x.T` on tensors of dimension other than 2 to reverse their shape is deprecated and it will throw an error in a future release. Consider `x.mT` to transpose batches of matrices or `x.permute(*torch.arange(x.ndim - 1, -1, -1))` to reverse the dimensions of a tensor. (Triggered internally at ../aten/src/ATen/native/TensorShape.cpp:3571.)\n",
            "  AT = A.T\n"
          ]
        }
      ]
    },
    {
      "cell_type": "code",
      "source": [
        "#NOTE AS DIFERENÇAS!\n",
        "print(AT.shape, BT.shape, CT.shape)"
      ],
      "metadata": {
        "colab": {
          "base_uri": "https://localhost:8080/"
        },
        "outputId": "49c8fbd0-7c47-4619-facd-b71cec71488a",
        "id": "T76pD5fBNb9K"
      },
      "execution_count": null,
      "outputs": [
        {
          "output_type": "stream",
          "name": "stdout",
          "text": [
            "torch.Size([3]) torch.Size([3, 1]) torch.Size([1, 3])\n"
          ]
        }
      ]
    },
    {
      "cell_type": "code",
      "source": [
        "B@A\n",
        "# [[2,4,5]] @ [1,2,3]\n",
        "# 2x1 + 4x2 + 3x5\n",
        "# 2 + 8 + 15\n",
        "# 25"
      ],
      "metadata": {
        "colab": {
          "base_uri": "https://localhost:8080/"
        },
        "id": "JlWlunllNvpM",
        "outputId": "d3c1af52-efa9-4400-8ba7-c721a9eddaea"
      },
      "execution_count": null,
      "outputs": [
        {
          "output_type": "execute_result",
          "data": {
            "text/plain": [
              "tensor([25])"
            ]
          },
          "metadata": {},
          "execution_count": 47
        }
      ]
    },
    {
      "cell_type": "code",
      "source": [
        "A@B\n",
        "# [1,2,3] @ [[2,4,5]]\n",
        "# mat1 and mat2 shapes cannot be multiplied (1x3 and 1x3)"
      ],
      "metadata": {
        "id": "mIzF07dROpTP"
      },
      "execution_count": null,
      "outputs": []
    },
    {
      "cell_type": "code",
      "source": [
        "BT"
      ],
      "metadata": {
        "colab": {
          "base_uri": "https://localhost:8080/"
        },
        "id": "0d32_P4cPr8Y",
        "outputId": "eba38ffe-6650-4ddb-a53d-422f338ea262"
      },
      "execution_count": null,
      "outputs": [
        {
          "output_type": "execute_result",
          "data": {
            "text/plain": [
              "tensor([[2],\n",
              "        [4],\n",
              "        [5]])"
            ]
          },
          "metadata": {},
          "execution_count": 50
        }
      ]
    },
    {
      "cell_type": "code",
      "source": [
        "A@BT\n",
        "# [1,2,3] @ [[2],[4],[5]]\n",
        "# = 25"
      ],
      "metadata": {
        "colab": {
          "base_uri": "https://localhost:8080/"
        },
        "id": "fsbK_CDTPXhQ",
        "outputId": "f094b3bf-7d4f-4370-d982-476d3ab4c1ac"
      },
      "execution_count": null,
      "outputs": [
        {
          "output_type": "execute_result",
          "data": {
            "text/plain": [
              "tensor([25])"
            ]
          },
          "metadata": {},
          "execution_count": 51
        }
      ]
    },
    {
      "cell_type": "markdown",
      "source": [
        "###MULTIPLICAÇÃO DE MATRIZES"
      ],
      "metadata": {
        "id": "K9ozrjfrKIMX"
      }
    },
    {
      "cell_type": "markdown",
      "metadata": {
        "id": "TOE4SmqBJbBB"
      },
      "source": [
        "While we could use a Python `for` loop to calculate the prediction for each image, that would be very slow. Because Python loops don't run on the GPU, and because Python is a slow language for loops in general, we need to represent as much of the computation in a model as possible using higher-level functions.\n",
        "\n",
        "In this case, there's an extremely convenient mathematical operation that calculates `w*x` for every row of a matrix—it's called *matrix multiplication*. `matmul` shows what matrix multiplication looks like."
      ]
    },
    {
      "cell_type": "markdown",
      "metadata": {
        "id": "htDbkeG3JbBD"
      },
      "source": [
        "<img alt=\"Matrix multiplication\" width=\"400\" caption=\"Matrix multiplication\" src=\"https://github.com/fastai/fastbook/blob/master/images/matmul2.svg?raw=1\" id=\"matmul\"/>"
      ]
    },
    {
      "cell_type": "markdown",
      "metadata": {
        "id": "vQFIpfJ4JbBF"
      },
      "source": [
        "This image shows two matrices, `A` and `B`, being multiplied together. Each item of the result, which we'll call `AB`, contains each item of its corresponding row of `A` multiplied by each item of its corresponding column of `B`, added together. For instance, row 1, column 2 (the yellow dot with a red border) is calculated as $a_{1,1} * b_{1,2} + a_{1,2} * b_{2,2}$. If you need a refresher on matrix multiplication, we suggest you take a look at the [Intro to Matrix Multiplication](https://youtu.be/kT4Mp9EdVqs) on *Khan Academy*, since this is the most important mathematical operation in deep learning.\n",
        "\n",
        "In Python, matrix multiplication is represented with the `@` operator. Let's try it:"
      ]
    },
    {
      "cell_type": "code",
      "execution_count": null,
      "metadata": {
        "colab": {
          "base_uri": "https://localhost:8080/"
        },
        "id": "5b6BTDLBJbBH",
        "outputId": "00243668-7afc-4062-8fb4-48d53f4e5341"
      },
      "outputs": [
        {
          "output_type": "execute_result",
          "data": {
            "text/plain": [
              "tensor([[ -6.2330],\n",
              "        [-10.6388],\n",
              "        [-20.8865],\n",
              "        ...,\n",
              "        [-15.9176],\n",
              "        [ -1.6866],\n",
              "        [-11.3568]], grad_fn=<AddBackward0>)"
            ]
          },
          "metadata": {},
          "execution_count": 20
        }
      ],
      "source": [
        "def linear1(xb): return xb@weights + bias\n",
        "preds = linear1(train_x)  #Previsão de train\n",
        "preds"
      ]
    },
    {
      "cell_type": "code",
      "source": [
        "pred_valid = linear1(valid_x) #Previsão de valid\n",
        "pred_valid[:10]"
      ],
      "metadata": {
        "colab": {
          "base_uri": "https://localhost:8080/"
        },
        "id": "0s5M8dKDVH9H",
        "outputId": "1ee15d50-f5e0-4592-9a8a-a4cde97e5428"
      },
      "execution_count": null,
      "outputs": [
        {
          "output_type": "execute_result",
          "data": {
            "text/plain": [
              "tensor([[ -2.0459],\n",
              "        [-11.9123],\n",
              "        [ -7.1058],\n",
              "        [  2.6594],\n",
              "        [-15.3298],\n",
              "        [ -2.1248],\n",
              "        [-13.9984],\n",
              "        [ -2.4277],\n",
              "        [  3.0313],\n",
              "        [ -3.1061]], grad_fn=<SliceBackward0>)"
            ]
          },
          "metadata": {},
          "execution_count": 16
        }
      ]
    },
    {
      "cell_type": "code",
      "execution_count": null,
      "metadata": {
        "id": "xRpLmcZNq5kn"
      },
      "outputs": [],
      "source": [
        "Wei = tensor([[1,2,3],[1,2,3]])\n",
        "Dt = tensor ([[2,4,6],[1,2,3],[2,2,2]])"
      ]
    },
    {
      "cell_type": "code",
      "execution_count": null,
      "metadata": {
        "id": "7gyCi5PZu3Pi"
      },
      "outputs": [],
      "source": [
        "DtT = Dt.T"
      ]
    },
    {
      "cell_type": "code",
      "execution_count": null,
      "metadata": {
        "colab": {
          "base_uri": "https://localhost:8080/"
        },
        "id": "DqplWFlfwWp0",
        "outputId": "13820e58-f466-45e4-f9a6-d5b5d402a417"
      },
      "outputs": [
        {
          "data": {
            "text/plain": [
              "tensor([[28, 14, 12],\n",
              "        [28, 14, 12]])"
            ]
          },
          "execution_count": 22,
          "metadata": {},
          "output_type": "execute_result"
        }
      ],
      "source": [
        "Wei@DtT"
      ]
    },
    {
      "cell_type": "code",
      "execution_count": null,
      "metadata": {
        "colab": {
          "base_uri": "https://localhost:8080/"
        },
        "id": "zu89s920sGcI",
        "outputId": "78120b51-7880-4ab1-c7ce-48624bf49fe7"
      },
      "outputs": [
        {
          "data": {
            "text/plain": [
              "tensor([[10, 14, 18],\n",
              "        [10, 14, 18]])"
            ]
          },
          "execution_count": 20,
          "metadata": {},
          "output_type": "execute_result"
        }
      ],
      "source": [
        "Wei@Dt"
      ]
    },
    {
      "cell_type": "markdown",
      "metadata": {
        "id": "c5SUsXUjJbBJ"
      },
      "source": [
        "The first element is the same as we calculated before, as we'd expect. This equation, `batch@weights + bias`, is one of the two fundamental equations of any neural network (the other one is the *activation function*, which we'll see in a moment)."
      ]
    },
    {
      "cell_type": "markdown",
      "metadata": {
        "id": "PJC2Hsf0JbBL"
      },
      "source": [
        "Let's check our accuracy. To decide if an output represents a 3 or a 7, we can just check whether it's greater than 0.0, so our accuracy for each item can be calculated (using broadcasting, so no loops!) with:"
      ]
    },
    {
      "cell_type": "code",
      "execution_count": null,
      "metadata": {
        "colab": {
          "base_uri": "https://localhost:8080/"
        },
        "id": "B2BptRtsJbBN",
        "outputId": "fe5907ee-9947-4543-effc-79a796df9b37"
      },
      "outputs": [
        {
          "output_type": "execute_result",
          "data": {
            "text/plain": [
              "tensor([[False, False, False,  ...,  True,  True,  True],\n",
              "        [False, False, False,  ...,  True,  True,  True],\n",
              "        [False, False, False,  ...,  True,  True,  True],\n",
              "        ...,\n",
              "        [False, False, False,  ...,  True,  True,  True],\n",
              "        [False, False, False,  ...,  True,  True,  True],\n",
              "        [False, False, False,  ...,  True,  True,  True]])"
            ]
          },
          "metadata": {},
          "execution_count": 12
        }
      ],
      "source": [
        "corrects = (preds>0.0).float() == train_y\n",
        "corrects"
      ]
    },
    {
      "cell_type": "code",
      "execution_count": null,
      "metadata": {
        "id": "BBeMzm8awItu"
      },
      "outputs": [],
      "source": [
        "Z = zip(preds[:20], corrects[:20])"
      ]
    },
    {
      "cell_type": "code",
      "execution_count": null,
      "metadata": {
        "colab": {
          "base_uri": "https://localhost:8080/"
        },
        "id": "_Ghssctnwbdz",
        "outputId": "5fd3e874-a3b8-49e6-850c-6ec91d1f7779"
      },
      "outputs": [
        {
          "name": "stdout",
          "output_type": "stream",
          "text": [
            "(tensor([-6.2330], grad_fn=<UnbindBackward0>), tensor([False]))\n",
            "(tensor([-10.6388], grad_fn=<UnbindBackward0>), tensor([False]))\n",
            "(tensor([-20.8865], grad_fn=<UnbindBackward0>), tensor([False]))\n",
            "(tensor([-17.8700], grad_fn=<UnbindBackward0>), tensor([False]))\n",
            "(tensor([-1.3607], grad_fn=<UnbindBackward0>), tensor([False]))\n",
            "(tensor([1.4861], grad_fn=<UnbindBackward0>), tensor([True]))\n",
            "(tensor([-4.8140], grad_fn=<UnbindBackward0>), tensor([False]))\n",
            "(tensor([-15.2588], grad_fn=<UnbindBackward0>), tensor([False]))\n",
            "(tensor([-1.3656], grad_fn=<UnbindBackward0>), tensor([False]))\n",
            "(tensor([-24.8612], grad_fn=<UnbindBackward0>), tensor([False]))\n",
            "(tensor([-21.1996], grad_fn=<UnbindBackward0>), tensor([False]))\n",
            "(tensor([-18.9604], grad_fn=<UnbindBackward0>), tensor([False]))\n",
            "(tensor([-10.4690], grad_fn=<UnbindBackward0>), tensor([False]))\n",
            "(tensor([-4.0691], grad_fn=<UnbindBackward0>), tensor([False]))\n",
            "(tensor([-21.9560], grad_fn=<UnbindBackward0>), tensor([False]))\n",
            "(tensor([-8.7499], grad_fn=<UnbindBackward0>), tensor([False]))\n",
            "(tensor([-16.6553], grad_fn=<UnbindBackward0>), tensor([False]))\n",
            "(tensor([-2.5689], grad_fn=<UnbindBackward0>), tensor([False]))\n",
            "(tensor([-11.4546], grad_fn=<UnbindBackward0>), tensor([False]))\n",
            "(tensor([-18.2565], grad_fn=<UnbindBackward0>), tensor([False]))\n"
          ]
        }
      ],
      "source": [
        "for e in Z:\n",
        "    print(e)"
      ]
    },
    {
      "cell_type": "code",
      "execution_count": null,
      "metadata": {
        "id": "CrVh86KoJbBP",
        "outputId": "114f20f9-8011-43bc-9ed0-5f6787758fe6"
      },
      "outputs": [
        {
          "data": {
            "text/plain": [
              "0.4912068545818329"
            ]
          },
          "execution_count": null,
          "metadata": {},
          "output_type": "execute_result"
        }
      ],
      "source": [
        "corrects.float().mean().item()"
      ]
    },
    {
      "cell_type": "markdown",
      "metadata": {
        "id": "_XxeIVWwJbBS"
      },
      "source": [
        "Now let's see what the change in accuracy is for a small change in one of the weights (note that we have to ask PyTorch not to calculate gradients as we do this, which is what `with torch.no_grad()` is doing here):"
      ]
    },
    {
      "cell_type": "code",
      "execution_count": null,
      "metadata": {
        "id": "AnHne99WJbBT"
      },
      "outputs": [],
      "source": [
        "with torch.no_grad(): weights[0] *= 1.0001"
      ]
    },
    {
      "cell_type": "code",
      "execution_count": null,
      "metadata": {
        "id": "mvxmDAb4JbBV",
        "outputId": "992da967-b128-4ef6-fd1b-a980ac5ad3f5"
      },
      "outputs": [
        {
          "data": {
            "text/plain": [
              "0.4912068545818329"
            ]
          },
          "execution_count": null,
          "metadata": {},
          "output_type": "execute_result"
        }
      ],
      "source": [
        "preds = linear1(train_x)\n",
        "((preds>0.0).float() == train_y).float().mean().item()"
      ]
    },
    {
      "cell_type": "markdown",
      "metadata": {
        "id": "ooH6pwaWJbBX"
      },
      "source": [
        "As we've seen, we need gradients in order to improve our model using SGD, and in order to calculate gradients we need some *loss function* that represents how good our model is. That is because the gradients are a measure of how that loss function changes with small tweaks to the weights.\n",
        "\n",
        "So, we need to choose a loss function. The obvious approach would be to use accuracy, which is our metric, as our loss function as well. In this case, we would calculate our prediction for each image, collect these values to calculate an overall accuracy, and then calculate the gradients of each weight with respect to that overall accuracy.\n",
        "\n",
        "Unfortunately, we have a significant technical problem here. The gradient of a function is its *slope*, or its steepness, which can be defined as *rise over run*—that is, how much the value of the function goes up or down, divided by how much we changed the input. We can write this in mathematically as: `(y_new - y_old) / (x_new - x_old)`. This gives us a good approximation of the gradient when `x_new` is very similar to `x_old`, meaning that their difference is very small. But accuracy only changes at all when a prediction changes from a 3 to a 7, or vice versa. The problem is that a small change in weights from `x_old` to `x_new` isn't likely to cause any prediction to change, so `(y_new - y_old)` will almost always be 0. In other words, the gradient is 0 almost everywhere."
      ]
    },
    {
      "cell_type": "markdown",
      "metadata": {
        "id": "dgKZMAu0JbBY"
      },
      "source": [
        "A very small change in the value of a weight will often not actually change the accuracy at all. This means it is not useful to use accuracy as a loss function—if we do, most of the time our gradients will actually be 0, and the model will not be able to learn from that number.\n",
        "\n",
        "> S: In mathematical terms, accuracy is a function that is constant almost everywhere (except at the threshold, 0.5), so its derivative is nil almost everywhere (and infinity at the threshold). This then gives gradients that are 0 or infinite, which are useless for updating the model.\n",
        "\n",
        "Instead, we need a loss function which, when our weights result in slightly better predictions, gives us a slightly better loss. So what does a \"slightly better prediction\" look like, exactly? Well, in this case, it means that if the correct answer is a 3 the score is a little higher, or if the correct answer is a 7 the score is a little lower.\n",
        "\n",
        "Let's write such a function now. What form does it take?\n",
        "\n",
        "The loss function receives not the images themselves, but the predictions from the model. Let's make one argument, `prds`, of values between 0 and 1, where each value is the prediction that an image is a 3. It is a vector (i.e., a rank-1 tensor), indexed over the images.\n",
        "\n",
        "The purpose of the loss function is to measure the difference between predicted values and the true values — that is, the targets (aka labels). Let's make another argument, `trgts`, with values of 0 or 1 which tells whether an image actually is a 3 or not. It is also a vector (i.e., another rank-1 tensor), indexed over the images.\n",
        "\n",
        "So, for instance, suppose we had three images which we knew were a 3, a 7, and a 3. And suppose our model predicted with high confidence (`0.9`) that the first was a 3, with slight confidence (`0.4`) that the second was a 7, and with fair confidence (`0.2`), but incorrectly, that the last was a 7. This would mean our loss function would receive these values as its inputs:"
      ]
    },
    {
      "cell_type": "markdown",
      "metadata": {
        "id": "AXKzoOLjJbBg"
      },
      "source": [
        "We're using a new function, `torch.where(a,b,c)`. This is the same as running the list comprehension `[b[i] if a[i] else c[i] for i in range(len(a))]`, except it works on tensors, at C/CUDA speed. In plain English, this function will measure how distant each prediction is from 1 if it should be 1, and how distant it is from 0 if it should be 0, and then it will take the mean of all those distances.\n",
        "\n",
        "> note: Read the Docs: It's important to learn about PyTorch functions like this, because looping over tensors in Python performs at Python speed, not C/CUDA speed! Try running `help(torch.where)` now to read the docs for this function, or, better still, look it up on the PyTorch documentation site."
      ]
    },
    {
      "cell_type": "code",
      "execution_count": null,
      "metadata": {
        "id": "83HgSMe0APLk",
        "colab": {
          "base_uri": "https://localhost:8080/"
        },
        "outputId": "8dd8c371-adb9-426f-f609-541ad70609d3"
      },
      "outputs": [
        {
          "output_type": "execute_result",
          "data": {
            "text/plain": [
              "tensor([0.1000, 0.4000, 0.8000, 1.0000, 0.0000])"
            ]
          },
          "metadata": {},
          "execution_count": 3
        }
      ],
      "source": [
        "#torch.where(condition, input, other, *, out=None) → Tensor\n",
        "# EXEMPLO\n",
        "trgts  = tensor([1,0,1,0,0])\n",
        "prds   = tensor([0.9, 0.4, 0.2, 1.0, 0.])\n",
        "def m_l(predictions, targets):\n",
        "    return torch.where(targets==1, 1-predictions, predictions)  #Aqui não é a média\n",
        "R=m_l(prds,trgts)\n",
        "R"
      ]
    },
    {
      "cell_type": "code",
      "execution_count": null,
      "metadata": {
        "id": "UXH7fDtUJbBa"
      },
      "outputs": [],
      "source": [
        "trgts  = tensor([1,0,1])\n",
        "prds   = tensor([0.9, 0.4, 0.2])"
      ]
    },
    {
      "cell_type": "markdown",
      "metadata": {
        "id": "DCqtyDqzJbBc"
      },
      "source": [
        "Here's a first try at a loss function that measures the distance between `predictions` and `targets`:"
      ]
    },
    {
      "cell_type": "code",
      "execution_count": null,
      "metadata": {
        "id": "1kw71zG5JbBd"
      },
      "outputs": [],
      "source": [
        "def mnist_loss(predictions, targets):\n",
        "    return torch.where(targets==1, 1-predictions, predictions).mean() #Aqui utilizamos a média"
      ]
    },
    {
      "cell_type": "markdown",
      "metadata": {
        "id": "F1IdKGAWJbBm"
      },
      "source": [
        "You can see that this function returns a lower number when predictions are more accurate, when accurate predictions are more confident (higher absolute values), and when inaccurate predictions are less confident. In PyTorch, we always assume that a lower value of a loss function is better. Since we need a scalar for the final loss, `mnist_loss` takes the mean of the previous tensor:"
      ]
    },
    {
      "cell_type": "code",
      "execution_count": null,
      "metadata": {
        "colab": {
          "base_uri": "https://localhost:8080/"
        },
        "id": "OoO5w2LjJbBn",
        "outputId": "e22ae9ba-f583-4e6f-b744-092561244b45"
      },
      "outputs": [
        {
          "data": {
            "text/plain": [
              "tensor(0.4333)"
            ]
          },
          "execution_count": 41,
          "metadata": {},
          "output_type": "execute_result"
        }
      ],
      "source": [
        "mnist_loss(prds,trgts)"
      ]
    },
    {
      "cell_type": "markdown",
      "metadata": {
        "id": "_nqewp2DJbBq"
      },
      "source": [
        "For instance, if we change our prediction for the one \"false\" target from `0.2` to `0.8` the loss will go down, indicating that this is a better prediction:"
      ]
    },
    {
      "cell_type": "code",
      "execution_count": null,
      "metadata": {
        "colab": {
          "base_uri": "https://localhost:8080/"
        },
        "id": "vCBntugFJbBs",
        "outputId": "42224b88-b1a7-47be-8419-e254d20d2589"
      },
      "outputs": [
        {
          "data": {
            "text/plain": [
              "tensor(0.2333)"
            ]
          },
          "execution_count": 42,
          "metadata": {},
          "output_type": "execute_result"
        }
      ],
      "source": [
        "mnist_loss(tensor([0.9, 0.4, 0.8]),trgts)"
      ]
    },
    {
      "cell_type": "markdown",
      "metadata": {
        "id": "Td6nmKcEJbBu"
      },
      "source": [
        "One problem with `mnist_loss` as currently defined is that it assumes that predictions are always between 0 and 1. We need to ensure, then, that this is actually the case! As it happens, there is a function that does exactly that—let's take a look."
      ]
    },
    {
      "cell_type": "markdown",
      "metadata": {
        "id": "aMGyKmalJbBw"
      },
      "source": [
        "### Sigmoid"
      ]
    },
    {
      "cell_type": "markdown",
      "metadata": {
        "id": "Ns746l_HJbBy"
      },
      "source": [
        "The `sigmoid` function always outputs a number between 0 and 1. It's defined as follows:"
      ]
    },
    {
      "cell_type": "code",
      "execution_count": null,
      "metadata": {
        "id": "0SckxFEFJbB0"
      },
      "outputs": [],
      "source": [
        "def sigmoid(x): return 1/(1+torch.exp(-x))"
      ]
    },
    {
      "cell_type": "markdown",
      "metadata": {
        "id": "Ef4xZQNlJbB2"
      },
      "source": [
        "Pytorch defines an accelerated version for us, so we don’t really need our own. This is an important function in deep learning, since we often want to ensure values are between 0 and 1. This is what it looks like:"
      ]
    },
    {
      "cell_type": "code",
      "execution_count": null,
      "metadata": {
        "colab": {
          "base_uri": "https://localhost:8080/",
          "height": 214
        },
        "id": "IM3pDzSRJbB3",
        "outputId": "54780553-a44e-4df4-a146-f4cb671f1662"
      },
      "outputs": [
        {
          "data": {
            "image/png": "[encoded data removed]",
            "text/plain": [
              "<Figure size 600x400 with 1 Axes>"
            ]
          },
          "metadata": {},
          "output_type": "display_data"
        }
      ],
      "source": [
        "plot_function(torch.sigmoid, title='Sigmoid', min=-10, max=10)"
      ]
    },
    {
      "cell_type": "markdown",
      "metadata": {
        "id": "ObF5n62xJbB6"
      },
      "source": [
        "As you can see, it takes any input value, positive or negative, and smooshes it onto an output value between 0 and 1. It's also a smooth curve that only goes up, which makes it easier for SGD to find meaningful gradients.\n",
        "\n",
        "Let's update `mnist_loss` to first apply `sigmoid` to the inputs:"
      ]
    },
    {
      "cell_type": "code",
      "execution_count": null,
      "metadata": {
        "id": "uj1ufnrPJbB7"
      },
      "outputs": [],
      "source": [
        "def mnist_loss(predictions, targets):\n",
        "    predictions = predictions.sigmoid()\n",
        "    return torch.where(targets==1, 1-predictions, predictions).mean()"
      ]
    },
    {
      "cell_type": "markdown",
      "metadata": {
        "id": "sQTTah7xJbB9"
      },
      "source": [
        "Now we can be confident our loss function will work, even if the predictions are not between 0 and 1. All that is required is that a higher prediction corresponds to higher confidence an image is a 3.\n",
        "\n",
        "Having defined a loss function, now is a good moment to recapitulate why we did this. After all, we already had a metric, which was overall accuracy. So why did we define a loss?\n",
        "\n",
        "<font color='orange'>The key difference is that the metric is to drive human understanding and the loss is to drive automated learning. </font>\n",
        "\n",
        "To drive automated learning, the loss must be a function that has a meaningful derivative. It can't have big flat sections and large jumps, but instead must be reasonably smooth. This is why we designed a loss function that would respond to small changes in confidence level. This requirement means that sometimes it does not really reflect exactly what we are trying to achieve, but is rather a compromise between our real goal and a function that can be optimized using its gradient. The loss function is calculated for each item in our dataset, and then at the end of an epoch the loss values are all averaged and the overall mean is reported for the epoch.\n",
        "\n",
        "Metrics, on the other hand, are the numbers that we really care about. These are the values that are printed at the end of each epoch that tell us how our model is really doing. It is important that we learn to focus on these metrics, rather than the loss, when judging the performance of a model."
      ]
    },
    {
      "cell_type": "markdown",
      "metadata": {
        "id": "o7lWVtjdJbB_"
      },
      "source": [
        "### SGD and Mini-Batches"
      ]
    },
    {
      "cell_type": "markdown",
      "metadata": {
        "id": "DEoF6oUoJbCB"
      },
      "source": [
        "Now that we have a loss function that is suitable for driving SGD, we can consider some of the details involved in the next phase of the learning process, which is to change or update the weights based on the gradients. This is called an *optimization step*.\n",
        "\n",
        "In order to take an optimization step we need to calculate the loss over one or more data items. How many should we use? We could calculate it for the whole dataset, and take the average, or we could calculate it for a single data item. But neither of these is ideal. Calculating it for the whole dataset would take a very long time. Calculating it for a single item would not use much information, so it would result in a very imprecise and unstable gradient. That is, you'd be going to the trouble of updating the weights, but taking into account only how that would improve the model's performance on that single item.\n",
        "\n",
        "So instead we take a compromise between the two: we calculate the average loss for a few data items at a time. This is called a *mini-batch*. The number of data items in the mini-batch is called the *batch size*. A larger batch size means that you will get a more accurate and stable estimate of your dataset's gradients from the loss function, but it will take longer, and you will process fewer mini-batches per epoch. Choosing a good batch size is one of the decisions you need to make as a deep learning practitioner to train your model quickly and accurately. We will talk about how to make this choice throughout this book.\n",
        "\n",
        "Another good reason for using mini-batches rather than calculating the gradient on individual data items is that, in practice, we nearly always do our training on an accelerator such as a GPU. These accelerators only perform well if they have lots of work to do at a time, so it's helpful if we can give them lots of data items to work on. Using mini-batches is one of the best ways to do this. However, if you give them too much data to work on at once, they run out of memory—making GPUs happy is also tricky!\n",
        "\n",
        "As we saw in our discussion of data augmentation in _chapter_production_, we get better generalization if we can vary things during training. One simple and effective thing we can vary is what data items we put in each mini-batch. Rather than simply enumerating our dataset in order for every epoch, instead what we normally do is randomly shuffle it on every epoch, before we create mini-batches. PyTorch and fastai provide a class that will do the shuffling and mini-batch collation for you, called `DataLoader`.\n",
        "\n",
        "A `DataLoader` can take any Python collection and turn it into an iterator over mini-batches, like so:"
      ]
    },
    {
      "cell_type": "code",
      "execution_count": null,
      "metadata": {
        "colab": {
          "base_uri": "https://localhost:8080/"
        },
        "id": "SliYKiE1JbCE",
        "outputId": "36b41fc1-9cd9-42eb-e440-a27e34017923"
      },
      "outputs": [
        {
          "data": {
            "text/plain": [
              "[tensor([ 7, 14, 12,  8, 10]),\n",
              " tensor([ 2,  9,  4, 15,  3]),\n",
              " tensor([ 5,  1, 13,  0,  6]),\n",
              " tensor([11])]"
            ]
          },
          "execution_count": 47,
          "metadata": {},
          "output_type": "execute_result"
        }
      ],
      "source": [
        "#EXEMPLO 1\n",
        "coll = range(16)\n",
        "dl = DataLoader(coll, batch_size=5, shuffle=True)\n",
        "list(dl)"
      ]
    },
    {
      "cell_type": "markdown",
      "metadata": {
        "id": "T7NawSRZJbCG"
      },
      "source": [
        "For training a model, we don't just want any Python collection, but a collection containing independent and dependent variables (that is, the inputs and targets of the model). A collection that contains tuples of independent and dependent variables is known in PyTorch as a `Dataset`. Here's an example of an extremely simple `Dataset`:"
      ]
    },
    {
      "cell_type": "code",
      "execution_count": null,
      "metadata": {
        "id": "OsX3WJFsJbCI",
        "outputId": "64b0879f-7b62-4461-f1b1-db594abc13de"
      },
      "outputs": [
        {
          "data": {
            "text/plain": [
              "(#26) [(0, 'a'),(1, 'b'),(2, 'c'),(3, 'd'),(4, 'e'),(5, 'f'),(6, 'g'),(7, 'h'),(8, 'i'),(9, 'j')...]"
            ]
          },
          "execution_count": null,
          "metadata": {},
          "output_type": "execute_result"
        }
      ],
      "source": [
        "ds = L(enumerate(string.ascii_lowercase))\n",
        "ds"
      ]
    },
    {
      "cell_type": "markdown",
      "metadata": {
        "id": "qTh6WinjJbCL"
      },
      "source": [
        "When we pass a `Dataset` to a `DataLoader` we will get back mini-batches which are themselves tuples of tensors representing batches of independent and dependent variables:"
      ]
    },
    {
      "cell_type": "code",
      "execution_count": null,
      "metadata": {
        "id": "VysViM3hJbCN",
        "outputId": "6c4d53be-3347-4507-c231-9912013ef784"
      },
      "outputs": [
        {
          "data": {
            "text/plain": [
              "[(tensor([17, 18, 10, 22,  8, 14]), ('r', 's', 'k', 'w', 'i', 'o')),\n",
              " (tensor([20, 15,  9, 13, 21, 12]), ('u', 'p', 'j', 'n', 'v', 'm')),\n",
              " (tensor([ 7, 25,  6,  5, 11, 23]), ('h', 'z', 'g', 'f', 'l', 'x')),\n",
              " (tensor([ 1,  3,  0, 24, 19, 16]), ('b', 'd', 'a', 'y', 't', 'q')),\n",
              " (tensor([2, 4]), ('c', 'e'))]"
            ]
          },
          "execution_count": null,
          "metadata": {},
          "output_type": "execute_result"
        }
      ],
      "source": [
        "dl = DataLoader(ds, batch_size=6, shuffle=True)\n",
        "list(dl)"
      ]
    },
    {
      "cell_type": "markdown",
      "metadata": {
        "id": "jPrAqG1UJbCP"
      },
      "source": [
        "We are now ready to write our first training loop for a model using SGD!"
      ]
    },
    {
      "cell_type": "markdown",
      "metadata": {
        "id": "2zyDqh6lJbCR"
      },
      "source": [
        "## Putting It All Together"
      ]
    },
    {
      "cell_type": "markdown",
      "metadata": {
        "id": "vX60r0-EJbCT"
      },
      "source": [
        "It's time to implement the process we saw in <<gradient_descent>>. In code, our process will be implemented something like this for each epoch:\n",
        "\n",
        "```python\n",
        "for x,y in dl:\n",
        "    pred = model(x)\n",
        "    loss = loss_func(pred, y)\n",
        "    loss.backward()\n",
        "    parameters -= parameters.grad * lr\n",
        "```"
      ]
    },
    {
      "cell_type": "markdown",
      "metadata": {
        "id": "bP8TXifgJbCV"
      },
      "source": [
        "First, let's re-initialize our parameters:"
      ]
    },
    {
      "cell_type": "code",
      "source": [
        "def init_params(size, std=1.0): return (torch.randn(size)*std).requires_grad_()"
      ],
      "metadata": {
        "id": "V-BNUqL-ViIa"
      },
      "execution_count": null,
      "outputs": []
    },
    {
      "cell_type": "code",
      "execution_count": null,
      "metadata": {
        "id": "wLHESB7CJbCX"
      },
      "outputs": [],
      "source": [
        "weights = init_params((28*28,1))\n",
        "bias = init_params(1)"
      ]
    },
    {
      "cell_type": "markdown",
      "metadata": {
        "id": "n6bNUuuzJbCZ"
      },
      "source": [
        "A `DataLoader` can be created from a `Dataset`:"
      ]
    },
    {
      "cell_type": "code",
      "execution_count": null,
      "metadata": {
        "id": "XQNpbJqHJbCb",
        "outputId": "31f479dd-a36d-4d5a-bdb4-d7e2630ccd86",
        "colab": {
          "base_uri": "https://localhost:8080/"
        }
      },
      "outputs": [
        {
          "output_type": "execute_result",
          "data": {
            "text/plain": [
              "(torch.Size([256, 784]), torch.Size([256, 1]))"
            ]
          },
          "metadata": {},
          "execution_count": 9
        }
      ],
      "source": [
        "dl = DataLoader(dset, batch_size=256)\n",
        "xb,yb = first(dl)\n",
        "xb.shape,yb.shape"
      ]
    },
    {
      "cell_type": "markdown",
      "metadata": {
        "id": "twmDM2EJJbCe"
      },
      "source": [
        "We'll do the same for the validation set:"
      ]
    },
    {
      "cell_type": "code",
      "execution_count": null,
      "metadata": {
        "id": "qkwdoiYGJbCg"
      },
      "outputs": [],
      "source": [
        "valid_dl = DataLoader(valid_dset, batch_size=256)"
      ]
    },
    {
      "cell_type": "markdown",
      "metadata": {
        "id": "zMnNYlcPJbCi"
      },
      "source": [
        "Let's create a mini-batch of size 4 for testing:"
      ]
    },
    {
      "cell_type": "code",
      "execution_count": null,
      "metadata": {
        "id": "EoznHwKiJbCj",
        "outputId": "2975547e-82a4-4fc4-cab0-31f8e7364f1e",
        "colab": {
          "base_uri": "https://localhost:8080/"
        }
      },
      "outputs": [
        {
          "output_type": "execute_result",
          "data": {
            "text/plain": [
              "torch.Size([4, 784])"
            ]
          },
          "metadata": {},
          "execution_count": 11
        }
      ],
      "source": [
        "batch = train_x[:4]\n",
        "batch.shape"
      ]
    },
    {
      "cell_type": "code",
      "execution_count": null,
      "metadata": {
        "id": "MWyH7ZfxJbCm",
        "outputId": "6bd8abc1-6989-4f5a-d689-b88c2b4384c6",
        "colab": {
          "base_uri": "https://localhost:8080/"
        }
      },
      "outputs": [
        {
          "output_type": "execute_result",
          "data": {
            "text/plain": [
              "tensor([[ -6.2330],\n",
              "        [-10.6388],\n",
              "        [-20.8865],\n",
              "        [-17.8700]], grad_fn=<AddBackward0>)"
            ]
          },
          "metadata": {},
          "execution_count": 14
        }
      ],
      "source": [
        "preds = linear1(batch)\n",
        "preds"
      ]
    },
    {
      "cell_type": "code",
      "execution_count": null,
      "metadata": {
        "id": "ovqG6XE_JbCo",
        "outputId": "5f6aec3a-6672-4ed7-de49-c853f9e25b35",
        "colab": {
          "base_uri": "https://localhost:8080/"
        }
      },
      "outputs": [
        {
          "output_type": "execute_result",
          "data": {
            "text/plain": [
              "tensor(0.9995, grad_fn=<MeanBackward0>)"
            ]
          },
          "metadata": {},
          "execution_count": 17
        }
      ],
      "source": [
        "loss = mnist_loss(preds, train_y[:4])\n",
        "loss"
      ]
    },
    {
      "cell_type": "code",
      "source": [
        "loss = mnist_loss(linear1(train_x[:4]), train_y[:4])  #Outra forma mais direta\n",
        "loss"
      ],
      "metadata": {
        "colab": {
          "base_uri": "https://localhost:8080/"
        },
        "id": "0UyzXKJ8s4Hj",
        "outputId": "b40d1d3c-dade-4652-ed58-8dd2c30a9cc8"
      },
      "execution_count": null,
      "outputs": [
        {
          "output_type": "execute_result",
          "data": {
            "text/plain": [
              "tensor(0.9995, grad_fn=<MeanBackward0>)"
            ]
          },
          "metadata": {},
          "execution_count": 26
        }
      ]
    },
    {
      "cell_type": "markdown",
      "metadata": {
        "id": "P6AiFfE6JbCr"
      },
      "source": [
        "Now we can calculate the gradients:"
      ]
    },
    {
      "cell_type": "code",
      "execution_count": null,
      "metadata": {
        "id": "_5tftEfjJbCs",
        "outputId": "ae6e5256-57b0-4e28-976d-f0372c8c44e0",
        "colab": {
          "base_uri": "https://localhost:8080/"
        }
      },
      "outputs": [
        {
          "output_type": "execute_result",
          "data": {
            "text/plain": [
              "(torch.Size([784, 1]), tensor(-7.0675e-05), tensor([-0.0005]))"
            ]
          },
          "metadata": {},
          "execution_count": 18
        }
      ],
      "source": [
        "loss.backward()\n",
        "weights.grad.shape,weights.grad.mean(),bias.grad"
      ]
    },
    {
      "cell_type": "markdown",
      "metadata": {
        "id": "4SFgsYqmJbCv"
      },
      "source": [
        "Let's put that all in a function:"
      ]
    },
    {
      "cell_type": "code",
      "execution_count": null,
      "metadata": {
        "id": "T0ux5gzsJbCw"
      },
      "outputs": [],
      "source": [
        "def calc_grad(xb, yb, model):\n",
        "    preds = model(xb)\n",
        "    loss = mnist_loss(preds, yb)\n",
        "    loss.backward()"
      ]
    },
    {
      "cell_type": "markdown",
      "metadata": {
        "id": "i7YJrln7JbCz"
      },
      "source": [
        "and test it:"
      ]
    },
    {
      "cell_type": "code",
      "execution_count": null,
      "metadata": {
        "id": "6Qe0yjK3JbC1",
        "outputId": "17346b6d-9920-41ff-9fdd-46eaec2849f7",
        "colab": {
          "base_uri": "https://localhost:8080/"
        }
      },
      "outputs": [
        {
          "output_type": "execute_result",
          "data": {
            "text/plain": [
              "(tensor(-0.0001), tensor([-0.0010]))"
            ]
          },
          "metadata": {},
          "execution_count": 20
        }
      ],
      "source": [
        "calc_grad(batch, train_y[:4], linear1)\n",
        "weights.grad.mean(),bias.grad"
      ]
    },
    {
      "cell_type": "markdown",
      "metadata": {
        "id": "JHvP22YuJbC3"
      },
      "source": [
        "But look what happens if we call it twice:"
      ]
    },
    {
      "cell_type": "code",
      "execution_count": null,
      "metadata": {
        "id": "a-4p9NMeJbC4",
        "outputId": "7bb0f918-a055-4e98-d3c7-f635f0ae8c41",
        "colab": {
          "base_uri": "https://localhost:8080/"
        }
      },
      "outputs": [
        {
          "output_type": "execute_result",
          "data": {
            "text/plain": [
              "(tensor(-0.0002), tensor([-0.0015]))"
            ]
          },
          "metadata": {},
          "execution_count": 21
        }
      ],
      "source": [
        "calc_grad(batch, train_y[:4], linear1)\n",
        "weights.grad.mean(),bias.grad"
      ]
    },
    {
      "cell_type": "markdown",
      "metadata": {
        "id": "58SVqot9JbC6"
      },
      "source": [
        "The gradients have changed! The reason for this is that `loss.backward` actually *adds* the gradients of `loss` to any gradients that are currently stored. So, we have to set the current gradients to 0 first:"
      ]
    },
    {
      "cell_type": "code",
      "execution_count": null,
      "metadata": {
        "id": "TVx_UQ1vJbC8"
      },
      "outputs": [],
      "source": [
        "weights.grad.zero_()\n",
        "bias.grad.zero_();"
      ]
    },
    {
      "cell_type": "markdown",
      "metadata": {
        "id": "0JTDS-XOJbC-"
      },
      "source": [
        "> note: Inplace Operations: Methods in PyTorch whose names end in an underscore modify their objects _in place_. For instance, `bias.zero_()` sets all elements of the tensor `bias` to 0."
      ]
    },
    {
      "cell_type": "markdown",
      "metadata": {
        "id": "9Yix7ms5JbC_"
      },
      "source": [
        "Our only remaining step is to update the weights and biases based on the gradient and learning rate. When we do so, we have to tell PyTorch not to take the gradient of this step too—otherwise things will get very confusing when we try to compute the derivative at the next batch! If we assign to the `data` attribute of a tensor then PyTorch will not take the gradient of that step. Here's our basic training loop for an epoch:"
      ]
    },
    {
      "cell_type": "code",
      "execution_count": null,
      "metadata": {
        "id": "BBi8oItzJbDB"
      },
      "outputs": [],
      "source": [
        "def train_epoch(model, lr, params):\n",
        "    for xb,yb in dl:\n",
        "        calc_grad(xb, yb, model)\n",
        "        for p in params:\n",
        "            p.data -= p.grad*lr\n",
        "            p.grad.zero_()"
      ]
    },
    {
      "cell_type": "markdown",
      "metadata": {
        "id": "uD3khycJJbDD"
      },
      "source": [
        "We also want to check how we're doing, by looking at the accuracy of the validation set. To decide if an output represents a 3 or a 7, we can just check whether it's greater than 0. So our accuracy for each item can be calculated (using broadcasting, so no loops!) with:"
      ]
    },
    {
      "cell_type": "code",
      "execution_count": null,
      "metadata": {
        "id": "7WTyjO6mJbDF",
        "outputId": "4526f792-0cf1-4829-cfbc-4581adacd00d"
      },
      "outputs": [
        {
          "data": {
            "text/plain": [
              "tensor([[False],\n",
              "        [ True],\n",
              "        [ True],\n",
              "        [False]])"
            ]
          },
          "execution_count": null,
          "metadata": {},
          "output_type": "execute_result"
        }
      ],
      "source": [
        "(preds>0.0).float() == train_y[:4]"
      ]
    },
    {
      "cell_type": "markdown",
      "metadata": {
        "id": "Jw3zYt1tJbDI"
      },
      "source": [
        "That gives us this function to calculate our validation accuracy:"
      ]
    },
    {
      "cell_type": "code",
      "execution_count": null,
      "metadata": {
        "id": "QW98lIDzJbDJ"
      },
      "outputs": [],
      "source": [
        "def batch_accuracy(xb, yb):\n",
        "    preds = xb.sigmoid()\n",
        "    correct = (preds>0.5) == yb\n",
        "    return correct.float().mean()"
      ]
    },
    {
      "cell_type": "code",
      "source": [
        "prds = tensor([1,2,3,4,5,6,7,8,9])\n",
        "yys  = tensor([1,1,0,0,1,1,1,1,0])"
      ],
      "metadata": {
        "id": "z993yVTkkkRp"
      },
      "execution_count": null,
      "outputs": []
    },
    {
      "cell_type": "code",
      "source": [
        "crr = (prds>5) == yys #Só funciona com tensor. Não com listas"
      ],
      "metadata": {
        "id": "7uLBhwF_lH96"
      },
      "execution_count": null,
      "outputs": []
    },
    {
      "cell_type": "code",
      "source": [
        "crr"
      ],
      "metadata": {
        "colab": {
          "base_uri": "https://localhost:8080/"
        },
        "id": "LcX5rMznmRaq",
        "outputId": "b4a18ae1-6680-465a-8d26-9963af80b7c2"
      },
      "execution_count": null,
      "outputs": [
        {
          "output_type": "execute_result",
          "data": {
            "text/plain": [
              "tensor([False, False,  True,  True, False,  True,  True,  True, False])"
            ]
          },
          "metadata": {},
          "execution_count": 51
        }
      ]
    },
    {
      "cell_type": "markdown",
      "metadata": {
        "id": "f5JSATcbJbDL"
      },
      "source": [
        "We can check it works:"
      ]
    },
    {
      "cell_type": "code",
      "source": [
        "batch_accuracy(linear1(batch), train_y[:4])"
      ],
      "metadata": {
        "id": "B2oZeUCzBpsP"
      },
      "execution_count": null,
      "outputs": []
    },
    {
      "cell_type": "markdown",
      "source": [
        "##Juntando Tudo - Somente Código"
      ],
      "metadata": {
        "id": "LW-ixLyRXW7T"
      }
    },
    {
      "cell_type": "code",
      "execution_count": null,
      "metadata": {
        "id": "KnhNXp_DYDXp",
        "colab": {
          "base_uri": "https://localhost:8080/",
          "height": 37
        },
        "outputId": "691ace6d-bc26-4c18-8226-fce00d2205c4"
      },
      "outputs": [
        {
          "output_type": "display_data",
          "data": {
            "text/plain": [
              "<IPython.core.display.HTML object>"
            ],
            "text/html": [
              "\n",
              "<style>\n",
              "    /* Turns off some styling */\n",
              "    progress {\n",
              "        /* gets rid of default border in Firefox and Opera. */\n",
              "        border: none;\n",
              "        /* Needs to be in here for Safari polyfill so background images work as expected. */\n",
              "        background-size: auto;\n",
              "    }\n",
              "    progress:not([value]), progress:not([value])::-webkit-progress-bar {\n",
              "        background: repeating-linear-gradient(45deg, #7e7e7e, #7e7e7e 10px, #5c5c5c 10px, #5c5c5c 20px);\n",
              "    }\n",
              "    .progress-bar-interrupted, .progress-bar-interrupted::-webkit-progress-bar {\n",
              "        background: #F44336;\n",
              "    }\n",
              "</style>\n"
            ]
          },
          "metadata": {}
        },
        {
          "output_type": "display_data",
          "data": {
            "text/plain": [
              "<IPython.core.display.HTML object>"
            ],
            "text/html": [
              "\n",
              "    <div>\n",
              "      <progress value='3219456' class='' max='3214948' style='width:300px; height:20px; vertical-align: middle;'></progress>\n",
              "      100.14% [3219456/3214948 00:00&lt;00:00]\n",
              "    </div>\n",
              "    "
            ]
          },
          "metadata": {}
        }
      ],
      "source": [
        "#Load Data\n",
        "path = untar_data(URLs.MNIST_SAMPLE) #path = Path('.')\n",
        "Path.BASE_PATH = path\n",
        "threes = (path/'train'/'3').ls().sorted() #Train '3' paths\n",
        "sevens = (path/'train'/'7').ls().sorted() #Train '7' paths\n",
        "seven_tensors = [tensor(Image.open(o)) for o in sevens] #Train '7' tensors\n",
        "three_tensors = [tensor(Image.open(o)) for o in threes] #Train '3' tensors\n",
        "stacked_sevens = torch.stack(seven_tensors).float()/255 #Stacked Train '7'\n",
        "stacked_threes = torch.stack(three_tensors).float()/255 #Stacked Train '3'\n",
        "valid_3_tens = torch.stack([tensor(Image.open(o))\n",
        "                            for o in (path/'valid'/'3').ls()])\n",
        "valid_3_tens = valid_3_tens.float()/255                         #Stacked Valid '3'\n",
        "valid_7_tens = torch.stack([tensor(Image.open(o))\n",
        "                            for o in (path/'valid'/'7').ls()])\n",
        "valid_7_tens = valid_7_tens.float()/255                         #Stacked Valid '7'"
      ]
    },
    {
      "cell_type": "code",
      "source": [
        "#Train dset\n",
        "train_x = torch.cat([stacked_threes, stacked_sevens]).view(-1, 28*28)\n",
        "train_y = tensor([1]*len(threes) + [0]*len(sevens)).unsqueeze(1)  #Sem unsqueeze tensor(1) ou tensor(0)\n",
        "                                                                  # com unsqueeze tensor([1]) ou tensor([0])\n",
        "dset = list(zip(train_x,train_y)) #Train dataset len = 12396"
      ],
      "metadata": {
        "id": "_KKFF3lGYchA"
      },
      "execution_count": null,
      "outputs": []
    },
    {
      "cell_type": "code",
      "source": [
        "#Valid dset\n",
        "valid_x = torch.cat([valid_3_tens, valid_7_tens]).view(-1, 28*28)\n",
        "valid_y = tensor([1]*len(valid_3_tens) + [0]*len(valid_7_tens)).unsqueeze(1)  #pq aqui tem usqueeze?\n",
        "                                                                              # Resposta: tensor([1]) ou tensor([0])\n",
        "#valid_y = tensor([1]*len(valid_3_tens) + [0]*len(valid_7_tens)) Sem unsqueeze tensor(1) ou tensor(0)\n",
        "valid_dset = list(zip(valid_x,valid_y)) #Valid dataset len = 2038"
      ],
      "metadata": {
        "id": "E5gQyGDJy6gI"
      },
      "execution_count": null,
      "outputs": []
    },
    {
      "cell_type": "code",
      "source": [
        "#Train dataloader\n",
        "dl = DataLoader(dset, batch_size=256) #Dataloader Train batch\n",
        "xb,yb = first(dl)"
      ],
      "metadata": {
        "id": "kcyfDSNHdnFS"
      },
      "execution_count": null,
      "outputs": []
    },
    {
      "cell_type": "code",
      "source": [
        "#Valid dataloader\n",
        "valid_dl = DataLoader(valid_dset, batch_size=256)  #Dataloader Valid batch\n",
        "xvb, yvb = first(valid_dl)"
      ],
      "metadata": {
        "id": "Ti8UmHwqKL9D"
      },
      "execution_count": null,
      "outputs": []
    },
    {
      "cell_type": "code",
      "source": [
        "#Init params func\n",
        "def init_params(size, std=1.0): return (torch.randn(size)*std).requires_grad_()"
      ],
      "metadata": {
        "id": "6RN0Hxg6VW9B"
      },
      "execution_count": null,
      "outputs": []
    },
    {
      "cell_type": "code",
      "source": [
        "#Init params\n",
        "weights = init_params((28*28,1))\n",
        "bias = init_params(1)"
      ],
      "metadata": {
        "id": "JLe0iTivU_QT"
      },
      "execution_count": null,
      "outputs": []
    },
    {
      "cell_type": "code",
      "source": [
        "#Define modelo\n",
        "def linear1(xb): return xb@weights + bias"
      ],
      "metadata": {
        "id": "nCOgA575WJ0H"
      },
      "execution_count": null,
      "outputs": []
    },
    {
      "cell_type": "code",
      "source": [
        "#Função Loss\n",
        "def mnist_loss(predictions, targets):\n",
        "    predictions = predictions.sigmoid()\n",
        "    return torch.where(targets==1, 1-predictions, predictions).mean()"
      ],
      "metadata": {
        "id": "tE41HyO1-3Gi"
      },
      "execution_count": null,
      "outputs": []
    },
    {
      "cell_type": "code",
      "source": [
        "#Batch accuracy\n",
        "def batch_accuracy(xb, yb):\n",
        "    preds = xb.sigmoid()\n",
        "    correct = (preds>0.5) == yb\n",
        "    return correct.float().mean()"
      ],
      "metadata": {
        "id": "PODaLLliznwm"
      },
      "execution_count": null,
      "outputs": []
    },
    {
      "cell_type": "code",
      "execution_count": null,
      "metadata": {
        "id": "D5X721yNJbDS"
      },
      "outputs": [],
      "source": [
        "#Avalia época\n",
        "def validate_epoch(model):\n",
        "    accs = [batch_accuracy(model(xb), yb) for xb,yb in valid_dl]\n",
        "    return round(torch.stack(accs).mean().item(), 4)"
      ]
    },
    {
      "cell_type": "code",
      "source": [
        "#Calcula gradiente\n",
        "def calc_grad(xb, yb, model):\n",
        "    preds = model(xb)\n",
        "    loss = mnist_loss(preds, yb)\n",
        "    loss.backward()"
      ],
      "metadata": {
        "id": "FLLHQpb--W5p"
      },
      "execution_count": null,
      "outputs": []
    },
    {
      "cell_type": "code",
      "source": [
        "#Treina uma época\n",
        "def train_epoch(model, lr, params):\n",
        "    for xb,yb in dl:              #Train dataloader\n",
        "        calc_grad(xb, yb, model)  #Calcula gradiente\n",
        "        for p in params:          #Atualiza parâmetros\n",
        "            p.data -= p.grad*lr\n",
        "            p.grad.zero_()"
      ],
      "metadata": {
        "id": "PeEmaTcq-PuV"
      },
      "execution_count": null,
      "outputs": []
    },
    {
      "cell_type": "markdown",
      "metadata": {
        "id": "qV91l6S8JbDX"
      },
      "source": [
        "That's our starting point. Let's train for one epoch, and see if the accuracy improves:"
      ]
    },
    {
      "cell_type": "code",
      "execution_count": null,
      "metadata": {
        "id": "wV9VghqVJbDZ",
        "colab": {
          "base_uri": "https://localhost:8080/"
        },
        "outputId": "66d4f0b7-2c75-4fca-f8e4-9f77557b297f"
      },
      "outputs": [
        {
          "output_type": "execute_result",
          "data": {
            "text/plain": [
              "0.3966"
            ]
          },
          "metadata": {},
          "execution_count": 146
        }
      ],
      "source": [
        "lr = 0.05\n",
        "params = weights,bias\n",
        "train_epoch(linear1, lr, params)\n",
        "validate_epoch(linear1)"
      ]
    },
    {
      "cell_type": "markdown",
      "metadata": {
        "id": "D46FrWzEJbDb"
      },
      "source": [
        "Then do a few more:"
      ]
    },
    {
      "cell_type": "code",
      "execution_count": null,
      "metadata": {
        "id": "z140B3EJJbDd",
        "outputId": "171dd977-0f74-4c8f-cad9-4fcb3c34c9e9",
        "colab": {
          "base_uri": "https://localhost:8080/"
        }
      },
      "outputs": [
        {
          "output_type": "stream",
          "name": "stdout",
          "text": [
            "0.9635 0.9596 0.9597 0.9606 0.9602 0.9592 0.9582 0.9577 0.9562 0.9562 0.9562 0.9562 0.9562 0.9562 0.9562 0.9562 0.9562 0.9562 0.9557 0.9557 "
          ]
        }
      ],
      "source": [
        "for i in range(20):\n",
        "    train_epoch(linear1, lr, params)\n",
        "    print(validate_epoch(linear1), end=' ')"
      ]
    },
    {
      "cell_type": "markdown",
      "metadata": {
        "id": "q1lniEEgJbDf"
      },
      "source": [
        "Looking good! We're already about at the same accuracy as our \"pixel similarity\" approach, and we've created a general-purpose foundation we can build on. Our next step will be to create an object that will handle the SGD step for us. In PyTorch, it's called an *optimizer*."
      ]
    },
    {
      "cell_type": "markdown",
      "metadata": {
        "id": "hSzd4SJUJbDh"
      },
      "source": [
        "### Creating an Optimizer"
      ]
    },
    {
      "cell_type": "markdown",
      "metadata": {
        "id": "GLbtl_j4JbDi"
      },
      "source": [
        "Because this is such a general foundation, PyTorch provides some useful classes to make it easier to implement. The first thing we can do is replace our `linear1` function with PyTorch's `nn.Linear` module. A *module* is an object of a class that inherits from the PyTorch `nn.Module` class. Objects of this class behave identically to standard Python functions, in that you can call them using parentheses and they will return the activations of a model.\n",
        "\n",
        "`nn.Linear` does the same thing as our `init_params` and `linear` together. It contains both the *weights* and *biases* in a single class. Here's how we replicate our model from the previous section:"
      ]
    },
    {
      "cell_type": "code",
      "execution_count": null,
      "metadata": {
        "id": "r66lZP-VJbDk"
      },
      "outputs": [],
      "source": [
        "linear_model = nn.Linear(28*28,1)"
      ]
    },
    {
      "cell_type": "markdown",
      "metadata": {
        "id": "JKp9RuhBJbDn"
      },
      "source": [
        "Every PyTorch module knows what parameters it has that can be trained; they are available through the `parameters` method:"
      ]
    },
    {
      "cell_type": "code",
      "execution_count": null,
      "metadata": {
        "id": "LdZqSkGRJbDo",
        "outputId": "2440a3c7-f62f-47c8-f5cf-1e2f447c245c",
        "colab": {
          "base_uri": "https://localhost:8080/"
        }
      },
      "outputs": [
        {
          "output_type": "execute_result",
          "data": {
            "text/plain": [
              "(torch.Size([1, 784]), torch.Size([1]))"
            ]
          },
          "metadata": {},
          "execution_count": 90
        }
      ],
      "source": [
        "w,b = linear_model.parameters()\n",
        "w.shape,b.shape"
      ]
    },
    {
      "cell_type": "markdown",
      "metadata": {
        "id": "R_nukUK6JbDr"
      },
      "source": [
        "We can use this information to create an optimizer:"
      ]
    },
    {
      "cell_type": "code",
      "execution_count": null,
      "metadata": {
        "id": "hHCand_XJbDt"
      },
      "outputs": [],
      "source": [
        "class BasicOptim:\n",
        "    def __init__(self,params,lr): self.params,self.lr = list(params),lr\n",
        "\n",
        "    def step(self, *args, **kwargs):\n",
        "        for p in self.params: p.data -= p.grad.data * self.lr\n",
        "\n",
        "    def zero_grad(self, *args, **kwargs):\n",
        "        for p in self.params: p.grad = None"
      ]
    },
    {
      "cell_type": "markdown",
      "metadata": {
        "id": "PcoYLZMEJbDw"
      },
      "source": [
        "We can create our optimizer by passing in the model's parameters:"
      ]
    },
    {
      "cell_type": "code",
      "execution_count": null,
      "metadata": {
        "id": "9kKAjCZCJbDy"
      },
      "outputs": [],
      "source": [
        "opt = BasicOptim(linear_model.parameters(), lr)"
      ]
    },
    {
      "cell_type": "markdown",
      "metadata": {
        "id": "RjkBT3QjJbD0"
      },
      "source": [
        "##Our training loop can now be simplified to:"
      ]
    },
    {
      "cell_type": "code",
      "source": [
        "linear_model = nn.Linear(28*28,1)\n",
        "opt = SGD(linear_model.parameters(), lr)"
      ],
      "metadata": {
        "id": "yqORSF1SsyGt"
      },
      "execution_count": null,
      "outputs": []
    },
    {
      "cell_type": "code",
      "source": [
        "def mnist_loss(predictions, targets):\n",
        "    return torch.where(targets==1, 1-predictions, predictions).mean()"
      ],
      "metadata": {
        "id": "WmiDApAhv3kC"
      },
      "execution_count": null,
      "outputs": []
    },
    {
      "cell_type": "code",
      "source": [
        "def calc_grad(xb, yb, model):\n",
        "    preds = model(xb)\n",
        "    loss = mnist_loss(preds, yb)\n",
        "    loss.backward()"
      ],
      "metadata": {
        "id": "IIeUEZLxqWiU"
      },
      "execution_count": null,
      "outputs": []
    },
    {
      "cell_type": "code",
      "execution_count": null,
      "metadata": {
        "id": "-qkgu9jMqYYz"
      },
      "outputs": [],
      "source": [
        "def train_epoch(model):\n",
        "    for xb,yb in dl:\n",
        "        calc_grad(xb, yb, model)\n",
        "        opt.step()\n",
        "        opt.zero_grad()"
      ]
    },
    {
      "cell_type": "markdown",
      "source": [
        "Our validation function doesn't need to change at all:"
      ],
      "metadata": {
        "id": "xSpTjzgEKF5U"
      }
    },
    {
      "cell_type": "code",
      "source": [
        "validate_epoch(linear_model)"
      ],
      "metadata": {
        "colab": {
          "base_uri": "https://localhost:8080/"
        },
        "id": "Lq2rfbOrKAML",
        "outputId": "28b7e762-d468-45a9-ddbb-3e7701416299"
      },
      "execution_count": null,
      "outputs": [
        {
          "output_type": "execute_result",
          "data": {
            "text/plain": [
              "0.4276"
            ]
          },
          "metadata": {},
          "execution_count": 165
        }
      ]
    },
    {
      "cell_type": "markdown",
      "source": [
        "Let's put our little training loop in a function, to make things simpler:"
      ],
      "metadata": {
        "id": "jBBBQ7puKQQB"
      }
    },
    {
      "cell_type": "code",
      "source": [
        "def train_model(model, epochs):\n",
        "    for i in range(epochs):\n",
        "        train_epoch(model)\n",
        "        print(validate_epoch(model), end=' ')"
      ],
      "metadata": {
        "id": "UbDljC3dKWGt"
      },
      "execution_count": null,
      "outputs": []
    },
    {
      "cell_type": "markdown",
      "source": [
        "The results are the same as in the previous section:"
      ],
      "metadata": {
        "id": "QHfjeFRuKdvR"
      }
    },
    {
      "cell_type": "code",
      "source": [
        "train_model(linear_model, 20)"
      ],
      "metadata": {
        "colab": {
          "base_uri": "https://localhost:8080/"
        },
        "id": "xeGIA4-5KffH",
        "outputId": "730ed72e-b3d8-4d7f-96b8-9c980ddeaf43"
      },
      "execution_count": null,
      "outputs": [
        {
          "output_type": "stream",
          "name": "stdout",
          "text": [
            "0.9537 0.9537 0.9537 0.9533 0.9533 0.9533 0.9533 0.9533 0.9533 0.9533 0.9533 0.9533 0.9533 0.9533 0.9533 0.9533 0.9533 0.9533 0.9533 0.9533 "
          ]
        }
      ]
    },
    {
      "cell_type": "markdown",
      "metadata": {
        "id": "HgjcK1vIULTZ"
      },
      "source": [
        "That's our starting point. Let's train for one epoch, and see if the accuracy improves:"
      ]
    },
    {
      "cell_type": "code",
      "execution_count": null,
      "metadata": {
        "id": "kDkYvdSWULTt"
      },
      "outputs": [],
      "source": [
        "#Começe aqui 1\n",
        "epoca = 0\n",
        "lr = 0.01\n",
        "weights = init_params((28*28,1))\n",
        "bias = init_params(1)\n",
        "params = weights,bias\n"
      ]
    },
    {
      "cell_type": "code",
      "source": [
        "#Valor aletório\n",
        "print(f'Época: {epoca} | Accuracy: {validate_epoch(linear1)}')"
      ],
      "metadata": {
        "colab": {
          "base_uri": "https://localhost:8080/"
        },
        "id": "AeNebGXZVLHO",
        "outputId": "006513dc-f927-4b8e-e303-f2817543e3c5"
      },
      "execution_count": null,
      "outputs": [
        {
          "output_type": "stream",
          "name": "stdout",
          "text": [
            "Época: 0 | Accuracy: 0.4723\n"
          ]
        }
      ]
    },
    {
      "cell_type": "code",
      "source": [
        "#Rode repetidamente esta célula e observe o valor aumentar\n",
        "train_epoch(linear1, lr, params)\n",
        "epoca +=1\n",
        "print(f'Época: {epoca} | Accuracy: {validate_epoch(linear1)}')"
      ],
      "metadata": {
        "colab": {
          "base_uri": "https://localhost:8080/"
        },
        "id": "sbYe6nbWVCIM",
        "outputId": "3af70255-7100-43f9-af92-968bc4719544"
      },
      "execution_count": null,
      "outputs": [
        {
          "output_type": "stream",
          "name": "stdout",
          "text": [
            "Época: 8 | Accuracy: 0.9177\n"
          ]
        }
      ]
    },
    {
      "cell_type": "markdown",
      "metadata": {
        "id": "RCEouPH-ULTu"
      },
      "source": [
        "Then do a few more:"
      ]
    },
    {
      "cell_type": "code",
      "execution_count": null,
      "metadata": {
        "outputId": "35bf364f-ed2c-4b99-90a7-67e3a40a6621",
        "colab": {
          "base_uri": "https://localhost:8080/"
        },
        "id": "2x9iC6bHULTv"
      },
      "outputs": [
        {
          "output_type": "stream",
          "name": "stdout",
          "text": [
            "0.968 0.968 0.968 0.968 0.968 0.968 0.968 0.968 0.968 0.968 0.968 0.968 0.968 0.968 0.968 0.968 0.968 0.968 0.968 0.968 "
          ]
        }
      ],
      "source": [
        "for i in range(20):\n",
        "    train_epoch(linear1, lr, params)\n",
        "    print(validate_epoch(linear1), end=' ')"
      ]
    },
    {
      "cell_type": "markdown",
      "metadata": {
        "id": "pX6jdW3yJbD4"
      },
      "source": [
        "Our validation function doesn't need to change at all:"
      ]
    },
    {
      "cell_type": "markdown",
      "metadata": {
        "id": "q1tMPl_ZJbED"
      },
      "source": [
        "fastai provides the `SGD` class which, by default, does the same thing as our `BasicOptim`:"
      ]
    },
    {
      "cell_type": "code",
      "source": [
        "def train_epoch(model):\n",
        "    for xb,yb in dl:\n",
        "        calc_grad(xb, yb, model)\n",
        "        opt.step()\n",
        "        opt.zero_grad()\n",
        "\n",
        "def train_model(model, epochs):\n",
        "    for i in range(epochs):\n",
        "        train_epoch(model)\n",
        "        print(validate_epoch(model), end=' ')"
      ],
      "metadata": {
        "id": "DfymP3JTnNvU"
      },
      "execution_count": null,
      "outputs": []
    },
    {
      "cell_type": "code",
      "execution_count": null,
      "metadata": {
        "id": "PQX-ufePJbEF",
        "outputId": "5e086086-2a38-4545-db16-206833a0f425",
        "colab": {
          "base_uri": "https://localhost:8080/"
        }
      },
      "outputs": [
        {
          "output_type": "stream",
          "name": "stdout",
          "text": [
            "0.9533 0.9533 0.9533 0.9533 0.9533 0.9533 0.9533 0.9533 0.9533 0.9533 0.9533 0.9533 0.9533 0.9533 0.9533 0.9533 0.9533 0.9533 0.9533 0.9533 "
          ]
        }
      ],
      "source": [
        "linear_model = nn.Linear(28*28,1)\n",
        "opt = SGD(linear_model.parameters(), lr)  #SGD\n",
        "train_model(linear_model, 20)"
      ]
    },
    {
      "cell_type": "markdown",
      "metadata": {
        "id": "HGhZEgauJbEI"
      },
      "source": [
        "fastai also provides `Learner.fit`, which we can use instead of `train_model`. To create a `Learner` we first need to create a `DataLoaders`, by passing in our training and validation `DataLoader`s:"
      ]
    },
    {
      "cell_type": "code",
      "execution_count": null,
      "metadata": {
        "id": "j-bgdGeUJbEK"
      },
      "outputs": [],
      "source": [
        "dls = DataLoaders(dl, valid_dl)"
      ]
    },
    {
      "cell_type": "markdown",
      "metadata": {
        "id": "qIsFIxCrJbEL"
      },
      "source": [
        "To create a `Learner` without using an application (such as `vision_learner`) we need to pass in all the elements that we've created in this chapter: the `DataLoaders`, the model, the optimization function (which will be passed the parameters), the loss function, and optionally any metrics to print:"
      ]
    },
    {
      "cell_type": "code",
      "source": [
        "learn = Learner(dls, nn.Linear(28*28,1), opt_func=SGD,\n",
        "                loss_func=mnist_loss, metrics=batch_accuracy)"
      ],
      "metadata": {
        "id": "tXXXELcDocEr",
        "colab": {
          "base_uri": "https://localhost:8080/",
          "height": 193
        },
        "outputId": "0fc84b8d-86c4-4fa1-9b52-7cad933a5551"
      },
      "execution_count": null,
      "outputs": [
        {
          "output_type": "error",
          "ename": "NameError",
          "evalue": "ignored",
          "traceback": [
            "\u001b[0;31m---------------------------------------------------------------------------\u001b[0m",
            "\u001b[0;31mNameError\u001b[0m                                 Traceback (most recent call last)",
            "\u001b[0;32m<ipython-input-12-35a7359e6cce>\u001b[0m in \u001b[0;36m<cell line: 1>\u001b[0;34m()\u001b[0m\n\u001b[1;32m      1\u001b[0m learn = Learner(dls, nn.Linear(28*28,1), opt_func=SGD,\n\u001b[0;32m----> 2\u001b[0;31m                 loss_func=mnist_loss, metrics=batch_accuracy)\n\u001b[0m",
            "\u001b[0;31mNameError\u001b[0m: name 'batch_accuracy' is not defined"
          ]
        }
      ]
    },
    {
      "cell_type": "markdown",
      "metadata": {
        "id": "-wbBTLjzJbEQ"
      },
      "source": [
        "Now we can call `fit`:"
      ]
    },
    {
      "cell_type": "code",
      "execution_count": null,
      "metadata": {
        "id": "7OVV5oueJbER",
        "outputId": "614579b6-9d06-41ef-d73f-237bf13b7b48",
        "colab": {
          "base_uri": "https://localhost:8080/",
          "height": 363
        }
      },
      "outputs": [
        {
          "output_type": "display_data",
          "data": {
            "text/plain": [
              "<IPython.core.display.HTML object>"
            ],
            "text/html": [
              "\n",
              "<style>\n",
              "    /* Turns off some styling */\n",
              "    progress {\n",
              "        /* gets rid of default border in Firefox and Opera. */\n",
              "        border: none;\n",
              "        /* Needs to be in here for Safari polyfill so background images work as expected. */\n",
              "        background-size: auto;\n",
              "    }\n",
              "    progress:not([value]), progress:not([value])::-webkit-progress-bar {\n",
              "        background: repeating-linear-gradient(45deg, #7e7e7e, #7e7e7e 10px, #5c5c5c 10px, #5c5c5c 20px);\n",
              "    }\n",
              "    .progress-bar-interrupted, .progress-bar-interrupted::-webkit-progress-bar {\n",
              "        background: #F44336;\n",
              "    }\n",
              "</style>\n"
            ]
          },
          "metadata": {}
        },
        {
          "output_type": "display_data",
          "data": {
            "text/plain": [
              "<IPython.core.display.HTML object>"
            ],
            "text/html": [
              "<table border=\"1\" class=\"dataframe\">\n",
              "  <thead>\n",
              "    <tr style=\"text-align: left;\">\n",
              "      <th>epoch</th>\n",
              "      <th>train_loss</th>\n",
              "      <th>valid_loss</th>\n",
              "      <th>batch_accuracy</th>\n",
              "      <th>time</th>\n",
              "    </tr>\n",
              "  </thead>\n",
              "  <tbody>\n",
              "    <tr>\n",
              "      <td>0</td>\n",
              "      <td>-3.849550</td>\n",
              "      <td>-16.389179</td>\n",
              "      <td>0.952895</td>\n",
              "      <td>00:00</td>\n",
              "    </tr>\n",
              "    <tr>\n",
              "      <td>1</td>\n",
              "      <td>-15.168206</td>\n",
              "      <td>-33.205025</td>\n",
              "      <td>0.953386</td>\n",
              "      <td>00:00</td>\n",
              "    </tr>\n",
              "    <tr>\n",
              "      <td>2</td>\n",
              "      <td>-28.237604</td>\n",
              "      <td>-50.020863</td>\n",
              "      <td>0.953386</td>\n",
              "      <td>00:00</td>\n",
              "    </tr>\n",
              "    <tr>\n",
              "      <td>3</td>\n",
              "      <td>-42.450287</td>\n",
              "      <td>-66.836708</td>\n",
              "      <td>0.953386</td>\n",
              "      <td>00:00</td>\n",
              "    </tr>\n",
              "    <tr>\n",
              "      <td>4</td>\n",
              "      <td>-57.321796</td>\n",
              "      <td>-83.652550</td>\n",
              "      <td>0.953386</td>\n",
              "      <td>00:00</td>\n",
              "    </tr>\n",
              "    <tr>\n",
              "      <td>5</td>\n",
              "      <td>-72.538467</td>\n",
              "      <td>-100.468399</td>\n",
              "      <td>0.953386</td>\n",
              "      <td>00:00</td>\n",
              "    </tr>\n",
              "    <tr>\n",
              "      <td>6</td>\n",
              "      <td>-87.923683</td>\n",
              "      <td>-117.284241</td>\n",
              "      <td>0.953386</td>\n",
              "      <td>00:00</td>\n",
              "    </tr>\n",
              "    <tr>\n",
              "      <td>7</td>\n",
              "      <td>-103.387108</td>\n",
              "      <td>-134.100067</td>\n",
              "      <td>0.953386</td>\n",
              "      <td>00:00</td>\n",
              "    </tr>\n",
              "    <tr>\n",
              "      <td>8</td>\n",
              "      <td>-118.885536</td>\n",
              "      <td>-150.915924</td>\n",
              "      <td>0.953386</td>\n",
              "      <td>00:00</td>\n",
              "    </tr>\n",
              "    <tr>\n",
              "      <td>9</td>\n",
              "      <td>-134.399139</td>\n",
              "      <td>-167.731766</td>\n",
              "      <td>0.953386</td>\n",
              "      <td>00:00</td>\n",
              "    </tr>\n",
              "  </tbody>\n",
              "</table>"
            ]
          },
          "metadata": {}
        }
      ],
      "source": [
        "learn.fit(10, lr=lr)"
      ]
    },
    {
      "cell_type": "markdown",
      "metadata": {
        "id": "KpzVnarmJbEU"
      },
      "source": [
        "As you can see, there's nothing magic about the PyTorch and fastai classes. They are just convenient pre-packaged pieces that make your life a bit easier! (They also provide a lot of extra functionality we'll be using in future chapters.)\n",
        "\n",
        "With these classes, we can now replace our linear model with a neural network."
      ]
    },
    {
      "cell_type": "markdown",
      "metadata": {
        "id": "1arkGT80JbEV"
      },
      "source": [
        "## Adding a Nonlinearity"
      ]
    },
    {
      "cell_type": "markdown",
      "metadata": {
        "id": "GZ1OVe0kJbEY"
      },
      "source": [
        "So far we have a general procedure for optimizing the parameters of a function, and we have tried it out on a very boring function: a simple linear classifier. A linear classifier is very constrained in terms of what it can do. To make it a bit more complex (and able to handle more tasks), we need to add something nonlinear between two linear classifiers—this is what gives us a neural network.\n",
        "\n",
        "Here is the entire definition of a basic neural network:"
      ]
    },
    {
      "cell_type": "code",
      "execution_count": null,
      "metadata": {
        "id": "68LOatxTJbEa"
      },
      "outputs": [],
      "source": [
        "def simple_net(xb):\n",
        "    res = xb@w1 + b1\n",
        "    res = res.max(tensor(0.0)) #Equivale a relu\n",
        "    res = res@w2 + b2\n",
        "    return res"
      ]
    },
    {
      "cell_type": "markdown",
      "metadata": {
        "id": "Dhy5SP6bJbEc"
      },
      "source": [
        "That's it! All we have in `simple_net` is two linear classifiers with a `max` function between them.\n",
        "\n",
        "Here, `w1` and `w2` are weight tensors, and `b1` and `b2` are bias tensors; that is, parameters that are initially randomly initialized, just like we did in the previous section:"
      ]
    },
    {
      "cell_type": "code",
      "execution_count": null,
      "metadata": {
        "id": "WPPgvZs_JbEe"
      },
      "outputs": [],
      "source": [
        "w1 = init_params((28*28,30))\n",
        "b1 = init_params(30)\n",
        "w2 = init_params((30,1))\n",
        "b2 = init_params(1)"
      ]
    },
    {
      "cell_type": "markdown",
      "metadata": {
        "id": "-GH92meUJbEg"
      },
      "source": [
        "The key point about this is that `w1` has 30 output activations (which means that `w2` must have 30 input activations, so they match). That means that the first layer can construct 30 different features, each representing some different mix of pixels. You can change that `30` to anything you like, to make the model more or less complex.\n",
        "\n",
        "That little function `res.max(tensor(0.0))` is called a *rectified linear unit*, also known as *ReLU*. We think we can all agree that *rectified linear unit* sounds pretty fancy and complicated... But actually, there's nothing more to it than `res.max(tensor(0.0))`—in other words, replace every negative number with a zero. This tiny function is also available in PyTorch as `F.relu`:"
      ]
    },
    {
      "cell_type": "code",
      "execution_count": null,
      "metadata": {
        "id": "qP4bZyMFJbEh",
        "outputId": "e682701a-fc1e-4089-fc44-dcd933fce3d2",
        "colab": {
          "base_uri": "https://localhost:8080/",
          "height": 372
        }
      },
      "outputs": [
        {
          "output_type": "display_data",
          "data": {
            "text/plain": [
              "<Figure size 600x400 with 1 Axes>"
            ],
            "image/png": "[encoded data removed]"
          },
          "metadata": {}
        }
      ],
      "source": [
        "plot_function(F.relu)"
      ]
    },
    {
      "cell_type": "code",
      "source": [
        "f = torch.nn.ReLU()"
      ],
      "metadata": {
        "colab": {
          "base_uri": "https://localhost:8080/"
        },
        "id": "rwEWWiFvrrRN",
        "outputId": "2587f874-b1cd-4a3f-d092-d134aceed682"
      },
      "execution_count": null,
      "outputs": [
        {
          "output_type": "execute_result",
          "data": {
            "text/plain": [
              "tensor(2)"
            ]
          },
          "metadata": {},
          "execution_count": 14
        }
      ]
    },
    {
      "cell_type": "code",
      "source": [
        "plot_function(f)"
      ],
      "metadata": {
        "id": "QRu6u_cFh4s8",
        "colab": {
          "base_uri": "https://localhost:8080/",
          "height": 372
        },
        "outputId": "c52b26d7-acd1-4f04-aed5-c03a0e145c76"
      },
      "execution_count": null,
      "outputs": [
        {
          "output_type": "display_data",
          "data": {
            "text/plain": [
              "<Figure size 600x400 with 1 Axes>"
            ],
            "image/png": "[encoded data removed]"
          },
          "metadata": {}
        }
      ]
    },
    {
      "cell_type": "markdown",
      "metadata": {
        "id": "9hOxtmjUJbEj"
      },
      "source": [
        "> J: There is an enormous amount of jargon in deep learning, including terms like _rectified linear unit_. The vast vast majority of this jargon is no more complicated than can be implemented in a short line of code, as we saw in this example. The reality is that for <font color='green'>academics to get their papers published they need to make them sound as impressive and sophisticated as possible.</font>  One of the ways that they do that is to introduce jargon. Unfortunately, this has the result that the field ends up becoming far more intimidating and difficult to get into than it should be. You do have to learn the jargon, because otherwise papers and tutorials are not going to mean much to you. But that doesn't mean you have to find the jargon intimidating. Just remember, when you come across a word or phrase that you haven't seen before, it will almost certainly turn out to be referring to a very simple concept."
      ]
    },
    {
      "cell_type": "markdown",
      "metadata": {
        "id": "9S0GHGt1JbEl"
      },
      "source": [
        "The basic idea is that by using more linear layers, we can have our model do more computation, and therefore model more complex functions. But there's no point just putting one linear layer directly after another one, because when we multiply things together and then add them up multiple times, that could be replaced by multiplying different things together and adding them up just once! That is to say, a series of any number of linear layers in a row can be replaced with a single linear layer with a different set of parameters.\n",
        "\n",
        "But if we put a nonlinear function between them, such as `max`, then this is no longer true. Now each linear layer is actually somewhat decoupled from the other ones, and can do its own useful work. The `max` function is particularly interesting, because it operates as a simple `if` statement."
      ]
    },
    {
      "cell_type": "markdown",
      "metadata": {
        "id": "sR_fZBauJbEn"
      },
      "source": [
        "> S: Mathematically, we say the <font color='Coral'>composition of two linear functions is another linear function </font>. So, we can stack as many linear classifiers as we want on top of each other, and without nonlinear functions between them, it will just be the same as one linear classifier.\n",
        "\n",
        "\n",
        "\n"
      ]
    },
    {
      "cell_type": "markdown",
      "metadata": {
        "id": "VRdiItURJbEp"
      },
      "source": [
        "Amazingly enough, it can be mathematically proven that this little function can solve any computable problem to an arbitrarily high level of accuracy, if you can find the right parameters for `w1` and `w2` and if you make these matrices big enough. For any arbitrarily wiggly function, we can approximate it as a bunch of lines joined together; to make it closer to the wiggly function, we just have to use shorter lines. This is known as the *universal approximation theorem*. The three lines of code that we have here are known as *layers*. The first and third are known as *linear layers*, and the second line of code is known variously as a *nonlinearity*, or *activation function*.\n",
        "\n",
        "Just like in the previous section, we can replace this code with something a bit simpler, by taking advantage of PyTorch:"
      ]
    },
    {
      "cell_type": "code",
      "execution_count": null,
      "metadata": {
        "id": "ZIRZDmNyJbEr"
      },
      "outputs": [],
      "source": [
        "simple_net = nn.Sequential(\n",
        "    nn.Linear(28*28,30),\n",
        "    nn.ReLU(),\n",
        "    nn.Linear(30,1)\n",
        ")"
      ]
    },
    {
      "cell_type": "code",
      "source": [
        "#Comparando\n",
        "def simple_net(xb):\n",
        "    res = xb@w1 + b1\n",
        "    res = res.max(tensor(0.0)) #Equivale a relu\n",
        "    res = res@w2 + b2\n",
        "    return res"
      ],
      "metadata": {
        "id": "jaYX26IOBBPj"
      },
      "execution_count": null,
      "outputs": []
    },
    {
      "cell_type": "markdown",
      "metadata": {
        "id": "xYGfIgPjJbEt"
      },
      "source": [
        "`nn.Sequential` creates a module that will call each of the listed layers or functions in turn.\n",
        "\n",
        "`nn.ReLU` is a PyTorch module that does exactly the same thing as the `F.relu` function. Most functions that can appear in a model also have identical forms that are modules. Generally, it's just a case of replacing `F` with `nn` and changing the capitalization. When using `nn.Sequential`, PyTorch requires us to use the module version. Since modules are classes, we have to instantiate them, which is why you see `nn.ReLU()` in this example.\n",
        "\n",
        "Because `nn.Sequential` is a module, we can get its parameters, which will return a list of all the parameters of all the modules it contains. Let's try it out! As this is a deeper model, we'll use a lower learning rate and a few more epochs."
      ]
    },
    {
      "cell_type": "code",
      "source": [
        "#Função Loss\n",
        "def mnist_loss(predictions, targets):\n",
        "    predictions = predictions.sigmoid()\n",
        "    return torch.where(targets==1, 1-predictions, predictions).mean()\n",
        "\n",
        "#Batch accuracy\n",
        "def batch_accuracy(xb, yb):\n",
        "    preds = xb.sigmoid()\n",
        "    correct = (preds>0.5) == yb\n",
        "    return correct.float().mean()\n",
        "\n",
        "#Modelo\n",
        "simple_net = nn.Sequential(\n",
        "    nn.Linear(28*28,30),\n",
        "    nn.ReLU(),\n",
        "    nn.Linear(30,1)\n",
        ")"
      ],
      "metadata": {
        "id": "JEckU08Nqv95"
      },
      "execution_count": null,
      "outputs": []
    },
    {
      "cell_type": "code",
      "source": [
        "#Load Data\n",
        "path = untar_data(URLs.MNIST_SAMPLE) #path = Path('.')\n",
        "Path.BASE_PATH = path\n",
        "threes = (path/'train'/'3').ls().sorted() #Train '3' paths\n",
        "sevens = (path/'train'/'7').ls().sorted() #Train '7' paths\n",
        "seven_tensors = [tensor(Image.open(o)) for o in sevens] #Train '7' tensors\n",
        "three_tensors = [tensor(Image.open(o)) for o in threes] #Train '3' tensors\n",
        "stacked_sevens = torch.stack(seven_tensors).float()/255 #Stacked Train '7'\n",
        "stacked_threes = torch.stack(three_tensors).float()/255 #Stacked Train '3'\n",
        "valid_3_tens = torch.stack([tensor(Image.open(o))\n",
        "                            for o in (path/'valid'/'3').ls()])\n",
        "valid_3_tens = valid_3_tens.float()/255                         #Stacked Valid '3'\n",
        "valid_7_tens = torch.stack([tensor(Image.open(o))\n",
        "                            for o in (path/'valid'/'7').ls()])\n",
        "valid_7_tens = valid_7_tens.float()/255                         #Stacked Valid '7'\n",
        "valid_3_tens.shape,valid_7_tens.shape,stacked_threes.shape,stacked_sevens.shape\n",
        "\n",
        "train_x = torch.cat([stacked_threes, stacked_sevens]).view(-1, 28*28)\n",
        "train_y = tensor([1]*len(threes) + [0]*len(sevens)) # torch.Size([12396])\n",
        "dset = list(zip(train_x,train_y)) #Train data set\n",
        "\n",
        "valid_x = torch.cat([valid_3_tens, valid_7_tens]).view(-1, 28*28)\n",
        "valid_y = tensor([1]*len(valid_3_tens) + [0]*len(valid_7_tens)).unsqueeze(1)\n",
        "valid_dset = list(zip(valid_x,valid_y)) #Valid data set\n",
        "\n",
        "#Train dataloader\n",
        "dl = DataLoader(dset, batch_size=256) #Dataloader Train batch\n",
        "#Valid dataloader\n",
        "valid_dl = DataLoader(valid_dset, batch_size=256)  #Dataloader Valid batch\n",
        "\n",
        "dls = DataLoaders(dl, valid_dl) #DataLoader"
      ],
      "metadata": {
        "id": "QHcZBHQyGVfk"
      },
      "execution_count": null,
      "outputs": []
    },
    {
      "cell_type": "code",
      "source": [
        "path = untar_data(URLs.MNIST_SAMPLE) #path = Path('.')\n",
        "dls = ImageDataLoaders.from_folder(path) #Não está funcionando! Funciona como dls construído a partir do bloco #Load Data acima"
      ],
      "metadata": {
        "id": "po6guq5EeIPH"
      },
      "execution_count": null,
      "outputs": []
    },
    {
      "cell_type": "code",
      "execution_count": null,
      "metadata": {
        "id": "CElb91hAJbEv"
      },
      "outputs": [],
      "source": [
        "learn = Learner(dls, simple_net, opt_func=SGD,\n",
        "                loss_func=mnist_loss, metrics=batch_accuracy)"
      ]
    },
    {
      "cell_type": "code",
      "execution_count": null,
      "metadata": {
        "id": "CdJZWAhWJbEy",
        "colab": {
          "base_uri": "https://localhost:8080/",
          "height": 1000
        },
        "outputId": "c1bcba9b-ca59-4d03-e583-8e7bf3cac61b"
      },
      "outputs": [
        {
          "output_type": "display_data",
          "data": {
            "text/plain": [
              "<IPython.core.display.HTML object>"
            ],
            "text/html": [
              "\n",
              "<style>\n",
              "    /* Turns off some styling */\n",
              "    progress {\n",
              "        /* gets rid of default border in Firefox and Opera. */\n",
              "        border: none;\n",
              "        /* Needs to be in here for Safari polyfill so background images work as expected. */\n",
              "        background-size: auto;\n",
              "    }\n",
              "    progress:not([value]), progress:not([value])::-webkit-progress-bar {\n",
              "        background: repeating-linear-gradient(45deg, #7e7e7e, #7e7e7e 10px, #5c5c5c 10px, #5c5c5c 20px);\n",
              "    }\n",
              "    .progress-bar-interrupted, .progress-bar-interrupted::-webkit-progress-bar {\n",
              "        background: #F44336;\n",
              "    }\n",
              "</style>\n"
            ]
          },
          "metadata": {}
        },
        {
          "output_type": "display_data",
          "data": {
            "text/plain": [
              "<IPython.core.display.HTML object>"
            ],
            "text/html": [
              "<table border=\"1\" class=\"dataframe\">\n",
              "  <thead>\n",
              "    <tr style=\"text-align: left;\">\n",
              "      <th>epoch</th>\n",
              "      <th>train_loss</th>\n",
              "      <th>valid_loss</th>\n",
              "      <th>batch_accuracy</th>\n",
              "      <th>time</th>\n",
              "    </tr>\n",
              "  </thead>\n",
              "  <tbody>\n",
              "    <tr>\n",
              "      <td>0</td>\n",
              "      <td>0.352419</td>\n",
              "      <td>0.404445</td>\n",
              "      <td>0.505397</td>\n",
              "      <td>00:00</td>\n",
              "    </tr>\n",
              "    <tr>\n",
              "      <td>1</td>\n",
              "      <td>0.161386</td>\n",
              "      <td>0.238627</td>\n",
              "      <td>0.791953</td>\n",
              "      <td>00:00</td>\n",
              "    </tr>\n",
              "    <tr>\n",
              "      <td>2</td>\n",
              "      <td>0.087754</td>\n",
              "      <td>0.116837</td>\n",
              "      <td>0.916585</td>\n",
              "      <td>00:00</td>\n",
              "    </tr>\n",
              "    <tr>\n",
              "      <td>3</td>\n",
              "      <td>0.056834</td>\n",
              "      <td>0.077845</td>\n",
              "      <td>0.940628</td>\n",
              "      <td>00:00</td>\n",
              "    </tr>\n",
              "    <tr>\n",
              "      <td>4</td>\n",
              "      <td>0.042802</td>\n",
              "      <td>0.060527</td>\n",
              "      <td>0.957311</td>\n",
              "      <td>00:00</td>\n",
              "    </tr>\n",
              "    <tr>\n",
              "      <td>5</td>\n",
              "      <td>0.035800</td>\n",
              "      <td>0.050964</td>\n",
              "      <td>0.964181</td>\n",
              "      <td>00:00</td>\n",
              "    </tr>\n",
              "    <tr>\n",
              "      <td>6</td>\n",
              "      <td>0.031867</td>\n",
              "      <td>0.044989</td>\n",
              "      <td>0.966634</td>\n",
              "      <td>00:00</td>\n",
              "    </tr>\n",
              "    <tr>\n",
              "      <td>7</td>\n",
              "      <td>0.029358</td>\n",
              "      <td>0.040929</td>\n",
              "      <td>0.967125</td>\n",
              "      <td>00:00</td>\n",
              "    </tr>\n",
              "    <tr>\n",
              "      <td>8</td>\n",
              "      <td>0.027572</td>\n",
              "      <td>0.037983</td>\n",
              "      <td>0.968597</td>\n",
              "      <td>00:00</td>\n",
              "    </tr>\n",
              "    <tr>\n",
              "      <td>9</td>\n",
              "      <td>0.026200</td>\n",
              "      <td>0.035739</td>\n",
              "      <td>0.969087</td>\n",
              "      <td>00:00</td>\n",
              "    </tr>\n",
              "    <tr>\n",
              "      <td>10</td>\n",
              "      <td>0.025092</td>\n",
              "      <td>0.033954</td>\n",
              "      <td>0.971541</td>\n",
              "      <td>00:00</td>\n",
              "    </tr>\n",
              "    <tr>\n",
              "      <td>11</td>\n",
              "      <td>0.024170</td>\n",
              "      <td>0.032490</td>\n",
              "      <td>0.972522</td>\n",
              "      <td>00:00</td>\n",
              "    </tr>\n",
              "    <tr>\n",
              "      <td>12</td>\n",
              "      <td>0.023388</td>\n",
              "      <td>0.031257</td>\n",
              "      <td>0.974485</td>\n",
              "      <td>00:00</td>\n",
              "    </tr>\n",
              "    <tr>\n",
              "      <td>13</td>\n",
              "      <td>0.022712</td>\n",
              "      <td>0.030199</td>\n",
              "      <td>0.975466</td>\n",
              "      <td>00:00</td>\n",
              "    </tr>\n",
              "    <tr>\n",
              "      <td>14</td>\n",
              "      <td>0.022121</td>\n",
              "      <td>0.029276</td>\n",
              "      <td>0.975466</td>\n",
              "      <td>00:00</td>\n",
              "    </tr>\n",
              "    <tr>\n",
              "      <td>15</td>\n",
              "      <td>0.021599</td>\n",
              "      <td>0.028462</td>\n",
              "      <td>0.976448</td>\n",
              "      <td>00:00</td>\n",
              "    </tr>\n",
              "    <tr>\n",
              "      <td>16</td>\n",
              "      <td>0.021133</td>\n",
              "      <td>0.027735</td>\n",
              "      <td>0.976448</td>\n",
              "      <td>00:00</td>\n",
              "    </tr>\n",
              "    <tr>\n",
              "      <td>17</td>\n",
              "      <td>0.020712</td>\n",
              "      <td>0.027083</td>\n",
              "      <td>0.976938</td>\n",
              "      <td>00:00</td>\n",
              "    </tr>\n",
              "    <tr>\n",
              "      <td>18</td>\n",
              "      <td>0.020331</td>\n",
              "      <td>0.026494</td>\n",
              "      <td>0.977429</td>\n",
              "      <td>00:00</td>\n",
              "    </tr>\n",
              "    <tr>\n",
              "      <td>19</td>\n",
              "      <td>0.019982</td>\n",
              "      <td>0.025959</td>\n",
              "      <td>0.977920</td>\n",
              "      <td>00:00</td>\n",
              "    </tr>\n",
              "    <tr>\n",
              "      <td>20</td>\n",
              "      <td>0.019661</td>\n",
              "      <td>0.025471</td>\n",
              "      <td>0.977920</td>\n",
              "      <td>00:00</td>\n",
              "    </tr>\n",
              "    <tr>\n",
              "      <td>21</td>\n",
              "      <td>0.019364</td>\n",
              "      <td>0.025022</td>\n",
              "      <td>0.978410</td>\n",
              "      <td>00:00</td>\n",
              "    </tr>\n",
              "    <tr>\n",
              "      <td>22</td>\n",
              "      <td>0.019089</td>\n",
              "      <td>0.024610</td>\n",
              "      <td>0.978901</td>\n",
              "      <td>00:00</td>\n",
              "    </tr>\n",
              "    <tr>\n",
              "      <td>23</td>\n",
              "      <td>0.018832</td>\n",
              "      <td>0.024230</td>\n",
              "      <td>0.979882</td>\n",
              "      <td>00:00</td>\n",
              "    </tr>\n",
              "    <tr>\n",
              "      <td>24</td>\n",
              "      <td>0.018590</td>\n",
              "      <td>0.023878</td>\n",
              "      <td>0.979882</td>\n",
              "      <td>00:00</td>\n",
              "    </tr>\n",
              "    <tr>\n",
              "      <td>25</td>\n",
              "      <td>0.018363</td>\n",
              "      <td>0.023552</td>\n",
              "      <td>0.979882</td>\n",
              "      <td>00:00</td>\n",
              "    </tr>\n",
              "    <tr>\n",
              "      <td>26</td>\n",
              "      <td>0.018149</td>\n",
              "      <td>0.023250</td>\n",
              "      <td>0.980864</td>\n",
              "      <td>00:00</td>\n",
              "    </tr>\n",
              "    <tr>\n",
              "      <td>27</td>\n",
              "      <td>0.017946</td>\n",
              "      <td>0.022968</td>\n",
              "      <td>0.981354</td>\n",
              "      <td>00:00</td>\n",
              "    </tr>\n",
              "    <tr>\n",
              "      <td>28</td>\n",
              "      <td>0.017753</td>\n",
              "      <td>0.022705</td>\n",
              "      <td>0.981354</td>\n",
              "      <td>00:00</td>\n",
              "    </tr>\n",
              "    <tr>\n",
              "      <td>29</td>\n",
              "      <td>0.017569</td>\n",
              "      <td>0.022460</td>\n",
              "      <td>0.981845</td>\n",
              "      <td>00:00</td>\n",
              "    </tr>\n",
              "    <tr>\n",
              "      <td>30</td>\n",
              "      <td>0.017394</td>\n",
              "      <td>0.022231</td>\n",
              "      <td>0.981354</td>\n",
              "      <td>00:00</td>\n",
              "    </tr>\n",
              "    <tr>\n",
              "      <td>31</td>\n",
              "      <td>0.017227</td>\n",
              "      <td>0.022016</td>\n",
              "      <td>0.981354</td>\n",
              "      <td>00:00</td>\n",
              "    </tr>\n",
              "    <tr>\n",
              "      <td>32</td>\n",
              "      <td>0.017067</td>\n",
              "      <td>0.021815</td>\n",
              "      <td>0.981354</td>\n",
              "      <td>00:00</td>\n",
              "    </tr>\n",
              "    <tr>\n",
              "      <td>33</td>\n",
              "      <td>0.016913</td>\n",
              "      <td>0.021626</td>\n",
              "      <td>0.981845</td>\n",
              "      <td>00:00</td>\n",
              "    </tr>\n",
              "    <tr>\n",
              "      <td>34</td>\n",
              "      <td>0.016766</td>\n",
              "      <td>0.021448</td>\n",
              "      <td>0.981845</td>\n",
              "      <td>00:00</td>\n",
              "    </tr>\n",
              "    <tr>\n",
              "      <td>35</td>\n",
              "      <td>0.016624</td>\n",
              "      <td>0.021280</td>\n",
              "      <td>0.982336</td>\n",
              "      <td>00:00</td>\n",
              "    </tr>\n",
              "    <tr>\n",
              "      <td>36</td>\n",
              "      <td>0.016488</td>\n",
              "      <td>0.021121</td>\n",
              "      <td>0.981845</td>\n",
              "      <td>00:00</td>\n",
              "    </tr>\n",
              "    <tr>\n",
              "      <td>37</td>\n",
              "      <td>0.016357</td>\n",
              "      <td>0.020971</td>\n",
              "      <td>0.981845</td>\n",
              "      <td>00:00</td>\n",
              "    </tr>\n",
              "    <tr>\n",
              "      <td>38</td>\n",
              "      <td>0.016230</td>\n",
              "      <td>0.020829</td>\n",
              "      <td>0.981845</td>\n",
              "      <td>00:00</td>\n",
              "    </tr>\n",
              "    <tr>\n",
              "      <td>39</td>\n",
              "      <td>0.016108</td>\n",
              "      <td>0.020694</td>\n",
              "      <td>0.981845</td>\n",
              "      <td>00:00</td>\n",
              "    </tr>\n",
              "  </tbody>\n",
              "</table>"
            ]
          },
          "metadata": {}
        }
      ],
      "source": [
        "#hide_output\n",
        "learn.fit(40, 0.1)  #épocas, lr"
      ]
    },
    {
      "cell_type": "markdown",
      "source": [
        "Note que ao longo das épocas `valid_loss + batch_accuracy` tende a `1.0`"
      ],
      "metadata": {
        "id": "91CYn8uFrGvv"
      }
    },
    {
      "cell_type": "code",
      "source": [
        "learn.summary()"
      ],
      "metadata": {
        "colab": {
          "base_uri": "https://localhost:8080/",
          "height": 468
        },
        "id": "m_2nIPVUm6E4",
        "outputId": "8b1c2f82-bae2-4644-8ed2-1fb0428c4f7e"
      },
      "execution_count": null,
      "outputs": [
        {
          "output_type": "display_data",
          "data": {
            "text/plain": [
              "<IPython.core.display.HTML object>"
            ],
            "text/html": [
              "\n",
              "<style>\n",
              "    /* Turns off some styling */\n",
              "    progress {\n",
              "        /* gets rid of default border in Firefox and Opera. */\n",
              "        border: none;\n",
              "        /* Needs to be in here for Safari polyfill so background images work as expected. */\n",
              "        background-size: auto;\n",
              "    }\n",
              "    progress:not([value]), progress:not([value])::-webkit-progress-bar {\n",
              "        background: repeating-linear-gradient(45deg, #7e7e7e, #7e7e7e 10px, #5c5c5c 10px, #5c5c5c 20px);\n",
              "    }\n",
              "    .progress-bar-interrupted, .progress-bar-interrupted::-webkit-progress-bar {\n",
              "        background: #F44336;\n",
              "    }\n",
              "</style>\n"
            ]
          },
          "metadata": {}
        },
        {
          "output_type": "display_data",
          "data": {
            "text/plain": [
              "<IPython.core.display.HTML object>"
            ],
            "text/html": []
          },
          "metadata": {}
        },
        {
          "output_type": "execute_result",
          "data": {
            "text/plain": [
              "Sequential (Input shape: 256 x 784)\n",
              "============================================================================\n",
              "Layer (type)         Output Shape         Param #    Trainable \n",
              "============================================================================\n",
              "                     256 x 30            \n",
              "Linear                                    23550      True      \n",
              "ReLU                                                           \n",
              "____________________________________________________________________________\n",
              "                     256 x 1             \n",
              "Linear                                    31         True      \n",
              "____________________________________________________________________________\n",
              "\n",
              "Total params: 23,581\n",
              "Total trainable params: 23,581\n",
              "Total non-trainable params: 0\n",
              "\n",
              "Optimizer used: <function SGD at 0x7d9827269120>\n",
              "Loss function: <function mnist_loss at 0x7d98261272e0>\n",
              "\n",
              "Model unfrozen\n",
              "\n",
              "Callbacks:\n",
              "  - TrainEvalCallback\n",
              "  - CastToTensor\n",
              "  - Recorder\n",
              "  - ProgressCallback"
            ],
            "application/vnd.google.colaboratory.intrinsic+json": {
              "type": "string"
            }
          },
          "metadata": {},
          "execution_count": 8
        }
      ]
    },
    {
      "cell_type": "code",
      "source": [
        "learn.parameters"
      ],
      "metadata": {
        "colab": {
          "base_uri": "https://localhost:8080/"
        },
        "id": "LL_19_fFnOK1",
        "outputId": "2c66fb44-4fe7-45fd-f285-36abf4f96adf"
      },
      "execution_count": null,
      "outputs": [
        {
          "output_type": "execute_result",
          "data": {
            "text/plain": [
              "<bound method Module.parameters of Sequential(\n",
              "  (0): Linear(in_features=784, out_features=30, bias=True)\n",
              "  (1): ReLU()\n",
              "  (2): Linear(in_features=30, out_features=1, bias=True)\n",
              ")>"
            ]
          },
          "metadata": {},
          "execution_count": 22
        }
      ]
    },
    {
      "cell_type": "markdown",
      "metadata": {
        "id": "Bq30EBg7JbE0"
      },
      "source": [
        "We're not showing the 40 lines of output here to save room; the training process is recorded in `learn.recorder`, with the table of output stored in the `values` attribute, so we can plot the accuracy over training as:"
      ]
    },
    {
      "cell_type": "code",
      "execution_count": null,
      "metadata": {
        "id": "FrsFdipsJbE2",
        "outputId": "98973bb4-b53d-4e08-f84c-e90469af5984"
      },
      "outputs": [
        {
          "data": {
            "image/png": "[encoded data removed]",
            "text/plain": [
              "<Figure size 432x288 with 1 Axes>"
            ]
          },
          "metadata": {},
          "output_type": "display_data"
        }
      ],
      "source": [
        "plt.plot(L(learn.recorder.values).itemgot(2));"
      ]
    },
    {
      "cell_type": "markdown",
      "metadata": {
        "id": "FbKObMomJbE4"
      },
      "source": [
        "And we can view the final accuracy:"
      ]
    },
    {
      "cell_type": "code",
      "execution_count": null,
      "metadata": {
        "id": "t4A-WrCAJbE7",
        "outputId": "d064a3c3-4093-4505-afb4-05fcc80d7079"
      },
      "outputs": [
        {
          "data": {
            "text/plain": [
              "0.982826292514801"
            ]
          },
          "execution_count": null,
          "metadata": {},
          "output_type": "execute_result"
        }
      ],
      "source": [
        "learn.recorder.values[-1][2]"
      ]
    },
    {
      "cell_type": "markdown",
      "metadata": {
        "id": "aoiQC4QfJbE9"
      },
      "source": [
        "At this point we have something that is rather magical:\n",
        "\n",
        "1. A function that can solve any problem to any level of accuracy (the neural network) given the correct set of parameters\n",
        "1. A way to find the best set of parameters for any function (stochastic gradient descent)\n",
        "\n",
        "This is why deep learning can do things which seem rather magical, such fantastic things. Believing that this combination of simple techniques can really solve any problem is one of the biggest steps that we find many students have to take. It seems too good to be true—surely things should be more difficult and complicated than this? Our recommendation: try it out! We just tried it on the MNIST dataset and you have seen the results. And since we are doing everything from scratch ourselves (except for calculating the gradients) you know that there is no special magic hiding behind the scenes."
      ]
    },
    {
      "cell_type": "markdown",
      "metadata": {
        "id": "G0fxXxhwJbE_"
      },
      "source": [
        "### Going Deeper"
      ]
    },
    {
      "cell_type": "markdown",
      "metadata": {
        "id": "-kMPWNCoJbFA"
      },
      "source": [
        "There is no need to stop at just two linear layers. We can add as many as we want, as long as we add a nonlinearity between each pair of linear layers. As you will learn, however, the deeper the model gets, the harder it is to optimize the parameters in practice. Later in this book you will learn about some simple but brilliantly effective techniques for training deeper models.\n",
        "\n",
        "We already know that a single nonlinearity with two linear layers is enough to approximate any function. So why would we use deeper models? The reason is performance. With a deeper model (that is, one with more layers) we do not need to use as many parameters; it turns out that we can use smaller matrices with more layers, and get better results than we would get with larger matrices, and few layers.\n",
        "\n",
        "That means that we can train the model more quickly, and it will take up less memory. In the 1990s researchers were so focused on the universal approximation theorem that very few were experimenting with more than one nonlinearity. This theoretical but not practical foundation held back the field for years. Some researchers, however, did experiment with deep models, and eventually were able to show that these models could perform much better in practice. Eventually, theoretical results were developed which showed why this happens. Today, it is extremely unusual to find anybody using a neural network with just one nonlinearity.\n",
        "\n",
        "Here is what happens when we train an 18-layer model using the same approach we saw in <<chapter_intro>>:"
      ]
    },
    {
      "cell_type": "code",
      "execution_count": null,
      "metadata": {
        "id": "RDzUTeFtJbFC",
        "colab": {
          "base_uri": "https://localhost:8080/",
          "height": 170
        },
        "outputId": "409bcf13-8d4e-452d-e01c-c4c05357b945"
      },
      "outputs": [
        {
          "output_type": "stream",
          "name": "stderr",
          "text": [
            "/usr/local/lib/python3.10/dist-packages/torchvision/models/_utils.py:208: UserWarning: The parameter 'pretrained' is deprecated since 0.13 and may be removed in the future, please use 'weights' instead.\n",
            "  warnings.warn(\n",
            "/usr/local/lib/python3.10/dist-packages/torchvision/models/_utils.py:223: UserWarning: Arguments other than a weight enum or `None` for 'weights' are deprecated since 0.13 and may be removed in the future. The current behavior is equivalent to passing `weights=None`.\n",
            "  warnings.warn(msg)\n"
          ]
        },
        {
          "output_type": "display_data",
          "data": {
            "text/plain": [
              "<IPython.core.display.HTML object>"
            ],
            "text/html": [
              "\n",
              "<style>\n",
              "    /* Turns off some styling */\n",
              "    progress {\n",
              "        /* gets rid of default border in Firefox and Opera. */\n",
              "        border: none;\n",
              "        /* Needs to be in here for Safari polyfill so background images work as expected. */\n",
              "        background-size: auto;\n",
              "    }\n",
              "    progress:not([value]), progress:not([value])::-webkit-progress-bar {\n",
              "        background: repeating-linear-gradient(45deg, #7e7e7e, #7e7e7e 10px, #5c5c5c 10px, #5c5c5c 20px);\n",
              "    }\n",
              "    .progress-bar-interrupted, .progress-bar-interrupted::-webkit-progress-bar {\n",
              "        background: #F44336;\n",
              "    }\n",
              "</style>\n"
            ]
          },
          "metadata": {}
        },
        {
          "output_type": "display_data",
          "data": {
            "text/plain": [
              "<IPython.core.display.HTML object>"
            ],
            "text/html": [
              "<table border=\"1\" class=\"dataframe\">\n",
              "  <thead>\n",
              "    <tr style=\"text-align: left;\">\n",
              "      <th>epoch</th>\n",
              "      <th>train_loss</th>\n",
              "      <th>valid_loss</th>\n",
              "      <th>accuracy</th>\n",
              "      <th>time</th>\n",
              "    </tr>\n",
              "  </thead>\n",
              "  <tbody>\n",
              "    <tr>\n",
              "      <td>0</td>\n",
              "      <td>0.145041</td>\n",
              "      <td>0.025804</td>\n",
              "      <td>0.993621</td>\n",
              "      <td>03:58</td>\n",
              "    </tr>\n",
              "  </tbody>\n",
              "</table>"
            ]
          },
          "metadata": {}
        }
      ],
      "source": [
        "path = untar_data(URLs.MNIST_SAMPLE)\n",
        "dls = ImageDataLoaders.from_folder(path)\n",
        "learn = vision_learner(dls, resnet18, pretrained=False,\n",
        "                    loss_func=F.cross_entropy, metrics=accuracy)\n",
        "learn.fit_one_cycle(1, 0.1)"
      ]
    },
    {
      "cell_type": "code",
      "source": [
        "path = untar_data(URLs.MNIST_SAMPLE)\n",
        "dls = ImageDataLoaders.from_folder(path)\n",
        "learn = vision_learner(dls, resnet18, pretrained=True,\n",
        "                    loss_func=F.cross_entropy, metrics=accuracy)\n",
        "learn.fit(1, 0.1)"
      ],
      "metadata": {
        "colab": {
          "base_uri": "https://localhost:8080/",
          "height": 205
        },
        "id": "4gpZI7Iqff1r",
        "outputId": "06cf28e0-71cc-49cd-e0df-110bb3aa5b73"
      },
      "execution_count": null,
      "outputs": [
        {
          "output_type": "stream",
          "name": "stderr",
          "text": [
            "/usr/local/lib/python3.10/dist-packages/torchvision/models/_utils.py:208: UserWarning: The parameter 'pretrained' is deprecated since 0.13 and may be removed in the future, please use 'weights' instead.\n",
            "  warnings.warn(\n",
            "/usr/local/lib/python3.10/dist-packages/torchvision/models/_utils.py:223: UserWarning: Arguments other than a weight enum or `None` for 'weights' are deprecated since 0.13 and may be removed in the future. The current behavior is equivalent to passing `weights=ResNet18_Weights.IMAGENET1K_V1`. You can also use `weights=ResNet18_Weights.DEFAULT` to get the most up-to-date weights.\n",
            "  warnings.warn(msg)\n",
            "Downloading: \"https://download.pytorch.org/models/resnet18-f37072fd.pth\" to /root/.cache/torch/hub/checkpoints/resnet18-f37072fd.pth\n",
            "100%|██████████| 44.7M/44.7M [00:00<00:00, 111MB/s]\n"
          ]
        },
        {
          "output_type": "display_data",
          "data": {
            "text/plain": [
              "<IPython.core.display.HTML object>"
            ],
            "text/html": [
              "\n",
              "<style>\n",
              "    /* Turns off some styling */\n",
              "    progress {\n",
              "        /* gets rid of default border in Firefox and Opera. */\n",
              "        border: none;\n",
              "        /* Needs to be in here for Safari polyfill so background images work as expected. */\n",
              "        background-size: auto;\n",
              "    }\n",
              "    progress:not([value]), progress:not([value])::-webkit-progress-bar {\n",
              "        background: repeating-linear-gradient(45deg, #7e7e7e, #7e7e7e 10px, #5c5c5c 10px, #5c5c5c 20px);\n",
              "    }\n",
              "    .progress-bar-interrupted, .progress-bar-interrupted::-webkit-progress-bar {\n",
              "        background: #F44336;\n",
              "    }\n",
              "</style>\n"
            ]
          },
          "metadata": {}
        },
        {
          "output_type": "display_data",
          "data": {
            "text/plain": [
              "<IPython.core.display.HTML object>"
            ],
            "text/html": [
              "<table border=\"1\" class=\"dataframe\">\n",
              "  <thead>\n",
              "    <tr style=\"text-align: left;\">\n",
              "      <th>epoch</th>\n",
              "      <th>train_loss</th>\n",
              "      <th>valid_loss</th>\n",
              "      <th>accuracy</th>\n",
              "      <th>time</th>\n",
              "    </tr>\n",
              "  </thead>\n",
              "  <tbody>\n",
              "    <tr>\n",
              "      <td>0</td>\n",
              "      <td>0.207668</td>\n",
              "      <td>0.024512</td>\n",
              "      <td>0.995093</td>\n",
              "      <td>01:34</td>\n",
              "    </tr>\n",
              "  </tbody>\n",
              "</table>"
            ]
          },
          "metadata": {}
        }
      ]
    },
    {
      "cell_type": "code",
      "source": [
        "learn.dls.vocab"
      ],
      "metadata": {
        "colab": {
          "base_uri": "https://localhost:8080/"
        },
        "id": "gucbQ0JMlbxk",
        "outputId": "766b822f-14fa-463b-eb12-6bd9829a1e6d"
      },
      "execution_count": null,
      "outputs": [
        {
          "output_type": "execute_result",
          "data": {
            "text/plain": [
              "['3', '7']"
            ]
          },
          "metadata": {},
          "execution_count": 24
        }
      ]
    },
    {
      "cell_type": "code",
      "source": [
        "learn.summary()"
      ],
      "metadata": {
        "id": "tH7AZDX_e2ZS",
        "colab": {
          "base_uri": "https://localhost:8080/",
          "height": 1000
        },
        "outputId": "3ce8aacf-cebf-4e57-d1d6-1e91dadd9cb2"
      },
      "execution_count": null,
      "outputs": [
        {
          "output_type": "display_data",
          "data": {
            "text/plain": [
              "<IPython.core.display.HTML object>"
            ],
            "text/html": [
              "\n",
              "<style>\n",
              "    /* Turns off some styling */\n",
              "    progress {\n",
              "        /* gets rid of default border in Firefox and Opera. */\n",
              "        border: none;\n",
              "        /* Needs to be in here for Safari polyfill so background images work as expected. */\n",
              "        background-size: auto;\n",
              "    }\n",
              "    progress:not([value]), progress:not([value])::-webkit-progress-bar {\n",
              "        background: repeating-linear-gradient(45deg, #7e7e7e, #7e7e7e 10px, #5c5c5c 10px, #5c5c5c 20px);\n",
              "    }\n",
              "    .progress-bar-interrupted, .progress-bar-interrupted::-webkit-progress-bar {\n",
              "        background: #F44336;\n",
              "    }\n",
              "</style>\n"
            ]
          },
          "metadata": {}
        },
        {
          "output_type": "display_data",
          "data": {
            "text/plain": [
              "<IPython.core.display.HTML object>"
            ],
            "text/html": []
          },
          "metadata": {}
        },
        {
          "output_type": "execute_result",
          "data": {
            "text/plain": [
              "Sequential (Input shape: 64 x 3 x 28 x 28)\n",
              "============================================================================\n",
              "Layer (type)         Output Shape         Param #    Trainable \n",
              "============================================================================\n",
              "                     64 x 64 x 14 x 14   \n",
              "Conv2d                                    9408       False     \n",
              "BatchNorm2d                               128        True      \n",
              "ReLU                                                           \n",
              "____________________________________________________________________________\n",
              "                     64 x 64 x 7 x 7     \n",
              "MaxPool2d                                                      \n",
              "Conv2d                                    36864      False     \n",
              "BatchNorm2d                               128        True      \n",
              "ReLU                                                           \n",
              "Conv2d                                    36864      False     \n",
              "BatchNorm2d                               128        True      \n",
              "Conv2d                                    36864      False     \n",
              "BatchNorm2d                               128        True      \n",
              "ReLU                                                           \n",
              "Conv2d                                    36864      False     \n",
              "BatchNorm2d                               128        True      \n",
              "____________________________________________________________________________\n",
              "                     64 x 128 x 4 x 4    \n",
              "Conv2d                                    73728      False     \n",
              "BatchNorm2d                               256        True      \n",
              "ReLU                                                           \n",
              "Conv2d                                    147456     False     \n",
              "BatchNorm2d                               256        True      \n",
              "Conv2d                                    8192       False     \n",
              "BatchNorm2d                               256        True      \n",
              "Conv2d                                    147456     False     \n",
              "BatchNorm2d                               256        True      \n",
              "ReLU                                                           \n",
              "Conv2d                                    147456     False     \n",
              "BatchNorm2d                               256        True      \n",
              "____________________________________________________________________________\n",
              "                     64 x 256 x 2 x 2    \n",
              "Conv2d                                    294912     False     \n",
              "BatchNorm2d                               512        True      \n",
              "ReLU                                                           \n",
              "Conv2d                                    589824     False     \n",
              "BatchNorm2d                               512        True      \n",
              "Conv2d                                    32768      False     \n",
              "BatchNorm2d                               512        True      \n",
              "Conv2d                                    589824     False     \n",
              "BatchNorm2d                               512        True      \n",
              "ReLU                                                           \n",
              "Conv2d                                    589824     False     \n",
              "BatchNorm2d                               512        True      \n",
              "____________________________________________________________________________\n",
              "                     64 x 512 x 1 x 1    \n",
              "Conv2d                                    1179648    False     \n",
              "BatchNorm2d                               1024       True      \n",
              "ReLU                                                           \n",
              "Conv2d                                    2359296    False     \n",
              "BatchNorm2d                               1024       True      \n",
              "Conv2d                                    131072     False     \n",
              "BatchNorm2d                               1024       True      \n",
              "Conv2d                                    2359296    False     \n",
              "BatchNorm2d                               1024       True      \n",
              "ReLU                                                           \n",
              "Conv2d                                    2359296    False     \n",
              "BatchNorm2d                               1024       True      \n",
              "AdaptiveAvgPool2d                                              \n",
              "AdaptiveMaxPool2d                                              \n",
              "____________________________________________________________________________\n",
              "                     64 x 1024           \n",
              "Flatten                                                        \n",
              "BatchNorm1d                               2048       True      \n",
              "Dropout                                                        \n",
              "____________________________________________________________________________\n",
              "                     64 x 512            \n",
              "Linear                                    524288     True      \n",
              "ReLU                                                           \n",
              "BatchNorm1d                               1024       True      \n",
              "Dropout                                                        \n",
              "____________________________________________________________________________\n",
              "                     64 x 2              \n",
              "Linear                                    1024       True      \n",
              "____________________________________________________________________________\n",
              "\n",
              "Total params: 11,704,896\n",
              "Total trainable params: 537,984\n",
              "Total non-trainable params: 11,166,912\n",
              "\n",
              "Optimizer used: <function Adam at 0x7eb56640d750>\n",
              "Loss function: <function cross_entropy at 0x7eb579daf130>\n",
              "\n",
              "Model frozen up to parameter group #2\n",
              "\n",
              "Callbacks:\n",
              "  - TrainEvalCallback\n",
              "  - CastToTensor\n",
              "  - Recorder\n",
              "  - ProgressCallback"
            ],
            "application/vnd.google.colaboratory.intrinsic+json": {
              "type": "string"
            }
          },
          "metadata": {},
          "execution_count": 25
        }
      ]
    },
    {
      "cell_type": "code",
      "source": [
        "learn.parameters"
      ],
      "metadata": {
        "colab": {
          "base_uri": "https://localhost:8080/"
        },
        "id": "-JpbNvHygOqd",
        "outputId": "4bbc0db4-4d6b-4164-b5bf-363fba8ec7b4"
      },
      "execution_count": null,
      "outputs": [
        {
          "output_type": "execute_result",
          "data": {
            "text/plain": [
              "<bound method Module.parameters of Sequential(\n",
              "  (0): Sequential(\n",
              "    (0): Conv2d(3, 64, kernel_size=(7, 7), stride=(2, 2), padding=(3, 3), bias=False)\n",
              "    (1): BatchNorm2d(64, eps=1e-05, momentum=0.1, affine=True, track_running_stats=True)\n",
              "    (2): ReLU(inplace=True)\n",
              "    (3): MaxPool2d(kernel_size=3, stride=2, padding=1, dilation=1, ceil_mode=False)\n",
              "    (4): Sequential(\n",
              "      (0): BasicBlock(\n",
              "        (conv1): Conv2d(64, 64, kernel_size=(3, 3), stride=(1, 1), padding=(1, 1), bias=False)\n",
              "        (bn1): BatchNorm2d(64, eps=1e-05, momentum=0.1, affine=True, track_running_stats=True)\n",
              "        (relu): ReLU(inplace=True)\n",
              "        (conv2): Conv2d(64, 64, kernel_size=(3, 3), stride=(1, 1), padding=(1, 1), bias=False)\n",
              "        (bn2): BatchNorm2d(64, eps=1e-05, momentum=0.1, affine=True, track_running_stats=True)\n",
              "      )\n",
              "      (1): BasicBlock(\n",
              "        (conv1): Conv2d(64, 64, kernel_size=(3, 3), stride=(1, 1), padding=(1, 1), bias=False)\n",
              "        (bn1): BatchNorm2d(64, eps=1e-05, momentum=0.1, affine=True, track_running_stats=True)\n",
              "        (relu): ReLU(inplace=True)\n",
              "        (conv2): Conv2d(64, 64, kernel_size=(3, 3), stride=(1, 1), padding=(1, 1), bias=False)\n",
              "        (bn2): BatchNorm2d(64, eps=1e-05, momentum=0.1, affine=True, track_running_stats=True)\n",
              "      )\n",
              "    )\n",
              "    (5): Sequential(\n",
              "      (0): BasicBlock(\n",
              "        (conv1): Conv2d(64, 128, kernel_size=(3, 3), stride=(2, 2), padding=(1, 1), bias=False)\n",
              "        (bn1): BatchNorm2d(128, eps=1e-05, momentum=0.1, affine=True, track_running_stats=True)\n",
              "        (relu): ReLU(inplace=True)\n",
              "        (conv2): Conv2d(128, 128, kernel_size=(3, 3), stride=(1, 1), padding=(1, 1), bias=False)\n",
              "        (bn2): BatchNorm2d(128, eps=1e-05, momentum=0.1, affine=True, track_running_stats=True)\n",
              "        (downsample): Sequential(\n",
              "          (0): Conv2d(64, 128, kernel_size=(1, 1), stride=(2, 2), bias=False)\n",
              "          (1): BatchNorm2d(128, eps=1e-05, momentum=0.1, affine=True, track_running_stats=True)\n",
              "        )\n",
              "      )\n",
              "      (1): BasicBlock(\n",
              "        (conv1): Conv2d(128, 128, kernel_size=(3, 3), stride=(1, 1), padding=(1, 1), bias=False)\n",
              "        (bn1): BatchNorm2d(128, eps=1e-05, momentum=0.1, affine=True, track_running_stats=True)\n",
              "        (relu): ReLU(inplace=True)\n",
              "        (conv2): Conv2d(128, 128, kernel_size=(3, 3), stride=(1, 1), padding=(1, 1), bias=False)\n",
              "        (bn2): BatchNorm2d(128, eps=1e-05, momentum=0.1, affine=True, track_running_stats=True)\n",
              "      )\n",
              "    )\n",
              "    (6): Sequential(\n",
              "      (0): BasicBlock(\n",
              "        (conv1): Conv2d(128, 256, kernel_size=(3, 3), stride=(2, 2), padding=(1, 1), bias=False)\n",
              "        (bn1): BatchNorm2d(256, eps=1e-05, momentum=0.1, affine=True, track_running_stats=True)\n",
              "        (relu): ReLU(inplace=True)\n",
              "        (conv2): Conv2d(256, 256, kernel_size=(3, 3), stride=(1, 1), padding=(1, 1), bias=False)\n",
              "        (bn2): BatchNorm2d(256, eps=1e-05, momentum=0.1, affine=True, track_running_stats=True)\n",
              "        (downsample): Sequential(\n",
              "          (0): Conv2d(128, 256, kernel_size=(1, 1), stride=(2, 2), bias=False)\n",
              "          (1): BatchNorm2d(256, eps=1e-05, momentum=0.1, affine=True, track_running_stats=True)\n",
              "        )\n",
              "      )\n",
              "      (1): BasicBlock(\n",
              "        (conv1): Conv2d(256, 256, kernel_size=(3, 3), stride=(1, 1), padding=(1, 1), bias=False)\n",
              "        (bn1): BatchNorm2d(256, eps=1e-05, momentum=0.1, affine=True, track_running_stats=True)\n",
              "        (relu): ReLU(inplace=True)\n",
              "        (conv2): Conv2d(256, 256, kernel_size=(3, 3), stride=(1, 1), padding=(1, 1), bias=False)\n",
              "        (bn2): BatchNorm2d(256, eps=1e-05, momentum=0.1, affine=True, track_running_stats=True)\n",
              "      )\n",
              "    )\n",
              "    (7): Sequential(\n",
              "      (0): BasicBlock(\n",
              "        (conv1): Conv2d(256, 512, kernel_size=(3, 3), stride=(2, 2), padding=(1, 1), bias=False)\n",
              "        (bn1): BatchNorm2d(512, eps=1e-05, momentum=0.1, affine=True, track_running_stats=True)\n",
              "        (relu): ReLU(inplace=True)\n",
              "        (conv2): Conv2d(512, 512, kernel_size=(3, 3), stride=(1, 1), padding=(1, 1), bias=False)\n",
              "        (bn2): BatchNorm2d(512, eps=1e-05, momentum=0.1, affine=True, track_running_stats=True)\n",
              "        (downsample): Sequential(\n",
              "          (0): Conv2d(256, 512, kernel_size=(1, 1), stride=(2, 2), bias=False)\n",
              "          (1): BatchNorm2d(512, eps=1e-05, momentum=0.1, affine=True, track_running_stats=True)\n",
              "        )\n",
              "      )\n",
              "      (1): BasicBlock(\n",
              "        (conv1): Conv2d(512, 512, kernel_size=(3, 3), stride=(1, 1), padding=(1, 1), bias=False)\n",
              "        (bn1): BatchNorm2d(512, eps=1e-05, momentum=0.1, affine=True, track_running_stats=True)\n",
              "        (relu): ReLU(inplace=True)\n",
              "        (conv2): Conv2d(512, 512, kernel_size=(3, 3), stride=(1, 1), padding=(1, 1), bias=False)\n",
              "        (bn2): BatchNorm2d(512, eps=1e-05, momentum=0.1, affine=True, track_running_stats=True)\n",
              "      )\n",
              "    )\n",
              "  )\n",
              "  (1): Sequential(\n",
              "    (0): AdaptiveConcatPool2d(\n",
              "      (ap): AdaptiveAvgPool2d(output_size=1)\n",
              "      (mp): AdaptiveMaxPool2d(output_size=1)\n",
              "    )\n",
              "    (1): fastai.layers.Flatten(full=False)\n",
              "    (2): BatchNorm1d(1024, eps=1e-05, momentum=0.1, affine=True, track_running_stats=True)\n",
              "    (3): Dropout(p=0.25, inplace=False)\n",
              "    (4): Linear(in_features=1024, out_features=512, bias=False)\n",
              "    (5): ReLU(inplace=True)\n",
              "    (6): BatchNorm1d(512, eps=1e-05, momentum=0.1, affine=True, track_running_stats=True)\n",
              "    (7): Dropout(p=0.5, inplace=False)\n",
              "    (8): Linear(in_features=512, out_features=2, bias=False)\n",
              "  )\n",
              ")>"
            ]
          },
          "metadata": {},
          "execution_count": 26
        }
      ]
    },
    {
      "cell_type": "markdown",
      "metadata": {
        "id": "LsjdIvMWJbFE"
      },
      "source": [
        "Nearly 100% accuracy! That's a big difference compared to our simple neural net. But as you'll learn in the remainder of this book, there are just a few little tricks you need to use to get such great results from scratch yourself. You already know the key foundational pieces. (Of course, even once you know all the tricks, you'll nearly always want to work with the pre-built classes provided by PyTorch and fastai, because they save you having to think about all the little details yourself.)"
      ]
    },
    {
      "cell_type": "markdown",
      "metadata": {
        "id": "ME8qwNOBJbFG"
      },
      "source": [
        "## Jargon Recap"
      ]
    },
    {
      "cell_type": "markdown",
      "metadata": {
        "id": "MBu7kDGrJbFI"
      },
      "source": [
        "Congratulations: you now know how to create and train a deep neural network from scratch! We've gone through quite a few steps to get to this point, but you might be surprised at how simple it really is.\n",
        "\n",
        "Now that we are at this point, it is a good opportunity to define, and review, some jargon and key concepts.\n",
        "\n",
        "A neural network contains a lot of numbers, but they are only of two types: numbers that are calculated, and the parameters that these numbers are calculated from. This gives us the two most important pieces of jargon to learn:\n",
        "\n",
        "- Activations:: Numbers that are calculated (both by linear and nonlinear layers)\n",
        "- Parameters:: Numbers that are randomly initialized, and optimized (that is, the numbers that define the model)\n",
        "\n",
        "We will often talk in this book about activations and parameters. Remember that they have very specific meanings. They are numbers. They are not abstract concepts, but they are actual specific numbers that are in your model. Part of becoming a good deep learning practitioner is getting used to the idea of actually looking at your activations and parameters, and plotting them and testing whether they are behaving correctly.\n",
        "\n",
        "Our activations and parameters are all contained in *tensors*. These are simply regularly shaped arrays—for example, a matrix. Matrices have rows and columns; we call these the *axes* or *dimensions*. The number of dimensions of a tensor is its *rank*. There are some special tensors:\n",
        "\n",
        "- Rank zero: scalar\n",
        "- Rank one: vector\n",
        "- Rank two: matrix\n",
        "\n",
        "A neural network contains a number of layers. Each layer is either *linear* or *nonlinear*. We generally alternate between these two kinds of layers in a neural network. Sometimes people refer to both a linear layer and its subsequent nonlinearity together as a single layer. Yes, this is confusing. Sometimes a nonlinearity is referred to as an *activation function*.\n",
        "\n",
        "<<dljargon1>> summarizes the key concepts related to SGD.\n",
        "\n",
        "```asciidoc\n",
        "[[dljargon1]]\n",
        ".Deep learning vocabulary\n",
        "[options=\"header\"]\n",
        "|==================================================================================================|\n",
        "| Term |          Meaning\n",
        "|ReLU |           Function that returns 0 for negative numbers and doesn't change positive numbers.\n",
        "|Mini-batch |     A small group of inputs and labels gathered together in two arrays.\n",
        "                  A gradient descent step is updated on this batch (rather than a whole epoch).\n",
        "|Forward pass |   Applying the model to some input and computing the predictions.\n",
        "|Loss |           A value that represents how well (or badly) our model is doing.\n",
        "|Gradient |       The derivative of the loss with respect to some parameter of the model.\n",
        "|Backward pass |  Computing the gradients of the loss with respect to all model parameters.\n",
        "|Gradient descent|Taking a step in the directions opposite to the gradients\n",
        "                  to make the model parameters a little bit better.\n",
        "|Learning rate |  The size of the step we take when applying SGD to update the parameters of the model.\n",
        "|====================================================================================================|\n",
        "```"
      ]
    },
    {
      "cell_type": "markdown",
      "metadata": {
        "id": "MzzpkDmEJbFL"
      },
      "source": [
        "> note: _Choose Your Own Adventure_ Reminder: Did you choose to skip over chapters 2 & 3, in your excitement to peek under the hood? Well, here's your reminder to head back to chapter 2 now, because you'll be needing to know that stuff very soon!"
      ]
    },
    {
      "cell_type": "code",
      "source": [
        "#Comparação de métricas\n",
        "from numpy import subtract, mean, square, sqrt, sum, square, abs\n",
        "y_actual = [1,2,3,4,5]\n",
        "y_predicted = [1.6,2.5,2.9,3,4.1]\n",
        "MSE = mean(square(subtract(y_actual,y_predicted)))\n",
        "RMSE = sqrt(MSE)\n",
        "L2 =sqrt(sum(square(subtract(y_actual,y_predicted))))\n",
        "L1 = sum(abs(subtract(y_actual,y_predicted)))\n",
        "MAE = mean(abs(subtract(y_actual,y_predicted)))\n",
        "print(f'MSE: {MSE:.4f} | RMSE: {RMSE:.4f} | MAE: {MAE:.4f}  | L1: {L1:.4f} | L2: {L2:.4f}')\n",
        "# MSE: 0.4860 | RMSE: 0.6971 | MAE: 0.6200  | L1: 3.1000 | L2: 1.5588"
      ],
      "metadata": {
        "colab": {
          "base_uri": "https://localhost:8080/"
        },
        "id": "L25xlmuxMVXP",
        "outputId": "b82a7d17-fa14-417e-9611-74f0447d2b52"
      },
      "execution_count": null,
      "outputs": [
        {
          "output_type": "stream",
          "name": "stdout",
          "text": [
            "MSE: 0.4860 | RMSE: 0.6971 | MAE: 0.6200  | L1: 3.1000 | L2: 1.5588\n"
          ]
        }
      ]
    },
    {
      "cell_type": "code",
      "source": [
        "z=tensor([x for x in range(1,4)],[x for x in range(4,7)],[x for x in range(7,10)] )\n",
        "z*=2\n",
        "z,z[1:,1:]\n",
        "(tensor([[ 2,  4,  6],\n",
        "         [ 8, 10, 12],\n",
        "         [14, 16, 18]]),\n",
        " tensor([[10, 12],\n",
        "         [16, 18]]))\n",
        "#(tensor([[ 2,  4,  6],\n",
        "#         [ 8, 10, 12],\n",
        "#         [14, 16, 18]]),\n",
        "# tensor([[10, 12],\n",
        "#         [16, 18]]))"
      ],
      "metadata": {
        "colab": {
          "base_uri": "https://localhost:8080/"
        },
        "id": "WGLw4hn36yan",
        "outputId": "3f916e83-05d2-4005-b906-d926cd94de45"
      },
      "execution_count": null,
      "outputs": [
        {
          "output_type": "execute_result",
          "data": {
            "text/plain": [
              "(tensor([[ 2,  4,  6],\n",
              "         [ 8, 10, 12],\n",
              "         [14, 16, 18]]),\n",
              " tensor([[10, 12],\n",
              "         [16, 18]]))"
            ]
          },
          "metadata": {},
          "execution_count": 22
        }
      ]
    },
    {
      "cell_type": "markdown",
      "metadata": {
        "id": "4dkJMR7NJbFN"
      },
      "source": [
        "## Questionnaire"
      ]
    },
    {
      "cell_type": "markdown",
      "metadata": {
        "id": "zP3q_00HJbFP"
      },
      "source": [
        "1. How is a grayscale image represented on a computer? How about a color image?\n",
        "Escala de cinza: 1 valor por pixel (255)\n",
        "\n",
        "RGB 3x(255)\n",
        "2. How are the files and folders in the `MNIST_SAMPLE` dataset structured? Why?\n",
        "Train, Valid. A ideia é separar dados para validar o modelo.\n",
        "\n",
        "3. Explain how the \"pixel similarity\" approach to classifying digits works.\n",
        "Funciona comparando a 'intensidade média' de cada pixel com a imagem.\n",
        "4. What is a list comprehension? Create one now that selects odd numbers from a list and doubles them.\n",
        "L = [2*x for x in range(1,10,2)]\n",
        "list_variable = [x for x in iterable]\n",
        "5. What is a \"rank-3 tensor\"?\n",
        "What Is a Rank 3 Tensor?\n",
        "A rank 3 tensor is a three-dimensional array that can be used to represent color images. In TensorFlow, a rank 3 tensor is represented as a matrix of shape (height, width, channels), where height and width represent the dimensions of the image, and channels represent the color channels of the image. For example, a color image with a height of 100, a width of 200, and three color channels (red, green, and blue) can be represented as a rank 3 tensor of shape (100, 200, 3).\n",
        "6. What is the difference between tensor rank and shape? How do you get the rank from the shape?\n",
        "The rank of a tensor is the number of dimensions it has\n",
        "a matrix has 2 dimensions, so its rank is 2.  A colored image has 3 dimensions [height, width, 3] so its rank is 3 The shape of a tensor is the detailed number of components in each dimension\n",
        "a matrix has 2 dimensions, rank 2 and can have a shape like [6, 10], where 6 is the number of rows and 10 the number of columns a 200x200 colored image (of rank 3) will have a shape [200, 200, 3]\n",
        "7. What are MSE, RMSE, L2 and L1 norm?\n",
        "\n",
        "```\n",
        "REM #Comparação de métricas\n",
        "from numpy import subtract, mean, square, sqrt, sum, square, abs\n",
        "y_actual = [1,2,3,4,5]\n",
        "y_predicted = [1.6,2.5,2.9,3,4.1]\n",
        "MSE = mean(square(subtract(y_actual,y_predicted)))\n",
        "RMSE = sqrt(MSE)\n",
        "L2 =sqrt(sum(square(subtract(y_actual,y_predicted))))\n",
        "L1 = sum(abs(subtract(y_actual,y_predicted)))\n",
        "MAE = mean(abs(subtract(y_actual,y_predicted)))\n",
        "print(f'MSE: {MSE:.4f} | RMSE: {RMSE:.4f} | MAE: {MAE:.4f}  | L1: {L1:.4f} | L2: {L2:.4f}')\n",
        "REM MSE: 0.4860 | RMSE: 0.6971 | MAE: 0.6200  | L1: 3.1000 | L2: 1.5588\n",
        "```\n",
        "8. How can you apply a calculation on thousands of numbers at once, many thousands of times faster than a Python loop?\n",
        "\n",
        "There are a couple of important points about how broadcasting is implemented, which make it valuable not just for expressivity but also for performance:\n",
        "\n",
        "PyTorch doesn't actually copy mean3 1,010 times. It pretends it were a tensor of that shape, but doesn't actually allocate any additional memory\n",
        "It does the whole calculation in C (or, if you're using a GPU, in CUDA, the equivalent of C on the GPU), tens of thousands of times faster than pure Python (up to millions of times faster on a GPU!).\n",
        "This is true of all broadcasting and elementwise operations and functions done in PyTorch. It's the most important technique for you to know to create efficient PyTorch code.\n",
        "9. Create a 3×3 tensor or array containing the numbers from 1 to 9. Double it. Select the bottom-right four numbers.\n",
        "\n",
        "```\n",
        "z=tensor([x for x in range(1,4)],[x for x in range(4,7)],[x for x in range(7,10)] )\n",
        "z*=2\n",
        "z,z[1:,1:]\n",
        "\n",
        "(tensor([[ 2,  4,  6],\n",
        "         [ 8, 10, 12],\n",
        "         [14, 16, 18]]),\n",
        " tensor([[10, 12],\n",
        "         [16, 18]]))\n",
        "```\n",
        "\n",
        "10. What is broadcasting?\n",
        "\n",
        "PyTorch Multiplication Broadcasting is a feature that allows you to perform element-wise multiplication of tensors with different shapes and sizes. The feature automatically broadcasts the smaller tensor to match the shape of the larger tensor, enabling element-wise multiplication\n",
        "\n",
        "11. Are metrics generally calculated using the training set, or the validation set? Why?\n",
        "No treinamento utilizamos as métricas (Loss) e na validação accuracy para verificar se o modelo está bom.\n",
        "12. What is SGD?\n",
        "\n",
        "The SGD is Stochastic Gradient Descent, It is an optimizer which comes under gradient descent which is an famous optimization technique used in machine learning and deep learning. The SGD optimizer in which \"stochastic\" means a system which is connected or linked up with random probability.\n",
        "\n",
        "13. Why does SGD use mini-batches?\n",
        "Para não sobrecarregar o processamento.\n",
        "14. What are the seven steps in SGD for machine learning?\n",
        "\n",
        "*Initialize* the weights.\n",
        "\n",
        "Based on these predictions, calculate how good the model is (its *loss*).\n",
        "\n",
        "Calculate the *gradient*, which measures for each weight, how changing that weight would change the loss\n",
        "\n",
        "*Step* (that is, change) all the weights based on that calculation. Finnaly Zero grad.\n",
        "\n",
        "Go back to the step 2, and *repeat* the process.\n",
        "\n",
        "Iterate until you decide to *stop* the training process (for instance, because the model is good enough or you don't want to wait any longer).\n",
        "\n",
        "15. How do we initialize the weights in a model?\n",
        "Random!\n",
        "16. What is \"loss\"?\n",
        "\n",
        "Loss functions are used to gauge the error between the prediction output and the provided target value. A loss function tells us how far the algorithm model is from realizing the expected outcome. The word ‘loss’ means the penalty that the model gets for failing to yield the desired results.\n",
        "\n",
        "17. Why can't we always use a high learning rate?\n",
        "\n",
        "Picking a learning rate that's too high is even worse—it can actually result in the loss getting *worse*. If the learning rate is too high, it may also \"bounce\" around, rather than actually diverging. This has the result of taking many steps to train successfully.\n",
        "\n",
        "18. What is a \"gradient\"?\n",
        "\n",
        "The gradient is used to find the derivatives of the function. In mathematical terms, derivatives mean differentiation of a function partially and finding the value.\n",
        "\n",
        "19. Do you need to know how to calculate gradients yourself?\n",
        "Não, podemos utilizar Pytorch Autograd, por exemplo.\n",
        "\n",
        "20. Why can't we use accuracy as a loss function?\n",
        "\n",
        "It's because accuracy and loss (cross-entropy) measure two different things. Cross-entropy loss awards lower loss to predictions which are closer to the class label. The accuracy, on the other hand, is a binary true/false for a particular sample.\n",
        "\n",
        "21. Draw the sigmoid function. What is special about its shape?\n",
        "  1 _\n",
        "0_/  Sigmoid ajusta os valores entre 0 e 1.\n",
        "\n",
        "22. What is the difference between a loss function and a metric?\n",
        "\n",
        "The loss function is used to optimize your model. This is the function that will get minimized by the optimizer.\n",
        "\n",
        "A metric is used to judge the performance of your model. This is only for you to look at and has nothing to do with the optimization process.\n",
        "\n",
        "23. What is the function to calculate new weights using a learning rate?\n",
        "\n",
        "Wnew =Wold -α⋅∇L\n",
        "Where:\n",
        "\n",
        "Wnew is the updated weight.\n",
        "Wold is the previous weight.\n",
        "α is the learning rate (a small positive constant that determines the step size).\n",
        "∇L is the gradient of the loss function with respect to the weight W.\n",
        "\n",
        "24. What does the `DataLoader` class do?\n",
        "\n",
        "Dataset stores the samples and their corresponding labels, and DataLoader wraps an iterable around the Dataset to enable easy access to the samples.\n",
        "\n",
        "25. Write pseudocode showing the basic steps taken in each epoch for SGD.\n",
        "```\n",
        "for x,y in dl:\n",
        "    pred = model(x)\n",
        "    loss = loss_func(pred, y)\n",
        "    loss.backward()\n",
        "    parameters -= parameters.grad * lr\n",
        "```\n",
        "\n",
        "26. Create a function that, if passed two arguments `[1,2,3,4]` and `'abcd'`, returns `[(1, 'a'), (2, 'b'), (3, 'c'), (4, 'd')]`. What is special about that output data structure?\n",
        "\n",
        "```\n",
        "L1 = list((x for x in 'abcd'))\n",
        "\n",
        "L2 = list (range(1,5))\n",
        "\n",
        "L3 = list(zip(L1,L2))\n",
        "\n",
        "L3 #[('a', 1), ('b', 2), ('c', 3), ('d', 4)]\n",
        "\n",
        "L3 mostra variável independente e previsão\n",
        "```\n",
        "27. What does `view` do in PyTorch?\n",
        "\n",
        "view is a PyTorch method that changes the shape of a tensor without changing its contents. -1 is a special parameter to view that means \"make this axis as big as necessary to fit all the data\".\n",
        "28. What are the \"bias\" parameters in a neural network? Why do we need them?\n",
        "\n",
        "Bias in a neural network is required to shift the activation function across the plane either towards the left or the right.\n",
        "Such a neural network can approximate any linear function of the form y=Wx + b. When b=0, then y=f(x)=Wx and the neural network can approximate only the functions passing through origin. If a function includes the constant term b, it can approximate any of the linear functions in the plane.\n",
        "29. What does the `@` operator do in Python?\n",
        "@ multiplica matrizes\n",
        "Since Python 3.5, it’s been possible to use @ to multiply matrices.\n",
        "Também:\n",
        "The main use case of the symbol @ in Python are decorators. In Python, a decorator extends the functionality of an existing function or class.\n",
        "\n",
        "30. What does the `backward` method do?\n",
        "\n",
        "The backward() method is used to compute the gradient during the backward pass in a neural network. The gradients are computed when this method is executed. These gradients are stored in the respective variables. The gradients are computed with respect to these variables, and the gradients are accessed using .\n",
        "31. Why do we have to zero the gradients?\n",
        "\n",
        "Para que eles não se acumulem.\n",
        "32. What information do we have to pass to `Learner`?\n",
        "No caso do modelo partir do zero\n",
        "```\n",
        "learn = Learner(dls, simple_net, opt_func=SGD,\n",
        "                loss_func=mnist_loss, metrics=batch_accuracy)\n",
        "```\n",
        "Ou seja dataloader, modelo, optimizador, loss function e a métrica.\n",
        "No optimizador devemos incluir os parâmetros randomizados, lr e _momentum_.\n",
        "`SGD_model.parameters(), lr=rate_learning, momentum=0.9`\n",
        "\n",
        "No caso de modelo prétreinado devemso ativar a opção 'pretrained'\n",
        "`learn = vision_learner(dls, resnet18, pretrained=True,\n",
        "                    loss_func=F.cross_entropy, metrics=accuracy)`\n",
        "33. Show Python or pseudocode for the basic steps of a training loop.\n",
        "\n",
        "```\n",
        "for i in range(20):\n",
        "    train_epoch(linear1, lr, params)\n",
        "    print(validate_epoch(linear1), end=' ')1. What is \"ReLU\"? Draw a plot of it for values from `-2` to `+2`.\n",
        "```\n",
        "\n",
        "34. What is an \"activation function\"?\n",
        "\n",
        "Activation function of a node in an artificial neural network is a function that calculates the output of the node (based on its inputs and the weights on individual inputs). Nontrivial problems can be solved only using a _nonlinear_ activation function.\n",
        "35. What's the difference between `F.relu` and `nn.ReLU`?\n",
        "\n",
        "nn.ReLU() creates an nn.Module which you can add e.g. to an nn.Sequential model.\n",
        "nn.functional.relu on the other side is just the functional API call to the relu function, so that you can add it e.g. in your forward method yourself.\n",
        "\n",
        "Generally speaking it might depend on your coding style if you prefer modules for the activations or the functional calls.\n",
        "36. The universal approximation theorem shows that any function can be approximated as closely as needed using just one nonlinearity. So why do we normally use more?\n",
        "\n",
        "Why is increasing non-linearity desired?\n",
        "\n",
        "Simply put: the more 'non-linear' our decision function, the more complex decisions it can make. In many cases this is desired because the decision function we are modeling with the neural network is unlikely to have a linear relationship with the input. Having more neurons in the layers with ReLU, a non-linear activation function, means that the output of the network should have a non-linear relationship with the input. 'Input' in this case is going to be the convoluted image segments.\n",
        "\n",
        "What effect does it have on the overall performance of the model?\n",
        "\n",
        "It depends on the problem. Considering CNNs: if the relationship between the class you want to predict and, in this case, convoluted image segments, is 'non-linear' then the performance of the network will improve if the fully connected layers (decision function) have non-linear activation functions (like ReLU). Stacking more layers will also increase your non-linearity.\n",
        "\n",
        "https://stats.stackexchange.com/questions/275358/why-is-increasing-the-non-linearity-of-neural-networks-desired#:~:text=Having%20a%20non%2Dlinearity%20is,as%20a%20single%20linear%20layer."
      ]
    },
    {
      "cell_type": "markdown",
      "metadata": {
        "id": "Ktq-vcUKJbFS"
      },
      "source": [
        "### Further Research"
      ]
    },
    {
      "cell_type": "markdown",
      "metadata": {
        "id": "zIfBwZF3JbFU"
      },
      "source": [
        "1. Create your own implementation of `Learner` from scratch, based on the training loop shown in this chapter.\n",
        "\n",
        "Modelo criado: Modelos atômicos: '02_production_Atoms_3.ipynb'\n",
        "\n",
        "2. Complete all the steps in this chapter using the full MNIST datasets (that is, for all digits, not just 3s and 7s). This is a significant project and will take you quite a bit of time to complete! You'll need to do some of your own research to figure out how to overcome some obstacles you'll meet on the way.\n",
        "\n",
        "Modelo criado: '02_production_MNIST_01.ipynb'"
      ]
    },
    {
      "cell_type": "markdown",
      "source": [
        "#EXTRA"
      ],
      "metadata": {
        "id": "eaNbZmyIWSUw"
      }
    },
    {
      "cell_type": "markdown",
      "source": [
        "https://www.projectpro.io/recipes/optimize-function-sgd-pytorch\n",
        "\n",
        "Recipe Objective\n",
        "How to optimize a function using SGD in Pytorch?\n",
        "\n",
        "The SGD is nothing but Stochastic Gradient Descent, It is an optimizer which comes under gradient descent which is an famous optimization technique used in machine learning and deep learning. The SGD optimizer in which \"stochastic\" means a system which is connected or linked up with random probability. In SGD optimizer a few samples is being picked up or we can say a few samples being get selected in a random manner instead taking up the whole dataset for each iteration. For optimizing a function we are going to use torch.optim which is a package, implements numerous optimization algorithms. The several commonly used methods are already supported, and the interface is general enough so that more practical ones can be also easily integrated in future.\n",
        "\n",
        "Table of Contents\n",
        "\n",
        "Recipe Objective\n",
        "\n",
        "Step 1 - Import library\n",
        "\n",
        "Step 2 - Define parameters\n",
        "\n",
        "Step 3 - Create Random tensors\n",
        "\n",
        "Step 4 - Define model and loss function\n",
        "\n",
        "Step 5 - Define learning rate\n",
        "\n",
        "Step 6 - Initialize optimizer\n",
        "\n",
        "Step 7 - Forward pass\n",
        "\n",
        "Step 8 - Zero all gradients\n",
        "\n",
        "Step 9 - Backward pass\n",
        "\n",
        "Step 10 - Call step function\n",
        "\n"
      ],
      "metadata": {
        "id": "9sxx9wPlWSQf"
      }
    },
    {
      "cell_type": "markdown",
      "source": [
        "##Step 1 - Import library\n",
        "\n",
        "`import torch`\n",
        "\n",
        "##Step 2 - Define parameters\n",
        "\n",
        "`batch, dim_in, dim_h, dim_out = 64, 1000, 100, 10`\n",
        "\n",
        "Here we are defining various parameters which are as follows:\n",
        "batch - batch size\n",
        "dim_in - Input dimension.\n",
        "dim_out - Output dimension.\n",
        "dim_h - hidden dimension.\n",
        "\n",
        "##Step 3 - Create Random tensors\n",
        "\n",
        "`input_X = torch.randn(batch, dim_in)`\n",
        "\n",
        "`output_Y = torch.randn(batch, dim_out)`\n",
        "\n",
        "Here we are creating random tensors for holding the input and output data.\n",
        "\n",
        "##Step 4 - Define model and loss function\n",
        "\n",
        "```asciidoc\n",
        "SGD_model = torch.nn.Sequential(\n",
        "    torch.nn.Linear(dim_in, dim_h),\n",
        "    torch.nn.ReLU(),\n",
        "    torch.nn.Linear(dim_h, dim_out),\n",
        ")\n",
        "\n",
        "loss_fn = torch.nn.MSELoss(reduction='sum')\n",
        "```\n",
        "\n",
        "##Step 5 - Define learning rate\n",
        "\n",
        "`rate_learning = 0.1`\n",
        "\n",
        "##Step 6 - Initialize optimizer\n",
        "\n",
        "`optim = torch.optim.SGD(SGD_model.parameters(), lr=rate_learning, momentum=0.9)`\n",
        "\n",
        "Momentum is a strategy for accelerating the convergence of the optimization process by including a momentum element in the update rule. This momentum factor assists the optimizer in continuing to go in the same direction even if the gradient changes direction or becomes zero. This can aid in improving convergence speed, reducing oscillations, avoiding becoming trapped in local minima, and making the optimization process more resistant to noisy gradients.\n",
        "\n",
        "Here we are Initializing our optimizer by using the \"optim\" package which will update the weights of the model for us. We are using SGD optimizer here the \"optim\" package which consist of many optimization algorithms.\n",
        "\n",
        "##Step 7 - Forward pass\n",
        "\n",
        "```asciidoc\n",
        "for values in range(500):\n",
        "  pred_y = SGD_model(input_X)\n",
        "  loss = loss_fn(pred_y, output_Y)\n",
        "  if values % 100 == 99:\n",
        "    print(values, loss.item())\n",
        "```\n",
        "\n",
        "99 698.3545532226562\n",
        "\n",
        "199 698.3545532226562\n",
        "\n",
        "299 698.3545532226562\n",
        "\n",
        "399 698.3545532226562\n",
        "\n",
        "499 698.3545532226562\n",
        "\n",
        "Here we are computing the predicted y by passing input_X to the model, after that computing the loss and then printing it.\n",
        "\n",
        "##Step 8 - Zero all gradients\n",
        "\n",
        "`optim.zero_grad()`\n",
        "\n",
        "Here before the backward pass we must zero all the gradients for the variables it will update which are nothing but the learnable weights of the model.\n",
        "\n",
        "##Step 9 - Backward pass\n",
        "\n",
        "`loss.backward()`\n",
        "\n",
        "Here we are computing the gradients of the loss w.r.t the model parameters.\n",
        "\n",
        "##Step 10 - Call step function\n",
        "\n",
        "`optim.step()`\n",
        "\n",
        "Here we are calling the step function on an optimizer which will makes an update to its parameters.\n",
        "\n",
        "`{\"mode\":\"full\",\"isActive\":false}`\n",
        "\n",
        "```asciidoc\n",
        "for values in range(500):\n",
        "  pred_y = SGD_model(input_X)\n",
        "  loss = loss_fn(pred_y, output_Y)\n",
        "  if values % 100 == 99:\n",
        "    print(values, loss.item())\n",
        "  optim.zero_grad()\n",
        "  loss.backward()\n",
        "  optim.step()\n",
        "```\n",
        "\n"
      ],
      "metadata": {
        "id": "TahImfooW4pE"
      }
    },
    {
      "cell_type": "code",
      "source": [
        "L1 = list((x for x in 'abcd'))\n",
        "L2 = list (range(1,5))\n",
        "L3 = list(zip(L1,L2))\n",
        "L3 #[('a', 1), ('b', 2), ('c', 3), ('d', 4)]"
      ],
      "metadata": {
        "colab": {
          "base_uri": "https://localhost:8080/"
        },
        "id": "9x4cdOjJnPEC",
        "outputId": "e966742d-52ee-43e5-c60b-fd5a234db4c7"
      },
      "execution_count": null,
      "outputs": [
        {
          "output_type": "execute_result",
          "data": {
            "text/plain": [
              "[('a', 1), ('b', 2), ('c', 3), ('d', 4)]"
            ]
          },
          "metadata": {},
          "execution_count": 1
        }
      ]
    },
    {
      "cell_type": "code",
      "source": [
        "dot = graphviz.Digraph(comment='The Round Table')\n",
        "\n",
        "dot.node('A', 'Import library')\n",
        "dot.node('B', 'Define parameters')\n",
        "dot.node('C', 'Create Random tensors')\n",
        "dot.node('D', 'Define model and loss function')\n",
        "dot.node('E', 'Define learning rate')\n",
        "dot.node('F', 'Initialize optimizer')\n",
        "dot.node('G', 'Forward pass (pred, loss)')\n",
        "dot.node('H', 'Zero all gradients')\n",
        "dot.node('I', 'Backward pass: loss.backward')\n",
        "dot.node('J', 'Call step OPT function')\n",
        "dot.node('K', 'STOP')\n",
        "\n",
        "dot.edge('A','B')\n",
        "dot.edge('B','C')\n",
        "dot.edge('C','D')\n",
        "dot.edge('D','E')\n",
        "dot.edge('E','F')\n",
        "dot.edge('F','G')\n",
        "dot.edge('G','H')\n",
        "dot.edge('H','I')\n",
        "dot.edge('I','J')\n",
        "dot.edge('J','G')\n",
        "dot.edge('J','K')\n",
        "dot"
      ],
      "metadata": {
        "colab": {
          "base_uri": "https://localhost:8080/",
          "height": 1000
        },
        "id": "ISAEe3ETmOMF",
        "outputId": "95bf09c4-56d8-4c87-ae27-2a9337b9ff14"
      },
      "execution_count": null,
      "outputs": [
        {
          "output_type": "execute_result",
          "data": {
            "image/svg+xml": "<?xml version=\"1.0\" encoding=\"UTF-8\" standalone=\"no\"?>\n<!DOCTYPE svg PUBLIC \"-//W3C//DTD SVG 1.1//EN\"\n \"http://www.w3.org/Graphics/SVG/1.1/DTD/svg11.dtd\">\n<!-- Generated by graphviz version 2.43.0 (0)\n -->\n<!-- Title: %3 Pages: 1 -->\n<svg width=\"322pt\" height=\"764pt\"\n viewBox=\"0.00 0.00 322.13 764.00\" xmlns=\"http://www.w3.org/2000/svg\" xmlns:xlink=\"http://www.w3.org/1999/xlink\">\n<g id=\"graph0\" class=\"graph\" transform=\"scale(1 1) rotate(0) translate(4 760)\">\n<title>%3</title>\n<polygon fill=\"white\" stroke=\"transparent\" points=\"-4,4 -4,-760 318.13,-760 318.13,4 -4,4\"/>\n<!-- A -->\n<g id=\"node1\" class=\"node\">\n<title>A</title>\n<ellipse fill=\"none\" stroke=\"black\" cx=\"191.94\" cy=\"-738\" rx=\"61.19\" ry=\"18\"/>\n<text text-anchor=\"middle\" x=\"191.94\" y=\"-734.3\" font-family=\"Times,serif\" font-size=\"14.00\">Import library</text>\n</g>\n<!-- B -->\n<g id=\"node2\" class=\"node\">\n<title>B</title>\n<ellipse fill=\"none\" stroke=\"black\" cx=\"191.94\" cy=\"-666\" rx=\"76.09\" ry=\"18\"/>\n<text text-anchor=\"middle\" x=\"191.94\" y=\"-662.3\" font-family=\"Times,serif\" font-size=\"14.00\">Define parameters</text>\n</g>\n<!-- A&#45;&gt;B -->\n<g id=\"edge1\" class=\"edge\">\n<title>A&#45;&gt;B</title>\n<path fill=\"none\" stroke=\"black\" d=\"M191.94,-719.7C191.94,-711.98 191.94,-702.71 191.94,-694.11\"/>\n<polygon fill=\"black\" stroke=\"black\" points=\"195.44,-694.1 191.94,-684.1 188.44,-694.1 195.44,-694.1\"/>\n</g>\n<!-- C -->\n<g id=\"node3\" class=\"node\">\n<title>C</title>\n<ellipse fill=\"none\" stroke=\"black\" cx=\"191.94\" cy=\"-594\" rx=\"93.68\" ry=\"18\"/>\n<text text-anchor=\"middle\" x=\"191.94\" y=\"-590.3\" font-family=\"Times,serif\" font-size=\"14.00\">Create Random tensors</text>\n</g>\n<!-- B&#45;&gt;C -->\n<g id=\"edge2\" class=\"edge\">\n<title>B&#45;&gt;C</title>\n<path fill=\"none\" stroke=\"black\" d=\"M191.94,-647.7C191.94,-639.98 191.94,-630.71 191.94,-622.11\"/>\n<polygon fill=\"black\" stroke=\"black\" points=\"195.44,-622.1 191.94,-612.1 188.44,-622.1 195.44,-622.1\"/>\n</g>\n<!-- D -->\n<g id=\"node4\" class=\"node\">\n<title>D</title>\n<ellipse fill=\"none\" stroke=\"black\" cx=\"191.94\" cy=\"-522\" rx=\"122.38\" ry=\"18\"/>\n<text text-anchor=\"middle\" x=\"191.94\" y=\"-518.3\" font-family=\"Times,serif\" font-size=\"14.00\">Define model and loss function</text>\n</g>\n<!-- C&#45;&gt;D -->\n<g id=\"edge3\" class=\"edge\">\n<title>C&#45;&gt;D</title>\n<path fill=\"none\" stroke=\"black\" d=\"M191.94,-575.7C191.94,-567.98 191.94,-558.71 191.94,-550.11\"/>\n<polygon fill=\"black\" stroke=\"black\" points=\"195.44,-550.1 191.94,-540.1 188.44,-550.1 195.44,-550.1\"/>\n</g>\n<!-- E -->\n<g id=\"node5\" class=\"node\">\n<title>E</title>\n<ellipse fill=\"none\" stroke=\"black\" cx=\"191.94\" cy=\"-450\" rx=\"81.49\" ry=\"18\"/>\n<text text-anchor=\"middle\" x=\"191.94\" y=\"-446.3\" font-family=\"Times,serif\" font-size=\"14.00\">Define learning rate</text>\n</g>\n<!-- D&#45;&gt;E -->\n<g id=\"edge4\" class=\"edge\">\n<title>D&#45;&gt;E</title>\n<path fill=\"none\" stroke=\"black\" d=\"M191.94,-503.7C191.94,-495.98 191.94,-486.71 191.94,-478.11\"/>\n<polygon fill=\"black\" stroke=\"black\" points=\"195.44,-478.1 191.94,-468.1 188.44,-478.1 195.44,-478.1\"/>\n</g>\n<!-- F -->\n<g id=\"node6\" class=\"node\">\n<title>F</title>\n<ellipse fill=\"none\" stroke=\"black\" cx=\"191.94\" cy=\"-378\" rx=\"78.79\" ry=\"18\"/>\n<text text-anchor=\"middle\" x=\"191.94\" y=\"-374.3\" font-family=\"Times,serif\" font-size=\"14.00\">Initialize optimizer</text>\n</g>\n<!-- E&#45;&gt;F -->\n<g id=\"edge5\" class=\"edge\">\n<title>E&#45;&gt;F</title>\n<path fill=\"none\" stroke=\"black\" d=\"M191.94,-431.7C191.94,-423.98 191.94,-414.71 191.94,-406.11\"/>\n<polygon fill=\"black\" stroke=\"black\" points=\"195.44,-406.1 191.94,-396.1 188.44,-406.1 195.44,-406.1\"/>\n</g>\n<!-- G -->\n<g id=\"node7\" class=\"node\">\n<title>G</title>\n<ellipse fill=\"none\" stroke=\"black\" cx=\"191.94\" cy=\"-306\" rx=\"100.98\" ry=\"18\"/>\n<text text-anchor=\"middle\" x=\"191.94\" y=\"-302.3\" font-family=\"Times,serif\" font-size=\"14.00\">Forward pass (pred, loss)</text>\n</g>\n<!-- F&#45;&gt;G -->\n<g id=\"edge6\" class=\"edge\">\n<title>F&#45;&gt;G</title>\n<path fill=\"none\" stroke=\"black\" d=\"M191.94,-359.7C191.94,-351.98 191.94,-342.71 191.94,-334.11\"/>\n<polygon fill=\"black\" stroke=\"black\" points=\"195.44,-334.1 191.94,-324.1 188.44,-334.1 195.44,-334.1\"/>\n</g>\n<!-- H -->\n<g id=\"node8\" class=\"node\">\n<title>H</title>\n<ellipse fill=\"none\" stroke=\"black\" cx=\"141.94\" cy=\"-234\" rx=\"73.39\" ry=\"18\"/>\n<text text-anchor=\"middle\" x=\"141.94\" y=\"-230.3\" font-family=\"Times,serif\" font-size=\"14.00\">Zero all gradients</text>\n</g>\n<!-- G&#45;&gt;H -->\n<g id=\"edge7\" class=\"edge\">\n<title>G&#45;&gt;H</title>\n<path fill=\"none\" stroke=\"black\" d=\"M179.84,-288.05C173.82,-279.63 166.43,-269.28 159.77,-259.97\"/>\n<polygon fill=\"black\" stroke=\"black\" points=\"162.59,-257.89 153.93,-251.79 156.9,-261.96 162.59,-257.89\"/>\n</g>\n<!-- I -->\n<g id=\"node9\" class=\"node\">\n<title>I</title>\n<ellipse fill=\"none\" stroke=\"black\" cx=\"118.94\" cy=\"-162\" rx=\"118.88\" ry=\"18\"/>\n<text text-anchor=\"middle\" x=\"118.94\" y=\"-158.3\" font-family=\"Times,serif\" font-size=\"14.00\">Backward pass: loss.backward</text>\n</g>\n<!-- H&#45;&gt;I -->\n<g id=\"edge8\" class=\"edge\">\n<title>H&#45;&gt;I</title>\n<path fill=\"none\" stroke=\"black\" d=\"M136.25,-215.7C133.69,-207.9 130.61,-198.51 127.75,-189.83\"/>\n<polygon fill=\"black\" stroke=\"black\" points=\"131.01,-188.51 124.56,-180.1 124.36,-190.7 131.01,-188.51\"/>\n</g>\n<!-- J -->\n<g id=\"node10\" class=\"node\">\n<title>J</title>\n<ellipse fill=\"none\" stroke=\"black\" cx=\"191.94\" cy=\"-90\" rx=\"92.88\" ry=\"18\"/>\n<text text-anchor=\"middle\" x=\"191.94\" y=\"-86.3\" font-family=\"Times,serif\" font-size=\"14.00\">Call step OPT function</text>\n</g>\n<!-- I&#45;&gt;J -->\n<g id=\"edge9\" class=\"edge\">\n<title>I&#45;&gt;J</title>\n<path fill=\"none\" stroke=\"black\" d=\"M136.61,-144.05C145.76,-135.28 157.07,-124.43 167.09,-114.83\"/>\n<polygon fill=\"black\" stroke=\"black\" points=\"169.64,-117.24 174.43,-107.79 164.79,-112.18 169.64,-117.24\"/>\n</g>\n<!-- J&#45;&gt;G -->\n<g id=\"edge10\" class=\"edge\">\n<title>J&#45;&gt;G</title>\n<path fill=\"none\" stroke=\"black\" d=\"M216.74,-107.58C228.24,-116.79 240.71,-129.36 246.94,-144 266.8,-190.71 235.21,-247.26 212.3,-279.39\"/>\n<polygon fill=\"black\" stroke=\"black\" points=\"209.23,-277.65 206.12,-287.77 214.87,-281.8 209.23,-277.65\"/>\n</g>\n<!-- K -->\n<g id=\"node11\" class=\"node\">\n<title>K</title>\n<ellipse fill=\"none\" stroke=\"black\" cx=\"191.94\" cy=\"-18\" rx=\"32.49\" ry=\"18\"/>\n<text text-anchor=\"middle\" x=\"191.94\" y=\"-14.3\" font-family=\"Times,serif\" font-size=\"14.00\">STOP</text>\n</g>\n<!-- J&#45;&gt;K -->\n<g id=\"edge11\" class=\"edge\">\n<title>J&#45;&gt;K</title>\n<path fill=\"none\" stroke=\"black\" d=\"M191.94,-71.7C191.94,-63.98 191.94,-54.71 191.94,-46.11\"/>\n<polygon fill=\"black\" stroke=\"black\" points=\"195.44,-46.1 191.94,-36.1 188.44,-46.1 195.44,-46.1\"/>\n</g>\n</g>\n</svg>\n",
            "text/plain": [
              "<graphviz.graphs.Digraph at 0x7a96bee462c0>"
            ]
          },
          "metadata": {},
          "execution_count": 2
        }
      ]
    }
  ],
  "metadata": {
    "colab": {
      "collapsed_sections": [
        "HtbJIF8H1WO5",
        "G9-yRlkbJa5v",
        "Njrz4C2GJa53",
        "tFv1psxYJa6k",
        "rShdrJ-fKBeK",
        "K9ozrjfrKIMX",
        "aMGyKmalJbBw",
        "o7lWVtjdJbB_"
      ],
      "provenance": [],
      "gpuType": "T4",
      "include_colab_link": true
    },
    "jupytext": {
      "split_at_heading": true
    },
    "kernelspec": {
      "display_name": "Python 3",
      "name": "python3"
    },
    "accelerator": "GPU"
  },
  "nbformat": 4,
  "nbformat_minor": 0
}