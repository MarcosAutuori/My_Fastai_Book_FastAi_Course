{
  "nbformat": 4,
  "nbformat_minor": 0,
  "metadata": {
    "colab": {
      "provenance": [],
      "authorship_tag": "ABX9TyODN+Jb0nTBT8p+K0xj42uC",
      "include_colab_link": true
    },
    "kernelspec": {
      "name": "python3",
      "display_name": "Python 3"
    },
    "language_info": {
      "name": "python"
    }
  },
  "cells": [
    {
      "cell_type": "markdown",
      "metadata": {
        "id": "view-in-github",
        "colab_type": "text"
      },
      "source": [
        "<a href=\"https://colab.research.google.com/github/MarcosAutuori/My_FreeBook-FastAi-_Course/blob/main/Binder_Teste_01.ipynb\" target=\"_parent\"><img src=\"https://colab.research.google.com/assets/colab-badge.svg\" alt=\"Open In Colab\"/></a>"
      ]
    },
    {
      "cell_type": "code",
      "execution_count": 2,
      "metadata": {
        "colab": {
          "base_uri": "https://localhost:8080/"
        },
        "id": "2NtFirT3mZYn",
        "outputId": "4f4109da-5348-49d9-ebcd-08a977bc80f6"
      },
      "outputs": [
        {
          "output_type": "stream",
          "name": "stdout",
          "text": [
            "Escreva sua frase.   >>>>   kgkgkgk\n",
            "Sua frase: kgkgkgk\n"
          ]
        }
      ],
      "source": [
        "texto = input('Escreva sua frase.   >>>>   ')\n",
        "print('Sua frase: '+texto)"
      ]
    }
  ]
}